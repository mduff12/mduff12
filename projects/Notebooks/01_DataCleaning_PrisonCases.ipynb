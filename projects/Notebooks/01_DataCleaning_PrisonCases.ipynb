{
 "cells": [
  {
   "cell_type": "markdown",
   "metadata": {},
   "source": [
    "## COVID-19 in US Prisons"
   ]
  },
  {
   "cell_type": "markdown",
   "metadata": {},
   "source": [
    "This notebook imports COVID-19 data from [data.world](https://data.world/), which has been compiled by the Associated Press and The Marshall Project.\n",
    "\n",
    "**Taken from the data.world page:**\n",
    "# Overview\n",
    "\n",
    "The Marshall Project, the nonprofit investigative newsroom dedicated to the U.S. criminal justice system, has partnered with The Associated Press to compile data on the prevalence of COVID-19 infection in prisons across the country. The Associated Press is sharing this data as the most comprehensive current national source of COVID-19 outbreaks in state and federal prisons.\n",
    "\n",
    "Lawyers, criminal justice reform advocates and families of the incarcerated have worried about what was happening in prisons across the nation as coronavirus began to take hold in the communities outside. Data collected by The Marshall Project and AP shows that hundreds of thousands of prisoners, workers, correctional officers and staff have caught the illness as prisons became the center of some of the country’s largest outbreaks. And thousands of people — most of them incarcerated — have died.\n",
    "\n",
    "In December, as COVID-19 cases spiked across the U.S., the news organizations also shared cumulative rates of infection among prison populations, to better gauge the total effects of the pandemic on prison populations. The analysis found that by mid-December, one in five state and federal prisoners in the United States had tested positive for the coronavirus -- a rate more than four times higher than the general population."
   ]
  },
  {
   "cell_type": "code",
   "execution_count": 1,
   "metadata": {},
   "outputs": [],
   "source": [
    "# Imports\n",
    "import pandas as pd\n",
    "import numpy as np\n",
    "\n",
    "import matplotlib.pyplot as plt\n",
    "import seaborn as sns"
   ]
  },
  {
   "cell_type": "code",
   "execution_count": 2,
   "metadata": {},
   "outputs": [],
   "source": [
    "#Data imports\n",
    "df_prisoncases = pd.read_csv('https://query.data.world/s/tp7acte5rwl6pw2yuyvkxnw3xwtq64')\n",
    "df_prisonrates = pd.read_csv('https://query.data.world/s/7gtwvf7dkarwtdm336heetyv2ooyyz')\n",
    "df_prisonpop = pd.read_csv('https://query.data.world/s/3o2mmakqdaprodkxbitvt5rnmdpeij')\n",
    "df_staffpop = pd.read_csv('https://query.data.world/s/zz6zpqsvllsrg4gzvmervygkje7j7o')"
   ]
  },
  {
   "cell_type": "markdown",
   "metadata": {},
   "source": [
    "# Checking the Data: Prison Cases\n",
    "\n",
    "#### \"Prison Cases \"The time series data is aggregated to the system level; there is one record for each prison agency on each date of collection. Not all departments could provide data for the exact date requested, and the data indicates the date for the figures.\""
   ]
  },
  {
   "cell_type": "code",
   "execution_count": 3,
   "metadata": {},
   "outputs": [
    {
     "data": {
      "text/plain": [
       "name                              object\n",
       "abbreviation                      object\n",
       "staff_tests                      float64\n",
       "staff_tests_with_multiples       float64\n",
       "total_staff_cases                float64\n",
       "staff_recovered                  float64\n",
       "total_staff_deaths               float64\n",
       "staff_partial_dose               float64\n",
       "staff_full_dose                  float64\n",
       "prisoner_tests                   float64\n",
       "prisoner_tests_with_multiples    float64\n",
       "total_prisoner_cases             float64\n",
       "prisoners_recovered              float64\n",
       "total_prisoner_deaths            float64\n",
       "prisoners_partial_dose           float64\n",
       "prisoners_full_dose              float64\n",
       "as_of_date                        object\n",
       "notes                             object\n",
       "dtype: object"
      ]
     },
     "execution_count": 3,
     "metadata": {},
     "output_type": "execute_result"
    }
   ],
   "source": [
    "df_prisoncases.dtypes"
   ]
  },
  {
   "cell_type": "code",
   "execution_count": 4,
   "metadata": {},
   "outputs": [
    {
     "data": {
      "text/plain": [
       "name                              0.000000\n",
       "abbreviation                      0.000000\n",
       "staff_tests                      87.219888\n",
       "staff_tests_with_multiples       81.967787\n",
       "total_staff_cases                 7.738095\n",
       "staff_recovered                  37.815126\n",
       "total_staff_deaths               15.406162\n",
       "staff_partial_dose               86.204482\n",
       "staff_full_dose                  88.515406\n",
       "prisoner_tests                   57.422969\n",
       "prisoner_tests_with_multiples    55.287115\n",
       "total_prisoner_cases              3.081232\n",
       "prisoners_recovered              32.913165\n",
       "total_prisoner_deaths             4.096639\n",
       "prisoners_partial_dose           81.687675\n",
       "prisoners_full_dose              83.683473\n",
       "as_of_date                        1.015406\n",
       "notes                            62.920168\n",
       "dtype: float64"
      ]
     },
     "execution_count": 4,
     "metadata": {},
     "output_type": "execute_result"
    }
   ],
   "source": [
    "(df_prisoncases.isnull().sum()/df_prisoncases.shape[0])*100"
   ]
  },
  {
   "cell_type": "code",
   "execution_count": 5,
   "metadata": {},
   "outputs": [],
   "source": [
    "#dropping empty row (index 0)\n",
    "df_prisoncases.drop(index=0, inplace=True)"
   ]
  },
  {
   "cell_type": "code",
   "execution_count": 6,
   "metadata": {},
   "outputs": [],
   "source": [
    "#dropping null as_of_date\n",
    "df_prisoncases.dropna(subset = ['as_of_date'], inplace=True)"
   ]
  },
  {
   "cell_type": "code",
   "execution_count": 7,
   "metadata": {},
   "outputs": [
    {
     "data": {
      "text/html": [
       "<div>\n",
       "<style scoped>\n",
       "    .dataframe tbody tr th:only-of-type {\n",
       "        vertical-align: middle;\n",
       "    }\n",
       "\n",
       "    .dataframe tbody tr th {\n",
       "        vertical-align: top;\n",
       "    }\n",
       "\n",
       "    .dataframe thead th {\n",
       "        text-align: right;\n",
       "    }\n",
       "</style>\n",
       "<table border=\"1\" class=\"dataframe\">\n",
       "  <thead>\n",
       "    <tr style=\"text-align: right;\">\n",
       "      <th></th>\n",
       "      <th>name</th>\n",
       "      <th>abbreviation</th>\n",
       "      <th>staff_tests</th>\n",
       "      <th>staff_tests_with_multiples</th>\n",
       "      <th>total_staff_cases</th>\n",
       "      <th>staff_recovered</th>\n",
       "      <th>total_staff_deaths</th>\n",
       "      <th>staff_partial_dose</th>\n",
       "      <th>staff_full_dose</th>\n",
       "      <th>prisoner_tests</th>\n",
       "      <th>prisoner_tests_with_multiples</th>\n",
       "      <th>total_prisoner_cases</th>\n",
       "      <th>prisoners_recovered</th>\n",
       "      <th>total_prisoner_deaths</th>\n",
       "      <th>prisoners_partial_dose</th>\n",
       "      <th>prisoners_full_dose</th>\n",
       "      <th>as_of_date</th>\n",
       "      <th>notes</th>\n",
       "    </tr>\n",
       "  </thead>\n",
       "  <tbody>\n",
       "    <tr>\n",
       "      <th>1</th>\n",
       "      <td>Alaska</td>\n",
       "      <td>AK</td>\n",
       "      <td>NaN</td>\n",
       "      <td>NaN</td>\n",
       "      <td>NaN</td>\n",
       "      <td>NaN</td>\n",
       "      <td>0.0</td>\n",
       "      <td>NaN</td>\n",
       "      <td>NaN</td>\n",
       "      <td>NaN</td>\n",
       "      <td>30387.0</td>\n",
       "      <td>2399.0</td>\n",
       "      <td>NaN</td>\n",
       "      <td>5.0</td>\n",
       "      <td>2677.0</td>\n",
       "      <td>1839.0</td>\n",
       "      <td>04/12/2021</td>\n",
       "      <td>Vaccination numbers as of 4/11</td>\n",
       "    </tr>\n",
       "    <tr>\n",
       "      <th>2</th>\n",
       "      <td>Arizona</td>\n",
       "      <td>AZ</td>\n",
       "      <td>NaN</td>\n",
       "      <td>NaN</td>\n",
       "      <td>2745.0</td>\n",
       "      <td>2732.0</td>\n",
       "      <td>NaN</td>\n",
       "      <td>NaN</td>\n",
       "      <td>NaN</td>\n",
       "      <td>46140.0</td>\n",
       "      <td>NaN</td>\n",
       "      <td>12263.0</td>\n",
       "      <td>12147.0</td>\n",
       "      <td>53.0</td>\n",
       "      <td>NaN</td>\n",
       "      <td>NaN</td>\n",
       "      <td>04/13/2021</td>\n",
       "      <td>We have been told vaccinations have begun in t...</td>\n",
       "    </tr>\n",
       "    <tr>\n",
       "      <th>4</th>\n",
       "      <td>California</td>\n",
       "      <td>CA</td>\n",
       "      <td>NaN</td>\n",
       "      <td>NaN</td>\n",
       "      <td>16284.0</td>\n",
       "      <td>16084.0</td>\n",
       "      <td>26.0</td>\n",
       "      <td>27539.0</td>\n",
       "      <td>25282.0</td>\n",
       "      <td>122071.0</td>\n",
       "      <td>NaN</td>\n",
       "      <td>49215.0</td>\n",
       "      <td>48369.0</td>\n",
       "      <td>220.0</td>\n",
       "      <td>65728.0</td>\n",
       "      <td>45865.0</td>\n",
       "      <td>04/13/2021</td>\n",
       "      <td>NaN</td>\n",
       "    </tr>\n",
       "    <tr>\n",
       "      <th>5</th>\n",
       "      <td>Colorado</td>\n",
       "      <td>CO</td>\n",
       "      <td>NaN</td>\n",
       "      <td>NaN</td>\n",
       "      <td>1650.0</td>\n",
       "      <td>NaN</td>\n",
       "      <td>0.0</td>\n",
       "      <td>2972.0</td>\n",
       "      <td>NaN</td>\n",
       "      <td>19368.0</td>\n",
       "      <td>200051.0</td>\n",
       "      <td>8827.0</td>\n",
       "      <td>NaN</td>\n",
       "      <td>29.0</td>\n",
       "      <td>9164.0</td>\n",
       "      <td>NaN</td>\n",
       "      <td>04/13/2021</td>\n",
       "      <td>NaN</td>\n",
       "    </tr>\n",
       "    <tr>\n",
       "      <th>6</th>\n",
       "      <td>Connecticut</td>\n",
       "      <td>CT</td>\n",
       "      <td>NaN</td>\n",
       "      <td>63062.0</td>\n",
       "      <td>1647.0</td>\n",
       "      <td>1613.0</td>\n",
       "      <td>0.0</td>\n",
       "      <td>2697.0</td>\n",
       "      <td>NaN</td>\n",
       "      <td>NaN</td>\n",
       "      <td>98599.0</td>\n",
       "      <td>4399.0</td>\n",
       "      <td>4328.0</td>\n",
       "      <td>19.0</td>\n",
       "      <td>4362.0</td>\n",
       "      <td>NaN</td>\n",
       "      <td>04/13/2021</td>\n",
       "      <td>NaN</td>\n",
       "    </tr>\n",
       "  </tbody>\n",
       "</table>\n",
       "</div>"
      ],
      "text/plain": [
       "          name abbreviation  staff_tests  staff_tests_with_multiples  \\\n",
       "1       Alaska           AK          NaN                         NaN   \n",
       "2      Arizona           AZ          NaN                         NaN   \n",
       "4   California           CA          NaN                         NaN   \n",
       "5     Colorado           CO          NaN                         NaN   \n",
       "6  Connecticut           CT          NaN                     63062.0   \n",
       "\n",
       "   total_staff_cases  staff_recovered  total_staff_deaths  staff_partial_dose  \\\n",
       "1                NaN              NaN                 0.0                 NaN   \n",
       "2             2745.0           2732.0                 NaN                 NaN   \n",
       "4            16284.0          16084.0                26.0             27539.0   \n",
       "5             1650.0              NaN                 0.0              2972.0   \n",
       "6             1647.0           1613.0                 0.0              2697.0   \n",
       "\n",
       "   staff_full_dose  prisoner_tests  prisoner_tests_with_multiples  \\\n",
       "1              NaN             NaN                        30387.0   \n",
       "2              NaN         46140.0                            NaN   \n",
       "4          25282.0        122071.0                            NaN   \n",
       "5              NaN         19368.0                       200051.0   \n",
       "6              NaN             NaN                        98599.0   \n",
       "\n",
       "   total_prisoner_cases  prisoners_recovered  total_prisoner_deaths  \\\n",
       "1                2399.0                  NaN                    5.0   \n",
       "2               12263.0              12147.0                   53.0   \n",
       "4               49215.0              48369.0                  220.0   \n",
       "5                8827.0                  NaN                   29.0   \n",
       "6                4399.0               4328.0                   19.0   \n",
       "\n",
       "   prisoners_partial_dose  prisoners_full_dose  as_of_date  \\\n",
       "1                  2677.0               1839.0  04/12/2021   \n",
       "2                     NaN                  NaN  04/13/2021   \n",
       "4                 65728.0              45865.0  04/13/2021   \n",
       "5                  9164.0                  NaN  04/13/2021   \n",
       "6                  4362.0                  NaN  04/13/2021   \n",
       "\n",
       "                                               notes  \n",
       "1                     Vaccination numbers as of 4/11  \n",
       "2  We have been told vaccinations have begun in t...  \n",
       "4                                                NaN  \n",
       "5                                                NaN  \n",
       "6                                                NaN  "
      ]
     },
     "execution_count": 7,
     "metadata": {},
     "output_type": "execute_result"
    }
   ],
   "source": [
    "df_prisoncases.head()"
   ]
  },
  {
   "cell_type": "markdown",
   "metadata": {},
   "source": [
    "### Convert to datetime\n",
    "##### Prison Cases: Date column is an object datatype, we will need to convert it to the timeseries datatype"
   ]
  },
  {
   "cell_type": "code",
   "execution_count": 8,
   "metadata": {},
   "outputs": [],
   "source": [
    "#converting columns to date time\n",
    "df_prisoncases['as_of_date'] = pd.to_datetime(df_prisoncases['as_of_date'])"
   ]
  },
  {
   "cell_type": "code",
   "execution_count": 9,
   "metadata": {},
   "outputs": [],
   "source": [
    "#setting column to index\n",
    "df_prisoncases.set_index('as_of_date', inplace=True)"
   ]
  },
  {
   "cell_type": "code",
   "execution_count": 10,
   "metadata": {},
   "outputs": [],
   "source": [
    "#sorting index\n",
    "df_prisoncases.sort_index(inplace=True, ascending=True)"
   ]
  },
  {
   "cell_type": "code",
   "execution_count": 11,
   "metadata": {},
   "outputs": [
    {
     "data": {
      "text/html": [
       "<div>\n",
       "<style scoped>\n",
       "    .dataframe tbody tr th:only-of-type {\n",
       "        vertical-align: middle;\n",
       "    }\n",
       "\n",
       "    .dataframe tbody tr th {\n",
       "        vertical-align: top;\n",
       "    }\n",
       "\n",
       "    .dataframe thead th {\n",
       "        text-align: right;\n",
       "    }\n",
       "</style>\n",
       "<table border=\"1\" class=\"dataframe\">\n",
       "  <thead>\n",
       "    <tr style=\"text-align: right;\">\n",
       "      <th></th>\n",
       "      <th>name</th>\n",
       "      <th>abbreviation</th>\n",
       "      <th>staff_tests</th>\n",
       "      <th>staff_tests_with_multiples</th>\n",
       "      <th>total_staff_cases</th>\n",
       "      <th>staff_recovered</th>\n",
       "      <th>total_staff_deaths</th>\n",
       "      <th>staff_partial_dose</th>\n",
       "      <th>staff_full_dose</th>\n",
       "      <th>prisoner_tests</th>\n",
       "      <th>prisoner_tests_with_multiples</th>\n",
       "      <th>total_prisoner_cases</th>\n",
       "      <th>prisoners_recovered</th>\n",
       "      <th>total_prisoner_deaths</th>\n",
       "      <th>prisoners_partial_dose</th>\n",
       "      <th>prisoners_full_dose</th>\n",
       "      <th>notes</th>\n",
       "    </tr>\n",
       "    <tr>\n",
       "      <th>as_of_date</th>\n",
       "      <th></th>\n",
       "      <th></th>\n",
       "      <th></th>\n",
       "      <th></th>\n",
       "      <th></th>\n",
       "      <th></th>\n",
       "      <th></th>\n",
       "      <th></th>\n",
       "      <th></th>\n",
       "      <th></th>\n",
       "      <th></th>\n",
       "      <th></th>\n",
       "      <th></th>\n",
       "      <th></th>\n",
       "      <th></th>\n",
       "      <th></th>\n",
       "      <th></th>\n",
       "    </tr>\n",
       "  </thead>\n",
       "  <tbody>\n",
       "    <tr>\n",
       "      <th>2020-03-23</th>\n",
       "      <td>Washington</td>\n",
       "      <td>WA</td>\n",
       "      <td>NaN</td>\n",
       "      <td>NaN</td>\n",
       "      <td>1145.0</td>\n",
       "      <td>NaN</td>\n",
       "      <td>2.0</td>\n",
       "      <td>NaN</td>\n",
       "      <td>NaN</td>\n",
       "      <td>NaN</td>\n",
       "      <td>NaN</td>\n",
       "      <td>6187.0</td>\n",
       "      <td>6169.0</td>\n",
       "      <td>14.0</td>\n",
       "      <td>NaN</td>\n",
       "      <td>NaN</td>\n",
       "      <td>We have been told vaccinations have begun in t...</td>\n",
       "    </tr>\n",
       "    <tr>\n",
       "      <th>2020-03-24</th>\n",
       "      <td>Delaware</td>\n",
       "      <td>DE</td>\n",
       "      <td>NaN</td>\n",
       "      <td>NaN</td>\n",
       "      <td>0.0</td>\n",
       "      <td>NaN</td>\n",
       "      <td>0.0</td>\n",
       "      <td>NaN</td>\n",
       "      <td>NaN</td>\n",
       "      <td>4.0</td>\n",
       "      <td>NaN</td>\n",
       "      <td>0.0</td>\n",
       "      <td>NaN</td>\n",
       "      <td>0.0</td>\n",
       "      <td>NaN</td>\n",
       "      <td>NaN</td>\n",
       "      <td>NaN</td>\n",
       "    </tr>\n",
       "    <tr>\n",
       "      <th>2020-03-25</th>\n",
       "      <td>Illinois</td>\n",
       "      <td>IL</td>\n",
       "      <td>NaN</td>\n",
       "      <td>NaN</td>\n",
       "      <td>3.0</td>\n",
       "      <td>NaN</td>\n",
       "      <td>0.0</td>\n",
       "      <td>NaN</td>\n",
       "      <td>NaN</td>\n",
       "      <td>13.0</td>\n",
       "      <td>NaN</td>\n",
       "      <td>3.0</td>\n",
       "      <td>NaN</td>\n",
       "      <td>0.0</td>\n",
       "      <td>NaN</td>\n",
       "      <td>NaN</td>\n",
       "      <td>NaN</td>\n",
       "    </tr>\n",
       "    <tr>\n",
       "      <th>2020-03-26</th>\n",
       "      <td>Minnesota</td>\n",
       "      <td>MN</td>\n",
       "      <td>0.0</td>\n",
       "      <td>NaN</td>\n",
       "      <td>0.0</td>\n",
       "      <td>NaN</td>\n",
       "      <td>0.0</td>\n",
       "      <td>NaN</td>\n",
       "      <td>NaN</td>\n",
       "      <td>0.0</td>\n",
       "      <td>NaN</td>\n",
       "      <td>0.0</td>\n",
       "      <td>NaN</td>\n",
       "      <td>0.0</td>\n",
       "      <td>NaN</td>\n",
       "      <td>NaN</td>\n",
       "      <td>NaN</td>\n",
       "    </tr>\n",
       "    <tr>\n",
       "      <th>2020-03-26</th>\n",
       "      <td>Michigan</td>\n",
       "      <td>MI</td>\n",
       "      <td>NaN</td>\n",
       "      <td>NaN</td>\n",
       "      <td>NaN</td>\n",
       "      <td>NaN</td>\n",
       "      <td>0.0</td>\n",
       "      <td>NaN</td>\n",
       "      <td>NaN</td>\n",
       "      <td>NaN</td>\n",
       "      <td>NaN</td>\n",
       "      <td>24.0</td>\n",
       "      <td>NaN</td>\n",
       "      <td>0.0</td>\n",
       "      <td>NaN</td>\n",
       "      <td>NaN</td>\n",
       "      <td>NaN</td>\n",
       "    </tr>\n",
       "  </tbody>\n",
       "</table>\n",
       "</div>"
      ],
      "text/plain": [
       "                  name abbreviation  staff_tests  staff_tests_with_multiples  \\\n",
       "as_of_date                                                                     \n",
       "2020-03-23  Washington           WA          NaN                         NaN   \n",
       "2020-03-24    Delaware           DE          NaN                         NaN   \n",
       "2020-03-25    Illinois           IL          NaN                         NaN   \n",
       "2020-03-26   Minnesota           MN          0.0                         NaN   \n",
       "2020-03-26    Michigan           MI          NaN                         NaN   \n",
       "\n",
       "            total_staff_cases  staff_recovered  total_staff_deaths  \\\n",
       "as_of_date                                                           \n",
       "2020-03-23             1145.0              NaN                 2.0   \n",
       "2020-03-24                0.0              NaN                 0.0   \n",
       "2020-03-25                3.0              NaN                 0.0   \n",
       "2020-03-26                0.0              NaN                 0.0   \n",
       "2020-03-26                NaN              NaN                 0.0   \n",
       "\n",
       "            staff_partial_dose  staff_full_dose  prisoner_tests  \\\n",
       "as_of_date                                                        \n",
       "2020-03-23                 NaN              NaN             NaN   \n",
       "2020-03-24                 NaN              NaN             4.0   \n",
       "2020-03-25                 NaN              NaN            13.0   \n",
       "2020-03-26                 NaN              NaN             0.0   \n",
       "2020-03-26                 NaN              NaN             NaN   \n",
       "\n",
       "            prisoner_tests_with_multiples  total_prisoner_cases  \\\n",
       "as_of_date                                                        \n",
       "2020-03-23                            NaN                6187.0   \n",
       "2020-03-24                            NaN                   0.0   \n",
       "2020-03-25                            NaN                   3.0   \n",
       "2020-03-26                            NaN                   0.0   \n",
       "2020-03-26                            NaN                  24.0   \n",
       "\n",
       "            prisoners_recovered  total_prisoner_deaths  \\\n",
       "as_of_date                                               \n",
       "2020-03-23               6169.0                   14.0   \n",
       "2020-03-24                  NaN                    0.0   \n",
       "2020-03-25                  NaN                    0.0   \n",
       "2020-03-26                  NaN                    0.0   \n",
       "2020-03-26                  NaN                    0.0   \n",
       "\n",
       "            prisoners_partial_dose  prisoners_full_dose  \\\n",
       "as_of_date                                                \n",
       "2020-03-23                     NaN                  NaN   \n",
       "2020-03-24                     NaN                  NaN   \n",
       "2020-03-25                     NaN                  NaN   \n",
       "2020-03-26                     NaN                  NaN   \n",
       "2020-03-26                     NaN                  NaN   \n",
       "\n",
       "                                                        notes  \n",
       "as_of_date                                                     \n",
       "2020-03-23  We have been told vaccinations have begun in t...  \n",
       "2020-03-24                                                NaN  \n",
       "2020-03-25                                                NaN  \n",
       "2020-03-26                                                NaN  \n",
       "2020-03-26                                                NaN  "
      ]
     },
     "execution_count": 11,
     "metadata": {},
     "output_type": "execute_result"
    }
   ],
   "source": [
    "#Checking work\n",
    "df_prisoncases.head(5)"
   ]
  },
  {
   "cell_type": "markdown",
   "metadata": {},
   "source": [
    "## Exploring Missing Data\n",
    "The data is system aggregated, so each row is a prison system with accompanying time series data. "
   ]
  },
  {
   "cell_type": "code",
   "execution_count": 12,
   "metadata": {},
   "outputs": [
    {
     "data": {
      "text/plain": [
       "name                              0.000000\n",
       "abbreviation                      0.000000\n",
       "staff_tests                      87.084218\n",
       "staff_tests_with_multiples       81.776362\n",
       "total_staff_cases                 6.794055\n",
       "staff_recovered                  37.190375\n",
       "total_staff_deaths               14.543524\n",
       "staff_partial_dose               86.093418\n",
       "staff_full_dose                  88.393489\n",
       "prisoner_tests                   56.970984\n",
       "prisoner_tests_with_multiples    54.847841\n",
       "total_prisoner_cases              2.087757\n",
       "prisoners_recovered              32.236377\n",
       "total_prisoner_deaths             3.113942\n",
       "prisoners_partial_dose           81.528662\n",
       "prisoners_full_dose              83.510262\n",
       "notes                            62.774239\n",
       "dtype: float64"
      ]
     },
     "execution_count": 12,
     "metadata": {},
     "output_type": "execute_result"
    }
   ],
   "source": [
    "#percent of missing data in prison cases\n",
    "(df_prisoncases.isnull().sum()/df_prisoncases.shape[0])*100"
   ]
  },
  {
   "cell_type": "code",
   "execution_count": 13,
   "metadata": {},
   "outputs": [],
   "source": [
    "# Drop staff_tests, staff_tests_with_multiples,staff_partial_dose,staff_full_dose, prisoner_tests, prisoner_tests_with_multiples\n",
    "# prisoners_partial_dose, prisoners_full_dose, notes"
   ]
  },
  {
   "cell_type": "code",
   "execution_count": 14,
   "metadata": {},
   "outputs": [],
   "source": [
    "df_prisoncases.drop(columns = ['staff_tests','staff_tests_with_multiples',\n",
    "                               'staff_partial_dose','staff_full_dose',\n",
    "                               'prisoner_tests', 'prisoner_tests_with_multiples',\n",
    "                               'prisoners_partial_dose','prisoners_full_dose', 'notes'], inplace = True)"
   ]
  },
  {
   "cell_type": "code",
   "execution_count": 15,
   "metadata": {},
   "outputs": [
    {
     "data": {
      "text/html": [
       "<div>\n",
       "<style scoped>\n",
       "    .dataframe tbody tr th:only-of-type {\n",
       "        vertical-align: middle;\n",
       "    }\n",
       "\n",
       "    .dataframe tbody tr th {\n",
       "        vertical-align: top;\n",
       "    }\n",
       "\n",
       "    .dataframe thead th {\n",
       "        text-align: right;\n",
       "    }\n",
       "</style>\n",
       "<table border=\"1\" class=\"dataframe\">\n",
       "  <thead>\n",
       "    <tr style=\"text-align: right;\">\n",
       "      <th></th>\n",
       "      <th>name</th>\n",
       "      <th>abbreviation</th>\n",
       "      <th>total_staff_cases</th>\n",
       "      <th>staff_recovered</th>\n",
       "      <th>total_staff_deaths</th>\n",
       "      <th>total_prisoner_cases</th>\n",
       "      <th>prisoners_recovered</th>\n",
       "      <th>total_prisoner_deaths</th>\n",
       "    </tr>\n",
       "    <tr>\n",
       "      <th>as_of_date</th>\n",
       "      <th></th>\n",
       "      <th></th>\n",
       "      <th></th>\n",
       "      <th></th>\n",
       "      <th></th>\n",
       "      <th></th>\n",
       "      <th></th>\n",
       "      <th></th>\n",
       "    </tr>\n",
       "  </thead>\n",
       "  <tbody>\n",
       "    <tr>\n",
       "      <th>2021-04-15</th>\n",
       "      <td>Kansas</td>\n",
       "      <td>KS</td>\n",
       "      <td>1212.0</td>\n",
       "      <td>NaN</td>\n",
       "      <td>6.0</td>\n",
       "      <td>6101.0</td>\n",
       "      <td>NaN</td>\n",
       "      <td>16.0</td>\n",
       "    </tr>\n",
       "    <tr>\n",
       "      <th>2021-04-15</th>\n",
       "      <td>Iowa</td>\n",
       "      <td>IA</td>\n",
       "      <td>701.0</td>\n",
       "      <td>698.0</td>\n",
       "      <td>2.0</td>\n",
       "      <td>4849.0</td>\n",
       "      <td>4820.0</td>\n",
       "      <td>19.0</td>\n",
       "    </tr>\n",
       "    <tr>\n",
       "      <th>2021-04-16</th>\n",
       "      <td>Rhode Island</td>\n",
       "      <td>RI</td>\n",
       "      <td>448.0</td>\n",
       "      <td>440.0</td>\n",
       "      <td>1.0</td>\n",
       "      <td>1208.0</td>\n",
       "      <td>1196.0</td>\n",
       "      <td>2.0</td>\n",
       "    </tr>\n",
       "    <tr>\n",
       "      <th>2021-04-16</th>\n",
       "      <td>Maine</td>\n",
       "      <td>ME</td>\n",
       "      <td>NaN</td>\n",
       "      <td>NaN</td>\n",
       "      <td>0.0</td>\n",
       "      <td>170.0</td>\n",
       "      <td>NaN</td>\n",
       "      <td>1.0</td>\n",
       "    </tr>\n",
       "    <tr>\n",
       "      <th>2021-04-16</th>\n",
       "      <td>Nebraska</td>\n",
       "      <td>NE</td>\n",
       "      <td>NaN</td>\n",
       "      <td>NaN</td>\n",
       "      <td>NaN</td>\n",
       "      <td>982.0</td>\n",
       "      <td>NaN</td>\n",
       "      <td>6.0</td>\n",
       "    </tr>\n",
       "  </tbody>\n",
       "</table>\n",
       "</div>"
      ],
      "text/plain": [
       "                    name abbreviation  total_staff_cases  staff_recovered  \\\n",
       "as_of_date                                                                  \n",
       "2021-04-15        Kansas           KS             1212.0              NaN   \n",
       "2021-04-15          Iowa           IA              701.0            698.0   \n",
       "2021-04-16  Rhode Island           RI              448.0            440.0   \n",
       "2021-04-16         Maine           ME                NaN              NaN   \n",
       "2021-04-16      Nebraska           NE                NaN              NaN   \n",
       "\n",
       "            total_staff_deaths  total_prisoner_cases  prisoners_recovered  \\\n",
       "as_of_date                                                                  \n",
       "2021-04-15                 6.0                6101.0                  NaN   \n",
       "2021-04-15                 2.0                4849.0               4820.0   \n",
       "2021-04-16                 1.0                1208.0               1196.0   \n",
       "2021-04-16                 0.0                 170.0                  NaN   \n",
       "2021-04-16                 NaN                 982.0                  NaN   \n",
       "\n",
       "            total_prisoner_deaths  \n",
       "as_of_date                         \n",
       "2021-04-15                   16.0  \n",
       "2021-04-15                   19.0  \n",
       "2021-04-16                    2.0  \n",
       "2021-04-16                    1.0  \n",
       "2021-04-16                    6.0  "
      ]
     },
     "execution_count": 15,
     "metadata": {},
     "output_type": "execute_result"
    }
   ],
   "source": [
    "df_prisoncases.tail()"
   ]
  },
  {
   "cell_type": "code",
   "execution_count": 16,
   "metadata": {},
   "outputs": [
    {
     "data": {
      "text/plain": [
       "name                      0.000000\n",
       "abbreviation              0.000000\n",
       "total_staff_cases         6.794055\n",
       "staff_recovered          37.190375\n",
       "total_staff_deaths       14.543524\n",
       "total_prisoner_cases      2.087757\n",
       "prisoners_recovered      32.236377\n",
       "total_prisoner_deaths     3.113942\n",
       "dtype: float64"
      ]
     },
     "execution_count": 16,
     "metadata": {},
     "output_type": "execute_result"
    }
   ],
   "source": [
    "(df_prisoncases.isnull().sum()/df_prisoncases.shape[0])*100"
   ]
  },
  {
   "cell_type": "code",
   "execution_count": 17,
   "metadata": {},
   "outputs": [
    {
     "data": {
      "text/plain": [
       "(2826, 8)"
      ]
     },
     "execution_count": 17,
     "metadata": {},
     "output_type": "execute_result"
    }
   ],
   "source": [
    "df_prisoncases.shape"
   ]
  },
  {
   "cell_type": "markdown",
   "metadata": {},
   "source": [
    "### I will be utilizing Tableau for final data visualization. Below, I am creating an new excel file to export. Feel free to skip this step if you do not need a non-cumulative version of the data."
   ]
  },
  {
   "cell_type": "code",
   "execution_count": null,
   "metadata": {},
   "outputs": [],
   "source": [
    "#creating a new data file for Tableau Data Visualization\n",
    "# df_prisoncases['prisoner_cases_noncum'] = df_prisoncases['total_prisoner_cases'].diff()"
   ]
  },
  {
   "cell_type": "code",
   "execution_count": null,
   "metadata": {},
   "outputs": [],
   "source": [
    "#creating a new data file for Tableau Data Visualization\n",
    "df_prisoncases.groupby(by='name').sum()"
   ]
  },
  {
   "cell_type": "code",
   "execution_count": null,
   "metadata": {},
   "outputs": [],
   "source": [
    "df_prisoncases.to_excel('./all_cases.xlsx')"
   ]
  },
  {
   "cell_type": "markdown",
   "metadata": {},
   "source": [
    "# New Jersey"
   ]
  },
  {
   "cell_type": "code",
   "execution_count": 20,
   "metadata": {},
   "outputs": [],
   "source": [
    "New_Jersey = pd.DataFrame(df_prisoncases[df_prisoncases['name']=='New Jersey'])"
   ]
  },
  {
   "cell_type": "code",
   "execution_count": 21,
   "metadata": {},
   "outputs": [],
   "source": [
    "New_Jersey.sort_index(ascending = True, inplace = True)"
   ]
  },
  {
   "cell_type": "code",
   "execution_count": 22,
   "metadata": {},
   "outputs": [
    {
     "data": {
      "text/plain": [
       "name                      0\n",
       "abbreviation              0\n",
       "total_staff_cases         0\n",
       "staff_recovered          45\n",
       "total_staff_deaths       43\n",
       "total_prisoner_cases      0\n",
       "prisoners_recovered      56\n",
       "total_prisoner_deaths     1\n",
       "dtype: int64"
      ]
     },
     "execution_count": 22,
     "metadata": {},
     "output_type": "execute_result"
    }
   ],
   "source": [
    "New_Jersey.isnull().sum()"
   ]
  },
  {
   "cell_type": "code",
   "execution_count": 23,
   "metadata": {},
   "outputs": [
    {
     "data": {
      "text/plain": [
       "[<matplotlib.lines.Line2D at 0x7fd85f42fc40>]"
      ]
     },
     "execution_count": 23,
     "metadata": {},
     "output_type": "execute_result"
    },
    {
     "data": {
      "image/png": "[encoded data removed]",
      "text/plain": [
       "<Figure size 1080x576 with 1 Axes>"
      ]
     },
     "metadata": {
      "needs_background": "light"
     },
     "output_type": "display_data"
    }
   ],
   "source": [
    "#Plot prisoner cases over time\n",
    "plt.figure(figsize = (15,8))\n",
    "plt.plot(New_Jersey['total_prisoner_cases'])"
   ]
  },
  {
   "cell_type": "code",
   "execution_count": 24,
   "metadata": {},
   "outputs": [
    {
     "data": {
      "text/plain": [
       "[<matplotlib.lines.Line2D at 0x7fd85f543820>]"
      ]
     },
     "execution_count": 24,
     "metadata": {},
     "output_type": "execute_result"
    },
    {
     "data": {
      "image/png": "[encoded data removed]",
      "text/plain": [
       "<Figure size 864x576 with 1 Axes>"
      ]
     },
     "metadata": {
      "needs_background": "light"
     },
     "output_type": "display_data"
    }
   ],
   "source": [
    "#Plot prisoner cases over time + rolling average (4 weeks)\n",
    "\n",
    "plt.figure(figsize=(12,8))\n",
    "plt.plot(New_Jersey['total_prisoner_cases'])\n",
    "plt.plot(New_Jersey['total_prisoner_cases'].rolling(4).mean())"
   ]
  },
  {
   "cell_type": "code",
   "execution_count": 25,
   "metadata": {},
   "outputs": [
    {
     "data": {
      "text/plain": [
       "[<matplotlib.lines.Line2D at 0x7fd85f84d190>]"
      ]
     },
     "execution_count": 25,
     "metadata": {},
     "output_type": "execute_result"
    },
    {
     "data": {
      "image/png": "[encoded data removed]",
      "text/plain": [
       "<Figure size 864x576 with 1 Axes>"
      ]
     },
     "metadata": {
      "needs_background": "light"
     },
     "output_type": "display_data"
    }
   ],
   "source": [
    "#Plot Prisoner vs. Staff rolling average (4 weeks)\n",
    "plt.figure(figsize=(12,8))\n",
    "plt.plot(New_Jersey['total_prisoner_cases'].rolling(4).mean())\n",
    "plt.plot(New_Jersey['total_staff_cases'].rolling(4).mean())"
   ]
  },
  {
   "cell_type": "code",
   "execution_count": 26,
   "metadata": {},
   "outputs": [
    {
     "data": {
      "text/html": [
       "<div>\n",
       "<style scoped>\n",
       "    .dataframe tbody tr th:only-of-type {\n",
       "        vertical-align: middle;\n",
       "    }\n",
       "\n",
       "    .dataframe tbody tr th {\n",
       "        vertical-align: top;\n",
       "    }\n",
       "\n",
       "    .dataframe thead th {\n",
       "        text-align: right;\n",
       "    }\n",
       "</style>\n",
       "<table border=\"1\" class=\"dataframe\">\n",
       "  <thead>\n",
       "    <tr style=\"text-align: right;\">\n",
       "      <th></th>\n",
       "      <th>name</th>\n",
       "      <th>latest_week</th>\n",
       "      <th>cumulative_prisoner_cases</th>\n",
       "      <th>prisoner_cases_pct</th>\n",
       "      <th>prisoner_case_rate</th>\n",
       "      <th>cumulative_prisoner_deaths</th>\n",
       "      <th>prisoner_deaths_pct</th>\n",
       "      <th>prisoner_death_rate</th>\n",
       "      <th>cumulative_staff_cases</th>\n",
       "      <th>staff_cases_pct</th>\n",
       "      <th>staff_case_rate</th>\n",
       "      <th>cumulative_staff_deaths</th>\n",
       "      <th>staff_deaths_pct</th>\n",
       "      <th>staff_death_rate</th>\n",
       "    </tr>\n",
       "  </thead>\n",
       "  <tbody>\n",
       "    <tr>\n",
       "      <th>0</th>\n",
       "      <td>Alabama</td>\n",
       "      <td>04/13/2021</td>\n",
       "      <td>1635</td>\n",
       "      <td>0.077437</td>\n",
       "      <td>1 in 13 prisoners</td>\n",
       "      <td>65</td>\n",
       "      <td>0.003079</td>\n",
       "      <td>1 in 325 prisoners</td>\n",
       "      <td>1044</td>\n",
       "      <td>0.275316</td>\n",
       "      <td>1 in 4 staff</td>\n",
       "      <td>3</td>\n",
       "      <td>0.000791</td>\n",
       "      <td>1 in 1264 staff</td>\n",
       "    </tr>\n",
       "    <tr>\n",
       "      <th>1</th>\n",
       "      <td>Alaska</td>\n",
       "      <td>04/13/2021</td>\n",
       "      <td>2399</td>\n",
       "      <td>0.502303</td>\n",
       "      <td>1 in 2 prisoners</td>\n",
       "      <td>5</td>\n",
       "      <td>0.001047</td>\n",
       "      <td>1 in 955 prisoners</td>\n",
       "      <td>313</td>\n",
       "      <td>0.211344</td>\n",
       "      <td>1 in 5 staff</td>\n",
       "      <td>0</td>\n",
       "      <td>0.000000</td>\n",
       "      <td>0</td>\n",
       "    </tr>\n",
       "    <tr>\n",
       "      <th>2</th>\n",
       "      <td>Arizona</td>\n",
       "      <td>04/13/2021</td>\n",
       "      <td>12263</td>\n",
       "      <td>0.289495</td>\n",
       "      <td>2 in 7 prisoners</td>\n",
       "      <td>53</td>\n",
       "      <td>0.001251</td>\n",
       "      <td>1 in 799 prisoners</td>\n",
       "      <td>2745</td>\n",
       "      <td>0.301814</td>\n",
       "      <td>1 in 3 staff</td>\n",
       "      <td>1</td>\n",
       "      <td>0.000110</td>\n",
       "      <td>1 in 9095 staff</td>\n",
       "    </tr>\n",
       "    <tr>\n",
       "      <th>3</th>\n",
       "      <td>Arkansas</td>\n",
       "      <td>04/13/2021</td>\n",
       "      <td>11245</td>\n",
       "      <td>0.642498</td>\n",
       "      <td>2 in 3 prisoners</td>\n",
       "      <td>52</td>\n",
       "      <td>0.002971</td>\n",
       "      <td>1 in 337 prisoners</td>\n",
       "      <td>813</td>\n",
       "      <td>0.148901</td>\n",
       "      <td>1 in 7 staff</td>\n",
       "      <td>4</td>\n",
       "      <td>0.000733</td>\n",
       "      <td>1 in 1365 staff</td>\n",
       "    </tr>\n",
       "    <tr>\n",
       "      <th>4</th>\n",
       "      <td>California</td>\n",
       "      <td>04/13/2021</td>\n",
       "      <td>49215</td>\n",
       "      <td>0.418356</td>\n",
       "      <td>2 in 5 prisoners</td>\n",
       "      <td>220</td>\n",
       "      <td>0.001870</td>\n",
       "      <td>1 in 535 prisoners</td>\n",
       "      <td>16284</td>\n",
       "      <td>0.256558</td>\n",
       "      <td>1 in 4 staff</td>\n",
       "      <td>26</td>\n",
       "      <td>0.000410</td>\n",
       "      <td>1 in 2441 staff</td>\n",
       "    </tr>\n",
       "  </tbody>\n",
       "</table>\n",
       "</div>"
      ],
      "text/plain": [
       "         name latest_week  cumulative_prisoner_cases  prisoner_cases_pct  \\\n",
       "0     Alabama  04/13/2021                       1635            0.077437   \n",
       "1      Alaska  04/13/2021                       2399            0.502303   \n",
       "2     Arizona  04/13/2021                      12263            0.289495   \n",
       "3    Arkansas  04/13/2021                      11245            0.642498   \n",
       "4  California  04/13/2021                      49215            0.418356   \n",
       "\n",
       "  prisoner_case_rate  cumulative_prisoner_deaths  prisoner_deaths_pct  \\\n",
       "0  1 in 13 prisoners                          65             0.003079   \n",
       "1   1 in 2 prisoners                           5             0.001047   \n",
       "2   2 in 7 prisoners                          53             0.001251   \n",
       "3   2 in 3 prisoners                          52             0.002971   \n",
       "4   2 in 5 prisoners                         220             0.001870   \n",
       "\n",
       "  prisoner_death_rate  cumulative_staff_cases  staff_cases_pct  \\\n",
       "0  1 in 325 prisoners                    1044         0.275316   \n",
       "1  1 in 955 prisoners                     313         0.211344   \n",
       "2  1 in 799 prisoners                    2745         0.301814   \n",
       "3  1 in 337 prisoners                     813         0.148901   \n",
       "4  1 in 535 prisoners                   16284         0.256558   \n",
       "\n",
       "  staff_case_rate  cumulative_staff_deaths  staff_deaths_pct staff_death_rate  \n",
       "0    1 in 4 staff                        3          0.000791  1 in 1264 staff  \n",
       "1    1 in 5 staff                        0          0.000000                0  \n",
       "2    1 in 3 staff                        1          0.000110  1 in 9095 staff  \n",
       "3    1 in 7 staff                        4          0.000733  1 in 1365 staff  \n",
       "4    1 in 4 staff                       26          0.000410  1 in 2441 staff  "
      ]
     },
     "execution_count": 26,
     "metadata": {},
     "output_type": "execute_result"
    }
   ],
   "source": [
    "df_prisonrates.head()"
   ]
  },
  {
   "cell_type": "code",
   "execution_count": 27,
   "metadata": {},
   "outputs": [],
   "source": [
    "#Using prisoner population data to create a new table with just new jersey"
   ]
  },
  {
   "cell_type": "code",
   "execution_count": 28,
   "metadata": {},
   "outputs": [],
   "source": [
    "new_jersey_prisoner_population = pd.DataFrame(df_prisonpop[df_prisonpop['name']=='New Jersey'])"
   ]
  },
  {
   "cell_type": "code",
   "execution_count": 29,
   "metadata": {},
   "outputs": [],
   "source": [
    "#dropping as of date columns\n",
    "new_jersey_prisoner_population.drop(columns= ['as_of_date_march', 'as_of_date_april', 'as_of_date_june', 'as_of_date_july', 'as_of_date_aug', 'as_of_date_sept', 'as_of_date_oct', 'as_of_date_nov', 'as_of_date_dec'], inplace=True)\n",
    "\n",
    "\n"
   ]
  },
  {
   "cell_type": "code",
   "execution_count": 30,
   "metadata": {},
   "outputs": [],
   "source": [
    "#Saving as a transposed Data Frame\n",
    "new_jersey_prisoner_population = pd.DataFrame(new_jersey_prisoner_population.T)"
   ]
  },
  {
   "cell_type": "code",
   "execution_count": 31,
   "metadata": {},
   "outputs": [],
   "source": [
    "#Renaming the columns to population\n",
    "new_jersey_prisoner_population.rename(columns = {29: 'population'}, inplace=True)"
   ]
  },
  {
   "cell_type": "code",
   "execution_count": 32,
   "metadata": {},
   "outputs": [],
   "source": [
    "#Dropping erroneous rows from index\n",
    "new_jersey_prisoner_population.drop(index = ['name', 'abbreviation'], inplace=True)"
   ]
  },
  {
   "cell_type": "code",
   "execution_count": 33,
   "metadata": {},
   "outputs": [],
   "source": [
    "#renaming the index\n",
    "new_jersey_prisoner_population.index.rename('index', inplace=True)"
   ]
  },
  {
   "cell_type": "code",
   "execution_count": 34,
   "metadata": {},
   "outputs": [],
   "source": [
    "#Month dictionary\n",
    "month_dict = {'march_pop': 'march-2020', 'april_pop': 'april-2020', 'june_pop': 'june-2020', 'july_pop': 'july-2020', 'aug_pop': 'august-2020', 'sept_pop': 'september-2020', 'oct_pop': 'october-2020', 'nov_pop': 'november-2020', 'dec_pop': 'december-2020'}"
   ]
  },
  {
   "cell_type": "code",
   "execution_count": 35,
   "metadata": {},
   "outputs": [],
   "source": [
    "#renaming the index\n",
    "new_jersey_prisoner_population.rename(index = month_dict, inplace=True)"
   ]
  },
  {
   "cell_type": "code",
   "execution_count": 36,
   "metadata": {},
   "outputs": [],
   "source": [
    "#Change to date time data type\n",
    "new_jersey_prisoner_population.index = pd.to_datetime(new_jersey_prisoner_population.index)"
   ]
  },
  {
   "cell_type": "code",
   "execution_count": 37,
   "metadata": {},
   "outputs": [],
   "source": [
    "#drop unecessary columns\n",
    "New_Jersey.drop(columns=['name', 'abbreviation'], inplace = True)"
   ]
  },
  {
   "cell_type": "code",
   "execution_count": 38,
   "metadata": {},
   "outputs": [],
   "source": [
    "New_Jersey['total_prisoner_deaths'].fillna(value = 0,inplace=True)"
   ]
  },
  {
   "cell_type": "code",
   "execution_count": 39,
   "metadata": {},
   "outputs": [
    {
     "data": {
      "text/plain": [
       "[<matplotlib.lines.Line2D at 0x7fd85f891670>]"
      ]
     },
     "execution_count": 39,
     "metadata": {},
     "output_type": "execute_result"
    },
    {
     "data": {
      "image/png": "[encoded data removed]",
      "text/plain": [
       "<Figure size 432x288 with 1 Axes>"
      ]
     },
     "metadata": {
      "needs_background": "light"
     },
     "output_type": "display_data"
    }
   ],
   "source": [
    "plt.plot(New_Jersey['total_prisoner_deaths'])"
   ]
  },
  {
   "cell_type": "markdown",
   "metadata": {},
   "source": [
    "# Saving to CSV"
   ]
  },
  {
   "cell_type": "code",
   "execution_count": 41,
   "metadata": {},
   "outputs": [],
   "source": [
    "New_Jersey.to_csv('./cleaned_data/new_jersey')"
   ]
  },
  {
   "cell_type": "code",
   "execution_count": 42,
   "metadata": {},
   "outputs": [],
   "source": [
    "new_jersey_prisoner_population.to_csv('./cleaned_data/new_jersey_prisoner_population')"
   ]
  }
 ],
 "metadata": {
  "kernelspec": {
   "display_name": "Python 3",
   "language": "python",
   "name": "python3"
  },
  "language_info": {
   "codemirror_mode": {
    "name": "ipython",
    "version": 3
   },
   "file_extension": ".py",
   "mimetype": "text/x-python",
   "name": "python",
   "nbconvert_exporter": "python",
   "pygments_lexer": "ipython3",
   "version": "3.8.5"
  }
 },
 "nbformat": 4,
 "nbformat_minor": 4
}
