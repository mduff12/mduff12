{
 "cells": [
  {
   "cell_type": "code",
   "execution_count": 1,
   "metadata": {},
   "outputs": [],
   "source": [
    "# Imports\n",
    "import pandas as pd\n",
    "import numpy as np\n",
    "\n",
    "import matplotlib.pyplot as plt\n",
    "import seaborn as sns"
   ]
  },
  {
   "cell_type": "code",
   "execution_count": 2,
   "metadata": {},
   "outputs": [],
   "source": [
    "#Data imports\n",
    "df_prisoncases = pd.read_csv('https://query.data.world/s/tp7acte5rwl6pw2yuyvkxnw3xwtq64')\n",
    "# df_prisonrates = pd.read_csv('https://query.data.world/s/7gtwvf7dkarwtdm336heetyv2ooyyz')\n",
    "# df_prisonpop = pd.read_csv('https://query.data.world/s/3o2mmakqdaprodkxbitvt5rnmdpeij')\n",
    "# df_staffpop = pd.read_csv('https://query.data.world/s/zz6zpqsvllsrg4gzvmervygkje7j7o')"
   ]
  },
  {
   "cell_type": "code",
   "execution_count": null,
   "metadata": {},
   "outputs": [],
   "source": []
  }
 ],
 "metadata": {
  "kernelspec": {
   "display_name": "Python 3",
   "language": "python",
   "name": "python3"
  },
  "language_info": {
   "codemirror_mode": {
    "name": "ipython",
    "version": 3
   },
   "file_extension": ".py",
   "mimetype": "text/x-python",
   "name": "python",
   "nbconvert_exporter": "python",
   "pygments_lexer": "ipython3",
   "version": "3.8.5"
  }
 },
 "nbformat": 4,
 "nbformat_minor": 4
}
