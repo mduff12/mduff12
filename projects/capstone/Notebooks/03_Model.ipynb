{
 "cells": [
  {
   "cell_type": "markdown",
   "metadata": {},
   "source": [
    "# Modeling"
   ]
  },
  {
   "cell_type": "code",
   "execution_count": 2,
   "metadata": {},
   "outputs": [],
   "source": [
    "# Imports\n",
    "import pandas as pd\n",
    "import numpy as np\n",
    "import matplotlib.pyplot as plt\n",
    "from sklearn.model_selection import train_test_split\n",
    "\n",
    "from pandas.plotting import register_matplotlib_converters\n",
    "register_matplotlib_converters()\n",
    "\n",
    "from statsmodels.tsa.stattools import acf\n",
    "from statsmodels.graphics.tsaplots import plot_acf\n",
    "from statsmodels.graphics.tsaplots import plot_pacf\n",
    "from statsmodels.tsa.arima_model import ARIMA\n"
   ]
  },
  {
   "cell_type": "markdown",
   "metadata": {},
   "source": [
    "# Import the data files"
   ]
  },
  {
   "cell_type": "code",
   "execution_count": 3,
   "metadata": {},
   "outputs": [],
   "source": [
    "New_Jersey_df = pd.read_csv('./cleaned_data/new_jersey')"
   ]
  },
  {
   "cell_type": "code",
   "execution_count": 4,
   "metadata": {},
   "outputs": [
    {
     "data": {
      "text/html": [
       "<div>\n",
       "<style scoped>\n",
       "    .dataframe tbody tr th:only-of-type {\n",
       "        vertical-align: middle;\n",
       "    }\n",
       "\n",
       "    .dataframe tbody tr th {\n",
       "        vertical-align: top;\n",
       "    }\n",
       "\n",
       "    .dataframe thead th {\n",
       "        text-align: right;\n",
       "    }\n",
       "</style>\n",
       "<table border=\"1\" class=\"dataframe\">\n",
       "  <thead>\n",
       "    <tr style=\"text-align: right;\">\n",
       "      <th></th>\n",
       "      <th>as_of_date</th>\n",
       "      <th>total_staff_cases</th>\n",
       "      <th>staff_recovered</th>\n",
       "      <th>total_staff_deaths</th>\n",
       "      <th>total_prisoner_cases</th>\n",
       "      <th>prisoners_recovered</th>\n",
       "      <th>total_prisoner_deaths</th>\n",
       "    </tr>\n",
       "  </thead>\n",
       "  <tbody>\n",
       "    <tr>\n",
       "      <th>0</th>\n",
       "      <td>2020-03-26</td>\n",
       "      <td>4.0</td>\n",
       "      <td>NaN</td>\n",
       "      <td>0.0</td>\n",
       "      <td>0.0</td>\n",
       "      <td>NaN</td>\n",
       "      <td>0.0</td>\n",
       "    </tr>\n",
       "    <tr>\n",
       "      <th>1</th>\n",
       "      <td>2020-04-01</td>\n",
       "      <td>26.0</td>\n",
       "      <td>NaN</td>\n",
       "      <td>0.0</td>\n",
       "      <td>0.0</td>\n",
       "      <td>NaN</td>\n",
       "      <td>0.0</td>\n",
       "    </tr>\n",
       "    <tr>\n",
       "      <th>2</th>\n",
       "      <td>2020-04-08</td>\n",
       "      <td>110.0</td>\n",
       "      <td>NaN</td>\n",
       "      <td>NaN</td>\n",
       "      <td>18.0</td>\n",
       "      <td>NaN</td>\n",
       "      <td>0.0</td>\n",
       "    </tr>\n",
       "  </tbody>\n",
       "</table>\n",
       "</div>"
      ],
      "text/plain": [
       "   as_of_date  total_staff_cases  staff_recovered  total_staff_deaths  \\\n",
       "0  2020-03-26                4.0              NaN                 0.0   \n",
       "1  2020-04-01               26.0              NaN                 0.0   \n",
       "2  2020-04-08              110.0              NaN                 NaN   \n",
       "\n",
       "   total_prisoner_cases  prisoners_recovered  total_prisoner_deaths  \n",
       "0                   0.0                  NaN                    0.0  \n",
       "1                   0.0                  NaN                    0.0  \n",
       "2                  18.0                  NaN                    0.0  "
      ]
     },
     "execution_count": 4,
     "metadata": {},
     "output_type": "execute_result"
    }
   ],
   "source": [
    "New_Jersey_df.head(3)"
   ]
  },
  {
   "cell_type": "markdown",
   "metadata": {},
   "source": [
    "# Set the date columns to be the indices"
   ]
  },
  {
   "cell_type": "code",
   "execution_count": 5,
   "metadata": {},
   "outputs": [],
   "source": [
    "New_Jersey_df['as_of_date'] = pd.to_datetime(New_Jersey_df['as_of_date'])\n",
    "New_Jersey_df.set_index('as_of_date', inplace=True)\n",
    "New_Jersey_df.sort_index(inplace=True)"
   ]
  },
  {
   "cell_type": "code",
   "execution_count": 6,
   "metadata": {},
   "outputs": [
    {
     "data": {
      "text/html": [
       "<div>\n",
       "<style scoped>\n",
       "    .dataframe tbody tr th:only-of-type {\n",
       "        vertical-align: middle;\n",
       "    }\n",
       "\n",
       "    .dataframe tbody tr th {\n",
       "        vertical-align: top;\n",
       "    }\n",
       "\n",
       "    .dataframe thead th {\n",
       "        text-align: right;\n",
       "    }\n",
       "</style>\n",
       "<table border=\"1\" class=\"dataframe\">\n",
       "  <thead>\n",
       "    <tr style=\"text-align: right;\">\n",
       "      <th></th>\n",
       "      <th>total_staff_cases</th>\n",
       "      <th>staff_recovered</th>\n",
       "      <th>total_staff_deaths</th>\n",
       "      <th>total_prisoner_cases</th>\n",
       "      <th>prisoners_recovered</th>\n",
       "      <th>total_prisoner_deaths</th>\n",
       "    </tr>\n",
       "    <tr>\n",
       "      <th>as_of_date</th>\n",
       "      <th></th>\n",
       "      <th></th>\n",
       "      <th></th>\n",
       "      <th></th>\n",
       "      <th></th>\n",
       "      <th></th>\n",
       "    </tr>\n",
       "  </thead>\n",
       "  <tbody>\n",
       "    <tr>\n",
       "      <th>2020-03-26</th>\n",
       "      <td>4.0</td>\n",
       "      <td>NaN</td>\n",
       "      <td>0.0</td>\n",
       "      <td>0.0</td>\n",
       "      <td>NaN</td>\n",
       "      <td>0.0</td>\n",
       "    </tr>\n",
       "    <tr>\n",
       "      <th>2020-04-01</th>\n",
       "      <td>26.0</td>\n",
       "      <td>NaN</td>\n",
       "      <td>0.0</td>\n",
       "      <td>0.0</td>\n",
       "      <td>NaN</td>\n",
       "      <td>0.0</td>\n",
       "    </tr>\n",
       "    <tr>\n",
       "      <th>2020-04-08</th>\n",
       "      <td>110.0</td>\n",
       "      <td>NaN</td>\n",
       "      <td>NaN</td>\n",
       "      <td>18.0</td>\n",
       "      <td>NaN</td>\n",
       "      <td>0.0</td>\n",
       "    </tr>\n",
       "    <tr>\n",
       "      <th>2020-04-15</th>\n",
       "      <td>266.0</td>\n",
       "      <td>NaN</td>\n",
       "      <td>1.0</td>\n",
       "      <td>50.0</td>\n",
       "      <td>NaN</td>\n",
       "      <td>5.0</td>\n",
       "    </tr>\n",
       "    <tr>\n",
       "      <th>2020-04-22</th>\n",
       "      <td>427.0</td>\n",
       "      <td>NaN</td>\n",
       "      <td>2.0</td>\n",
       "      <td>101.0</td>\n",
       "      <td>NaN</td>\n",
       "      <td>16.0</td>\n",
       "    </tr>\n",
       "  </tbody>\n",
       "</table>\n",
       "</div>"
      ],
      "text/plain": [
       "            total_staff_cases  staff_recovered  total_staff_deaths  \\\n",
       "as_of_date                                                           \n",
       "2020-03-26                4.0              NaN                 0.0   \n",
       "2020-04-01               26.0              NaN                 0.0   \n",
       "2020-04-08              110.0              NaN                 NaN   \n",
       "2020-04-15              266.0              NaN                 1.0   \n",
       "2020-04-22              427.0              NaN                 2.0   \n",
       "\n",
       "            total_prisoner_cases  prisoners_recovered  total_prisoner_deaths  \n",
       "as_of_date                                                                    \n",
       "2020-03-26                   0.0                  NaN                    0.0  \n",
       "2020-04-01                   0.0                  NaN                    0.0  \n",
       "2020-04-08                  18.0                  NaN                    0.0  \n",
       "2020-04-15                  50.0                  NaN                    5.0  \n",
       "2020-04-22                 101.0                  NaN                   16.0  "
      ]
     },
     "execution_count": 6,
     "metadata": {},
     "output_type": "execute_result"
    }
   ],
   "source": [
    "New_Jersey_df.head()"
   ]
  },
  {
   "cell_type": "markdown",
   "metadata": {},
   "source": [
    "# Autocorrelation & Partial Autocorrelation"
   ]
  },
  {
   "cell_type": "code",
   "execution_count": 7,
   "metadata": {},
   "outputs": [],
   "source": [
    "#new dataframe with just the information we want - prisoner cases\n",
    "New_Jersey_prisoner_cases = pd.DataFrame(New_Jersey_df['total_prisoner_cases'])"
   ]
  },
  {
   "cell_type": "code",
   "execution_count": 8,
   "metadata": {},
   "outputs": [
    {
     "data": {
      "text/plain": [
       "(56, 1)"
      ]
     },
     "execution_count": 8,
     "metadata": {},
     "output_type": "execute_result"
    }
   ],
   "source": [
    "New_Jersey_prisoner_cases.dropna(inplace=True)\n",
    "New_Jersey_prisoner_cases.shape"
   ]
  },
  {
   "cell_type": "code",
   "execution_count": 9,
   "metadata": {},
   "outputs": [
    {
     "data": {
      "text/html": [
       "<div>\n",
       "<style scoped>\n",
       "    .dataframe tbody tr th:only-of-type {\n",
       "        vertical-align: middle;\n",
       "    }\n",
       "\n",
       "    .dataframe tbody tr th {\n",
       "        vertical-align: top;\n",
       "    }\n",
       "\n",
       "    .dataframe thead th {\n",
       "        text-align: right;\n",
       "    }\n",
       "</style>\n",
       "<table border=\"1\" class=\"dataframe\">\n",
       "  <thead>\n",
       "    <tr style=\"text-align: right;\">\n",
       "      <th></th>\n",
       "      <th>total_prisoner_cases</th>\n",
       "    </tr>\n",
       "    <tr>\n",
       "      <th>as_of_date</th>\n",
       "      <th></th>\n",
       "    </tr>\n",
       "  </thead>\n",
       "  <tbody>\n",
       "    <tr>\n",
       "      <th>2020-03-26</th>\n",
       "      <td>0.0</td>\n",
       "    </tr>\n",
       "    <tr>\n",
       "      <th>2020-04-01</th>\n",
       "      <td>0.0</td>\n",
       "    </tr>\n",
       "    <tr>\n",
       "      <th>2020-04-08</th>\n",
       "      <td>18.0</td>\n",
       "    </tr>\n",
       "    <tr>\n",
       "      <th>2020-04-15</th>\n",
       "      <td>50.0</td>\n",
       "    </tr>\n",
       "    <tr>\n",
       "      <th>2020-04-22</th>\n",
       "      <td>101.0</td>\n",
       "    </tr>\n",
       "  </tbody>\n",
       "</table>\n",
       "</div>"
      ],
      "text/plain": [
       "            total_prisoner_cases\n",
       "as_of_date                      \n",
       "2020-03-26                   0.0\n",
       "2020-04-01                   0.0\n",
       "2020-04-08                  18.0\n",
       "2020-04-15                  50.0\n",
       "2020-04-22                 101.0"
      ]
     },
     "execution_count": 9,
     "metadata": {},
     "output_type": "execute_result"
    }
   ],
   "source": [
    "New_Jersey_prisoner_cases.head()"
   ]
  },
  {
   "cell_type": "code",
   "execution_count": 10,
   "metadata": {},
   "outputs": [],
   "source": [
    "# New_Jersey_prisoner_cases.to_excel('./NJ_prisoner_cases.xlsx')"
   ]
  },
  {
   "cell_type": "code",
   "execution_count": 11,
   "metadata": {},
   "outputs": [],
   "source": [
    "#creating 3 lags\n",
    "New_Jersey_prisoner_cases['total_prisoner_cases_lag1']=New_Jersey_prisoner_cases['total_prisoner_cases'].shift(1)\n",
    "New_Jersey_prisoner_cases['total_prisoner_cases_lag2']=New_Jersey_prisoner_cases['total_prisoner_cases'].shift(2)\n",
    "New_Jersey_prisoner_cases['total_prisoner_cases_lag3']=New_Jersey_prisoner_cases['total_prisoner_cases'].shift(3)"
   ]
  },
  {
   "cell_type": "code",
   "execution_count": 12,
   "metadata": {},
   "outputs": [
    {
     "data": {
      "text/html": [
       "<div>\n",
       "<style scoped>\n",
       "    .dataframe tbody tr th:only-of-type {\n",
       "        vertical-align: middle;\n",
       "    }\n",
       "\n",
       "    .dataframe tbody tr th {\n",
       "        vertical-align: top;\n",
       "    }\n",
       "\n",
       "    .dataframe thead th {\n",
       "        text-align: right;\n",
       "    }\n",
       "</style>\n",
       "<table border=\"1\" class=\"dataframe\">\n",
       "  <thead>\n",
       "    <tr style=\"text-align: right;\">\n",
       "      <th></th>\n",
       "      <th>total_prisoner_cases</th>\n",
       "      <th>total_prisoner_cases_lag1</th>\n",
       "      <th>total_prisoner_cases_lag2</th>\n",
       "      <th>total_prisoner_cases_lag3</th>\n",
       "    </tr>\n",
       "    <tr>\n",
       "      <th>as_of_date</th>\n",
       "      <th></th>\n",
       "      <th></th>\n",
       "      <th></th>\n",
       "      <th></th>\n",
       "    </tr>\n",
       "  </thead>\n",
       "  <tbody>\n",
       "    <tr>\n",
       "      <th>2020-03-26</th>\n",
       "      <td>0.0</td>\n",
       "      <td>NaN</td>\n",
       "      <td>NaN</td>\n",
       "      <td>NaN</td>\n",
       "    </tr>\n",
       "    <tr>\n",
       "      <th>2020-04-01</th>\n",
       "      <td>0.0</td>\n",
       "      <td>0.0</td>\n",
       "      <td>NaN</td>\n",
       "      <td>NaN</td>\n",
       "    </tr>\n",
       "    <tr>\n",
       "      <th>2020-04-08</th>\n",
       "      <td>18.0</td>\n",
       "      <td>0.0</td>\n",
       "      <td>0.0</td>\n",
       "      <td>NaN</td>\n",
       "    </tr>\n",
       "    <tr>\n",
       "      <th>2020-04-15</th>\n",
       "      <td>50.0</td>\n",
       "      <td>18.0</td>\n",
       "      <td>0.0</td>\n",
       "      <td>0.0</td>\n",
       "    </tr>\n",
       "    <tr>\n",
       "      <th>2020-04-22</th>\n",
       "      <td>101.0</td>\n",
       "      <td>50.0</td>\n",
       "      <td>18.0</td>\n",
       "      <td>0.0</td>\n",
       "    </tr>\n",
       "  </tbody>\n",
       "</table>\n",
       "</div>"
      ],
      "text/plain": [
       "            total_prisoner_cases  total_prisoner_cases_lag1  \\\n",
       "as_of_date                                                    \n",
       "2020-03-26                   0.0                        NaN   \n",
       "2020-04-01                   0.0                        0.0   \n",
       "2020-04-08                  18.0                        0.0   \n",
       "2020-04-15                  50.0                       18.0   \n",
       "2020-04-22                 101.0                       50.0   \n",
       "\n",
       "            total_prisoner_cases_lag2  total_prisoner_cases_lag3  \n",
       "as_of_date                                                        \n",
       "2020-03-26                        NaN                        NaN  \n",
       "2020-04-01                        NaN                        NaN  \n",
       "2020-04-08                        0.0                        NaN  \n",
       "2020-04-15                        0.0                        0.0  \n",
       "2020-04-22                       18.0                        0.0  "
      ]
     },
     "execution_count": 12,
     "metadata": {},
     "output_type": "execute_result"
    }
   ],
   "source": [
    "#checking our data\n",
    "New_Jersey_prisoner_cases.head()"
   ]
  },
  {
   "cell_type": "code",
   "execution_count": 13,
   "metadata": {},
   "outputs": [
    {
     "data": {
      "text/html": [
       "<div>\n",
       "<style scoped>\n",
       "    .dataframe tbody tr th:only-of-type {\n",
       "        vertical-align: middle;\n",
       "    }\n",
       "\n",
       "    .dataframe tbody tr th {\n",
       "        vertical-align: top;\n",
       "    }\n",
       "\n",
       "    .dataframe thead th {\n",
       "        text-align: right;\n",
       "    }\n",
       "</style>\n",
       "<table border=\"1\" class=\"dataframe\">\n",
       "  <thead>\n",
       "    <tr style=\"text-align: right;\">\n",
       "      <th></th>\n",
       "      <th>total_prisoner_cases</th>\n",
       "      <th>total_prisoner_cases_lag1</th>\n",
       "      <th>total_prisoner_cases_lag2</th>\n",
       "      <th>total_prisoner_cases_lag3</th>\n",
       "    </tr>\n",
       "  </thead>\n",
       "  <tbody>\n",
       "    <tr>\n",
       "      <th>total_prisoner_cases</th>\n",
       "      <td>1.000000</td>\n",
       "      <td>0.994287</td>\n",
       "      <td>0.980635</td>\n",
       "      <td>0.960384</td>\n",
       "    </tr>\n",
       "    <tr>\n",
       "      <th>total_prisoner_cases_lag1</th>\n",
       "      <td>0.994287</td>\n",
       "      <td>1.000000</td>\n",
       "      <td>0.994103</td>\n",
       "      <td>0.979978</td>\n",
       "    </tr>\n",
       "    <tr>\n",
       "      <th>total_prisoner_cases_lag2</th>\n",
       "      <td>0.980635</td>\n",
       "      <td>0.994103</td>\n",
       "      <td>1.000000</td>\n",
       "      <td>0.993899</td>\n",
       "    </tr>\n",
       "    <tr>\n",
       "      <th>total_prisoner_cases_lag3</th>\n",
       "      <td>0.960384</td>\n",
       "      <td>0.979978</td>\n",
       "      <td>0.993899</td>\n",
       "      <td>1.000000</td>\n",
       "    </tr>\n",
       "  </tbody>\n",
       "</table>\n",
       "</div>"
      ],
      "text/plain": [
       "                           total_prisoner_cases  total_prisoner_cases_lag1  \\\n",
       "total_prisoner_cases                   1.000000                   0.994287   \n",
       "total_prisoner_cases_lag1              0.994287                   1.000000   \n",
       "total_prisoner_cases_lag2              0.980635                   0.994103   \n",
       "total_prisoner_cases_lag3              0.960384                   0.979978   \n",
       "\n",
       "                           total_prisoner_cases_lag2  \\\n",
       "total_prisoner_cases                        0.980635   \n",
       "total_prisoner_cases_lag1                   0.994103   \n",
       "total_prisoner_cases_lag2                   1.000000   \n",
       "total_prisoner_cases_lag3                   0.993899   \n",
       "\n",
       "                           total_prisoner_cases_lag3  \n",
       "total_prisoner_cases                        0.960384  \n",
       "total_prisoner_cases_lag1                   0.979978  \n",
       "total_prisoner_cases_lag2                   0.993899  \n",
       "total_prisoner_cases_lag3                   1.000000  "
      ]
     },
     "execution_count": 13,
     "metadata": {},
     "output_type": "execute_result"
    }
   ],
   "source": [
    "#examining correlation between 3 lags\n",
    "New_Jersey_prisoner_cases.corr()"
   ]
  },
  {
   "cell_type": "code",
   "execution_count": 14,
   "metadata": {},
   "outputs": [
    {
     "name": "stderr",
     "output_type": "stream",
     "text": [
      "/Users/merylduff/opt/anaconda3/lib/python3.8/site-packages/statsmodels/tsa/stattools.py:662: FutureWarning: fft=True will become the default after the release of the 0.12 release of statsmodels. To suppress this warning, explicitly set fft=False.\n",
      "  warnings.warn(\n"
     ]
    },
    {
     "data": {
      "text/plain": [
       "array([1.        , 0.93689582, 0.86266808, 0.78003578, 0.69206919,\n",
       "       0.60094685, 0.50720598, 0.41355476, 0.32981645, 0.25262992,\n",
       "       0.19636143, 0.15160219, 0.11630476])"
      ]
     },
     "execution_count": 14,
     "metadata": {},
     "output_type": "execute_result"
    }
   ],
   "source": [
    "acf(New_Jersey_prisoner_cases['total_prisoner_cases'],nlags=12)"
   ]
  },
  {
   "cell_type": "code",
   "execution_count": 15,
   "metadata": {},
   "outputs": [],
   "source": [
    "# Across entire data set, how is it correlated to 1 lag before"
   ]
  },
  {
   "cell_type": "code",
   "execution_count": 16,
   "metadata": {},
   "outputs": [
    {
     "data": {
      "image/png": "[encoded data removed]",
      "text/plain": [
       "<Figure size 432x288 with 1 Axes>"
      ]
     },
     "metadata": {
      "needs_background": "light"
     },
     "output_type": "display_data"
    }
   ],
   "source": [
    "#Plotting autocorrelation 1st 54 lags\n",
    "plot_acf(New_Jersey_prisoner_cases['total_prisoner_cases'], lags = 54, alpha = 0.05);"
   ]
  },
  {
   "cell_type": "code",
   "execution_count": 17,
   "metadata": {},
   "outputs": [
    {
     "data": {
      "image/png": "[encoded data removed]",
      "text/plain": [
       "<Figure size 432x288 with 1 Axes>"
      ]
     },
     "metadata": {
      "needs_background": "light"
     },
     "output_type": "display_data"
    }
   ],
   "source": [
    "# Relationship between lags is statisticaly significant to 5 lags\n",
    "plot_acf(New_Jersey_prisoner_cases['total_prisoner_cases'], lags = 12, alpha = 0.05);"
   ]
  },
  {
   "cell_type": "code",
   "execution_count": 18,
   "metadata": {},
   "outputs": [
    {
     "data": {
      "image/png": "[encoded data removed]",
      "text/plain": [
       "<Figure size 432x288 with 1 Axes>"
      ]
     },
     "metadata": {
      "needs_background": "light"
     },
     "output_type": "display_data"
    }
   ],
   "source": [
    "# Partial Auto Correlation - statistially significant at 1 lag (1 week)\n",
    "plot_pacf(New_Jersey_prisoner_cases['total_prisoner_cases'], lags = 25, alpha=.05);\n"
   ]
  },
  {
   "cell_type": "markdown",
   "metadata": {},
   "source": [
    "# Linear Time Series Model\n"
   ]
  },
  {
   "cell_type": "code",
   "execution_count": 19,
   "metadata": {},
   "outputs": [],
   "source": [
    "import statsmodels.api as sm"
   ]
  },
  {
   "cell_type": "code",
   "execution_count": 20,
   "metadata": {},
   "outputs": [
    {
     "data": {
      "text/html": [
       "<div>\n",
       "<style scoped>\n",
       "    .dataframe tbody tr th:only-of-type {\n",
       "        vertical-align: middle;\n",
       "    }\n",
       "\n",
       "    .dataframe tbody tr th {\n",
       "        vertical-align: top;\n",
       "    }\n",
       "\n",
       "    .dataframe thead th {\n",
       "        text-align: right;\n",
       "    }\n",
       "</style>\n",
       "<table border=\"1\" class=\"dataframe\">\n",
       "  <thead>\n",
       "    <tr style=\"text-align: right;\">\n",
       "      <th></th>\n",
       "      <th>total_prisoner_cases</th>\n",
       "      <th>total_prisoner_cases_lag1</th>\n",
       "      <th>total_prisoner_cases_lag2</th>\n",
       "    </tr>\n",
       "    <tr>\n",
       "      <th>as_of_date</th>\n",
       "      <th></th>\n",
       "      <th></th>\n",
       "      <th></th>\n",
       "    </tr>\n",
       "  </thead>\n",
       "  <tbody>\n",
       "    <tr>\n",
       "      <th>2020-03-26</th>\n",
       "      <td>0.0</td>\n",
       "      <td>NaN</td>\n",
       "      <td>NaN</td>\n",
       "    </tr>\n",
       "    <tr>\n",
       "      <th>2020-04-01</th>\n",
       "      <td>0.0</td>\n",
       "      <td>0.0</td>\n",
       "      <td>NaN</td>\n",
       "    </tr>\n",
       "    <tr>\n",
       "      <th>2020-04-08</th>\n",
       "      <td>18.0</td>\n",
       "      <td>0.0</td>\n",
       "      <td>0.0</td>\n",
       "    </tr>\n",
       "    <tr>\n",
       "      <th>2020-04-15</th>\n",
       "      <td>50.0</td>\n",
       "      <td>18.0</td>\n",
       "      <td>0.0</td>\n",
       "    </tr>\n",
       "    <tr>\n",
       "      <th>2020-04-22</th>\n",
       "      <td>101.0</td>\n",
       "      <td>50.0</td>\n",
       "      <td>18.0</td>\n",
       "    </tr>\n",
       "  </tbody>\n",
       "</table>\n",
       "</div>"
      ],
      "text/plain": [
       "            total_prisoner_cases  total_prisoner_cases_lag1  \\\n",
       "as_of_date                                                    \n",
       "2020-03-26                   0.0                        NaN   \n",
       "2020-04-01                   0.0                        0.0   \n",
       "2020-04-08                  18.0                        0.0   \n",
       "2020-04-15                  50.0                       18.0   \n",
       "2020-04-22                 101.0                       50.0   \n",
       "\n",
       "            total_prisoner_cases_lag2  \n",
       "as_of_date                             \n",
       "2020-03-26                        NaN  \n",
       "2020-04-01                        NaN  \n",
       "2020-04-08                        0.0  \n",
       "2020-04-15                        0.0  \n",
       "2020-04-22                       18.0  "
      ]
     },
     "execution_count": 20,
     "metadata": {},
     "output_type": "execute_result"
    }
   ],
   "source": [
    "#choosing 2 lags for our first linear model\n",
    "New_Jersey_prisoner_cases.drop(columns= 'total_prisoner_cases_lag3', inplace = True)\n",
    "New_Jersey_prisoner_cases.head()"
   ]
  },
  {
   "cell_type": "code",
   "execution_count": 21,
   "metadata": {},
   "outputs": [
    {
     "data": {
      "text/html": [
       "<div>\n",
       "<style scoped>\n",
       "    .dataframe tbody tr th:only-of-type {\n",
       "        vertical-align: middle;\n",
       "    }\n",
       "\n",
       "    .dataframe tbody tr th {\n",
       "        vertical-align: top;\n",
       "    }\n",
       "\n",
       "    .dataframe thead th {\n",
       "        text-align: right;\n",
       "    }\n",
       "</style>\n",
       "<table border=\"1\" class=\"dataframe\">\n",
       "  <thead>\n",
       "    <tr style=\"text-align: right;\">\n",
       "      <th></th>\n",
       "      <th>total_prisoner_cases</th>\n",
       "      <th>total_prisoner_cases_lag1</th>\n",
       "      <th>total_prisoner_cases_lag2</th>\n",
       "      <th>time</th>\n",
       "    </tr>\n",
       "    <tr>\n",
       "      <th>as_of_date</th>\n",
       "      <th></th>\n",
       "      <th></th>\n",
       "      <th></th>\n",
       "      <th></th>\n",
       "    </tr>\n",
       "  </thead>\n",
       "  <tbody>\n",
       "    <tr>\n",
       "      <th>2020-03-26</th>\n",
       "      <td>0.0</td>\n",
       "      <td>NaN</td>\n",
       "      <td>NaN</td>\n",
       "      <td>0</td>\n",
       "    </tr>\n",
       "    <tr>\n",
       "      <th>2020-04-01</th>\n",
       "      <td>0.0</td>\n",
       "      <td>0.0</td>\n",
       "      <td>NaN</td>\n",
       "      <td>1</td>\n",
       "    </tr>\n",
       "    <tr>\n",
       "      <th>2020-04-08</th>\n",
       "      <td>18.0</td>\n",
       "      <td>0.0</td>\n",
       "      <td>0.0</td>\n",
       "      <td>2</td>\n",
       "    </tr>\n",
       "    <tr>\n",
       "      <th>2020-04-15</th>\n",
       "      <td>50.0</td>\n",
       "      <td>18.0</td>\n",
       "      <td>0.0</td>\n",
       "      <td>3</td>\n",
       "    </tr>\n",
       "    <tr>\n",
       "      <th>2020-04-22</th>\n",
       "      <td>101.0</td>\n",
       "      <td>50.0</td>\n",
       "      <td>18.0</td>\n",
       "      <td>4</td>\n",
       "    </tr>\n",
       "  </tbody>\n",
       "</table>\n",
       "</div>"
      ],
      "text/plain": [
       "            total_prisoner_cases  total_prisoner_cases_lag1  \\\n",
       "as_of_date                                                    \n",
       "2020-03-26                   0.0                        NaN   \n",
       "2020-04-01                   0.0                        0.0   \n",
       "2020-04-08                  18.0                        0.0   \n",
       "2020-04-15                  50.0                       18.0   \n",
       "2020-04-22                 101.0                       50.0   \n",
       "\n",
       "            total_prisoner_cases_lag2  time  \n",
       "as_of_date                                   \n",
       "2020-03-26                        NaN     0  \n",
       "2020-04-01                        NaN     1  \n",
       "2020-04-08                        0.0     2  \n",
       "2020-04-15                        0.0     3  \n",
       "2020-04-22                       18.0     4  "
      ]
     },
     "execution_count": 21,
     "metadata": {},
     "output_type": "execute_result"
    }
   ],
   "source": [
    "#Create variable \"time\" to take into account how many weeks have passed since the beginning of our time series\n",
    "New_Jersey_prisoner_cases['time'] = range(0, New_Jersey_prisoner_cases.shape[0])\n",
    "New_Jersey_prisoner_cases.head()"
   ]
  },
  {
   "cell_type": "code",
   "execution_count": 22,
   "metadata": {},
   "outputs": [],
   "source": [
    "New_Jersey_prisoner_cases.sort_index(inplace=True)"
   ]
  },
  {
   "cell_type": "code",
   "execution_count": 23,
   "metadata": {},
   "outputs": [],
   "source": [
    "# Train Test Split\n",
    "X_train_lm, X_test_lm, y_train_lm, y_test_lm = train_test_split(New_Jersey_prisoner_cases.drop(columns = 'total_prisoner_cases'),#using lagged data to model \n",
    "                                                   New_Jersey_prisoner_cases['total_prisoner_cases'],#seeking to predict prisoner cases \n",
    "                                                   test_size=.20, #trying to make the training set bigger\n",
    "                                                   shuffle = False) #turn shuff off to keep time linear"
   ]
  },
  {
   "cell_type": "code",
   "execution_count": 24,
   "metadata": {},
   "outputs": [
    {
     "name": "stdout",
     "output_type": "stream",
     "text": [
      "(44, 3)\n",
      "(12, 3)\n",
      "(44,)\n",
      "(12,)\n"
     ]
    }
   ],
   "source": [
    "# Check shape to confirm we did this properly.\n",
    "\n",
    "print(X_train_lm.shape)\n",
    "print(X_test_lm.shape)\n",
    "print(y_train_lm.shape)\n",
    "print(y_test_lm.shape)"
   ]
  },
  {
   "cell_type": "code",
   "execution_count": 25,
   "metadata": {},
   "outputs": [
    {
     "data": {
      "text/html": [
       "<div>\n",
       "<style scoped>\n",
       "    .dataframe tbody tr th:only-of-type {\n",
       "        vertical-align: middle;\n",
       "    }\n",
       "\n",
       "    .dataframe tbody tr th {\n",
       "        vertical-align: top;\n",
       "    }\n",
       "\n",
       "    .dataframe thead th {\n",
       "        text-align: right;\n",
       "    }\n",
       "</style>\n",
       "<table border=\"1\" class=\"dataframe\">\n",
       "  <thead>\n",
       "    <tr style=\"text-align: right;\">\n",
       "      <th></th>\n",
       "      <th>const</th>\n",
       "      <th>total_prisoner_cases_lag1</th>\n",
       "      <th>total_prisoner_cases_lag2</th>\n",
       "      <th>time</th>\n",
       "    </tr>\n",
       "    <tr>\n",
       "      <th>as_of_date</th>\n",
       "      <th></th>\n",
       "      <th></th>\n",
       "      <th></th>\n",
       "      <th></th>\n",
       "    </tr>\n",
       "  </thead>\n",
       "  <tbody>\n",
       "    <tr>\n",
       "      <th>2020-03-26</th>\n",
       "      <td>1.0</td>\n",
       "      <td>NaN</td>\n",
       "      <td>NaN</td>\n",
       "      <td>0</td>\n",
       "    </tr>\n",
       "    <tr>\n",
       "      <th>2020-04-01</th>\n",
       "      <td>1.0</td>\n",
       "      <td>0.0</td>\n",
       "      <td>NaN</td>\n",
       "      <td>1</td>\n",
       "    </tr>\n",
       "    <tr>\n",
       "      <th>2020-04-08</th>\n",
       "      <td>1.0</td>\n",
       "      <td>0.0</td>\n",
       "      <td>0.0</td>\n",
       "      <td>2</td>\n",
       "    </tr>\n",
       "    <tr>\n",
       "      <th>2020-04-15</th>\n",
       "      <td>1.0</td>\n",
       "      <td>18.0</td>\n",
       "      <td>0.0</td>\n",
       "      <td>3</td>\n",
       "    </tr>\n",
       "    <tr>\n",
       "      <th>2020-04-22</th>\n",
       "      <td>1.0</td>\n",
       "      <td>50.0</td>\n",
       "      <td>18.0</td>\n",
       "      <td>4</td>\n",
       "    </tr>\n",
       "  </tbody>\n",
       "</table>\n",
       "</div>"
      ],
      "text/plain": [
       "            const  total_prisoner_cases_lag1  total_prisoner_cases_lag2  time\n",
       "as_of_date                                                                   \n",
       "2020-03-26    1.0                        NaN                        NaN     0\n",
       "2020-04-01    1.0                        0.0                        NaN     1\n",
       "2020-04-08    1.0                        0.0                        0.0     2\n",
       "2020-04-15    1.0                       18.0                        0.0     3\n",
       "2020-04-22    1.0                       50.0                       18.0     4"
      ]
     },
     "execution_count": 25,
     "metadata": {},
     "output_type": "execute_result"
    }
   ],
   "source": [
    "#adding contstant to the X_train and X_test sets\n",
    "X_train_lm = sm.add_constant(X_train_lm)\n",
    "X_test_lm = sm.add_constant(X_test_lm)\n",
    "\n",
    "# Confirm.\n",
    "X_train_lm.head()"
   ]
  },
  {
   "cell_type": "code",
   "execution_count": 26,
   "metadata": {},
   "outputs": [],
   "source": [
    "# statsmodels won't be able to handle missing values.\n",
    "\n",
    "X_train_lm.dropna(inplace=True)\n",
    "y_train_lm = y_train_lm[X_train_lm.index] \n",
    "\n",
    "# This way we subset y_train to keep only indices from X_train."
   ]
  },
  {
   "cell_type": "code",
   "execution_count": 27,
   "metadata": {},
   "outputs": [
    {
     "data": {
      "text/plain": [
       "(42, 4)"
      ]
     },
     "execution_count": 27,
     "metadata": {},
     "output_type": "execute_result"
    }
   ],
   "source": [
    "X_train_lm.shape"
   ]
  },
  {
   "cell_type": "code",
   "execution_count": 28,
   "metadata": {},
   "outputs": [
    {
     "name": "stdout",
     "output_type": "stream",
     "text": [
      "                             OLS Regression Results                             \n",
      "================================================================================\n",
      "Dep. Variable:     total_prisoner_cases   R-squared:                       0.990\n",
      "Model:                              OLS   Adj. R-squared:                  0.989\n",
      "Method:                   Least Squares   F-statistic:                     1276.\n",
      "Date:                  Mon, 19 Apr 2021   Prob (F-statistic):           3.61e-38\n",
      "Time:                          10:49:37   Log-Likelihood:                -256.96\n",
      "No. Observations:                    42   AIC:                             521.9\n",
      "Df Residuals:                        38   BIC:                             528.9\n",
      "Df Model:                             3                                         \n",
      "Covariance Type:              nonrobust                                         \n",
      "=============================================================================================\n",
      "                                coef    std err          t      P>|t|      [0.025      0.975]\n",
      "---------------------------------------------------------------------------------------------\n",
      "const                        98.9301     47.079      2.101      0.042       3.625     194.236\n",
      "total_prisoner_cases_lag1     1.6186      0.124     13.069      0.000       1.368       1.869\n",
      "total_prisoner_cases_lag2    -0.6864      0.123     -5.575      0.000      -0.936      -0.437\n",
      "time                          4.6370      2.847      1.629      0.112      -1.127      10.401\n",
      "==============================================================================\n",
      "Omnibus:                       37.777   Durbin-Watson:                   2.246\n",
      "Prob(Omnibus):                  0.000   Jarque-Bera (JB):              120.271\n",
      "Skew:                           2.226   Prob(JB):                     7.65e-27\n",
      "Kurtosis:                       9.993   Cond. No.                     1.01e+04\n",
      "==============================================================================\n",
      "\n",
      "Notes:\n",
      "[1] Standard Errors assume that the covariance matrix of the errors is correctly specified.\n",
      "[2] The condition number is large, 1.01e+04. This might indicate that there are\n",
      "strong multicollinearity or other numerical problems.\n"
     ]
    }
   ],
   "source": [
    "lm = sm.OLS(endog=y_train_lm, exog=X_train_lm)\n",
    "\n",
    "lm_results = lm.fit()\n",
    "\n",
    "print(lm_results.summary())"
   ]
  },
  {
   "cell_type": "code",
   "execution_count": 29,
   "metadata": {},
   "outputs": [
    {
     "data": {
      "text/plain": [
       "as_of_date\n",
       "2021-01-26    4221.485842\n",
       "2021-02-02    4524.784232\n",
       "2021-02-09    4304.970015\n",
       "2021-02-16    4309.607024\n",
       "2021-02-23    4414.598743\n",
       "2021-03-02    4376.679251\n",
       "2021-03-09    4722.845999\n",
       "2021-03-16    4789.837541\n",
       "2021-03-23    4706.615967\n",
       "2021-03-30    4711.252976\n",
       "2021-04-06    4715.889986\n",
       "2021-04-13    4720.526995\n",
       "dtype: float64"
      ]
     },
     "execution_count": 29,
     "metadata": {},
     "output_type": "execute_result"
    }
   ],
   "source": [
    "lm_results.predict(X_test_lm)"
   ]
  },
  {
   "cell_type": "code",
   "execution_count": 30,
   "metadata": {},
   "outputs": [],
   "source": [
    "from sklearn.metrics import r2_score, mean_squared_error"
   ]
  },
  {
   "cell_type": "code",
   "execution_count": 31,
   "metadata": {},
   "outputs": [
    {
     "data": {
      "text/plain": [
       "0.7009987852477135"
      ]
     },
     "execution_count": 31,
     "metadata": {},
     "output_type": "execute_result"
    }
   ],
   "source": [
    "#R2 score\n",
    "r2_score(y_true=y_test_lm, y_pred=lm_results.predict(X_test_lm))"
   ]
  },
  {
   "cell_type": "code",
   "execution_count": 34,
   "metadata": {},
   "outputs": [
    {
     "data": {
      "text/plain": [
       "98.86643457091988"
      ]
     },
     "execution_count": 34,
     "metadata": {},
     "output_type": "execute_result"
    }
   ],
   "source": [
    "#RMSE - off by about 100 prisoner cases\n",
    "mean_squared_error(y_true=y_test_lm, y_pred=lm_results.predict(X_test_lm), squared=False)"
   ]
  },
  {
   "cell_type": "code",
   "execution_count": 35,
   "metadata": {},
   "outputs": [
    {
     "data": {
      "text/plain": [
       "''"
      ]
     },
     "execution_count": 35,
     "metadata": {},
     "output_type": "execute_result"
    },
    {
     "data": {
      "image/png": "[encoded data removed]",
      "text/plain": [
       "<Figure size 1440x720 with 1 Axes>"
      ]
     },
     "metadata": {
      "needs_background": "light"
     },
     "output_type": "display_data"
    }
   ],
   "source": [
    "# Let's plot our predictions! \n",
    "\n",
    "# Set figure size.\n",
    "plt.figure(figsize=(20,10))\n",
    "\n",
    "# Plot training data.\n",
    "plt.plot(y_train_lm.index, y_train_lm.values, color = 'blue')\n",
    "\n",
    "# Plot testing data.\n",
    "plt.plot(y_test_lm.index, y_test_lm.values, color = 'orange')\n",
    "\n",
    "# Plot predicted test values.\n",
    "plt.plot(lm_results.predict(X_test_lm), color = 'green')\n",
    "\n",
    "# Set label.\n",
    "plt.title(label = 'Forecasting Prisoner COVID-19 Cases in New Jersey (2020-2021)', fontsize=24)\n",
    "\n",
    "# Resize tick marks.\n",
    "plt.xticks(fontsize=15)\n",
    "plt.yticks(fontsize=15)\n",
    "\n",
    "plt.xticks(rotation = 90)\n",
    ";"
   ]
  },
  {
   "cell_type": "markdown",
   "metadata": {},
   "source": [
    "# Linear Time Series Model with 1 lag"
   ]
  },
  {
   "cell_type": "code",
   "execution_count": 36,
   "metadata": {},
   "outputs": [
    {
     "data": {
      "text/html": [
       "<div>\n",
       "<style scoped>\n",
       "    .dataframe tbody tr th:only-of-type {\n",
       "        vertical-align: middle;\n",
       "    }\n",
       "\n",
       "    .dataframe tbody tr th {\n",
       "        vertical-align: top;\n",
       "    }\n",
       "\n",
       "    .dataframe thead th {\n",
       "        text-align: right;\n",
       "    }\n",
       "</style>\n",
       "<table border=\"1\" class=\"dataframe\">\n",
       "  <thead>\n",
       "    <tr style=\"text-align: right;\">\n",
       "      <th></th>\n",
       "      <th>total_prisoner_cases</th>\n",
       "      <th>total_prisoner_cases_lag1</th>\n",
       "      <th>time</th>\n",
       "    </tr>\n",
       "    <tr>\n",
       "      <th>as_of_date</th>\n",
       "      <th></th>\n",
       "      <th></th>\n",
       "      <th></th>\n",
       "    </tr>\n",
       "  </thead>\n",
       "  <tbody>\n",
       "    <tr>\n",
       "      <th>2020-03-26</th>\n",
       "      <td>0.0</td>\n",
       "      <td>NaN</td>\n",
       "      <td>0</td>\n",
       "    </tr>\n",
       "    <tr>\n",
       "      <th>2020-04-01</th>\n",
       "      <td>0.0</td>\n",
       "      <td>0.0</td>\n",
       "      <td>1</td>\n",
       "    </tr>\n",
       "    <tr>\n",
       "      <th>2020-04-08</th>\n",
       "      <td>18.0</td>\n",
       "      <td>0.0</td>\n",
       "      <td>2</td>\n",
       "    </tr>\n",
       "    <tr>\n",
       "      <th>2020-04-15</th>\n",
       "      <td>50.0</td>\n",
       "      <td>18.0</td>\n",
       "      <td>3</td>\n",
       "    </tr>\n",
       "    <tr>\n",
       "      <th>2020-04-22</th>\n",
       "      <td>101.0</td>\n",
       "      <td>50.0</td>\n",
       "      <td>4</td>\n",
       "    </tr>\n",
       "  </tbody>\n",
       "</table>\n",
       "</div>"
      ],
      "text/plain": [
       "            total_prisoner_cases  total_prisoner_cases_lag1  time\n",
       "as_of_date                                                       \n",
       "2020-03-26                   0.0                        NaN     0\n",
       "2020-04-01                   0.0                        0.0     1\n",
       "2020-04-08                  18.0                        0.0     2\n",
       "2020-04-15                  50.0                       18.0     3\n",
       "2020-04-22                 101.0                       50.0     4"
      ]
     },
     "execution_count": 36,
     "metadata": {},
     "output_type": "execute_result"
    }
   ],
   "source": [
    "#choosing 1 lag\n",
    "New_Jersey_prisoner_cases.drop(columns=['total_prisoner_cases_lag2'], inplace = True)\n",
    "New_Jersey_prisoner_cases.head()"
   ]
  },
  {
   "cell_type": "code",
   "execution_count": 37,
   "metadata": {},
   "outputs": [],
   "source": [
    "# Train Test Split\n",
    "X_train, X_test, y_train, y_test = train_test_split(New_Jersey_prisoner_cases.drop(columns = 'total_prisoner_cases'),#using lagged data to model \n",
    "                                                   New_Jersey_prisoner_cases['total_prisoner_cases'],#seeking to predict prisoner cases \n",
    "                                                   test_size=.20, #trying to make the training set bigger\n",
    "                                                   shuffle = False) #turn shuff off to keep time linear"
   ]
  },
  {
   "cell_type": "code",
   "execution_count": 38,
   "metadata": {},
   "outputs": [
    {
     "name": "stdout",
     "output_type": "stream",
     "text": [
      "(44, 2)\n",
      "(12, 2)\n",
      "(44,)\n",
      "(12,)\n"
     ]
    }
   ],
   "source": [
    "# Check shape to confirm we did this properly.\n",
    "\n",
    "print(X_train.shape)\n",
    "print(X_test.shape)\n",
    "print(y_train.shape)\n",
    "print(y_test.shape)"
   ]
  },
  {
   "cell_type": "code",
   "execution_count": 39,
   "metadata": {},
   "outputs": [
    {
     "data": {
      "text/html": [
       "<div>\n",
       "<style scoped>\n",
       "    .dataframe tbody tr th:only-of-type {\n",
       "        vertical-align: middle;\n",
       "    }\n",
       "\n",
       "    .dataframe tbody tr th {\n",
       "        vertical-align: top;\n",
       "    }\n",
       "\n",
       "    .dataframe thead th {\n",
       "        text-align: right;\n",
       "    }\n",
       "</style>\n",
       "<table border=\"1\" class=\"dataframe\">\n",
       "  <thead>\n",
       "    <tr style=\"text-align: right;\">\n",
       "      <th></th>\n",
       "      <th>const</th>\n",
       "      <th>total_prisoner_cases_lag1</th>\n",
       "      <th>time</th>\n",
       "    </tr>\n",
       "    <tr>\n",
       "      <th>as_of_date</th>\n",
       "      <th></th>\n",
       "      <th></th>\n",
       "      <th></th>\n",
       "    </tr>\n",
       "  </thead>\n",
       "  <tbody>\n",
       "    <tr>\n",
       "      <th>2020-03-26</th>\n",
       "      <td>1.0</td>\n",
       "      <td>NaN</td>\n",
       "      <td>0</td>\n",
       "    </tr>\n",
       "    <tr>\n",
       "      <th>2020-04-01</th>\n",
       "      <td>1.0</td>\n",
       "      <td>0.0</td>\n",
       "      <td>1</td>\n",
       "    </tr>\n",
       "    <tr>\n",
       "      <th>2020-04-08</th>\n",
       "      <td>1.0</td>\n",
       "      <td>0.0</td>\n",
       "      <td>2</td>\n",
       "    </tr>\n",
       "    <tr>\n",
       "      <th>2020-04-15</th>\n",
       "      <td>1.0</td>\n",
       "      <td>18.0</td>\n",
       "      <td>3</td>\n",
       "    </tr>\n",
       "    <tr>\n",
       "      <th>2020-04-22</th>\n",
       "      <td>1.0</td>\n",
       "      <td>50.0</td>\n",
       "      <td>4</td>\n",
       "    </tr>\n",
       "  </tbody>\n",
       "</table>\n",
       "</div>"
      ],
      "text/plain": [
       "            const  total_prisoner_cases_lag1  time\n",
       "as_of_date                                        \n",
       "2020-03-26    1.0                        NaN     0\n",
       "2020-04-01    1.0                        0.0     1\n",
       "2020-04-08    1.0                        0.0     2\n",
       "2020-04-15    1.0                       18.0     3\n",
       "2020-04-22    1.0                       50.0     4"
      ]
     },
     "execution_count": 39,
     "metadata": {},
     "output_type": "execute_result"
    }
   ],
   "source": [
    "#adding contstant to the X_train and X_test sets\n",
    "X_train = sm.add_constant(X_train)\n",
    "X_test = sm.add_constant(X_test)\n",
    "\n",
    "# Confirm.\n",
    "X_train.head()"
   ]
  },
  {
   "cell_type": "code",
   "execution_count": 40,
   "metadata": {},
   "outputs": [],
   "source": [
    "# statsmodels won't be able to handle missing values.\n",
    "\n",
    "X_train.dropna(inplace=True)\n",
    "y_train = y_train[X_train.index] \n",
    "\n",
    "# This way we subset y_train to keep only indices from X_train."
   ]
  },
  {
   "cell_type": "code",
   "execution_count": 41,
   "metadata": {},
   "outputs": [
    {
     "data": {
      "text/plain": [
       "(43, 3)"
      ]
     },
     "execution_count": 41,
     "metadata": {},
     "output_type": "execute_result"
    }
   ],
   "source": [
    "X_train.shape"
   ]
  },
  {
   "cell_type": "code",
   "execution_count": 42,
   "metadata": {},
   "outputs": [],
   "source": [
    "lm1 = sm.OLS(endog=y_train, exog=X_train)"
   ]
  },
  {
   "cell_type": "code",
   "execution_count": 43,
   "metadata": {},
   "outputs": [],
   "source": [
    "lm1_results = lm1.fit()"
   ]
  },
  {
   "cell_type": "code",
   "execution_count": 44,
   "metadata": {},
   "outputs": [
    {
     "name": "stdout",
     "output_type": "stream",
     "text": [
      "                             OLS Regression Results                             \n",
      "================================================================================\n",
      "Dep. Variable:     total_prisoner_cases   R-squared:                       0.983\n",
      "Model:                              OLS   Adj. R-squared:                  0.983\n",
      "Method:                   Least Squares   F-statistic:                     1187.\n",
      "Date:                  Mon, 19 Apr 2021   Prob (F-statistic):           2.45e-36\n",
      "Time:                          10:50:26   Log-Likelihood:                -276.35\n",
      "No. Observations:                    43   AIC:                             558.7\n",
      "Df Residuals:                        40   BIC:                             564.0\n",
      "Df Model:                             2                                         \n",
      "Covariance Type:              nonrobust                                         \n",
      "=============================================================================================\n",
      "                                coef    std err          t      P>|t|      [0.025      0.975]\n",
      "---------------------------------------------------------------------------------------------\n",
      "const                       188.8526     53.347      3.540      0.001      81.035     296.670\n",
      "total_prisoner_cases_lag1     0.9561      0.038     25.053      0.000       0.879       1.033\n",
      "time                          0.4387      3.691      0.119      0.906      -7.020       7.898\n",
      "==============================================================================\n",
      "Omnibus:                       31.625   Durbin-Watson:                   0.690\n",
      "Prob(Omnibus):                  0.000   Jarque-Bera (JB):               70.347\n",
      "Skew:                           1.999   Prob(JB):                     5.30e-16\n",
      "Kurtosis:                       7.825   Cond. No.                     6.10e+03\n",
      "==============================================================================\n",
      "\n",
      "Notes:\n",
      "[1] Standard Errors assume that the covariance matrix of the errors is correctly specified.\n",
      "[2] The condition number is large, 6.1e+03. This might indicate that there are\n",
      "strong multicollinearity or other numerical problems.\n"
     ]
    }
   ],
   "source": [
    "print(lm1_results.summary())"
   ]
  },
  {
   "cell_type": "code",
   "execution_count": 45,
   "metadata": {},
   "outputs": [
    {
     "data": {
      "text/plain": [
       "as_of_date\n",
       "2021-01-26    3990.386482\n",
       "2021-02-02    4303.461454\n",
       "2021-02-09    4303.900198\n",
       "2021-02-16    4304.338942\n",
       "2021-02-23    4364.054280\n",
       "2021-03-02    4364.493024\n",
       "2021-03-09    4566.663401\n",
       "2021-03-16    4689.479629\n",
       "2021-03-23    4689.918373\n",
       "2021-03-30    4690.357117\n",
       "2021-04-06    4690.795861\n",
       "2021-04-13    4691.234605\n",
       "dtype: float64"
      ]
     },
     "execution_count": 45,
     "metadata": {},
     "output_type": "execute_result"
    }
   ],
   "source": [
    "lm1_results.predict(X_test)"
   ]
  },
  {
   "cell_type": "code",
   "execution_count": 46,
   "metadata": {},
   "outputs": [
    {
     "data": {
      "text/plain": [
       "0.6453090291459107"
      ]
     },
     "execution_count": 46,
     "metadata": {},
     "output_type": "execute_result"
    }
   ],
   "source": [
    "#R2 score\n",
    "r2_score(y_true=y_test, y_pred=lm1_results.predict(X_test))"
   ]
  },
  {
   "cell_type": "code",
   "execution_count": 47,
   "metadata": {},
   "outputs": [
    {
     "data": {
      "text/plain": [
       "107.68059895968528"
      ]
     },
     "execution_count": 47,
     "metadata": {},
     "output_type": "execute_result"
    }
   ],
   "source": [
    "#MSE - off by about 100 prisoner cases\n",
    "mean_squared_error(y_true=y_test, y_pred=lm1_results.predict(X_test), squared=False)"
   ]
  },
  {
   "cell_type": "code",
   "execution_count": 48,
   "metadata": {},
   "outputs": [
    {
     "data": {
      "text/plain": [
       "''"
      ]
     },
     "execution_count": 48,
     "metadata": {},
     "output_type": "execute_result"
    },
    {
     "data": {
      "image/png": "[encoded data removed]",
      "text/plain": [
       "<Figure size 1440x720 with 1 Axes>"
      ]
     },
     "metadata": {
      "needs_background": "light"
     },
     "output_type": "display_data"
    }
   ],
   "source": [
    "# Let's plot our predictions! \n",
    "\n",
    "# Set figure size.\n",
    "plt.figure(figsize=(20,10))\n",
    "\n",
    "# Plot training data.\n",
    "plt.plot(y_train.index, y_train.values, color = 'blue')\n",
    "\n",
    "# Plot testing data.\n",
    "plt.plot(y_test.index, y_test.values, color = 'orange')\n",
    "\n",
    "# Plot predicted test values.\n",
    "plt.plot(lm1_results.predict(X_test), color = 'green')\n",
    "\n",
    "# Set label.\n",
    "plt.title(label = 'Forecasting Prisoner COVID-19 Cases in New Jersey (2020-2021)', fontsize=24)\n",
    "\n",
    "# Resize tick marks.\n",
    "plt.xticks(fontsize=15)\n",
    "plt.yticks(fontsize=15)\n",
    "\n",
    "plt.xticks(rotation = 90)\n",
    ";"
   ]
  },
  {
   "cell_type": "markdown",
   "metadata": {},
   "source": [
    "# ARIMA Model"
   ]
  },
  {
   "cell_type": "markdown",
   "metadata": {},
   "source": [
    "**ARIMA Modeling:**\n",
    "\n",
    "   ARIMA models are able to handle moderately sized datasets with both long term data and data that has sudden changes. We can easily extend it to a more complex model if we want. The downside to this is that we can only predict in the short term. Since COVID-related data is only about 1 year old, we (hopefully) won't be forecasting for very far into the future, however if prison-related COVID-19 cases grow more rapidly than the general population, forecasting cases in each state may be helpful in vaccine distribution.\n",
    "    \n",
    "   For this ARIMA model we will use AIC (Akaike Information Criterion, an attribute in statsmodels) to evaluate.\n",
    "   \n",
    "We will test the data for stationarity, then difference. [\"A time series has stationarity if a shift in time doesn’t cause a change in the shape of the distribution. Basic properties of the distribution like the mean , variance and covariance are constant over time.\"](https://www.statisticshowto.com/stationarity/)"
   ]
  },
  {
   "cell_type": "code",
   "execution_count": 49,
   "metadata": {},
   "outputs": [],
   "source": [
    "nj_diff = pd.DataFrame(New_Jersey_df['total_prisoner_cases'])"
   ]
  },
  {
   "cell_type": "code",
   "execution_count": 50,
   "metadata": {},
   "outputs": [
    {
     "data": {
      "text/html": [
       "<div>\n",
       "<style scoped>\n",
       "    .dataframe tbody tr th:only-of-type {\n",
       "        vertical-align: middle;\n",
       "    }\n",
       "\n",
       "    .dataframe tbody tr th {\n",
       "        vertical-align: top;\n",
       "    }\n",
       "\n",
       "    .dataframe thead th {\n",
       "        text-align: right;\n",
       "    }\n",
       "</style>\n",
       "<table border=\"1\" class=\"dataframe\">\n",
       "  <thead>\n",
       "    <tr style=\"text-align: right;\">\n",
       "      <th></th>\n",
       "      <th>total_prisoner_cases</th>\n",
       "    </tr>\n",
       "    <tr>\n",
       "      <th>as_of_date</th>\n",
       "      <th></th>\n",
       "    </tr>\n",
       "  </thead>\n",
       "  <tbody>\n",
       "    <tr>\n",
       "      <th>2020-03-26</th>\n",
       "      <td>0.0</td>\n",
       "    </tr>\n",
       "    <tr>\n",
       "      <th>2020-04-01</th>\n",
       "      <td>0.0</td>\n",
       "    </tr>\n",
       "    <tr>\n",
       "      <th>2020-04-08</th>\n",
       "      <td>18.0</td>\n",
       "    </tr>\n",
       "    <tr>\n",
       "      <th>2020-04-15</th>\n",
       "      <td>50.0</td>\n",
       "    </tr>\n",
       "    <tr>\n",
       "      <th>2020-04-22</th>\n",
       "      <td>101.0</td>\n",
       "    </tr>\n",
       "  </tbody>\n",
       "</table>\n",
       "</div>"
      ],
      "text/plain": [
       "            total_prisoner_cases\n",
       "as_of_date                      \n",
       "2020-03-26                   0.0\n",
       "2020-04-01                   0.0\n",
       "2020-04-08                  18.0\n",
       "2020-04-15                  50.0\n",
       "2020-04-22                 101.0"
      ]
     },
     "execution_count": 50,
     "metadata": {},
     "output_type": "execute_result"
    }
   ],
   "source": [
    "nj_diff.head()"
   ]
  },
  {
   "cell_type": "code",
   "execution_count": 51,
   "metadata": {},
   "outputs": [],
   "source": [
    "#Aggregate data to weekly because the ARIMA model needs correct frequency\n",
    "nj_diff = nj_diff.resample('W').sum()"
   ]
  },
  {
   "cell_type": "code",
   "execution_count": 52,
   "metadata": {},
   "outputs": [],
   "source": [
    "nj_diff['first_diff_total_prisoner_cases'] = nj_diff['total_prisoner_cases'].diff()\n",
    "nj_diff['sec_diff_total_prisoner_cases'] = nj_diff['total_prisoner_cases'].diff(1).diff(1)\n",
    "nj_diff['time'] = range(0, nj_diff.shape[0])"
   ]
  },
  {
   "cell_type": "code",
   "execution_count": 53,
   "metadata": {},
   "outputs": [
    {
     "data": {
      "text/html": [
       "<div>\n",
       "<style scoped>\n",
       "    .dataframe tbody tr th:only-of-type {\n",
       "        vertical-align: middle;\n",
       "    }\n",
       "\n",
       "    .dataframe tbody tr th {\n",
       "        vertical-align: top;\n",
       "    }\n",
       "\n",
       "    .dataframe thead th {\n",
       "        text-align: right;\n",
       "    }\n",
       "</style>\n",
       "<table border=\"1\" class=\"dataframe\">\n",
       "  <thead>\n",
       "    <tr style=\"text-align: right;\">\n",
       "      <th></th>\n",
       "      <th>total_prisoner_cases</th>\n",
       "      <th>first_diff_total_prisoner_cases</th>\n",
       "      <th>sec_diff_total_prisoner_cases</th>\n",
       "      <th>time</th>\n",
       "    </tr>\n",
       "    <tr>\n",
       "      <th>as_of_date</th>\n",
       "      <th></th>\n",
       "      <th></th>\n",
       "      <th></th>\n",
       "      <th></th>\n",
       "    </tr>\n",
       "  </thead>\n",
       "  <tbody>\n",
       "    <tr>\n",
       "      <th>2020-03-29</th>\n",
       "      <td>0.0</td>\n",
       "      <td>NaN</td>\n",
       "      <td>NaN</td>\n",
       "      <td>0</td>\n",
       "    </tr>\n",
       "    <tr>\n",
       "      <th>2020-04-05</th>\n",
       "      <td>0.0</td>\n",
       "      <td>0.0</td>\n",
       "      <td>NaN</td>\n",
       "      <td>1</td>\n",
       "    </tr>\n",
       "    <tr>\n",
       "      <th>2020-04-12</th>\n",
       "      <td>18.0</td>\n",
       "      <td>18.0</td>\n",
       "      <td>18.0</td>\n",
       "      <td>2</td>\n",
       "    </tr>\n",
       "    <tr>\n",
       "      <th>2020-04-19</th>\n",
       "      <td>50.0</td>\n",
       "      <td>32.0</td>\n",
       "      <td>14.0</td>\n",
       "      <td>3</td>\n",
       "    </tr>\n",
       "    <tr>\n",
       "      <th>2020-04-26</th>\n",
       "      <td>101.0</td>\n",
       "      <td>51.0</td>\n",
       "      <td>19.0</td>\n",
       "      <td>4</td>\n",
       "    </tr>\n",
       "    <tr>\n",
       "      <th>2020-05-03</th>\n",
       "      <td>153.0</td>\n",
       "      <td>52.0</td>\n",
       "      <td>1.0</td>\n",
       "      <td>5</td>\n",
       "    </tr>\n",
       "    <tr>\n",
       "      <th>2020-05-10</th>\n",
       "      <td>215.0</td>\n",
       "      <td>62.0</td>\n",
       "      <td>10.0</td>\n",
       "      <td>6</td>\n",
       "    </tr>\n",
       "    <tr>\n",
       "      <th>2020-05-17</th>\n",
       "      <td>538.0</td>\n",
       "      <td>323.0</td>\n",
       "      <td>261.0</td>\n",
       "      <td>7</td>\n",
       "    </tr>\n",
       "    <tr>\n",
       "      <th>2020-05-24</th>\n",
       "      <td>830.0</td>\n",
       "      <td>292.0</td>\n",
       "      <td>-31.0</td>\n",
       "      <td>8</td>\n",
       "    </tr>\n",
       "    <tr>\n",
       "      <th>2020-05-31</th>\n",
       "      <td>1592.0</td>\n",
       "      <td>762.0</td>\n",
       "      <td>470.0</td>\n",
       "      <td>9</td>\n",
       "    </tr>\n",
       "  </tbody>\n",
       "</table>\n",
       "</div>"
      ],
      "text/plain": [
       "            total_prisoner_cases  first_diff_total_prisoner_cases  \\\n",
       "as_of_date                                                          \n",
       "2020-03-29                   0.0                              NaN   \n",
       "2020-04-05                   0.0                              0.0   \n",
       "2020-04-12                  18.0                             18.0   \n",
       "2020-04-19                  50.0                             32.0   \n",
       "2020-04-26                 101.0                             51.0   \n",
       "2020-05-03                 153.0                             52.0   \n",
       "2020-05-10                 215.0                             62.0   \n",
       "2020-05-17                 538.0                            323.0   \n",
       "2020-05-24                 830.0                            292.0   \n",
       "2020-05-31                1592.0                            762.0   \n",
       "\n",
       "            sec_diff_total_prisoner_cases  time  \n",
       "as_of_date                                       \n",
       "2020-03-29                            NaN     0  \n",
       "2020-04-05                            NaN     1  \n",
       "2020-04-12                           18.0     2  \n",
       "2020-04-19                           14.0     3  \n",
       "2020-04-26                           19.0     4  \n",
       "2020-05-03                            1.0     5  \n",
       "2020-05-10                           10.0     6  \n",
       "2020-05-17                          261.0     7  \n",
       "2020-05-24                          -31.0     8  \n",
       "2020-05-31                          470.0     9  "
      ]
     },
     "execution_count": 53,
     "metadata": {},
     "output_type": "execute_result"
    }
   ],
   "source": [
    "nj_diff.head(10)"
   ]
  },
  {
   "cell_type": "markdown",
   "metadata": {},
   "source": [
    "\n",
    "*from DSIR-Lancelot/10.03-lesson-ARIMA*\n",
    "\n",
    "Checking for Stationarity: the Augmented Dickey-Fuller Test\n",
    "The augmented Dickey-Fuller test is a hypothesis test that tests for stationarity. We assume that our data are not stationary. With enough evidence, we may accept that our data are stationary.\n",
    "\n",
    "Specifically, the test is as follows:\n",
    "\n",
    "$$\n",
    "\\begin{eqnarray}\n",
    "&H_0&:\\text{not stationary} \\\\\n",
    "&H_A&: \\text{stationary}\n",
    "\\end{eqnarray}\n",
    "$$"
   ]
  },
  {
   "cell_type": "code",
   "execution_count": 54,
   "metadata": {},
   "outputs": [],
   "source": [
    "# Import Augmented Dickey-Fuller test.\n",
    "from statsmodels.tsa.stattools import adfuller"
   ]
  },
  {
   "cell_type": "code",
   "execution_count": 55,
   "metadata": {},
   "outputs": [
    {
     "data": {
      "text/plain": [
       "Test Statistic   -2.142108\n",
       "p-value           0.227923\n",
       "dtype: float64"
      ]
     },
     "execution_count": 55,
     "metadata": {},
     "output_type": "execute_result"
    }
   ],
   "source": [
    "# Code written by Joseph Nelson.\n",
    "\n",
    "def interpret_dftest(dftest):\n",
    "    dfoutput = pd.Series(dftest[0:2], index=['Test Statistic','p-value'])\n",
    "    return dfoutput\n",
    "# Run ADF test on original (non-differenced!) data.\n",
    "interpret_dftest(adfuller(nj_diff['total_prisoner_cases']))"
   ]
  },
  {
   "cell_type": "markdown",
   "metadata": {},
   "source": [
    "**The p-value is above .05, we can conclude that the data is stationary - therefore we will NOT difference**"
   ]
  },
  {
   "cell_type": "code",
   "execution_count": 56,
   "metadata": {},
   "outputs": [],
   "source": [
    "# interpret_dftest(adfuller(nj_diff['first_diff_total_prisoner_cases'].dropna()))"
   ]
  },
  {
   "cell_type": "code",
   "execution_count": 57,
   "metadata": {},
   "outputs": [],
   "source": [
    "#lets drop the second differenced column\n",
    "nj_diff.drop(columns=['first_diff_total_prisoner_cases','sec_diff_total_prisoner_cases'], inplace=True)"
   ]
  },
  {
   "cell_type": "code",
   "execution_count": 58,
   "metadata": {},
   "outputs": [],
   "source": [
    "# Train Test Split - it is univariate, so we don't need to create the Xtrain/Xtest\n",
    "y_train, y_test = train_test_split(nj_diff['total_prisoner_cases'],\n",
    "                                   test_size=.1, #trying to make the training set bigger\n",
    "                                   shuffle = False) #turn shuff off to keep time linear"
   ]
  },
  {
   "cell_type": "code",
   "execution_count": 57,
   "metadata": {},
   "outputs": [],
   "source": [
    "# nj_diff['first_diff_total_prisoner_cases']"
   ]
  },
  {
   "cell_type": "markdown",
   "metadata": {},
   "source": [
    "*from DSIR-Lancelot/10.03-lesson-ARIMA*\n",
    "\n",
    "**There are three hyperparameters when fitting an ARIMA model.**\n",
    "\n",
    "**Determine a value of $d$ using the Augmented Dickey-Fuller test.**\n",
    "\n",
    "**Then, determine values of $p$ and $q$ through GridSearching.**\n",
    "\n",
    "**An $ARIMA(p, d, q)$ model is specified by:**\n",
    "\n",
    "**how many differences $d$ we need to calculate in order to achieve stationarity**\n",
    "\n",
    "**how many lags $p$ we regress $Y_t^{(d)}$ on.**\n",
    "\n",
    "**how many errors $q$ we regress $Y_t^{(d)}$ on.**"
   ]
  },
  {
   "cell_type": "markdown",
   "metadata": {},
   "source": [
    "$p$ = lags\n",
    "\n",
    "$d$ = differences\n",
    "\n",
    "$q$ = errors "
   ]
  },
  {
   "cell_type": "code",
   "execution_count": 59,
   "metadata": {},
   "outputs": [
    {
     "name": "stderr",
     "output_type": "stream",
     "text": [
      "/Users/merylduff/opt/anaconda3/lib/python3.8/site-packages/statsmodels/tsa/arima_model.py:472: FutureWarning: \n",
      "statsmodels.tsa.arima_model.ARMA and statsmodels.tsa.arima_model.ARIMA have\n",
      "been deprecated in favor of statsmodels.tsa.arima.model.ARIMA (note the .\n",
      "between arima and model) and\n",
      "statsmodels.tsa.SARIMAX. These will be removed after the 0.12 release.\n",
      "\n",
      "statsmodels.tsa.arima.model.ARIMA makes use of the statespace framework and\n",
      "is both well tested and maintained.\n",
      "\n",
      "To silence this warning and continue using ARMA and ARIMA until they are\n",
      "removed, use:\n",
      "\n",
      "import warnings\n",
      "warnings.filterwarnings('ignore', 'statsmodels.tsa.arima_model.ARMA',\n",
      "                        FutureWarning)\n",
      "warnings.filterwarnings('ignore', 'statsmodels.tsa.arima_model.ARIMA',\n",
      "                        FutureWarning)\n",
      "\n",
      "  warnings.warn(ARIMA_DEPRECATION_WARN, FutureWarning)\n"
     ]
    }
   ],
   "source": [
    "# Instantiate best model.\n",
    "model = ARIMA(endog = y_train.dropna(), # endog = Y variable\n",
    "              order = (1,0,3))\n",
    "\n",
    "# Fit ARIMA model.\n",
    "arima = model.fit()"
   ]
  },
  {
   "cell_type": "code",
   "execution_count": 60,
   "metadata": {},
   "outputs": [],
   "source": [
    "# Generate predictions based on test set.\n",
    "preds = arima.predict(start = y_test.index[0],\n",
    "                      end = y_test.index[-1])"
   ]
  },
  {
   "cell_type": "code",
   "execution_count": 61,
   "metadata": {},
   "outputs": [
    {
     "data": {
      "text/plain": [
       "31.01188828718059"
      ]
     },
     "execution_count": 61,
     "metadata": {},
     "output_type": "execute_result"
    }
   ],
   "source": [
    "mean_squared_error(y_test,preds, squared=False)"
   ]
  },
  {
   "cell_type": "code",
   "execution_count": 62,
   "metadata": {},
   "outputs": [
    {
     "data": {
      "text/plain": [
       "0.0"
      ]
     },
     "execution_count": 62,
     "metadata": {},
     "output_type": "execute_result"
    }
   ],
   "source": [
    "r2_score(y_true=y_test, y_pred=preds)"
   ]
  },
  {
   "cell_type": "markdown",
   "metadata": {},
   "source": [
    "### The ARIMA Model was not useful in predicting future COVID-19 cases"
   ]
  },
  {
   "cell_type": "markdown",
   "metadata": {},
   "source": [
    "# Generating our Predictions"
   ]
  },
  {
   "cell_type": "code",
   "execution_count": 94,
   "metadata": {},
   "outputs": [
    {
     "data": {
      "text/html": [
       "<div>\n",
       "<style scoped>\n",
       "    .dataframe tbody tr th:only-of-type {\n",
       "        vertical-align: middle;\n",
       "    }\n",
       "\n",
       "    .dataframe tbody tr th {\n",
       "        vertical-align: top;\n",
       "    }\n",
       "\n",
       "    .dataframe thead th {\n",
       "        text-align: right;\n",
       "    }\n",
       "</style>\n",
       "<table border=\"1\" class=\"dataframe\">\n",
       "  <thead>\n",
       "    <tr style=\"text-align: right;\">\n",
       "      <th></th>\n",
       "      <th>const</th>\n",
       "      <th>total_prisoner_cases_lag1</th>\n",
       "      <th>time</th>\n",
       "    </tr>\n",
       "    <tr>\n",
       "      <th>as_of_date</th>\n",
       "      <th></th>\n",
       "      <th></th>\n",
       "      <th></th>\n",
       "    </tr>\n",
       "  </thead>\n",
       "  <tbody>\n",
       "    <tr>\n",
       "      <th>2021-03-16</th>\n",
       "      <td>1.0</td>\n",
       "      <td>4684.0</td>\n",
       "      <td>51</td>\n",
       "    </tr>\n",
       "    <tr>\n",
       "      <th>2021-03-23</th>\n",
       "      <td>1.0</td>\n",
       "      <td>4684.0</td>\n",
       "      <td>52</td>\n",
       "    </tr>\n",
       "    <tr>\n",
       "      <th>2021-03-30</th>\n",
       "      <td>1.0</td>\n",
       "      <td>4684.0</td>\n",
       "      <td>53</td>\n",
       "    </tr>\n",
       "    <tr>\n",
       "      <th>2021-04-06</th>\n",
       "      <td>1.0</td>\n",
       "      <td>4684.0</td>\n",
       "      <td>54</td>\n",
       "    </tr>\n",
       "    <tr>\n",
       "      <th>2021-04-13</th>\n",
       "      <td>1.0</td>\n",
       "      <td>4684.0</td>\n",
       "      <td>55</td>\n",
       "    </tr>\n",
       "  </tbody>\n",
       "</table>\n",
       "</div>"
      ],
      "text/plain": [
       "            const  total_prisoner_cases_lag1  time\n",
       "as_of_date                                        \n",
       "2021-03-16    1.0                     4684.0    51\n",
       "2021-03-23    1.0                     4684.0    52\n",
       "2021-03-30    1.0                     4684.0    53\n",
       "2021-04-06    1.0                     4684.0    54\n",
       "2021-04-13    1.0                     4684.0    55"
      ]
     },
     "execution_count": 94,
     "metadata": {},
     "output_type": "execute_result"
    }
   ],
   "source": [
    "#getting the data from the last record in the X_test\n",
    "X_test.tail()"
   ]
  },
  {
   "cell_type": "code",
   "execution_count": 146,
   "metadata": {},
   "outputs": [],
   "source": [
    "#creating a new dataframe with next date to predict\n",
    "\n",
    "xnew = pd.DataFrame(X_test_lm.loc['2021-04-13']).T\n",
    "xnew['as_of_date'] = pd.to_datetime('2021-04-20')"
   ]
  },
  {
   "cell_type": "code",
   "execution_count": 147,
   "metadata": {},
   "outputs": [
    {
     "data": {
      "text/plain": [
       "const                        float64\n",
       "total_prisoner_cases_lag1    float64\n",
       "total_prisoner_cases_lag2    float64\n",
       "time                           int64\n",
       "dtype: object"
      ]
     },
     "execution_count": 147,
     "metadata": {},
     "output_type": "execute_result"
    }
   ],
   "source": [
    "#setting the index to as of date, and replacing time with next in series. \n",
    "#We do not have any changing data from the last few weeks, so it will stay at 4684\n",
    "\n",
    "xnew.set_index('as_of_date')\n",
    "xnew['time']=56\n",
    "xnew.set_index('as_of_date', inplace=True)\n",
    "xnew.dtypes"
   ]
  },
  {
   "cell_type": "code",
   "execution_count": 148,
   "metadata": {},
   "outputs": [
    {
     "data": {
      "text/plain": [
       "as_of_date\n",
       "2021-04-20    4725.164005\n",
       "dtype: float64"
      ]
     },
     "execution_count": 148,
     "metadata": {},
     "output_type": "execute_result"
    }
   ],
   "source": [
    "lm_results.predict(xnew)"
   ]
  },
  {
   "cell_type": "markdown",
   "metadata": {},
   "source": [
    "# Our model is predicting about 4,725 total cases in New Jersey Prisons by Tuesday, April 20th, 2021. This is an increase of 41, or .87%."
   ]
  }
 ],
 "metadata": {
  "kernelspec": {
   "display_name": "Python 3",
   "language": "python",
   "name": "python3"
  },
  "language_info": {
   "codemirror_mode": {
    "name": "ipython",
    "version": 3
   },
   "file_extension": ".py",
   "mimetype": "text/x-python",
   "name": "python",
   "nbconvert_exporter": "python",
   "pygments_lexer": "ipython3",
   "version": "3.8.5"
  }
 },
 "nbformat": 4,
 "nbformat_minor": 4
}
