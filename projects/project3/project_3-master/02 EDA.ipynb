{
 "cells": [
  {
   "cell_type": "code",
   "execution_count": 128,
   "metadata": {},
   "outputs": [],
   "source": [
    "import numpy as np\n",
    "import pandas as pd \n",
    "import matplotlib.pyplot as plt\n",
    "import seaborn as sns \n",
    "from nltk.sentiment.vader import SentimentIntensityAnalyzer\n",
    "\n",
    "# Import CountVectorizer and TFIDFVectorizer from feature_extraction.text.\n",
    "from sklearn.feature_extraction.text import CountVectorizer"
   ]
  },
  {
   "cell_type": "markdown",
   "metadata": {},
   "source": [
    "##### reading in the scraped data"
   ]
  },
  {
   "cell_type": "code",
   "execution_count": 44,
   "metadata": {},
   "outputs": [],
   "source": [
    "conspiracy = pd.read_csv('./data/conspiracy_dataset.csv')\n",
    "qanoncas= pd.read_csv('./data/QAnonCasualties_dataset.csv')"
   ]
  },
  {
   "cell_type": "markdown",
   "metadata": {},
   "source": [
    "##### checking the shape, and pulling the columns we need for analysis"
   ]
  },
  {
   "cell_type": "markdown",
   "metadata": {},
   "source": [
    "#### 'conspiracy' subreddit data"
   ]
  },
  {
   "cell_type": "code",
   "execution_count": 45,
   "metadata": {},
   "outputs": [
    {
     "data": {
      "text/plain": [
       "(2000, 79)"
      ]
     },
     "execution_count": 45,
     "metadata": {},
     "output_type": "execute_result"
    }
   ],
   "source": [
    "conspiracy.shape"
   ]
  },
  {
   "cell_type": "code",
   "execution_count": 46,
   "metadata": {},
   "outputs": [],
   "source": [
    "conspiracy = conspiracy[['title','selftext','subreddit']]"
   ]
  },
  {
   "cell_type": "markdown",
   "metadata": {},
   "source": [
    "#### 'QanonCasualties' subreddit data"
   ]
  },
  {
   "cell_type": "code",
   "execution_count": 47,
   "metadata": {},
   "outputs": [
    {
     "data": {
      "text/plain": [
       "(2000, 82)"
      ]
     },
     "execution_count": 47,
     "metadata": {},
     "output_type": "execute_result"
    }
   ],
   "source": [
    "qanoncas.shape"
   ]
  },
  {
   "cell_type": "code",
   "execution_count": 48,
   "metadata": {},
   "outputs": [],
   "source": [
    "qanoncas = qanoncas[['title','selftext','subreddit']]"
   ]
  },
  {
   "cell_type": "markdown",
   "metadata": {},
   "source": [
    "##### Concatenating both datasets into one"
   ]
  },
  {
   "cell_type": "code",
   "execution_count": 90,
   "metadata": {},
   "outputs": [],
   "source": [
    "qcas_con = pd.concat([conspiracy,qanoncas])"
   ]
  },
  {
   "cell_type": "code",
   "execution_count": 91,
   "metadata": {},
   "outputs": [
    {
     "data": {
      "text/html": [
       "<div>\n",
       "<style scoped>\n",
       "    .dataframe tbody tr th:only-of-type {\n",
       "        vertical-align: middle;\n",
       "    }\n",
       "\n",
       "    .dataframe tbody tr th {\n",
       "        vertical-align: top;\n",
       "    }\n",
       "\n",
       "    .dataframe thead th {\n",
       "        text-align: right;\n",
       "    }\n",
       "</style>\n",
       "<table border=\"1\" class=\"dataframe\">\n",
       "  <thead>\n",
       "    <tr style=\"text-align: right;\">\n",
       "      <th></th>\n",
       "      <th>title</th>\n",
       "      <th>selftext</th>\n",
       "      <th>subreddit</th>\n",
       "    </tr>\n",
       "  </thead>\n",
       "  <tbody>\n",
       "    <tr>\n",
       "      <th>0</th>\n",
       "      <td>Does tictock listen to you?</td>\n",
       "      <td>I’m not no expert on conspiracy theories but I...</td>\n",
       "      <td>conspiracy</td>\n",
       "    </tr>\n",
       "    <tr>\n",
       "      <th>1</th>\n",
       "      <td>Dr Seuss.. Looks like everyone is running with...</td>\n",
       "      <td>Seems some sort of cryptic messaging .. I dont...</td>\n",
       "      <td>conspiracy</td>\n",
       "    </tr>\n",
       "    <tr>\n",
       "      <th>2</th>\n",
       "      <td>Why Catholics thrive in the CIA. - Catholic He...</td>\n",
       "      <td>https://saidit.net/s/Jesuits/comments/70a1/why...</td>\n",
       "      <td>conspiracy</td>\n",
       "    </tr>\n",
       "    <tr>\n",
       "      <th>3</th>\n",
       "      <td>Sumerian texts speak of ancient kings and a my...</td>\n",
       "      <td>NaN</td>\n",
       "      <td>conspiracy</td>\n",
       "    </tr>\n",
       "    <tr>\n",
       "      <th>4</th>\n",
       "      <td>Sumerian texts ppeak of ancient kings and a my...</td>\n",
       "      <td>[deleted]</td>\n",
       "      <td>conspiracy</td>\n",
       "    </tr>\n",
       "  </tbody>\n",
       "</table>\n",
       "</div>"
      ],
      "text/plain": [
       "                                               title  \\\n",
       "0                        Does tictock listen to you?   \n",
       "1  Dr Seuss.. Looks like everyone is running with...   \n",
       "2  Why Catholics thrive in the CIA. - Catholic He...   \n",
       "3  Sumerian texts speak of ancient kings and a my...   \n",
       "4  Sumerian texts ppeak of ancient kings and a my...   \n",
       "\n",
       "                                            selftext   subreddit  \n",
       "0  I’m not no expert on conspiracy theories but I...  conspiracy  \n",
       "1  Seems some sort of cryptic messaging .. I dont...  conspiracy  \n",
       "2  https://saidit.net/s/Jesuits/comments/70a1/why...  conspiracy  \n",
       "3                                                NaN  conspiracy  \n",
       "4                                          [deleted]  conspiracy  "
      ]
     },
     "execution_count": 91,
     "metadata": {},
     "output_type": "execute_result"
    }
   ],
   "source": [
    "qcas_con.head()"
   ]
  },
  {
   "cell_type": "code",
   "execution_count": 92,
   "metadata": {},
   "outputs": [
    {
     "data": {
      "text/html": [
       "<div>\n",
       "<style scoped>\n",
       "    .dataframe tbody tr th:only-of-type {\n",
       "        vertical-align: middle;\n",
       "    }\n",
       "\n",
       "    .dataframe tbody tr th {\n",
       "        vertical-align: top;\n",
       "    }\n",
       "\n",
       "    .dataframe thead th {\n",
       "        text-align: right;\n",
       "    }\n",
       "</style>\n",
       "<table border=\"1\" class=\"dataframe\">\n",
       "  <thead>\n",
       "    <tr style=\"text-align: right;\">\n",
       "      <th></th>\n",
       "      <th>title</th>\n",
       "      <th>selftext</th>\n",
       "      <th>subreddit</th>\n",
       "    </tr>\n",
       "  </thead>\n",
       "  <tbody>\n",
       "    <tr>\n",
       "      <th>326</th>\n",
       "      <td>free $200 amazon gift card v2-sol only for us,...</td>\n",
       "      <td>[removed]</td>\n",
       "      <td>conspiracy</td>\n",
       "    </tr>\n",
       "    <tr>\n",
       "      <th>577</th>\n",
       "      <td>free $200 amazon gift card v2-sol only for us,...</td>\n",
       "      <td>[removed]</td>\n",
       "      <td>conspiracy</td>\n",
       "    </tr>\n",
       "    <tr>\n",
       "      <th>607</th>\n",
       "      <td>free $200 amazon gift card v2-sol only for us,...</td>\n",
       "      <td>[removed]</td>\n",
       "      <td>conspiracy</td>\n",
       "    </tr>\n",
       "    <tr>\n",
       "      <th>609</th>\n",
       "      <td>free $200 amazon gift card v2-sol only for us,...</td>\n",
       "      <td>[removed]</td>\n",
       "      <td>conspiracy</td>\n",
       "    </tr>\n",
       "    <tr>\n",
       "      <th>1406</th>\n",
       "      <td>100% Guaranty get free amazon gift card.</td>\n",
       "      <td>[removed]</td>\n",
       "      <td>QAnonCasualties</td>\n",
       "    </tr>\n",
       "    <tr>\n",
       "      <th>1484</th>\n",
       "      <td>100% Free $200 Amazon gift card Get free amazo...</td>\n",
       "      <td>[removed]</td>\n",
       "      <td>QAnonCasualties</td>\n",
       "    </tr>\n",
       "    <tr>\n",
       "      <th>1593</th>\n",
       "      <td>Earn Free Amazon Gift Cards &amp;amp; Codes Legall...</td>\n",
       "      <td>[removed]</td>\n",
       "      <td>QAnonCasualties</td>\n",
       "    </tr>\n",
       "    <tr>\n",
       "      <th>1704</th>\n",
       "      <td>100% Guaranty get free amazon gift card.</td>\n",
       "      <td>[removed]</td>\n",
       "      <td>QAnonCasualties</td>\n",
       "    </tr>\n",
       "  </tbody>\n",
       "</table>\n",
       "</div>"
      ],
      "text/plain": [
       "                                                  title   selftext  \\\n",
       "326   free $200 amazon gift card v2-sol only for us,...  [removed]   \n",
       "577   free $200 amazon gift card v2-sol only for us,...  [removed]   \n",
       "607   free $200 amazon gift card v2-sol only for us,...  [removed]   \n",
       "609   free $200 amazon gift card v2-sol only for us,...  [removed]   \n",
       "1406           100% Guaranty get free amazon gift card.  [removed]   \n",
       "1484  100% Free $200 Amazon gift card Get free amazo...  [removed]   \n",
       "1593  Earn Free Amazon Gift Cards &amp; Codes Legall...  [removed]   \n",
       "1704           100% Guaranty get free amazon gift card.  [removed]   \n",
       "\n",
       "            subreddit  \n",
       "326        conspiracy  \n",
       "577        conspiracy  \n",
       "607        conspiracy  \n",
       "609        conspiracy  \n",
       "1406  QAnonCasualties  \n",
       "1484  QAnonCasualties  \n",
       "1593  QAnonCasualties  \n",
       "1704  QAnonCasualties  "
      ]
     },
     "execution_count": 92,
     "metadata": {},
     "output_type": "execute_result"
    }
   ],
   "source": [
    "#found some spam during EDA and removing now\n",
    "qcas_con[qcas_con['title'].str.contains('amazon')].head(25)"
   ]
  },
  {
   "cell_type": "code",
   "execution_count": 93,
   "metadata": {},
   "outputs": [],
   "source": [
    "qcas_con.drop([326,577, 607, 609,718, 1406, 1484, 1593,1486,1704,1743,1781], inplace=True)"
   ]
  },
  {
   "cell_type": "code",
   "execution_count": 94,
   "metadata": {},
   "outputs": [
    {
     "data": {
      "text/html": [
       "<div>\n",
       "<style scoped>\n",
       "    .dataframe tbody tr th:only-of-type {\n",
       "        vertical-align: middle;\n",
       "    }\n",
       "\n",
       "    .dataframe tbody tr th {\n",
       "        vertical-align: top;\n",
       "    }\n",
       "\n",
       "    .dataframe thead th {\n",
       "        text-align: right;\n",
       "    }\n",
       "</style>\n",
       "<table border=\"1\" class=\"dataframe\">\n",
       "  <thead>\n",
       "    <tr style=\"text-align: right;\">\n",
       "      <th></th>\n",
       "      <th>title</th>\n",
       "      <th>selftext</th>\n",
       "      <th>subreddit</th>\n",
       "    </tr>\n",
       "  </thead>\n",
       "  <tbody>\n",
       "  </tbody>\n",
       "</table>\n",
       "</div>"
      ],
      "text/plain": [
       "Empty DataFrame\n",
       "Columns: [title, selftext, subreddit]\n",
       "Index: []"
      ]
     },
     "execution_count": 94,
     "metadata": {},
     "output_type": "execute_result"
    }
   ],
   "source": [
    "#Checking my work\n",
    "qcas_con[qcas_con['title'].str.contains('Gift')]"
   ]
  },
  {
   "cell_type": "markdown",
   "metadata": {},
   "source": [
    "##### Exporting total dataset to csv"
   ]
  },
  {
   "cell_type": "code",
   "execution_count": 95,
   "metadata": {},
   "outputs": [],
   "source": [
    "qcas_con.to_csv('./data/total.csv')"
   ]
  },
  {
   "cell_type": "code",
   "execution_count": 96,
   "metadata": {},
   "outputs": [],
   "source": [
    "qcas_con.reset_index(drop=True, inplace=True)"
   ]
  },
  {
   "cell_type": "code",
   "execution_count": 97,
   "metadata": {},
   "outputs": [
    {
     "data": {
      "text/html": [
       "<div>\n",
       "<style scoped>\n",
       "    .dataframe tbody tr th:only-of-type {\n",
       "        vertical-align: middle;\n",
       "    }\n",
       "\n",
       "    .dataframe tbody tr th {\n",
       "        vertical-align: top;\n",
       "    }\n",
       "\n",
       "    .dataframe thead th {\n",
       "        text-align: right;\n",
       "    }\n",
       "</style>\n",
       "<table border=\"1\" class=\"dataframe\">\n",
       "  <thead>\n",
       "    <tr style=\"text-align: right;\">\n",
       "      <th></th>\n",
       "      <th>title</th>\n",
       "      <th>selftext</th>\n",
       "      <th>subreddit</th>\n",
       "    </tr>\n",
       "  </thead>\n",
       "  <tbody>\n",
       "    <tr>\n",
       "      <th>0</th>\n",
       "      <td>Does tictock listen to you?</td>\n",
       "      <td>I’m not no expert on conspiracy theories but I...</td>\n",
       "      <td>conspiracy</td>\n",
       "    </tr>\n",
       "    <tr>\n",
       "      <th>1</th>\n",
       "      <td>Dr Seuss.. Looks like everyone is running with...</td>\n",
       "      <td>Seems some sort of cryptic messaging .. I dont...</td>\n",
       "      <td>conspiracy</td>\n",
       "    </tr>\n",
       "    <tr>\n",
       "      <th>2</th>\n",
       "      <td>Why Catholics thrive in the CIA. - Catholic He...</td>\n",
       "      <td>https://saidit.net/s/Jesuits/comments/70a1/why...</td>\n",
       "      <td>conspiracy</td>\n",
       "    </tr>\n",
       "    <tr>\n",
       "      <th>3</th>\n",
       "      <td>Sumerian texts speak of ancient kings and a my...</td>\n",
       "      <td>NaN</td>\n",
       "      <td>conspiracy</td>\n",
       "    </tr>\n",
       "    <tr>\n",
       "      <th>4</th>\n",
       "      <td>Sumerian texts ppeak of ancient kings and a my...</td>\n",
       "      <td>[deleted]</td>\n",
       "      <td>conspiracy</td>\n",
       "    </tr>\n",
       "    <tr>\n",
       "      <th>...</th>\n",
       "      <td>...</td>\n",
       "      <td>...</td>\n",
       "      <td>...</td>\n",
       "    </tr>\n",
       "    <tr>\n",
       "      <th>3971</th>\n",
       "      <td>Former Q confesses</td>\n",
       "      <td>Perhaps this article posted here already but i...</td>\n",
       "      <td>QAnonCasualties</td>\n",
       "    </tr>\n",
       "    <tr>\n",
       "      <th>3972</th>\n",
       "      <td>I’m just exhausted at this point.</td>\n",
       "      <td>I don’t know that my family would consider the...</td>\n",
       "      <td>QAnonCasualties</td>\n",
       "    </tr>\n",
       "    <tr>\n",
       "      <th>3973</th>\n",
       "      <td>A bit of Psychology that might be helpful to u...</td>\n",
       "      <td>\"First proposed by Sigmund Freud, this theory ...</td>\n",
       "      <td>QAnonCasualties</td>\n",
       "    </tr>\n",
       "    <tr>\n",
       "      <th>3974</th>\n",
       "      <td>I hate it so much but it’s also what it is</td>\n",
       "      <td>TW: abuse / rape / Q\\n\\nSooooooo\\n\\nMy dad / s...</td>\n",
       "      <td>QAnonCasualties</td>\n",
       "    </tr>\n",
       "    <tr>\n",
       "      <th>3975</th>\n",
       "      <td>I was adopted</td>\n",
       "      <td>, and just found my bio parents/ half siblings...</td>\n",
       "      <td>QAnonCasualties</td>\n",
       "    </tr>\n",
       "  </tbody>\n",
       "</table>\n",
       "<p>3976 rows × 3 columns</p>\n",
       "</div>"
      ],
      "text/plain": [
       "                                                  title  \\\n",
       "0                           Does tictock listen to you?   \n",
       "1     Dr Seuss.. Looks like everyone is running with...   \n",
       "2     Why Catholics thrive in the CIA. - Catholic He...   \n",
       "3     Sumerian texts speak of ancient kings and a my...   \n",
       "4     Sumerian texts ppeak of ancient kings and a my...   \n",
       "...                                                 ...   \n",
       "3971                                 Former Q confesses   \n",
       "3972                  I’m just exhausted at this point.   \n",
       "3973  A bit of Psychology that might be helpful to u...   \n",
       "3974         I hate it so much but it’s also what it is   \n",
       "3975                                      I was adopted   \n",
       "\n",
       "                                               selftext        subreddit  \n",
       "0     I’m not no expert on conspiracy theories but I...       conspiracy  \n",
       "1     Seems some sort of cryptic messaging .. I dont...       conspiracy  \n",
       "2     https://saidit.net/s/Jesuits/comments/70a1/why...       conspiracy  \n",
       "3                                                   NaN       conspiracy  \n",
       "4                                             [deleted]       conspiracy  \n",
       "...                                                 ...              ...  \n",
       "3971  Perhaps this article posted here already but i...  QAnonCasualties  \n",
       "3972  I don’t know that my family would consider the...  QAnonCasualties  \n",
       "3973  \"First proposed by Sigmund Freud, this theory ...  QAnonCasualties  \n",
       "3974  TW: abuse / rape / Q\\n\\nSooooooo\\n\\nMy dad / s...  QAnonCasualties  \n",
       "3975  , and just found my bio parents/ half siblings...  QAnonCasualties  \n",
       "\n",
       "[3976 rows x 3 columns]"
      ]
     },
     "execution_count": 97,
     "metadata": {},
     "output_type": "execute_result"
    }
   ],
   "source": [
    "qcas_con"
   ]
  },
  {
   "cell_type": "markdown",
   "metadata": {},
   "source": [
    "#### Converting our target column to binary: is_conspiracy: 1= is from the 'conspiracy' subreddit, 0 = is NOT from the 'conspiracy' subreddit, aka it is the 'QanonCasualties' subreddit."
   ]
  },
  {
   "cell_type": "code",
   "execution_count": 98,
   "metadata": {},
   "outputs": [],
   "source": [
    "#DSIR-Lancelot /5.04-lesson-nlp-ii\n",
    "\n",
    "qcas_con.rename(columns= {'subreddit': 'is_conspiracy'}, inplace=True)\n"
   ]
  },
  {
   "cell_type": "code",
   "execution_count": 99,
   "metadata": {},
   "outputs": [],
   "source": [
    "# 0 for QAnonCasualties\n",
    "# 1 for conspiracy\n",
    "\n",
    "convert_label = {\n",
    "    'QAnonCasualties': 0,\n",
    "    'conspiracy': 1\n",
    "}\n",
    "qcas_con['is_conspiracy'] = qcas_con['is_conspiracy'].map(convert_label)"
   ]
  },
  {
   "cell_type": "markdown",
   "metadata": {},
   "source": [
    "#### Exporting our final dataset"
   ]
  },
  {
   "cell_type": "code",
   "execution_count": 100,
   "metadata": {},
   "outputs": [],
   "source": [
    "qcas_con.to_csv('./data/total_cleaned.csv')"
   ]
  },
  {
   "cell_type": "markdown",
   "metadata": {},
   "source": [
    "##### Checking the baseline value (should be .5 because there is even numbers between the 2 datasets)"
   ]
  },
  {
   "cell_type": "code",
   "execution_count": 101,
   "metadata": {},
   "outputs": [
    {
     "data": {
      "text/plain": [
       "1    0.5\n",
       "0    0.5\n",
       "Name: is_conspiracy, dtype: float64"
      ]
     },
     "execution_count": 101,
     "metadata": {},
     "output_type": "execute_result"
    }
   ],
   "source": [
    "qcas_con['is_conspiracy'].value_counts(normalize=True)"
   ]
  },
  {
   "cell_type": "markdown",
   "metadata": {},
   "source": [
    "#### Adding some fields for EDA"
   ]
  },
  {
   "cell_type": "code",
   "execution_count": 102,
   "metadata": {},
   "outputs": [
    {
     "data": {
      "text/html": [
       "<div>\n",
       "<style scoped>\n",
       "    .dataframe tbody tr th:only-of-type {\n",
       "        vertical-align: middle;\n",
       "    }\n",
       "\n",
       "    .dataframe tbody tr th {\n",
       "        vertical-align: top;\n",
       "    }\n",
       "\n",
       "    .dataframe thead th {\n",
       "        text-align: right;\n",
       "    }\n",
       "</style>\n",
       "<table border=\"1\" class=\"dataframe\">\n",
       "  <thead>\n",
       "    <tr style=\"text-align: right;\">\n",
       "      <th></th>\n",
       "      <th>title</th>\n",
       "      <th>selftext</th>\n",
       "      <th>is_conspiracy</th>\n",
       "      <th>title_char_length</th>\n",
       "      <th>title_word_count</th>\n",
       "    </tr>\n",
       "  </thead>\n",
       "  <tbody>\n",
       "    <tr>\n",
       "      <th>0</th>\n",
       "      <td>Does tictock listen to you?</td>\n",
       "      <td>I’m not no expert on conspiracy theories but I...</td>\n",
       "      <td>1</td>\n",
       "      <td>27</td>\n",
       "      <td>5</td>\n",
       "    </tr>\n",
       "    <tr>\n",
       "      <th>1</th>\n",
       "      <td>Dr Seuss.. Looks like everyone is running with...</td>\n",
       "      <td>Seems some sort of cryptic messaging .. I dont...</td>\n",
       "      <td>1</td>\n",
       "      <td>62</td>\n",
       "      <td>10</td>\n",
       "    </tr>\n",
       "    <tr>\n",
       "      <th>2</th>\n",
       "      <td>Why Catholics thrive in the CIA. - Catholic He...</td>\n",
       "      <td>https://saidit.net/s/Jesuits/comments/70a1/why...</td>\n",
       "      <td>1</td>\n",
       "      <td>75</td>\n",
       "      <td>12</td>\n",
       "    </tr>\n",
       "    <tr>\n",
       "      <th>3</th>\n",
       "      <td>Sumerian texts speak of ancient kings and a my...</td>\n",
       "      <td>NaN</td>\n",
       "      <td>1</td>\n",
       "      <td>59</td>\n",
       "      <td>10</td>\n",
       "    </tr>\n",
       "    <tr>\n",
       "      <th>4</th>\n",
       "      <td>Sumerian texts ppeak of ancient kings and a my...</td>\n",
       "      <td>[deleted]</td>\n",
       "      <td>1</td>\n",
       "      <td>59</td>\n",
       "      <td>10</td>\n",
       "    </tr>\n",
       "    <tr>\n",
       "      <th>5</th>\n",
       "      <td>2021 Is the Year We Get Free Energy, Rife Heal...</td>\n",
       "      <td>NaN</td>\n",
       "      <td>1</td>\n",
       "      <td>118</td>\n",
       "      <td>21</td>\n",
       "    </tr>\n",
       "    <tr>\n",
       "      <th>6</th>\n",
       "      <td>Reposted kowaleski13's rant post and just now ...</td>\n",
       "      <td>They said \"Nerd\" in the ban message. Aw. Such ...</td>\n",
       "      <td>1</td>\n",
       "      <td>87</td>\n",
       "      <td>14</td>\n",
       "    </tr>\n",
       "    <tr>\n",
       "      <th>7</th>\n",
       "      <td>....If transhuman programming is anything like...</td>\n",
       "      <td>http://farmwars.info/?p=14817\\n\\n\\nBarbara H. ...</td>\n",
       "      <td>1</td>\n",
       "      <td>60</td>\n",
       "      <td>8</td>\n",
       "    </tr>\n",
       "    <tr>\n",
       "      <th>8</th>\n",
       "      <td>Gitmo Military Tribunals Coming to a Global Un...</td>\n",
       "      <td>NaN</td>\n",
       "      <td>1</td>\n",
       "      <td>60</td>\n",
       "      <td>10</td>\n",
       "    </tr>\n",
       "    <tr>\n",
       "      <th>9</th>\n",
       "      <td>Has anyone seen the movie Mr. Fantastic ?</td>\n",
       "      <td>[deleted]</td>\n",
       "      <td>1</td>\n",
       "      <td>41</td>\n",
       "      <td>8</td>\n",
       "    </tr>\n",
       "  </tbody>\n",
       "</table>\n",
       "</div>"
      ],
      "text/plain": [
       "                                               title  \\\n",
       "0                        Does tictock listen to you?   \n",
       "1  Dr Seuss.. Looks like everyone is running with...   \n",
       "2  Why Catholics thrive in the CIA. - Catholic He...   \n",
       "3  Sumerian texts speak of ancient kings and a my...   \n",
       "4  Sumerian texts ppeak of ancient kings and a my...   \n",
       "5  2021 Is the Year We Get Free Energy, Rife Heal...   \n",
       "6  Reposted kowaleski13's rant post and just now ...   \n",
       "7  ....If transhuman programming is anything like...   \n",
       "8  Gitmo Military Tribunals Coming to a Global Un...   \n",
       "9          Has anyone seen the movie Mr. Fantastic ?   \n",
       "\n",
       "                                            selftext  is_conspiracy  \\\n",
       "0  I’m not no expert on conspiracy theories but I...              1   \n",
       "1  Seems some sort of cryptic messaging .. I dont...              1   \n",
       "2  https://saidit.net/s/Jesuits/comments/70a1/why...              1   \n",
       "3                                                NaN              1   \n",
       "4                                          [deleted]              1   \n",
       "5                                                NaN              1   \n",
       "6  They said \"Nerd\" in the ban message. Aw. Such ...              1   \n",
       "7  http://farmwars.info/?p=14817\\n\\n\\nBarbara H. ...              1   \n",
       "8                                                NaN              1   \n",
       "9                                          [deleted]              1   \n",
       "\n",
       "   title_char_length  title_word_count  \n",
       "0                 27                 5  \n",
       "1                 62                10  \n",
       "2                 75                12  \n",
       "3                 59                10  \n",
       "4                 59                10  \n",
       "5                118                21  \n",
       "6                 87                14  \n",
       "7                 60                 8  \n",
       "8                 60                10  \n",
       "9                 41                 8  "
      ]
     },
     "execution_count": 102,
     "metadata": {},
     "output_type": "execute_result"
    }
   ],
   "source": [
    "#inspired by lab 5.02 : counting the number of chars and words in title field\n",
    "\n",
    "qcas_con['title_char_length'] = qcas_con['title'].str.len()\n",
    "qcas_con['title_word_count']= qcas_con['title'].str.split().str.len()\n",
    "\n",
    "qcas_con.head(10)"
   ]
  },
  {
   "cell_type": "code",
   "execution_count": 103,
   "metadata": {},
   "outputs": [
    {
     "data": {
      "text/html": [
       "<div>\n",
       "<style scoped>\n",
       "    .dataframe tbody tr th:only-of-type {\n",
       "        vertical-align: middle;\n",
       "    }\n",
       "\n",
       "    .dataframe tbody tr th {\n",
       "        vertical-align: top;\n",
       "    }\n",
       "\n",
       "    .dataframe thead th {\n",
       "        text-align: right;\n",
       "    }\n",
       "</style>\n",
       "<table border=\"1\" class=\"dataframe\">\n",
       "  <thead>\n",
       "    <tr style=\"text-align: right;\">\n",
       "      <th></th>\n",
       "      <th>title</th>\n",
       "      <th>selftext</th>\n",
       "      <th>is_conspiracy</th>\n",
       "      <th>title_char_length</th>\n",
       "      <th>title_word_count</th>\n",
       "    </tr>\n",
       "  </thead>\n",
       "  <tbody>\n",
       "    <tr>\n",
       "      <th>3030</th>\n",
       "      <td>I have a loved one that said the CIA isn't fun...</td>\n",
       "      <td>This person has been falling deeper and deeper...</td>\n",
       "      <td>0</td>\n",
       "      <td>299</td>\n",
       "      <td>60</td>\n",
       "    </tr>\n",
       "    <tr>\n",
       "      <th>1108</th>\n",
       "      <td>Where are all the solutions? You can only focu...</td>\n",
       "      <td>I got thinking the other day on how this Great...</td>\n",
       "      <td>1</td>\n",
       "      <td>294</td>\n",
       "      <td>59</td>\n",
       "    </tr>\n",
       "    <tr>\n",
       "      <th>1404</th>\n",
       "      <td>Joe Biden is the third president in a row to b...</td>\n",
       "      <td>NaN</td>\n",
       "      <td>1</td>\n",
       "      <td>299</td>\n",
       "      <td>58</td>\n",
       "    </tr>\n",
       "    <tr>\n",
       "      <th>1838</th>\n",
       "      <td>Anyone else notice any places selling syringes...</td>\n",
       "      <td>[deleted]</td>\n",
       "      <td>1</td>\n",
       "      <td>295</td>\n",
       "      <td>57</td>\n",
       "    </tr>\n",
       "    <tr>\n",
       "      <th>2647</th>\n",
       "      <td>Yesterday I wrote about an antivax video forwa...</td>\n",
       "      <td>I'm not going to just make wild accusations of...</td>\n",
       "      <td>0</td>\n",
       "      <td>300</td>\n",
       "      <td>57</td>\n",
       "    </tr>\n",
       "    <tr>\n",
       "      <th>...</th>\n",
       "      <td>...</td>\n",
       "      <td>...</td>\n",
       "      <td>...</td>\n",
       "      <td>...</td>\n",
       "      <td>...</td>\n",
       "    </tr>\n",
       "    <tr>\n",
       "      <th>3680</th>\n",
       "      <td>???</td>\n",
       "      <td>Not making fun but what is this sub reddit for?</td>\n",
       "      <td>0</td>\n",
       "      <td>3</td>\n",
       "      <td>1</td>\n",
       "    </tr>\n",
       "    <tr>\n",
       "      <th>1509</th>\n",
       "      <td>Q</td>\n",
       "      <td>[removed]</td>\n",
       "      <td>1</td>\n",
       "      <td>1</td>\n",
       "      <td>1</td>\n",
       "    </tr>\n",
       "    <tr>\n",
       "      <th>2893</th>\n",
       "      <td>QFollowers</td>\n",
       "      <td>Hello Fellow Q followers of Reddit my name is ...</td>\n",
       "      <td>0</td>\n",
       "      <td>10</td>\n",
       "      <td>1</td>\n",
       "    </tr>\n",
       "    <tr>\n",
       "      <th>1519</th>\n",
       "      <td>Communism</td>\n",
       "      <td>Remember that part from 1984?\\n2+2=5\\n\\nI can’...</td>\n",
       "      <td>1</td>\n",
       "      <td>9</td>\n",
       "      <td>1</td>\n",
       "    </tr>\n",
       "    <tr>\n",
       "      <th>2874</th>\n",
       "      <td>America</td>\n",
       "      <td>What happened to America? No leaders</td>\n",
       "      <td>0</td>\n",
       "      <td>7</td>\n",
       "      <td>1</td>\n",
       "    </tr>\n",
       "  </tbody>\n",
       "</table>\n",
       "<p>3976 rows × 5 columns</p>\n",
       "</div>"
      ],
      "text/plain": [
       "                                                  title  \\\n",
       "3030  I have a loved one that said the CIA isn't fun...   \n",
       "1108  Where are all the solutions? You can only focu...   \n",
       "1404  Joe Biden is the third president in a row to b...   \n",
       "1838  Anyone else notice any places selling syringes...   \n",
       "2647  Yesterday I wrote about an antivax video forwa...   \n",
       "...                                                 ...   \n",
       "3680                                                ???   \n",
       "1509                                                  Q   \n",
       "2893                                         QFollowers   \n",
       "1519                                          Communism   \n",
       "2874                                            America   \n",
       "\n",
       "                                               selftext  is_conspiracy  \\\n",
       "3030  This person has been falling deeper and deeper...              0   \n",
       "1108  I got thinking the other day on how this Great...              1   \n",
       "1404                                                NaN              1   \n",
       "1838                                          [deleted]              1   \n",
       "2647  I'm not going to just make wild accusations of...              0   \n",
       "...                                                 ...            ...   \n",
       "3680    Not making fun but what is this sub reddit for?              0   \n",
       "1509                                          [removed]              1   \n",
       "2893  Hello Fellow Q followers of Reddit my name is ...              0   \n",
       "1519  Remember that part from 1984?\\n2+2=5\\n\\nI can’...              1   \n",
       "2874               What happened to America? No leaders              0   \n",
       "\n",
       "      title_char_length  title_word_count  \n",
       "3030                299                60  \n",
       "1108                294                59  \n",
       "1404                299                58  \n",
       "1838                295                57  \n",
       "2647                300                57  \n",
       "...                 ...               ...  \n",
       "3680                  3                 1  \n",
       "1509                  1                 1  \n",
       "2893                 10                 1  \n",
       "1519                  9                 1  \n",
       "2874                  7                 1  \n",
       "\n",
       "[3976 rows x 5 columns]"
      ]
     },
     "execution_count": 103,
     "metadata": {},
     "output_type": "execute_result"
    }
   ],
   "source": [
    "pd.options.display.max_rows = 999\n",
    "qcas_con.sort_values(by='title_word_count', ascending=False)"
   ]
  },
  {
   "cell_type": "code",
   "execution_count": 104,
   "metadata": {},
   "outputs": [
    {
     "data": {
      "text/plain": [
       "6"
      ]
     },
     "execution_count": 104,
     "metadata": {},
     "output_type": "execute_result"
    }
   ],
   "source": [
    "qcas_con['title_word_count'].value_counts().idxmax()"
   ]
  },
  {
   "cell_type": "markdown",
   "metadata": {},
   "source": [
    "#### Plotting the distribution of word counts for the titles"
   ]
  },
  {
   "cell_type": "code",
   "execution_count": 105,
   "metadata": {},
   "outputs": [
    {
     "data": {
      "image/png": "[encoded data removed]",
      "text/plain": [
       "<Figure size 1080x720 with 1 Axes>"
      ]
     },
     "metadata": {
      "needs_background": "light"
     },
     "output_type": "display_data"
    }
   ],
   "source": [
    "#thanks to Ofili for this code during 5.02 review\n",
    "plt.figure(figsize=(15,10))\n",
    "plt.gca().set(ylim =(0,350))\n",
    "plt.gca().set(xlim =(0,60))\n",
    "plt.xlabel(\"Word Counts of title\")\n",
    "plt.ylabel(\"Counts per bin occurence\")\n",
    "plt.title (\"Histogram of Word Counts of Each Title\")\n",
    "qcas_con['title_word_count'].hist(bins=60);"
   ]
  },
  {
   "cell_type": "markdown",
   "metadata": {},
   "source": [
    "#### This histogram shows that titles range from 1 to 60 words, with most posts at 6 words."
   ]
  },
  {
   "cell_type": "code",
   "execution_count": 106,
   "metadata": {},
   "outputs": [
    {
     "name": "stderr",
     "output_type": "stream",
     "text": [
      "/Users/merylduff/opt/anaconda3/lib/python3.8/site-packages/seaborn/distributions.py:2551: FutureWarning: `distplot` is a deprecated function and will be removed in a future version. Please adapt your code to use either `displot` (a figure-level function with similar flexibility) or `histplot` (an axes-level function for histograms).\n",
      "  warnings.warn(msg, FutureWarning)\n",
      "/Users/merylduff/opt/anaconda3/lib/python3.8/site-packages/seaborn/distributions.py:2551: FutureWarning: `distplot` is a deprecated function and will be removed in a future version. Please adapt your code to use either `displot` (a figure-level function with similar flexibility) or `histplot` (an axes-level function for histograms).\n",
      "  warnings.warn(msg, FutureWarning)\n"
     ]
    },
    {
     "data": {
      "image/png": "[encoded data removed]",
      "text/plain": [
       "<Figure size 432x288 with 1 Axes>"
      ]
     },
     "metadata": {
      "needs_background": "light"
     },
     "output_type": "display_data"
    }
   ],
   "source": [
    "# submissions/labs/5.02-lab-nlp-eda-master review\n",
    "sns.distplot(qcas_con[qcas_con['is_conspiracy'] == 1]['title_word_count'], kde=False, label='Conspiracy')\n",
    "sns.distplot(qcas_con[qcas_con['is_conspiracy'] == 0]['title_word_count'], kde=False, label='Not Conspiracy')\n",
    "plt.legend();"
   ]
  },
  {
   "cell_type": "code",
   "execution_count": 141,
   "metadata": {},
   "outputs": [
    {
     "data": {
      "image/png": "[encoded data removed]",
      "text/plain": [
       "<Figure size 720x720 with 1 Axes>"
      ]
     },
     "metadata": {
      "needs_background": "light"
     },
     "output_type": "display_data"
    }
   ],
   "source": [
    "#https://stackoverflow.com/questions/36362624/how-to-plot-multiple-histograms-on-same-plot-with-seaborn\n",
    "plt.figure(figsize=(10,10))\n",
    "plt.title(label = 'Comparison of Title Word Count' )\n",
    "cons = qcas_con[qcas_con['is_conspiracy'] == 1]['title_word_count']\n",
    "qcasualties = qcas_con[qcas_con['is_conspiracy'] == 0]['title_word_count']\n",
    "plt.hist([cons, qcasualties], color=['r','b'], alpha=0.5 )\n",
    "plt.legend(['r/Conspiracy', 'r/QanonCasualties'], loc='upper right');"
   ]
  },
  {
   "cell_type": "markdown",
   "metadata": {},
   "source": [
    "Here you can see the differences between conspiracy and QanonCasualties posts. The conspiracy subredditors tend to have shorter titles, while the Qanon"
   ]
  },
  {
   "cell_type": "code",
   "execution_count": 108,
   "metadata": {},
   "outputs": [
    {
     "data": {
      "text/html": [
       "<div>\n",
       "<style scoped>\n",
       "    .dataframe tbody tr th:only-of-type {\n",
       "        vertical-align: middle;\n",
       "    }\n",
       "\n",
       "    .dataframe tbody tr th {\n",
       "        vertical-align: top;\n",
       "    }\n",
       "\n",
       "    .dataframe thead th {\n",
       "        text-align: right;\n",
       "    }\n",
       "</style>\n",
       "<table border=\"1\" class=\"dataframe\">\n",
       "  <thead>\n",
       "    <tr style=\"text-align: right;\">\n",
       "      <th></th>\n",
       "      <th>title</th>\n",
       "      <th>selftext</th>\n",
       "      <th>is_conspiracy</th>\n",
       "      <th>title_char_length</th>\n",
       "      <th>title_word_count</th>\n",
       "    </tr>\n",
       "  </thead>\n",
       "  <tbody>\n",
       "    <tr>\n",
       "      <th>0</th>\n",
       "      <td>Does tictock listen to you?</td>\n",
       "      <td>I’m not no expert on conspiracy theories but I...</td>\n",
       "      <td>1</td>\n",
       "      <td>27</td>\n",
       "      <td>5</td>\n",
       "    </tr>\n",
       "    <tr>\n",
       "      <th>1</th>\n",
       "      <td>Dr Seuss.. Looks like everyone is running with...</td>\n",
       "      <td>Seems some sort of cryptic messaging .. I dont...</td>\n",
       "      <td>1</td>\n",
       "      <td>62</td>\n",
       "      <td>10</td>\n",
       "    </tr>\n",
       "    <tr>\n",
       "      <th>2</th>\n",
       "      <td>Why Catholics thrive in the CIA. - Catholic He...</td>\n",
       "      <td>https://saidit.net/s/Jesuits/comments/70a1/why...</td>\n",
       "      <td>1</td>\n",
       "      <td>75</td>\n",
       "      <td>12</td>\n",
       "    </tr>\n",
       "    <tr>\n",
       "      <th>3</th>\n",
       "      <td>Sumerian texts speak of ancient kings and a my...</td>\n",
       "      <td>NaN</td>\n",
       "      <td>1</td>\n",
       "      <td>59</td>\n",
       "      <td>10</td>\n",
       "    </tr>\n",
       "    <tr>\n",
       "      <th>4</th>\n",
       "      <td>Sumerian texts ppeak of ancient kings and a my...</td>\n",
       "      <td>[deleted]</td>\n",
       "      <td>1</td>\n",
       "      <td>59</td>\n",
       "      <td>10</td>\n",
       "    </tr>\n",
       "    <tr>\n",
       "      <th>...</th>\n",
       "      <td>...</td>\n",
       "      <td>...</td>\n",
       "      <td>...</td>\n",
       "      <td>...</td>\n",
       "      <td>...</td>\n",
       "    </tr>\n",
       "    <tr>\n",
       "      <th>3971</th>\n",
       "      <td>Former Q confesses</td>\n",
       "      <td>Perhaps this article posted here already but i...</td>\n",
       "      <td>0</td>\n",
       "      <td>18</td>\n",
       "      <td>3</td>\n",
       "    </tr>\n",
       "    <tr>\n",
       "      <th>3972</th>\n",
       "      <td>I’m just exhausted at this point.</td>\n",
       "      <td>I don’t know that my family would consider the...</td>\n",
       "      <td>0</td>\n",
       "      <td>33</td>\n",
       "      <td>6</td>\n",
       "    </tr>\n",
       "    <tr>\n",
       "      <th>3973</th>\n",
       "      <td>A bit of Psychology that might be helpful to u...</td>\n",
       "      <td>\"First proposed by Sigmund Freud, this theory ...</td>\n",
       "      <td>0</td>\n",
       "      <td>56</td>\n",
       "      <td>10</td>\n",
       "    </tr>\n",
       "    <tr>\n",
       "      <th>3974</th>\n",
       "      <td>I hate it so much but it’s also what it is</td>\n",
       "      <td>TW: abuse / rape / Q\\n\\nSooooooo\\n\\nMy dad / s...</td>\n",
       "      <td>0</td>\n",
       "      <td>42</td>\n",
       "      <td>11</td>\n",
       "    </tr>\n",
       "    <tr>\n",
       "      <th>3975</th>\n",
       "      <td>I was adopted</td>\n",
       "      <td>, and just found my bio parents/ half siblings...</td>\n",
       "      <td>0</td>\n",
       "      <td>13</td>\n",
       "      <td>3</td>\n",
       "    </tr>\n",
       "  </tbody>\n",
       "</table>\n",
       "<p>3976 rows × 5 columns</p>\n",
       "</div>"
      ],
      "text/plain": [
       "                                                  title  \\\n",
       "0                           Does tictock listen to you?   \n",
       "1     Dr Seuss.. Looks like everyone is running with...   \n",
       "2     Why Catholics thrive in the CIA. - Catholic He...   \n",
       "3     Sumerian texts speak of ancient kings and a my...   \n",
       "4     Sumerian texts ppeak of ancient kings and a my...   \n",
       "...                                                 ...   \n",
       "3971                                 Former Q confesses   \n",
       "3972                  I’m just exhausted at this point.   \n",
       "3973  A bit of Psychology that might be helpful to u...   \n",
       "3974         I hate it so much but it’s also what it is   \n",
       "3975                                      I was adopted   \n",
       "\n",
       "                                               selftext  is_conspiracy  \\\n",
       "0     I’m not no expert on conspiracy theories but I...              1   \n",
       "1     Seems some sort of cryptic messaging .. I dont...              1   \n",
       "2     https://saidit.net/s/Jesuits/comments/70a1/why...              1   \n",
       "3                                                   NaN              1   \n",
       "4                                             [deleted]              1   \n",
       "...                                                 ...            ...   \n",
       "3971  Perhaps this article posted here already but i...              0   \n",
       "3972  I don’t know that my family would consider the...              0   \n",
       "3973  \"First proposed by Sigmund Freud, this theory ...              0   \n",
       "3974  TW: abuse / rape / Q\\n\\nSooooooo\\n\\nMy dad / s...              0   \n",
       "3975  , and just found my bio parents/ half siblings...              0   \n",
       "\n",
       "      title_char_length  title_word_count  \n",
       "0                    27                 5  \n",
       "1                    62                10  \n",
       "2                    75                12  \n",
       "3                    59                10  \n",
       "4                    59                10  \n",
       "...                 ...               ...  \n",
       "3971                 18                 3  \n",
       "3972                 33                 6  \n",
       "3973                 56                10  \n",
       "3974                 42                11  \n",
       "3975                 13                 3  \n",
       "\n",
       "[3976 rows x 5 columns]"
      ]
     },
     "execution_count": 108,
     "metadata": {},
     "output_type": "execute_result"
    }
   ],
   "source": [
    "qcas_con"
   ]
  },
  {
   "cell_type": "markdown",
   "metadata": {},
   "source": [
    "#### Lets find the most common terms for the total data set as well as each individual one"
   ]
  },
  {
   "cell_type": "markdown",
   "metadata": {},
   "source": [
    "### Total"
   ]
  },
  {
   "cell_type": "code",
   "execution_count": 109,
   "metadata": {},
   "outputs": [
    {
     "data": {
      "image/png": "[encoded data removed]",
      "text/plain": [
       "<Figure size 576x720 with 1 Axes>"
      ]
     },
     "metadata": {
      "needs_background": "light"
     },
     "output_type": "display_data"
    }
   ],
   "source": [
    "#https://github.com/josephofiowa/zenzic/blob/master/obama-onion/obama-onion-analysis.ipynb\n",
    "\n",
    "X= qcas_con['title']\n",
    "vect = CountVectorizer(ngram_range=(1, 2), stop_words='english', min_df=2)\n",
    "\n",
    "# do the above, but make a dataframe with feature names = words\n",
    "tf1 = pd.DataFrame(vect.fit_transform(X).toarray(), columns=vect.get_feature_names())\n",
    "\n",
    "# see most common terms\n",
    "top_25 = tf1.sum().sort_values(ascending=False).head(25)\n",
    "top_25.plot(kind='barh', figsize=(8,10), title = 'Top 25 Words');"
   ]
  },
  {
   "cell_type": "markdown",
   "metadata": {},
   "source": [
    "### r/Conspiracy"
   ]
  },
  {
   "cell_type": "code",
   "execution_count": 110,
   "metadata": {},
   "outputs": [
    {
     "data": {
      "image/png": "[encoded data removed]",
      "text/plain": [
       "<Figure size 576x720 with 1 Axes>"
      ]
     },
     "metadata": {
      "needs_background": "light"
     },
     "output_type": "display_data"
    }
   ],
   "source": [
    "#https://github.com/josephofiowa/zenzic/blob/master/obama-onion/obama-onion-analysis.ipynb\n",
    "\n",
    "X= conspiracy['title']\n",
    "vect = CountVectorizer(ngram_range=(1, 2), stop_words='english', min_df=2)\n",
    "\n",
    "# do the above, but make a dataframe with feature names = words\n",
    "tf2 = pd.DataFrame(vect.fit_transform(X).toarray(), columns=vect.get_feature_names())\n",
    "\n",
    "# see most common terms\n",
    "top_25_conspiracy = tf2.sum().sort_values(ascending=False).head(25)\n",
    "top_25_conspiracy.plot(kind='barh', figsize=(8,10), title = 'Top 25 Words: r/Conspiracy');"
   ]
  },
  {
   "cell_type": "markdown",
   "metadata": {},
   "source": [
    "### r/QanonCasualties"
   ]
  },
  {
   "cell_type": "code",
   "execution_count": 111,
   "metadata": {},
   "outputs": [
    {
     "data": {
      "image/png": "[encoded data removed]",
      "text/plain": [
       "<Figure size 576x720 with 1 Axes>"
      ]
     },
     "metadata": {
      "needs_background": "light"
     },
     "output_type": "display_data"
    }
   ],
   "source": [
    "#https://github.com/josephofiowa/zenzic/blob/master/obama-onion/obama-onion-analysis.ipynb\n",
    "\n",
    "X= qanoncas['title']\n",
    "vect = CountVectorizer(ngram_range=(1, 2), stop_words='english', min_df=2)\n",
    "\n",
    "\n",
    "#make a dataframe with feature names = words\n",
    "tf3 = pd.DataFrame(vect.fit_transform(X).toarray(), columns=vect.get_feature_names())\n",
    "\n",
    "# see most common terms\n",
    "top_25_qanoncasualties = tf3.sum().sort_values(ascending=False).head(25)\n",
    "top_25_qanoncasualties.plot(kind='barh', figsize = (8,10),title = 'Top 25 Words: r/QanonCasualties');"
   ]
  },
  {
   "cell_type": "markdown",
   "metadata": {},
   "source": [
    "### Sentiment on titles\n",
    "with help from #DSIR-Lancelot/5.03-lesson-nlp"
   ]
  },
  {
   "cell_type": "code",
   "execution_count": 112,
   "metadata": {},
   "outputs": [],
   "source": [
    "sia = SentimentIntensityAnalyzer()\n"
   ]
  },
  {
   "cell_type": "code",
   "execution_count": 131,
   "metadata": {},
   "outputs": [
    {
     "data": {
      "text/html": [
       "<div>\n",
       "<style scoped>\n",
       "    .dataframe tbody tr th:only-of-type {\n",
       "        vertical-align: middle;\n",
       "    }\n",
       "\n",
       "    .dataframe tbody tr th {\n",
       "        vertical-align: top;\n",
       "    }\n",
       "\n",
       "    .dataframe thead th {\n",
       "        text-align: right;\n",
       "    }\n",
       "</style>\n",
       "<table border=\"1\" class=\"dataframe\">\n",
       "  <thead>\n",
       "    <tr style=\"text-align: right;\">\n",
       "      <th></th>\n",
       "      <th>title</th>\n",
       "      <th>selftext</th>\n",
       "      <th>is_conspiracy</th>\n",
       "      <th>title_char_length</th>\n",
       "      <th>title_word_count</th>\n",
       "      <th>neg</th>\n",
       "      <th>neu</th>\n",
       "      <th>pos</th>\n",
       "      <th>compound</th>\n",
       "    </tr>\n",
       "  </thead>\n",
       "  <tbody>\n",
       "    <tr>\n",
       "      <th>3931</th>\n",
       "      <td>I’m hoping Q is labeled as a national threat a...</td>\n",
       "      <td>Conspiracy theorists and cults pose a national...</td>\n",
       "      <td>0</td>\n",
       "      <td>255</td>\n",
       "      <td>42</td>\n",
       "      <td>0.450</td>\n",
       "      <td>0.503</td>\n",
       "      <td>0.047</td>\n",
       "      <td>-0.9750</td>\n",
       "    </tr>\n",
       "    <tr>\n",
       "      <th>1449</th>\n",
       "      <td>Remember all of the outrage when Trump killed ...</td>\n",
       "      <td>NaN</td>\n",
       "      <td>1</td>\n",
       "      <td>158</td>\n",
       "      <td>25</td>\n",
       "      <td>0.526</td>\n",
       "      <td>0.431</td>\n",
       "      <td>0.043</td>\n",
       "      <td>-0.9689</td>\n",
       "    </tr>\n",
       "    <tr>\n",
       "      <th>153</th>\n",
       "      <td>Fact Checkers and the Government on the same s...</td>\n",
       "      <td>NaN</td>\n",
       "      <td>1</td>\n",
       "      <td>267</td>\n",
       "      <td>47</td>\n",
       "      <td>0.342</td>\n",
       "      <td>0.628</td>\n",
       "      <td>0.030</td>\n",
       "      <td>-0.9576</td>\n",
       "    </tr>\n",
       "    <tr>\n",
       "      <th>451</th>\n",
       "      <td>Silent weapons for quiet wars is a must read. ...</td>\n",
       "      <td>NaN</td>\n",
       "      <td>1</td>\n",
       "      <td>247</td>\n",
       "      <td>48</td>\n",
       "      <td>0.307</td>\n",
       "      <td>0.693</td>\n",
       "      <td>0.000</td>\n",
       "      <td>-0.9493</td>\n",
       "    </tr>\n",
       "    <tr>\n",
       "      <th>1398</th>\n",
       "      <td>We’re Telling Kids the Planet Is Doomed and Yo...</td>\n",
       "      <td>[deleted]</td>\n",
       "      <td>1</td>\n",
       "      <td>201</td>\n",
       "      <td>34</td>\n",
       "      <td>0.402</td>\n",
       "      <td>0.533</td>\n",
       "      <td>0.066</td>\n",
       "      <td>-0.9468</td>\n",
       "    </tr>\n",
       "    <tr>\n",
       "      <th>3082</th>\n",
       "      <td>My mom suddenly believes Trump is still Presid...</td>\n",
       "      <td>My mom was formerly liberal leaning.\\n\\nShe th...</td>\n",
       "      <td>0</td>\n",
       "      <td>235</td>\n",
       "      <td>45</td>\n",
       "      <td>0.266</td>\n",
       "      <td>0.734</td>\n",
       "      <td>0.000</td>\n",
       "      <td>-0.9340</td>\n",
       "    </tr>\n",
       "    <tr>\n",
       "      <th>1013</th>\n",
       "      <td>The voices of the illuminati brainwashing, are...</td>\n",
       "      <td>NaN</td>\n",
       "      <td>1</td>\n",
       "      <td>240</td>\n",
       "      <td>35</td>\n",
       "      <td>0.358</td>\n",
       "      <td>0.602</td>\n",
       "      <td>0.040</td>\n",
       "      <td>-0.9300</td>\n",
       "    </tr>\n",
       "    <tr>\n",
       "      <th>158</th>\n",
       "      <td>Killing someone is not against the law in war ...</td>\n",
       "      <td>**I do not condone any sort of violence under ...</td>\n",
       "      <td>1</td>\n",
       "      <td>107</td>\n",
       "      <td>20</td>\n",
       "      <td>0.437</td>\n",
       "      <td>0.563</td>\n",
       "      <td>0.000</td>\n",
       "      <td>-0.9246</td>\n",
       "    </tr>\n",
       "    <tr>\n",
       "      <th>1884</th>\n",
       "      <td>Heaviest conspiracy I've seen i think. Tldr: b...</td>\n",
       "      <td>[deleted]</td>\n",
       "      <td>1</td>\n",
       "      <td>76</td>\n",
       "      <td>13</td>\n",
       "      <td>0.600</td>\n",
       "      <td>0.400</td>\n",
       "      <td>0.000</td>\n",
       "      <td>-0.9186</td>\n",
       "    </tr>\n",
       "    <tr>\n",
       "      <th>890</th>\n",
       "      <td>1,282 measles infections and zero deaths in 20...</td>\n",
       "      <td>[.](https://img.theweek.in/content/dam/week/ne...</td>\n",
       "      <td>1</td>\n",
       "      <td>200</td>\n",
       "      <td>33</td>\n",
       "      <td>0.328</td>\n",
       "      <td>0.672</td>\n",
       "      <td>0.000</td>\n",
       "      <td>-0.9134</td>\n",
       "    </tr>\n",
       "    <tr>\n",
       "      <th>2758</th>\n",
       "      <td>Could people be drawn to conspiracy theories i...</td>\n",
       "      <td>I read this text by a psychologist and wondere...</td>\n",
       "      <td>0</td>\n",
       "      <td>213</td>\n",
       "      <td>33</td>\n",
       "      <td>0.333</td>\n",
       "      <td>0.627</td>\n",
       "      <td>0.039</td>\n",
       "      <td>-0.9129</td>\n",
       "    </tr>\n",
       "    <tr>\n",
       "      <th>693</th>\n",
       "      <td>Aaron Swartz would roll over in his grave if h...</td>\n",
       "      <td>NaN</td>\n",
       "      <td>1</td>\n",
       "      <td>259</td>\n",
       "      <td>48</td>\n",
       "      <td>0.285</td>\n",
       "      <td>0.634</td>\n",
       "      <td>0.081</td>\n",
       "      <td>-0.9100</td>\n",
       "    </tr>\n",
       "    <tr>\n",
       "      <th>55</th>\n",
       "      <td>The Afghanistan Papers- Unequivocal Proof of a...</td>\n",
       "      <td>[removed]</td>\n",
       "      <td>1</td>\n",
       "      <td>85</td>\n",
       "      <td>15</td>\n",
       "      <td>0.529</td>\n",
       "      <td>0.396</td>\n",
       "      <td>0.075</td>\n",
       "      <td>-0.9062</td>\n",
       "    </tr>\n",
       "    <tr>\n",
       "      <th>2439</th>\n",
       "      <td>Anybody's entire genetic line sucked in? My br...</td>\n",
       "      <td>It's not just our closest relationships, like ...</td>\n",
       "      <td>0</td>\n",
       "      <td>301</td>\n",
       "      <td>52</td>\n",
       "      <td>0.230</td>\n",
       "      <td>0.749</td>\n",
       "      <td>0.021</td>\n",
       "      <td>-0.9058</td>\n",
       "    </tr>\n",
       "    <tr>\n",
       "      <th>1950</th>\n",
       "      <td>The deadly assault of an elderly Asian America...</td>\n",
       "      <td>NaN</td>\n",
       "      <td>1</td>\n",
       "      <td>195</td>\n",
       "      <td>31</td>\n",
       "      <td>0.311</td>\n",
       "      <td>0.689</td>\n",
       "      <td>0.000</td>\n",
       "      <td>-0.9042</td>\n",
       "    </tr>\n",
       "  </tbody>\n",
       "</table>\n",
       "</div>"
      ],
      "text/plain": [
       "                                                  title  \\\n",
       "3931  I’m hoping Q is labeled as a national threat a...   \n",
       "1449  Remember all of the outrage when Trump killed ...   \n",
       "153   Fact Checkers and the Government on the same s...   \n",
       "451   Silent weapons for quiet wars is a must read. ...   \n",
       "1398  We’re Telling Kids the Planet Is Doomed and Yo...   \n",
       "3082  My mom suddenly believes Trump is still Presid...   \n",
       "1013  The voices of the illuminati brainwashing, are...   \n",
       "158   Killing someone is not against the law in war ...   \n",
       "1884  Heaviest conspiracy I've seen i think. Tldr: b...   \n",
       "890   1,282 measles infections and zero deaths in 20...   \n",
       "2758  Could people be drawn to conspiracy theories i...   \n",
       "693   Aaron Swartz would roll over in his grave if h...   \n",
       "55    The Afghanistan Papers- Unequivocal Proof of a...   \n",
       "2439  Anybody's entire genetic line sucked in? My br...   \n",
       "1950  The deadly assault of an elderly Asian America...   \n",
       "\n",
       "                                               selftext  is_conspiracy  \\\n",
       "3931  Conspiracy theorists and cults pose a national...              0   \n",
       "1449                                                NaN              1   \n",
       "153                                                 NaN              1   \n",
       "451                                                 NaN              1   \n",
       "1398                                          [deleted]              1   \n",
       "3082  My mom was formerly liberal leaning.\\n\\nShe th...              0   \n",
       "1013                                                NaN              1   \n",
       "158   **I do not condone any sort of violence under ...              1   \n",
       "1884                                          [deleted]              1   \n",
       "890   [.](https://img.theweek.in/content/dam/week/ne...              1   \n",
       "2758  I read this text by a psychologist and wondere...              0   \n",
       "693                                                 NaN              1   \n",
       "55                                            [removed]              1   \n",
       "2439  It's not just our closest relationships, like ...              0   \n",
       "1950                                                NaN              1   \n",
       "\n",
       "      title_char_length  title_word_count    neg    neu    pos  compound  \n",
       "3931                255                42  0.450  0.503  0.047   -0.9750  \n",
       "1449                158                25  0.526  0.431  0.043   -0.9689  \n",
       "153                 267                47  0.342  0.628  0.030   -0.9576  \n",
       "451                 247                48  0.307  0.693  0.000   -0.9493  \n",
       "1398                201                34  0.402  0.533  0.066   -0.9468  \n",
       "3082                235                45  0.266  0.734  0.000   -0.9340  \n",
       "1013                240                35  0.358  0.602  0.040   -0.9300  \n",
       "158                 107                20  0.437  0.563  0.000   -0.9246  \n",
       "1884                 76                13  0.600  0.400  0.000   -0.9186  \n",
       "890                 200                33  0.328  0.672  0.000   -0.9134  \n",
       "2758                213                33  0.333  0.627  0.039   -0.9129  \n",
       "693                 259                48  0.285  0.634  0.081   -0.9100  \n",
       "55                   85                15  0.529  0.396  0.075   -0.9062  \n",
       "2439                301                52  0.230  0.749  0.021   -0.9058  \n",
       "1950                195                31  0.311  0.689  0.000   -0.9042  "
      ]
     },
     "execution_count": 131,
     "metadata": {},
     "output_type": "execute_result"
    }
   ],
   "source": [
    "# Getting Sentiment scores for the Titles\n",
    "scores= []\n",
    "for each in qcas_con['title']:\n",
    "    current_scores = sia.polarity_scores(each)\n",
    "    scores.append(current_scores)\n",
    "\n",
    "# Adding them to dataframe\n",
    "scores_df = pd.DataFrame(scores)\n",
    "df = pd.concat([qcas_con, scores_df], axis=1)\n",
    "\n",
    "# 15 most positive titles\n",
    "df.sort_values(by='compound').head(15)"
   ]
  },
  {
   "cell_type": "code",
   "execution_count": 133,
   "metadata": {},
   "outputs": [
    {
     "data": {
      "text/plain": [
       "is_conspiracy         1.000000\n",
       "title_char_length    82.247988\n",
       "title_word_count     13.920523\n",
       "neg                   0.113493\n",
       "neu                   0.811749\n",
       "pos                   0.073255\n",
       "compound             -0.065946\n",
       "dtype: float64"
      ]
     },
     "execution_count": 133,
     "metadata": {},
     "output_type": "execute_result"
    }
   ],
   "source": [
    "df[df['is_conspiracy']==1].mean()"
   ]
  },
  {
   "cell_type": "code",
   "execution_count": 134,
   "metadata": {},
   "outputs": [
    {
     "data": {
      "text/plain": [
       "is_conspiracy         0.000000\n",
       "title_char_length    50.714789\n",
       "title_word_count      9.206237\n",
       "neg                   0.126320\n",
       "neu                   0.778552\n",
       "pos                   0.094624\n",
       "compound             -0.030851\n",
       "dtype: float64"
      ]
     },
     "execution_count": 134,
     "metadata": {},
     "output_type": "execute_result"
    }
   ],
   "source": [
    "df[df['is_conspiracy']==0].mean()"
   ]
  },
  {
   "cell_type": "code",
   "execution_count": null,
   "metadata": {},
   "outputs": [],
   "source": []
  },
  {
   "cell_type": "code",
   "execution_count": null,
   "metadata": {},
   "outputs": [],
   "source": []
  },
  {
   "cell_type": "code",
   "execution_count": 115,
   "metadata": {},
   "outputs": [
    {
     "data": {
      "text/plain": [
       "'I’m hoping Q is labeled as a national threat and domestic terrorist by the FBI or a dangerous cult and members of Congress involved are arrested and charged with domestic terrorism. The FBI probably is tracking these criminals for subsequent future arrest'"
      ]
     },
     "execution_count": 115,
     "metadata": {},
     "output_type": "execute_result"
    }
   ],
   "source": [
    "# Most positive sentiment\n",
    "df.loc[3931, 'title']"
   ]
  },
  {
   "cell_type": "code",
   "execution_count": 116,
   "metadata": {},
   "outputs": [
    {
     "data": {
      "text/html": [
       "<div>\n",
       "<style scoped>\n",
       "    .dataframe tbody tr th:only-of-type {\n",
       "        vertical-align: middle;\n",
       "    }\n",
       "\n",
       "    .dataframe tbody tr th {\n",
       "        vertical-align: top;\n",
       "    }\n",
       "\n",
       "    .dataframe thead th {\n",
       "        text-align: right;\n",
       "    }\n",
       "</style>\n",
       "<table border=\"1\" class=\"dataframe\">\n",
       "  <thead>\n",
       "    <tr style=\"text-align: right;\">\n",
       "      <th></th>\n",
       "      <th>title</th>\n",
       "      <th>selftext</th>\n",
       "      <th>is_conspiracy</th>\n",
       "      <th>title_char_length</th>\n",
       "      <th>title_word_count</th>\n",
       "      <th>neg</th>\n",
       "      <th>neu</th>\n",
       "      <th>pos</th>\n",
       "      <th>compound</th>\n",
       "    </tr>\n",
       "  </thead>\n",
       "  <tbody>\n",
       "    <tr>\n",
       "      <th>2935</th>\n",
       "      <td>Dad has gotten better, but my respect for him ...</td>\n",
       "      <td>Don't get me wrong, he's still consuming a lot...</td>\n",
       "      <td>0</td>\n",
       "      <td>191</td>\n",
       "      <td>40</td>\n",
       "      <td>0.032</td>\n",
       "      <td>0.670</td>\n",
       "      <td>0.298</td>\n",
       "      <td>0.9336</td>\n",
       "    </tr>\n",
       "    <tr>\n",
       "      <th>3030</th>\n",
       "      <td>I have a loved one that said the CIA isn't fun...</td>\n",
       "      <td>This person has been falling deeper and deeper...</td>\n",
       "      <td>0</td>\n",
       "      <td>299</td>\n",
       "      <td>60</td>\n",
       "      <td>0.000</td>\n",
       "      <td>0.802</td>\n",
       "      <td>0.198</td>\n",
       "      <td>0.9332</td>\n",
       "    </tr>\n",
       "    <tr>\n",
       "      <th>2102</th>\n",
       "      <td>The actual best way to help ya Qanon loved one...</td>\n",
       "      <td>[deleted]</td>\n",
       "      <td>0</td>\n",
       "      <td>63</td>\n",
       "      <td>13</td>\n",
       "      <td>0.000</td>\n",
       "      <td>0.396</td>\n",
       "      <td>0.604</td>\n",
       "      <td>0.9287</td>\n",
       "    </tr>\n",
       "    <tr>\n",
       "      <th>360</th>\n",
       "      <td>PLease watch all episodes of this amazing unde...</td>\n",
       "      <td>NaN</td>\n",
       "      <td>1</td>\n",
       "      <td>234</td>\n",
       "      <td>37</td>\n",
       "      <td>0.075</td>\n",
       "      <td>0.612</td>\n",
       "      <td>0.313</td>\n",
       "      <td>0.9191</td>\n",
       "    </tr>\n",
       "    <tr>\n",
       "      <th>188</th>\n",
       "      <td>I Love The Passion!! He isnt wrong! He works f...</td>\n",
       "      <td>NaN</td>\n",
       "      <td>1</td>\n",
       "      <td>231</td>\n",
       "      <td>46</td>\n",
       "      <td>0.115</td>\n",
       "      <td>0.590</td>\n",
       "      <td>0.295</td>\n",
       "      <td>0.8941</td>\n",
       "    </tr>\n",
       "    <tr>\n",
       "      <th>2378</th>\n",
       "      <td>This is what my pilled BFF is sharing with my ...</td>\n",
       "      <td>After this was shared with me by a friend (I’v...</td>\n",
       "      <td>0</td>\n",
       "      <td>71</td>\n",
       "      <td>14</td>\n",
       "      <td>0.000</td>\n",
       "      <td>0.511</td>\n",
       "      <td>0.489</td>\n",
       "      <td>0.8893</td>\n",
       "    </tr>\n",
       "    <tr>\n",
       "      <th>2625</th>\n",
       "      <td>You can't fight hate with hate. It just makes ...</td>\n",
       "      <td>The title is self explanatory and most on here...</td>\n",
       "      <td>0</td>\n",
       "      <td>56</td>\n",
       "      <td>11</td>\n",
       "      <td>0.000</td>\n",
       "      <td>0.385</td>\n",
       "      <td>0.615</td>\n",
       "      <td>0.8801</td>\n",
       "    </tr>\n",
       "    <tr>\n",
       "      <th>917</th>\n",
       "      <td>Next time you meet someone who feels the need ...</td>\n",
       "      <td>NaN</td>\n",
       "      <td>1</td>\n",
       "      <td>251</td>\n",
       "      <td>47</td>\n",
       "      <td>0.000</td>\n",
       "      <td>0.777</td>\n",
       "      <td>0.223</td>\n",
       "      <td>0.8761</td>\n",
       "    </tr>\n",
       "    <tr>\n",
       "      <th>3424</th>\n",
       "      <td>Encouraging people to eNgAgE mEaNiNgFuLLy and ...</td>\n",
       "      <td>Never believe that anti-Semites are completely...</td>\n",
       "      <td>0</td>\n",
       "      <td>82</td>\n",
       "      <td>12</td>\n",
       "      <td>0.000</td>\n",
       "      <td>0.474</td>\n",
       "      <td>0.526</td>\n",
       "      <td>0.8750</td>\n",
       "    </tr>\n",
       "    <tr>\n",
       "      <th>2053</th>\n",
       "      <td>Suspect my adult Brother is into Q. He’s isola...</td>\n",
       "      <td>[deleted]</td>\n",
       "      <td>0</td>\n",
       "      <td>142</td>\n",
       "      <td>24</td>\n",
       "      <td>0.097</td>\n",
       "      <td>0.568</td>\n",
       "      <td>0.335</td>\n",
       "      <td>0.8734</td>\n",
       "    </tr>\n",
       "    <tr>\n",
       "      <th>3673</th>\n",
       "      <td>My best friend of 16 years is a Trump supporter.</td>\n",
       "      <td>Okay, so, I don't really know where to start s...</td>\n",
       "      <td>0</td>\n",
       "      <td>48</td>\n",
       "      <td>10</td>\n",
       "      <td>0.000</td>\n",
       "      <td>0.387</td>\n",
       "      <td>0.613</td>\n",
       "      <td>0.8591</td>\n",
       "    </tr>\n",
       "    <tr>\n",
       "      <th>2100</th>\n",
       "      <td>What to help loved ones? Here's the actual bes...</td>\n",
       "      <td>NaN</td>\n",
       "      <td>0</td>\n",
       "      <td>69</td>\n",
       "      <td>13</td>\n",
       "      <td>0.105</td>\n",
       "      <td>0.407</td>\n",
       "      <td>0.488</td>\n",
       "      <td>0.8580</td>\n",
       "    </tr>\n",
       "    <tr>\n",
       "      <th>186</th>\n",
       "      <td>How long have Humans and Viruses been coexisti...</td>\n",
       "      <td>NaN</td>\n",
       "      <td>1</td>\n",
       "      <td>237</td>\n",
       "      <td>39</td>\n",
       "      <td>0.048</td>\n",
       "      <td>0.687</td>\n",
       "      <td>0.266</td>\n",
       "      <td>0.8577</td>\n",
       "    </tr>\n",
       "    <tr>\n",
       "      <th>312</th>\n",
       "      <td>Hundreds of U.S. Army soldiers singing about t...</td>\n",
       "      <td>NaN</td>\n",
       "      <td>1</td>\n",
       "      <td>93</td>\n",
       "      <td>16</td>\n",
       "      <td>0.000</td>\n",
       "      <td>0.579</td>\n",
       "      <td>0.421</td>\n",
       "      <td>0.8569</td>\n",
       "    </tr>\n",
       "    <tr>\n",
       "      <th>873</th>\n",
       "      <td>It's easy to parrot the official narrative whe...</td>\n",
       "      <td>NaN</td>\n",
       "      <td>1</td>\n",
       "      <td>229</td>\n",
       "      <td>35</td>\n",
       "      <td>0.000</td>\n",
       "      <td>0.749</td>\n",
       "      <td>0.251</td>\n",
       "      <td>0.8555</td>\n",
       "    </tr>\n",
       "  </tbody>\n",
       "</table>\n",
       "</div>"
      ],
      "text/plain": [
       "                                                  title  \\\n",
       "2935  Dad has gotten better, but my respect for him ...   \n",
       "3030  I have a loved one that said the CIA isn't fun...   \n",
       "2102  The actual best way to help ya Qanon loved one...   \n",
       "360   PLease watch all episodes of this amazing unde...   \n",
       "188   I Love The Passion!! He isnt wrong! He works f...   \n",
       "2378  This is what my pilled BFF is sharing with my ...   \n",
       "2625  You can't fight hate with hate. It just makes ...   \n",
       "917   Next time you meet someone who feels the need ...   \n",
       "3424  Encouraging people to eNgAgE mEaNiNgFuLLy and ...   \n",
       "2053  Suspect my adult Brother is into Q. He’s isola...   \n",
       "3673   My best friend of 16 years is a Trump supporter.   \n",
       "2100  What to help loved ones? Here's the actual bes...   \n",
       "186   How long have Humans and Viruses been coexisti...   \n",
       "312   Hundreds of U.S. Army soldiers singing about t...   \n",
       "873   It's easy to parrot the official narrative whe...   \n",
       "\n",
       "                                               selftext  is_conspiracy  \\\n",
       "2935  Don't get me wrong, he's still consuming a lot...              0   \n",
       "3030  This person has been falling deeper and deeper...              0   \n",
       "2102                                          [deleted]              0   \n",
       "360                                                 NaN              1   \n",
       "188                                                 NaN              1   \n",
       "2378  After this was shared with me by a friend (I’v...              0   \n",
       "2625  The title is self explanatory and most on here...              0   \n",
       "917                                                 NaN              1   \n",
       "3424  Never believe that anti-Semites are completely...              0   \n",
       "2053                                          [deleted]              0   \n",
       "3673  Okay, so, I don't really know where to start s...              0   \n",
       "2100                                                NaN              0   \n",
       "186                                                 NaN              1   \n",
       "312                                                 NaN              1   \n",
       "873                                                 NaN              1   \n",
       "\n",
       "      title_char_length  title_word_count    neg    neu    pos  compound  \n",
       "2935                191                40  0.032  0.670  0.298    0.9336  \n",
       "3030                299                60  0.000  0.802  0.198    0.9332  \n",
       "2102                 63                13  0.000  0.396  0.604    0.9287  \n",
       "360                 234                37  0.075  0.612  0.313    0.9191  \n",
       "188                 231                46  0.115  0.590  0.295    0.8941  \n",
       "2378                 71                14  0.000  0.511  0.489    0.8893  \n",
       "2625                 56                11  0.000  0.385  0.615    0.8801  \n",
       "917                 251                47  0.000  0.777  0.223    0.8761  \n",
       "3424                 82                12  0.000  0.474  0.526    0.8750  \n",
       "2053                142                24  0.097  0.568  0.335    0.8734  \n",
       "3673                 48                10  0.000  0.387  0.613    0.8591  \n",
       "2100                 69                13  0.105  0.407  0.488    0.8580  \n",
       "186                 237                39  0.048  0.687  0.266    0.8577  \n",
       "312                  93                16  0.000  0.579  0.421    0.8569  \n",
       "873                 229                35  0.000  0.749  0.251    0.8555  "
      ]
     },
     "execution_count": 116,
     "metadata": {},
     "output_type": "execute_result"
    }
   ],
   "source": [
    "# 15 least positive titles\n",
    "df.sort_values(by='compound', ascending=False).head(15)"
   ]
  },
  {
   "cell_type": "code",
   "execution_count": 117,
   "metadata": {},
   "outputs": [
    {
     "data": {
      "text/plain": [
       "'Dad has gotten better, but my respect for him is gone. I find it hard to trust any fact he gives out in conversation, even if it has been completely true and known. How do I get over it this?'"
      ]
     },
     "execution_count": 117,
     "metadata": {},
     "output_type": "execute_result"
    }
   ],
   "source": [
    "df.loc[2935, 'title']"
   ]
  }
 ],
 "metadata": {
  "kernelspec": {
   "display_name": "Python 3",
   "language": "python",
   "name": "python3"
  },
  "language_info": {
   "codemirror_mode": {
    "name": "ipython",
    "version": 3
   },
   "file_extension": ".py",
   "mimetype": "text/x-python",
   "name": "python",
   "nbconvert_exporter": "python",
   "pygments_lexer": "ipython3",
   "version": "3.8.5"
  }
 },
 "nbformat": 4,
 "nbformat_minor": 4
}
