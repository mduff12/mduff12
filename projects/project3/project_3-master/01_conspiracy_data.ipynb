{
 "cells": [
  {
   "cell_type": "markdown",
   "metadata": {},
   "source": [
    "Notes//Brainstorm:\n",
    "    r/ufo and r/conspiracy: are there differences between the way people talk about UFO's and general conspiracy theories?\n",
    "    r/conspiracy and r/qanoncasualties: see how the ideas stem from conspiracy and the sentiment of the people who are affected by their loved ones' beliefs \n",
    "    \n",
    "    -- should be looking for 1000 posts from 2 subreddits"
   ]
  },
  {
   "cell_type": "code",
   "execution_count": 1,
   "metadata": {},
   "outputs": [],
   "source": [
    "import requests\n",
    "import pandas as pd"
   ]
  },
  {
   "cell_type": "code",
   "execution_count": null,
   "metadata": {},
   "outputs": [],
   "source": [
    "subreddit1 = 'conspiracy'\n",
    "subreddit2 = 'QAnonCasualties'"
   ]
  },
  {
   "cell_type": "code",
   "execution_count": 44,
   "metadata": {},
   "outputs": [],
   "source": [
    "url = 'https://api.pushshift.io/reddit/search/submission'"
   ]
  },
  {
   "cell_type": "code",
   "execution_count": 109,
   "metadata": {},
   "outputs": [],
   "source": [
    "\n",
    "params = {\n",
    "    'subreddit': 'conspiracy',\n",
    "    'size': 100 \n",
    "    ,'before': 1614284710\n",
    "}"
   ]
  },
  {
   "cell_type": "code",
   "execution_count": 110,
   "metadata": {},
   "outputs": [],
   "source": [
    "res=requests.get(url, params)\n",
    "data = res.json()\n",
    "posts=data['data']"
   ]
  },
  {
   "cell_type": "code",
   "execution_count": 111,
   "metadata": {},
   "outputs": [],
   "source": [
    "#reddit sorts from newest (first, [0]) to the oldest (last)[-1]\n",
    "#want to get the last utc code from the list, and pull another batch of posts for BEFORE that date\n",
    "posts[-1]['created_utc']"
   ]
  },
  {
   "cell_type": "code",
   "execution_count": 114,
   "metadata": {},
   "outputs": [],
   "source": [
    "#Create a new data frame for each batch of posts\n",
    "# change name of variable for each data frame to save separately\n",
    "df10 = pd.DataFrame(posts)"
   ]
  },
  {
   "cell_type": "code",
   "execution_count": 118,
   "metadata": {},
   "outputs": [],
   "source": [
    "#all r/conspiracy posts\n",
    "#concat all datasets into one \n",
    "\n",
    "conspiracy_dataset = pd.concat([df1, df2, df3,df4, df5, df6, df7,df8, df9, df10])"
   ]
  },
  {
   "cell_type": "code",
   "execution_count": 135,
   "metadata": {},
   "outputs": [],
   "source": [
    "#save to CSV\n",
    "conspiracy_dataset.to_csv('conspiracy_dataset.csv')"
   ]
  },
  {
   "cell_type": "code",
   "execution_count": 137,
   "metadata": {},
   "outputs": [],
   "source": [
    "conspiracy = pd.read_csv('conspiracy_dataset.csv')"
   ]
  },
  {
   "cell_type": "code",
   "execution_count": 138,
   "metadata": {},
   "outputs": [
    {
     "data": {
      "text/html": [
       "<div>\n",
       "<style scoped>\n",
       "    .dataframe tbody tr th:only-of-type {\n",
       "        vertical-align: middle;\n",
       "    }\n",
       "\n",
       "    .dataframe tbody tr th {\n",
       "        vertical-align: top;\n",
       "    }\n",
       "\n",
       "    .dataframe thead th {\n",
       "        text-align: right;\n",
       "    }\n",
       "</style>\n",
       "<table border=\"1\" class=\"dataframe\">\n",
       "  <thead>\n",
       "    <tr style=\"text-align: right;\">\n",
       "      <th></th>\n",
       "      <th>title</th>\n",
       "      <th>selftext</th>\n",
       "      <th>subreddit</th>\n",
       "    </tr>\n",
       "  </thead>\n",
       "  <tbody>\n",
       "    <tr>\n",
       "      <th>0</th>\n",
       "      <td>Ex-Russian intel officer tells it as it is [CE...</td>\n",
       "      <td>NaN</td>\n",
       "      <td>conspiracy</td>\n",
       "    </tr>\n",
       "    <tr>\n",
       "      <th>1</th>\n",
       "      <td>the curious case of Meg Myers</td>\n",
       "      <td>Does anyone in this sub listen to her music. I...</td>\n",
       "      <td>conspiracy</td>\n",
       "    </tr>\n",
       "    <tr>\n",
       "      <th>2</th>\n",
       "      <td>I curse everyone involved in child sex traffic...</td>\n",
       "      <td>NaN</td>\n",
       "      <td>conspiracy</td>\n",
       "    </tr>\n",
       "    <tr>\n",
       "      <th>3</th>\n",
       "      <td>Anyone feel like there is a slow but major div...</td>\n",
       "      <td>[deleted]</td>\n",
       "      <td>conspiracy</td>\n",
       "    </tr>\n",
       "    <tr>\n",
       "      <th>4</th>\n",
       "      <td>Join the discussion, link in the submission st...</td>\n",
       "      <td>[deleted]</td>\n",
       "      <td>conspiracy</td>\n",
       "    </tr>\n",
       "    <tr>\n",
       "      <th>...</th>\n",
       "      <td>...</td>\n",
       "      <td>...</td>\n",
       "      <td>...</td>\n",
       "    </tr>\n",
       "    <tr>\n",
       "      <th>995</th>\n",
       "      <td>Looking for video of local news in Oklahoma Ci...</td>\n",
       "      <td>There used to be several videos on youtube of ...</td>\n",
       "      <td>conspiracy</td>\n",
       "    </tr>\n",
       "    <tr>\n",
       "      <th>996</th>\n",
       "      <td>GME rises again. Do you think it’s organic or ...</td>\n",
       "      <td>NaN</td>\n",
       "      <td>conspiracy</td>\n",
       "    </tr>\n",
       "    <tr>\n",
       "      <th>997</th>\n",
       "      <td>Polaris - Smart Electric Tripod Head A Smart E...</td>\n",
       "      <td>NaN</td>\n",
       "      <td>conspiracy</td>\n",
       "    </tr>\n",
       "    <tr>\n",
       "      <th>998</th>\n",
       "      <td>Oh the irony</td>\n",
       "      <td>NaN</td>\n",
       "      <td>conspiracy</td>\n",
       "    </tr>\n",
       "    <tr>\n",
       "      <th>999</th>\n",
       "      <td>Oh look! More dark winter jargon...</td>\n",
       "      <td>NaN</td>\n",
       "      <td>conspiracy</td>\n",
       "    </tr>\n",
       "  </tbody>\n",
       "</table>\n",
       "<p>1000 rows × 3 columns</p>\n",
       "</div>"
      ],
      "text/plain": [
       "                                                 title  \\\n",
       "0    Ex-Russian intel officer tells it as it is [CE...   \n",
       "1                        the curious case of Meg Myers   \n",
       "2    I curse everyone involved in child sex traffic...   \n",
       "3    Anyone feel like there is a slow but major div...   \n",
       "4    Join the discussion, link in the submission st...   \n",
       "..                                                 ...   \n",
       "995  Looking for video of local news in Oklahoma Ci...   \n",
       "996  GME rises again. Do you think it’s organic or ...   \n",
       "997  Polaris - Smart Electric Tripod Head A Smart E...   \n",
       "998                                       Oh the irony   \n",
       "999                Oh look! More dark winter jargon...   \n",
       "\n",
       "                                              selftext   subreddit  \n",
       "0                                                  NaN  conspiracy  \n",
       "1    Does anyone in this sub listen to her music. I...  conspiracy  \n",
       "2                                                  NaN  conspiracy  \n",
       "3                                            [deleted]  conspiracy  \n",
       "4                                            [deleted]  conspiracy  \n",
       "..                                                 ...         ...  \n",
       "995  There used to be several videos on youtube of ...  conspiracy  \n",
       "996                                                NaN  conspiracy  \n",
       "997                                                NaN  conspiracy  \n",
       "998                                                NaN  conspiracy  \n",
       "999                                                NaN  conspiracy  \n",
       "\n",
       "[1000 rows x 3 columns]"
      ]
     },
     "execution_count": 138,
     "metadata": {},
     "output_type": "execute_result"
    }
   ],
   "source": [
    "conspiracy[['title','selftext','subreddit']]"
   ]
  },
  {
   "cell_type": "code",
   "execution_count": null,
   "metadata": {},
   "outputs": [],
   "source": [
    "# Pseudo Code\n",
    "# run all code and create first dataset, df1\n",
    "# run loop to get the rest:\n",
    "# first loop to call the Reddit API and get the json data\n",
    "#second loop to index on the last 'created_utc' code of the last batch you pulled and then place in the parameters for pulling the next batch\n",
    "#create a list from 2-10 to rename each new data frame and not create a forever loop\n",
    "#concat all 10 data frames"
   ]
  }
 ],
 "metadata": {
  "kernelspec": {
   "display_name": "Python 3",
   "language": "python",
   "name": "python3"
  },
  "language_info": {
   "codemirror_mode": {
    "name": "ipython",
    "version": 3
   },
   "file_extension": ".py",
   "mimetype": "text/x-python",
   "name": "python",
   "nbconvert_exporter": "python",
   "pygments_lexer": "ipython3",
   "version": "3.8.5"
  }
 },
 "nbformat": 4,
 "nbformat_minor": 4
}
