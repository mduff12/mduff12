{
 "cells": [
  {
   "cell_type": "code",
   "execution_count": 10,
   "metadata": {},
   "outputs": [],
   "source": [
    "import requests\n",
    "import pandas as pd\n",
    "from time import sleep"
   ]
  },
  {
   "cell_type": "code",
   "execution_count": 13,
   "metadata": {},
   "outputs": [],
   "source": [
    "subreddit1 = 'conspiracy'\n",
    "subreddit2 = 'QAnonCasualties'"
   ]
  },
  {
   "cell_type": "code",
   "execution_count": 14,
   "metadata": {},
   "outputs": [],
   "source": [
    "url = 'https://api.pushshift.io/reddit/search/submission'"
   ]
  },
  {
   "cell_type": "code",
   "execution_count": 15,
   "metadata": {},
   "outputs": [],
   "source": [
    "#replace subreddit name with the subreddit we're looking for: 'QAnonCasualties' & 'conspiracy'\n",
    "jsons_list = []\n",
    "\n",
    "params = {\n",
    "    'subreddit': 'QAnonCasualties',\n",
    "    'size': 100 \n",
    "    ,'before': 1614284710\n",
    "}\n",
    "\n",
    "for i in range(10):\n",
    "    res=requests.get(url, params)\n",
    "    data=res.json()\n",
    "    jsons_list.append(data)\n",
    "    posts=data['data']\n",
    "    new_utc=posts[-1]['created_utc']\n",
    "    params['before']=new_utc\n",
    "    sleep(5)\n"
   ]
  },
  {
   "cell_type": "code",
   "execution_count": null,
   "metadata": {},
   "outputs": [],
   "source": [
    "qanon_dfs = []\n",
    "for each in jsons_list:\n",
    "    posts = data['data']\n",
    "    posts_df = pd.DataFrame(posts)\n",
    "    qanon_dfs.append(posts_df)\n",
    "quanon = pd.concat(qanon_dfs)"
   ]
  },
  {
   "cell_type": "code",
   "execution_count": null,
   "metadata": {},
   "outputs": [],
   "source": [
    "quanon = quanon[['title','selftext','subreddit']]"
   ]
  },
  {
   "cell_type": "code",
   "execution_count": null,
   "metadata": {},
   "outputs": [],
   "source": [
    "quanon.to_csv('quanon_dataset.csv')"
   ]
  }
 ],
 "metadata": {
  "kernelspec": {
   "display_name": "Python 3",
   "language": "python",
   "name": "python3"
  },
  "language_info": {
   "codemirror_mode": {
    "name": "ipython",
    "version": 3
   },
   "file_extension": ".py",
   "mimetype": "text/x-python",
   "name": "python",
   "nbconvert_exporter": "python",
   "pygments_lexer": "ipython3",
   "version": "3.8.5"
  }
 },
 "nbformat": 4,
 "nbformat_minor": 4
}
