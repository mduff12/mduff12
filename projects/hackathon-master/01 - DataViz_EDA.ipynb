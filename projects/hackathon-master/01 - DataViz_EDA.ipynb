{
 "cells": [
  {
   "cell_type": "markdown",
   "metadata": {},
   "source": [
    "# Notebook 1: Cleaning and EDA"
   ]
  },
  {
   "cell_type": "markdown",
   "metadata": {},
   "source": [
    "This notebook is 1 if 2 in project 4. This notebook aims to clean, explore and visualize the data in order to make more intelligent decisions on our feature selection for modelling. \n",
    "\n",
    "\n",
    "**Problem Statement: Can we predict if someone is staying in the US or going abroad on thier AirBnB vacation?**"
   ]
  },
  {
   "cell_type": "markdown",
   "metadata": {},
   "source": [
    "### Imports and Reading in the data"
   ]
  },
  {
   "cell_type": "code",
   "execution_count": 1,
   "metadata": {},
   "outputs": [],
   "source": [
    "import pandas as pd\n",
    "import numpy as np\n",
    "import matplotlib.pyplot as plt\n",
    "import seaborn as sns"
   ]
  },
  {
   "cell_type": "code",
   "execution_count": 2,
   "metadata": {},
   "outputs": [],
   "source": [
    "df = pd.read_csv('./airbnb-recruiting-new-user-bookings/train_users_2_copy.csv')"
   ]
  },
  {
   "cell_type": "code",
   "execution_count": 3,
   "metadata": {},
   "outputs": [
    {
     "data": {
      "text/html": [
       "<div>\n",
       "<style scoped>\n",
       "    .dataframe tbody tr th:only-of-type {\n",
       "        vertical-align: middle;\n",
       "    }\n",
       "\n",
       "    .dataframe tbody tr th {\n",
       "        vertical-align: top;\n",
       "    }\n",
       "\n",
       "    .dataframe thead th {\n",
       "        text-align: right;\n",
       "    }\n",
       "</style>\n",
       "<table border=\"1\" class=\"dataframe\">\n",
       "  <thead>\n",
       "    <tr style=\"text-align: right;\">\n",
       "      <th></th>\n",
       "      <th>id</th>\n",
       "      <th>date_account_created</th>\n",
       "      <th>timestamp_first_active</th>\n",
       "      <th>date_first_booking</th>\n",
       "      <th>gender</th>\n",
       "      <th>age</th>\n",
       "      <th>signup_method</th>\n",
       "      <th>signup_flow</th>\n",
       "      <th>language</th>\n",
       "      <th>affiliate_channel</th>\n",
       "      <th>affiliate_provider</th>\n",
       "      <th>first_affiliate_tracked</th>\n",
       "      <th>signup_app</th>\n",
       "      <th>first_device_type</th>\n",
       "      <th>first_browser</th>\n",
       "      <th>country_destination</th>\n",
       "    </tr>\n",
       "  </thead>\n",
       "  <tbody>\n",
       "    <tr>\n",
       "      <th>0</th>\n",
       "      <td>gxn3p5htnn</td>\n",
       "      <td>2010-06-28</td>\n",
       "      <td>20090319043255</td>\n",
       "      <td>NaN</td>\n",
       "      <td>-unknown-</td>\n",
       "      <td>NaN</td>\n",
       "      <td>facebook</td>\n",
       "      <td>0</td>\n",
       "      <td>en</td>\n",
       "      <td>direct</td>\n",
       "      <td>direct</td>\n",
       "      <td>untracked</td>\n",
       "      <td>Web</td>\n",
       "      <td>Mac Desktop</td>\n",
       "      <td>Chrome</td>\n",
       "      <td>NDF</td>\n",
       "    </tr>\n",
       "    <tr>\n",
       "      <th>1</th>\n",
       "      <td>820tgsjxq7</td>\n",
       "      <td>2011-05-25</td>\n",
       "      <td>20090523174809</td>\n",
       "      <td>NaN</td>\n",
       "      <td>MALE</td>\n",
       "      <td>38.0</td>\n",
       "      <td>facebook</td>\n",
       "      <td>0</td>\n",
       "      <td>en</td>\n",
       "      <td>seo</td>\n",
       "      <td>google</td>\n",
       "      <td>untracked</td>\n",
       "      <td>Web</td>\n",
       "      <td>Mac Desktop</td>\n",
       "      <td>Chrome</td>\n",
       "      <td>NDF</td>\n",
       "    </tr>\n",
       "    <tr>\n",
       "      <th>2</th>\n",
       "      <td>4ft3gnwmtx</td>\n",
       "      <td>2010-09-28</td>\n",
       "      <td>20090609231247</td>\n",
       "      <td>2010-08-02</td>\n",
       "      <td>FEMALE</td>\n",
       "      <td>56.0</td>\n",
       "      <td>basic</td>\n",
       "      <td>3</td>\n",
       "      <td>en</td>\n",
       "      <td>direct</td>\n",
       "      <td>direct</td>\n",
       "      <td>untracked</td>\n",
       "      <td>Web</td>\n",
       "      <td>Windows Desktop</td>\n",
       "      <td>IE</td>\n",
       "      <td>US</td>\n",
       "    </tr>\n",
       "    <tr>\n",
       "      <th>3</th>\n",
       "      <td>bjjt8pjhuk</td>\n",
       "      <td>2011-12-05</td>\n",
       "      <td>20091031060129</td>\n",
       "      <td>2012-09-08</td>\n",
       "      <td>FEMALE</td>\n",
       "      <td>42.0</td>\n",
       "      <td>facebook</td>\n",
       "      <td>0</td>\n",
       "      <td>en</td>\n",
       "      <td>direct</td>\n",
       "      <td>direct</td>\n",
       "      <td>untracked</td>\n",
       "      <td>Web</td>\n",
       "      <td>Mac Desktop</td>\n",
       "      <td>Firefox</td>\n",
       "      <td>other</td>\n",
       "    </tr>\n",
       "    <tr>\n",
       "      <th>4</th>\n",
       "      <td>87mebub9p4</td>\n",
       "      <td>2010-09-14</td>\n",
       "      <td>20091208061105</td>\n",
       "      <td>2010-02-18</td>\n",
       "      <td>-unknown-</td>\n",
       "      <td>41.0</td>\n",
       "      <td>basic</td>\n",
       "      <td>0</td>\n",
       "      <td>en</td>\n",
       "      <td>direct</td>\n",
       "      <td>direct</td>\n",
       "      <td>untracked</td>\n",
       "      <td>Web</td>\n",
       "      <td>Mac Desktop</td>\n",
       "      <td>Chrome</td>\n",
       "      <td>US</td>\n",
       "    </tr>\n",
       "    <tr>\n",
       "      <th>...</th>\n",
       "      <td>...</td>\n",
       "      <td>...</td>\n",
       "      <td>...</td>\n",
       "      <td>...</td>\n",
       "      <td>...</td>\n",
       "      <td>...</td>\n",
       "      <td>...</td>\n",
       "      <td>...</td>\n",
       "      <td>...</td>\n",
       "      <td>...</td>\n",
       "      <td>...</td>\n",
       "      <td>...</td>\n",
       "      <td>...</td>\n",
       "      <td>...</td>\n",
       "      <td>...</td>\n",
       "      <td>...</td>\n",
       "    </tr>\n",
       "    <tr>\n",
       "      <th>213446</th>\n",
       "      <td>zxodksqpep</td>\n",
       "      <td>2014-06-30</td>\n",
       "      <td>20140630235636</td>\n",
       "      <td>NaN</td>\n",
       "      <td>MALE</td>\n",
       "      <td>32.0</td>\n",
       "      <td>basic</td>\n",
       "      <td>0</td>\n",
       "      <td>en</td>\n",
       "      <td>sem-brand</td>\n",
       "      <td>google</td>\n",
       "      <td>omg</td>\n",
       "      <td>Web</td>\n",
       "      <td>Mac Desktop</td>\n",
       "      <td>Safari</td>\n",
       "      <td>NDF</td>\n",
       "    </tr>\n",
       "    <tr>\n",
       "      <th>213447</th>\n",
       "      <td>mhewnxesx9</td>\n",
       "      <td>2014-06-30</td>\n",
       "      <td>20140630235719</td>\n",
       "      <td>NaN</td>\n",
       "      <td>-unknown-</td>\n",
       "      <td>NaN</td>\n",
       "      <td>basic</td>\n",
       "      <td>0</td>\n",
       "      <td>en</td>\n",
       "      <td>direct</td>\n",
       "      <td>direct</td>\n",
       "      <td>linked</td>\n",
       "      <td>Web</td>\n",
       "      <td>Windows Desktop</td>\n",
       "      <td>Chrome</td>\n",
       "      <td>NDF</td>\n",
       "    </tr>\n",
       "    <tr>\n",
       "      <th>213448</th>\n",
       "      <td>6o3arsjbb4</td>\n",
       "      <td>2014-06-30</td>\n",
       "      <td>20140630235754</td>\n",
       "      <td>NaN</td>\n",
       "      <td>-unknown-</td>\n",
       "      <td>32.0</td>\n",
       "      <td>basic</td>\n",
       "      <td>0</td>\n",
       "      <td>en</td>\n",
       "      <td>direct</td>\n",
       "      <td>direct</td>\n",
       "      <td>untracked</td>\n",
       "      <td>Web</td>\n",
       "      <td>Mac Desktop</td>\n",
       "      <td>Firefox</td>\n",
       "      <td>NDF</td>\n",
       "    </tr>\n",
       "    <tr>\n",
       "      <th>213449</th>\n",
       "      <td>jh95kwisub</td>\n",
       "      <td>2014-06-30</td>\n",
       "      <td>20140630235822</td>\n",
       "      <td>NaN</td>\n",
       "      <td>-unknown-</td>\n",
       "      <td>NaN</td>\n",
       "      <td>basic</td>\n",
       "      <td>25</td>\n",
       "      <td>en</td>\n",
       "      <td>other</td>\n",
       "      <td>other</td>\n",
       "      <td>tracked-other</td>\n",
       "      <td>iOS</td>\n",
       "      <td>iPhone</td>\n",
       "      <td>Mobile Safari</td>\n",
       "      <td>NDF</td>\n",
       "    </tr>\n",
       "    <tr>\n",
       "      <th>213450</th>\n",
       "      <td>nw9fwlyb5f</td>\n",
       "      <td>2014-06-30</td>\n",
       "      <td>20140630235824</td>\n",
       "      <td>NaN</td>\n",
       "      <td>-unknown-</td>\n",
       "      <td>NaN</td>\n",
       "      <td>basic</td>\n",
       "      <td>25</td>\n",
       "      <td>en</td>\n",
       "      <td>direct</td>\n",
       "      <td>direct</td>\n",
       "      <td>untracked</td>\n",
       "      <td>iOS</td>\n",
       "      <td>iPhone</td>\n",
       "      <td>-unknown-</td>\n",
       "      <td>NDF</td>\n",
       "    </tr>\n",
       "  </tbody>\n",
       "</table>\n",
       "<p>213451 rows × 16 columns</p>\n",
       "</div>"
      ],
      "text/plain": [
       "                id date_account_created  timestamp_first_active  \\\n",
       "0       gxn3p5htnn           2010-06-28          20090319043255   \n",
       "1       820tgsjxq7           2011-05-25          20090523174809   \n",
       "2       4ft3gnwmtx           2010-09-28          20090609231247   \n",
       "3       bjjt8pjhuk           2011-12-05          20091031060129   \n",
       "4       87mebub9p4           2010-09-14          20091208061105   \n",
       "...            ...                  ...                     ...   \n",
       "213446  zxodksqpep           2014-06-30          20140630235636   \n",
       "213447  mhewnxesx9           2014-06-30          20140630235719   \n",
       "213448  6o3arsjbb4           2014-06-30          20140630235754   \n",
       "213449  jh95kwisub           2014-06-30          20140630235822   \n",
       "213450  nw9fwlyb5f           2014-06-30          20140630235824   \n",
       "\n",
       "       date_first_booking     gender   age signup_method  signup_flow  \\\n",
       "0                     NaN  -unknown-   NaN      facebook            0   \n",
       "1                     NaN       MALE  38.0      facebook            0   \n",
       "2              2010-08-02     FEMALE  56.0         basic            3   \n",
       "3              2012-09-08     FEMALE  42.0      facebook            0   \n",
       "4              2010-02-18  -unknown-  41.0         basic            0   \n",
       "...                   ...        ...   ...           ...          ...   \n",
       "213446                NaN       MALE  32.0         basic            0   \n",
       "213447                NaN  -unknown-   NaN         basic            0   \n",
       "213448                NaN  -unknown-  32.0         basic            0   \n",
       "213449                NaN  -unknown-   NaN         basic           25   \n",
       "213450                NaN  -unknown-   NaN         basic           25   \n",
       "\n",
       "       language affiliate_channel affiliate_provider first_affiliate_tracked  \\\n",
       "0            en            direct             direct               untracked   \n",
       "1            en               seo             google               untracked   \n",
       "2            en            direct             direct               untracked   \n",
       "3            en            direct             direct               untracked   \n",
       "4            en            direct             direct               untracked   \n",
       "...         ...               ...                ...                     ...   \n",
       "213446       en         sem-brand             google                     omg   \n",
       "213447       en            direct             direct                  linked   \n",
       "213448       en            direct             direct               untracked   \n",
       "213449       en             other              other           tracked-other   \n",
       "213450       en            direct             direct               untracked   \n",
       "\n",
       "       signup_app first_device_type  first_browser country_destination  \n",
       "0             Web       Mac Desktop         Chrome                 NDF  \n",
       "1             Web       Mac Desktop         Chrome                 NDF  \n",
       "2             Web   Windows Desktop             IE                  US  \n",
       "3             Web       Mac Desktop        Firefox               other  \n",
       "4             Web       Mac Desktop         Chrome                  US  \n",
       "...           ...               ...            ...                 ...  \n",
       "213446        Web       Mac Desktop         Safari                 NDF  \n",
       "213447        Web   Windows Desktop         Chrome                 NDF  \n",
       "213448        Web       Mac Desktop        Firefox                 NDF  \n",
       "213449        iOS            iPhone  Mobile Safari                 NDF  \n",
       "213450        iOS            iPhone      -unknown-                 NDF  \n",
       "\n",
       "[213451 rows x 16 columns]"
      ]
     },
     "execution_count": 3,
     "metadata": {},
     "output_type": "execute_result"
    }
   ],
   "source": [
    "df"
   ]
  },
  {
   "cell_type": "code",
   "execution_count": 4,
   "metadata": {},
   "outputs": [],
   "source": [
    "countries = pd.read_csv('airbnb-recruiting-new-user-bookings/countries.csv')"
   ]
  },
  {
   "cell_type": "markdown",
   "metadata": {},
   "source": [
    "# Cleaning The Data"
   ]
  },
  {
   "cell_type": "markdown",
   "metadata": {},
   "source": [
    "### Step 1: Creating addtional columns"
   ]
  },
  {
   "cell_type": "code",
   "execution_count": 5,
   "metadata": {},
   "outputs": [],
   "source": [
    "df_m = pd.merge(left = df,right = countries, on='country_destination')"
   ]
  },
  {
   "cell_type": "code",
   "execution_count": 6,
   "metadata": {},
   "outputs": [
    {
     "data": {
      "text/plain": [
       "(78814, 22)"
      ]
     },
     "execution_count": 6,
     "metadata": {},
     "output_type": "execute_result"
    }
   ],
   "source": [
    "df_m.shape"
   ]
  },
  {
   "cell_type": "code",
   "execution_count": 7,
   "metadata": {},
   "outputs": [
    {
     "data": {
      "text/plain": [
       "id                                   0\n",
       "date_account_created                 0\n",
       "timestamp_first_active               0\n",
       "date_first_booking                   0\n",
       "gender                               0\n",
       "age                              17858\n",
       "signup_method                        0\n",
       "signup_flow                          0\n",
       "language                             0\n",
       "affiliate_channel                    0\n",
       "affiliate_provider                   0\n",
       "first_affiliate_tracked           1625\n",
       "signup_app                           0\n",
       "first_device_type                    0\n",
       "first_browser                        0\n",
       "country_destination                  0\n",
       "lat_destination                      0\n",
       "lng_destination                      0\n",
       "distance_km                          0\n",
       "destination_km2                      0\n",
       "destination_language                 0\n",
       "language_levenshtein_distance        0\n",
       "dtype: int64"
      ]
     },
     "execution_count": 7,
     "metadata": {},
     "output_type": "execute_result"
    }
   ],
   "source": [
    "df_m.isnull().sum()"
   ]
  },
  {
   "cell_type": "code",
   "execution_count": 8,
   "metadata": {},
   "outputs": [],
   "source": [
    "pd.set_option('display.max_columns', 500)"
   ]
  },
  {
   "cell_type": "code",
   "execution_count": 9,
   "metadata": {},
   "outputs": [
    {
     "data": {
      "text/plain": [
       "FEMALE       28833\n",
       "-unknown-    25549\n",
       "MALE         24278\n",
       "OTHER          154\n",
       "Name: gender, dtype: int64"
      ]
     },
     "execution_count": 9,
     "metadata": {},
     "output_type": "execute_result"
    }
   ],
   "source": [
    "df_m['gender'].value_counts()"
   ]
  },
  {
   "cell_type": "code",
   "execution_count": 10,
   "metadata": {},
   "outputs": [],
   "source": [
    "df_m['gender']=df_m['gender'].map({'MALE':0, 'FEMALE':1, 'OTHER': 2,'-unknown-':3 })"
   ]
  },
  {
   "cell_type": "code",
   "execution_count": 11,
   "metadata": {},
   "outputs": [
    {
     "data": {
      "text/plain": [
       "0        1\n",
       "1        3\n",
       "2        3\n",
       "3        1\n",
       "4        1\n",
       "        ..\n",
       "78809    1\n",
       "78810    0\n",
       "78811    1\n",
       "78812    1\n",
       "78813    1\n",
       "Name: gender, Length: 78814, dtype: int64"
      ]
     },
     "execution_count": 11,
     "metadata": {},
     "output_type": "execute_result"
    }
   ],
   "source": [
    "df_m['gender']"
   ]
  },
  {
   "cell_type": "markdown",
   "metadata": {},
   "source": [
    "### Step 2: Dealing with Null Values"
   ]
  },
  {
   "cell_type": "code",
   "execution_count": 12,
   "metadata": {},
   "outputs": [
    {
     "data": {
      "text/plain": [
       "id                                   0\n",
       "date_account_created                 0\n",
       "timestamp_first_active               0\n",
       "date_first_booking                   0\n",
       "gender                               0\n",
       "age                              17858\n",
       "signup_method                        0\n",
       "signup_flow                          0\n",
       "language                             0\n",
       "affiliate_channel                    0\n",
       "affiliate_provider                   0\n",
       "first_affiliate_tracked           1625\n",
       "signup_app                           0\n",
       "first_device_type                    0\n",
       "first_browser                        0\n",
       "country_destination                  0\n",
       "lat_destination                      0\n",
       "lng_destination                      0\n",
       "distance_km                          0\n",
       "destination_km2                      0\n",
       "destination_language                 0\n",
       "language_levenshtein_distance        0\n",
       "dtype: int64"
      ]
     },
     "execution_count": 12,
     "metadata": {},
     "output_type": "execute_result"
    }
   ],
   "source": [
    "df_m.isnull().sum()"
   ]
  },
  {
   "cell_type": "code",
   "execution_count": 13,
   "metadata": {},
   "outputs": [],
   "source": [
    "# Age - adding median age to the age column to fill null values"
   ]
  },
  {
   "cell_type": "code",
   "execution_count": 14,
   "metadata": {},
   "outputs": [
    {
     "data": {
      "text/plain": [
       "33.0"
      ]
     },
     "execution_count": 14,
     "metadata": {},
     "output_type": "execute_result"
    }
   ],
   "source": [
    "df_m['age'].median()"
   ]
  },
  {
   "cell_type": "code",
   "execution_count": 15,
   "metadata": {},
   "outputs": [],
   "source": [
    "df_m['age'].fillna(33, inplace=True)"
   ]
  },
  {
   "cell_type": "code",
   "execution_count": 16,
   "metadata": {},
   "outputs": [
    {
     "data": {
      "text/plain": [
       "0"
      ]
     },
     "execution_count": 16,
     "metadata": {},
     "output_type": "execute_result"
    }
   ],
   "source": [
    "df_m['age'].isnull().sum()"
   ]
  },
  {
   "cell_type": "code",
   "execution_count": 17,
   "metadata": {},
   "outputs": [],
   "source": [
    "#first affiliate tracked nulls\n",
    "df_m['first_affiliate_tracked'].fillna('', inplace = True)"
   ]
  },
  {
   "cell_type": "code",
   "execution_count": 18,
   "metadata": {},
   "outputs": [
    {
     "data": {
      "text/plain": [
       "id                               0\n",
       "date_account_created             0\n",
       "timestamp_first_active           0\n",
       "date_first_booking               0\n",
       "gender                           0\n",
       "age                              0\n",
       "signup_method                    0\n",
       "signup_flow                      0\n",
       "language                         0\n",
       "affiliate_channel                0\n",
       "affiliate_provider               0\n",
       "first_affiliate_tracked          0\n",
       "signup_app                       0\n",
       "first_device_type                0\n",
       "first_browser                    0\n",
       "country_destination              0\n",
       "lat_destination                  0\n",
       "lng_destination                  0\n",
       "distance_km                      0\n",
       "destination_km2                  0\n",
       "destination_language             0\n",
       "language_levenshtein_distance    0\n",
       "dtype: int64"
      ]
     },
     "execution_count": 18,
     "metadata": {},
     "output_type": "execute_result"
    }
   ],
   "source": [
    "df_m.isnull().sum()"
   ]
  },
  {
   "cell_type": "markdown",
   "metadata": {},
   "source": [
    "### Step 3: EDA & Data Viz"
   ]
  },
  {
   "cell_type": "markdown",
   "metadata": {},
   "source": [
    "##### Looking to see if there are any variables that would cause problems later on"
   ]
  },
  {
   "cell_type": "code",
   "execution_count": 19,
   "metadata": {},
   "outputs": [
    {
     "data": {
      "text/plain": [
       "<AxesSubplot:>"
      ]
     },
     "execution_count": 19,
     "metadata": {},
     "output_type": "execute_result"
    },
    {
     "data": {
      "image/png": "[encoded data removed]",
      "text/plain": [
       "<Figure size 576x720 with 2 Axes>"
      ]
     },
     "metadata": {
      "needs_background": "light"
     },
     "output_type": "display_data"
    }
   ],
   "source": [
    "plt.figure(figsize=(8,10))\n",
    "sns.heatmap(df_m.corr(), annot=True,cmap='Reds')\n"
   ]
  },
  {
   "cell_type": "markdown",
   "metadata": {},
   "source": [
    "### Country destination historgram"
   ]
  },
  {
   "cell_type": "markdown",
   "metadata": {},
   "source": [
    "Here we see the distribution of country destinations, and how skewed it is to the US. This led us to the decision to binarize the country destinations column and create the variables 1 = US, 0 = other. "
   ]
  },
  {
   "cell_type": "code",
   "execution_count": 20,
   "metadata": {},
   "outputs": [
    {
     "data": {
      "image/png": "[encoded data removed]",
      "text/plain": [
       "<Figure size 432x288 with 1 Axes>"
      ]
     },
     "metadata": {
      "needs_background": "light"
     },
     "output_type": "display_data"
    }
   ],
   "source": [
    "plt.hist(x=df['country_destination']);"
   ]
  },
  {
   "cell_type": "code",
   "execution_count": 21,
   "metadata": {},
   "outputs": [
    {
     "name": "stderr",
     "output_type": "stream",
     "text": [
      "/Users/merylduff/opt/anaconda3/lib/python3.8/site-packages/seaborn/_decorators.py:36: FutureWarning: Pass the following variable as a keyword arg: x. From version 0.12, the only valid positional argument will be `data`, and passing other arguments without an explicit keyword will result in an error or misinterpretation.\n",
      "  warnings.warn(\n"
     ]
    },
    {
     "data": {
      "image/png": "[encoded data removed]",
      "text/plain": [
       "<Figure size 432x288 with 1 Axes>"
      ]
     },
     "metadata": {
      "needs_background": "light"
     },
     "output_type": "display_data"
    }
   ],
   "source": [
    "sns.boxplot(df_m['age']);"
   ]
  },
  {
   "cell_type": "code",
   "execution_count": 23,
   "metadata": {},
   "outputs": [
    {
     "data": {
      "text/plain": [
       "count    78814.000000\n",
       "mean        44.410092\n",
       "std        128.060123\n",
       "min          2.000000\n",
       "25%         30.000000\n",
       "50%         33.000000\n",
       "75%         38.000000\n",
       "max       2014.000000\n",
       "Name: age, dtype: float64"
      ]
     },
     "execution_count": 23,
     "metadata": {},
     "output_type": "execute_result"
    }
   ],
   "source": [
    "df_m['age'].describe()"
   ]
  },
  {
   "cell_type": "code",
   "execution_count": 24,
   "metadata": {},
   "outputs": [],
   "source": [
    "df_m = df_m[df_m['age'] < 100]"
   ]
  },
  {
   "cell_type": "code",
   "execution_count": 26,
   "metadata": {},
   "outputs": [],
   "source": [
    "df_m = df_m[df_m['age'] > 18]"
   ]
  },
  {
   "cell_type": "code",
   "execution_count": 27,
   "metadata": {},
   "outputs": [
    {
     "data": {
      "text/html": [
       "<div>\n",
       "<style scoped>\n",
       "    .dataframe tbody tr th:only-of-type {\n",
       "        vertical-align: middle;\n",
       "    }\n",
       "\n",
       "    .dataframe tbody tr th {\n",
       "        vertical-align: top;\n",
       "    }\n",
       "\n",
       "    .dataframe thead th {\n",
       "        text-align: right;\n",
       "    }\n",
       "</style>\n",
       "<table border=\"1\" class=\"dataframe\">\n",
       "  <thead>\n",
       "    <tr style=\"text-align: right;\">\n",
       "      <th></th>\n",
       "      <th>id</th>\n",
       "      <th>date_account_created</th>\n",
       "      <th>timestamp_first_active</th>\n",
       "      <th>date_first_booking</th>\n",
       "      <th>gender</th>\n",
       "      <th>age</th>\n",
       "      <th>signup_method</th>\n",
       "      <th>signup_flow</th>\n",
       "      <th>language</th>\n",
       "      <th>affiliate_channel</th>\n",
       "      <th>affiliate_provider</th>\n",
       "      <th>first_affiliate_tracked</th>\n",
       "      <th>signup_app</th>\n",
       "      <th>first_device_type</th>\n",
       "      <th>first_browser</th>\n",
       "      <th>country_destination</th>\n",
       "      <th>lat_destination</th>\n",
       "      <th>lng_destination</th>\n",
       "      <th>distance_km</th>\n",
       "      <th>destination_km2</th>\n",
       "      <th>destination_language</th>\n",
       "      <th>language_levenshtein_distance</th>\n",
       "    </tr>\n",
       "  </thead>\n",
       "  <tbody>\n",
       "    <tr>\n",
       "      <th>0</th>\n",
       "      <td>4ft3gnwmtx</td>\n",
       "      <td>2010-09-28</td>\n",
       "      <td>20090609231247</td>\n",
       "      <td>2010-08-02</td>\n",
       "      <td>1</td>\n",
       "      <td>56.0</td>\n",
       "      <td>basic</td>\n",
       "      <td>3</td>\n",
       "      <td>en</td>\n",
       "      <td>direct</td>\n",
       "      <td>direct</td>\n",
       "      <td>untracked</td>\n",
       "      <td>Web</td>\n",
       "      <td>Windows Desktop</td>\n",
       "      <td>IE</td>\n",
       "      <td>US</td>\n",
       "      <td>36.966427</td>\n",
       "      <td>-95.84403</td>\n",
       "      <td>0.000</td>\n",
       "      <td>9826675.0</td>\n",
       "      <td>eng</td>\n",
       "      <td>0.0</td>\n",
       "    </tr>\n",
       "    <tr>\n",
       "      <th>1</th>\n",
       "      <td>87mebub9p4</td>\n",
       "      <td>2010-09-14</td>\n",
       "      <td>20091208061105</td>\n",
       "      <td>2010-02-18</td>\n",
       "      <td>3</td>\n",
       "      <td>41.0</td>\n",
       "      <td>basic</td>\n",
       "      <td>0</td>\n",
       "      <td>en</td>\n",
       "      <td>direct</td>\n",
       "      <td>direct</td>\n",
       "      <td>untracked</td>\n",
       "      <td>Web</td>\n",
       "      <td>Mac Desktop</td>\n",
       "      <td>Chrome</td>\n",
       "      <td>US</td>\n",
       "      <td>36.966427</td>\n",
       "      <td>-95.84403</td>\n",
       "      <td>0.000</td>\n",
       "      <td>9826675.0</td>\n",
       "      <td>eng</td>\n",
       "      <td>0.0</td>\n",
       "    </tr>\n",
       "    <tr>\n",
       "      <th>2</th>\n",
       "      <td>osr2jwljor</td>\n",
       "      <td>2010-01-01</td>\n",
       "      <td>20100101215619</td>\n",
       "      <td>2010-01-02</td>\n",
       "      <td>3</td>\n",
       "      <td>33.0</td>\n",
       "      <td>basic</td>\n",
       "      <td>0</td>\n",
       "      <td>en</td>\n",
       "      <td>other</td>\n",
       "      <td>other</td>\n",
       "      <td>omg</td>\n",
       "      <td>Web</td>\n",
       "      <td>Mac Desktop</td>\n",
       "      <td>Chrome</td>\n",
       "      <td>US</td>\n",
       "      <td>36.966427</td>\n",
       "      <td>-95.84403</td>\n",
       "      <td>0.000</td>\n",
       "      <td>9826675.0</td>\n",
       "      <td>eng</td>\n",
       "      <td>0.0</td>\n",
       "    </tr>\n",
       "    <tr>\n",
       "      <th>3</th>\n",
       "      <td>lsw9q7uk0j</td>\n",
       "      <td>2010-01-02</td>\n",
       "      <td>20100102012558</td>\n",
       "      <td>2010-01-05</td>\n",
       "      <td>1</td>\n",
       "      <td>46.0</td>\n",
       "      <td>basic</td>\n",
       "      <td>0</td>\n",
       "      <td>en</td>\n",
       "      <td>other</td>\n",
       "      <td>craigslist</td>\n",
       "      <td>untracked</td>\n",
       "      <td>Web</td>\n",
       "      <td>Mac Desktop</td>\n",
       "      <td>Safari</td>\n",
       "      <td>US</td>\n",
       "      <td>36.966427</td>\n",
       "      <td>-95.84403</td>\n",
       "      <td>0.000</td>\n",
       "      <td>9826675.0</td>\n",
       "      <td>eng</td>\n",
       "      <td>0.0</td>\n",
       "    </tr>\n",
       "    <tr>\n",
       "      <th>4</th>\n",
       "      <td>0d01nltbrs</td>\n",
       "      <td>2010-01-03</td>\n",
       "      <td>20100103191905</td>\n",
       "      <td>2010-01-13</td>\n",
       "      <td>1</td>\n",
       "      <td>47.0</td>\n",
       "      <td>basic</td>\n",
       "      <td>0</td>\n",
       "      <td>en</td>\n",
       "      <td>direct</td>\n",
       "      <td>direct</td>\n",
       "      <td>omg</td>\n",
       "      <td>Web</td>\n",
       "      <td>Mac Desktop</td>\n",
       "      <td>Safari</td>\n",
       "      <td>US</td>\n",
       "      <td>36.966427</td>\n",
       "      <td>-95.84403</td>\n",
       "      <td>0.000</td>\n",
       "      <td>9826675.0</td>\n",
       "      <td>eng</td>\n",
       "      <td>0.0</td>\n",
       "    </tr>\n",
       "    <tr>\n",
       "      <th>...</th>\n",
       "      <td>...</td>\n",
       "      <td>...</td>\n",
       "      <td>...</td>\n",
       "      <td>...</td>\n",
       "      <td>...</td>\n",
       "      <td>...</td>\n",
       "      <td>...</td>\n",
       "      <td>...</td>\n",
       "      <td>...</td>\n",
       "      <td>...</td>\n",
       "      <td>...</td>\n",
       "      <td>...</td>\n",
       "      <td>...</td>\n",
       "      <td>...</td>\n",
       "      <td>...</td>\n",
       "      <td>...</td>\n",
       "      <td>...</td>\n",
       "      <td>...</td>\n",
       "      <td>...</td>\n",
       "      <td>...</td>\n",
       "      <td>...</td>\n",
       "      <td>...</td>\n",
       "    </tr>\n",
       "    <tr>\n",
       "      <th>78809</th>\n",
       "      <td>egikxlfmh8</td>\n",
       "      <td>2014-06-26</td>\n",
       "      <td>20140626022743</td>\n",
       "      <td>2014-06-26</td>\n",
       "      <td>1</td>\n",
       "      <td>32.0</td>\n",
       "      <td>basic</td>\n",
       "      <td>0</td>\n",
       "      <td>en</td>\n",
       "      <td>seo</td>\n",
       "      <td>google</td>\n",
       "      <td>linked</td>\n",
       "      <td>Web</td>\n",
       "      <td>Windows Desktop</td>\n",
       "      <td>Chrome</td>\n",
       "      <td>AU</td>\n",
       "      <td>-26.853388</td>\n",
       "      <td>133.27516</td>\n",
       "      <td>15297.744</td>\n",
       "      <td>7741220.0</td>\n",
       "      <td>eng</td>\n",
       "      <td>0.0</td>\n",
       "    </tr>\n",
       "    <tr>\n",
       "      <th>78810</th>\n",
       "      <td>oitccptcw6</td>\n",
       "      <td>2014-06-26</td>\n",
       "      <td>20140626065256</td>\n",
       "      <td>2014-07-28</td>\n",
       "      <td>0</td>\n",
       "      <td>48.0</td>\n",
       "      <td>basic</td>\n",
       "      <td>0</td>\n",
       "      <td>en</td>\n",
       "      <td>sem-brand</td>\n",
       "      <td>google</td>\n",
       "      <td>untracked</td>\n",
       "      <td>Web</td>\n",
       "      <td>Mac Desktop</td>\n",
       "      <td>Safari</td>\n",
       "      <td>AU</td>\n",
       "      <td>-26.853388</td>\n",
       "      <td>133.27516</td>\n",
       "      <td>15297.744</td>\n",
       "      <td>7741220.0</td>\n",
       "      <td>eng</td>\n",
       "      <td>0.0</td>\n",
       "    </tr>\n",
       "    <tr>\n",
       "      <th>78811</th>\n",
       "      <td>86s1bo34bg</td>\n",
       "      <td>2014-06-30</td>\n",
       "      <td>20140630023309</td>\n",
       "      <td>2015-06-29</td>\n",
       "      <td>1</td>\n",
       "      <td>40.0</td>\n",
       "      <td>facebook</td>\n",
       "      <td>0</td>\n",
       "      <td>en</td>\n",
       "      <td>sem-brand</td>\n",
       "      <td>google</td>\n",
       "      <td>omg</td>\n",
       "      <td>Web</td>\n",
       "      <td>Mac Desktop</td>\n",
       "      <td>Safari</td>\n",
       "      <td>AU</td>\n",
       "      <td>-26.853388</td>\n",
       "      <td>133.27516</td>\n",
       "      <td>15297.744</td>\n",
       "      <td>7741220.0</td>\n",
       "      <td>eng</td>\n",
       "      <td>0.0</td>\n",
       "    </tr>\n",
       "    <tr>\n",
       "      <th>78812</th>\n",
       "      <td>ms2453k9vj</td>\n",
       "      <td>2014-06-30</td>\n",
       "      <td>20140630052141</td>\n",
       "      <td>2014-08-22</td>\n",
       "      <td>1</td>\n",
       "      <td>63.0</td>\n",
       "      <td>basic</td>\n",
       "      <td>0</td>\n",
       "      <td>en</td>\n",
       "      <td>seo</td>\n",
       "      <td>google</td>\n",
       "      <td>omg</td>\n",
       "      <td>Web</td>\n",
       "      <td>Windows Desktop</td>\n",
       "      <td>Chrome</td>\n",
       "      <td>AU</td>\n",
       "      <td>-26.853388</td>\n",
       "      <td>133.27516</td>\n",
       "      <td>15297.744</td>\n",
       "      <td>7741220.0</td>\n",
       "      <td>eng</td>\n",
       "      <td>0.0</td>\n",
       "    </tr>\n",
       "    <tr>\n",
       "      <th>78813</th>\n",
       "      <td>c999p94qui</td>\n",
       "      <td>2014-06-30</td>\n",
       "      <td>20140630222253</td>\n",
       "      <td>2014-07-08</td>\n",
       "      <td>1</td>\n",
       "      <td>30.0</td>\n",
       "      <td>basic</td>\n",
       "      <td>0</td>\n",
       "      <td>en</td>\n",
       "      <td>direct</td>\n",
       "      <td>direct</td>\n",
       "      <td>linked</td>\n",
       "      <td>Web</td>\n",
       "      <td>Mac Desktop</td>\n",
       "      <td>Chrome</td>\n",
       "      <td>AU</td>\n",
       "      <td>-26.853388</td>\n",
       "      <td>133.27516</td>\n",
       "      <td>15297.744</td>\n",
       "      <td>7741220.0</td>\n",
       "      <td>eng</td>\n",
       "      <td>0.0</td>\n",
       "    </tr>\n",
       "  </tbody>\n",
       "</table>\n",
       "<p>77305 rows × 22 columns</p>\n",
       "</div>"
      ],
      "text/plain": [
       "               id date_account_created  timestamp_first_active  \\\n",
       "0      4ft3gnwmtx           2010-09-28          20090609231247   \n",
       "1      87mebub9p4           2010-09-14          20091208061105   \n",
       "2      osr2jwljor           2010-01-01          20100101215619   \n",
       "3      lsw9q7uk0j           2010-01-02          20100102012558   \n",
       "4      0d01nltbrs           2010-01-03          20100103191905   \n",
       "...           ...                  ...                     ...   \n",
       "78809  egikxlfmh8           2014-06-26          20140626022743   \n",
       "78810  oitccptcw6           2014-06-26          20140626065256   \n",
       "78811  86s1bo34bg           2014-06-30          20140630023309   \n",
       "78812  ms2453k9vj           2014-06-30          20140630052141   \n",
       "78813  c999p94qui           2014-06-30          20140630222253   \n",
       "\n",
       "      date_first_booking  gender   age signup_method  signup_flow language  \\\n",
       "0             2010-08-02       1  56.0         basic            3       en   \n",
       "1             2010-02-18       3  41.0         basic            0       en   \n",
       "2             2010-01-02       3  33.0         basic            0       en   \n",
       "3             2010-01-05       1  46.0         basic            0       en   \n",
       "4             2010-01-13       1  47.0         basic            0       en   \n",
       "...                  ...     ...   ...           ...          ...      ...   \n",
       "78809         2014-06-26       1  32.0         basic            0       en   \n",
       "78810         2014-07-28       0  48.0         basic            0       en   \n",
       "78811         2015-06-29       1  40.0      facebook            0       en   \n",
       "78812         2014-08-22       1  63.0         basic            0       en   \n",
       "78813         2014-07-08       1  30.0         basic            0       en   \n",
       "\n",
       "      affiliate_channel affiliate_provider first_affiliate_tracked signup_app  \\\n",
       "0                direct             direct               untracked        Web   \n",
       "1                direct             direct               untracked        Web   \n",
       "2                 other              other                     omg        Web   \n",
       "3                 other         craigslist               untracked        Web   \n",
       "4                direct             direct                     omg        Web   \n",
       "...                 ...                ...                     ...        ...   \n",
       "78809               seo             google                  linked        Web   \n",
       "78810         sem-brand             google               untracked        Web   \n",
       "78811         sem-brand             google                     omg        Web   \n",
       "78812               seo             google                     omg        Web   \n",
       "78813            direct             direct                  linked        Web   \n",
       "\n",
       "      first_device_type first_browser country_destination  lat_destination  \\\n",
       "0       Windows Desktop            IE                  US        36.966427   \n",
       "1           Mac Desktop        Chrome                  US        36.966427   \n",
       "2           Mac Desktop        Chrome                  US        36.966427   \n",
       "3           Mac Desktop        Safari                  US        36.966427   \n",
       "4           Mac Desktop        Safari                  US        36.966427   \n",
       "...                 ...           ...                 ...              ...   \n",
       "78809   Windows Desktop        Chrome                  AU       -26.853388   \n",
       "78810       Mac Desktop        Safari                  AU       -26.853388   \n",
       "78811       Mac Desktop        Safari                  AU       -26.853388   \n",
       "78812   Windows Desktop        Chrome                  AU       -26.853388   \n",
       "78813       Mac Desktop        Chrome                  AU       -26.853388   \n",
       "\n",
       "       lng_destination  distance_km  destination_km2 destination_language   \\\n",
       "0            -95.84403        0.000        9826675.0                   eng   \n",
       "1            -95.84403        0.000        9826675.0                   eng   \n",
       "2            -95.84403        0.000        9826675.0                   eng   \n",
       "3            -95.84403        0.000        9826675.0                   eng   \n",
       "4            -95.84403        0.000        9826675.0                   eng   \n",
       "...                ...          ...              ...                   ...   \n",
       "78809        133.27516    15297.744        7741220.0                   eng   \n",
       "78810        133.27516    15297.744        7741220.0                   eng   \n",
       "78811        133.27516    15297.744        7741220.0                   eng   \n",
       "78812        133.27516    15297.744        7741220.0                   eng   \n",
       "78813        133.27516    15297.744        7741220.0                   eng   \n",
       "\n",
       "       language_levenshtein_distance  \n",
       "0                                0.0  \n",
       "1                                0.0  \n",
       "2                                0.0  \n",
       "3                                0.0  \n",
       "4                                0.0  \n",
       "...                              ...  \n",
       "78809                            0.0  \n",
       "78810                            0.0  \n",
       "78811                            0.0  \n",
       "78812                            0.0  \n",
       "78813                            0.0  \n",
       "\n",
       "[77305 rows x 22 columns]"
      ]
     },
     "execution_count": 27,
     "metadata": {},
     "output_type": "execute_result"
    }
   ],
   "source": [
    "df_m"
   ]
  },
  {
   "cell_type": "markdown",
   "metadata": {},
   "source": [
    "### Saving to CSV"
   ]
  },
  {
   "cell_type": "code",
   "execution_count": 28,
   "metadata": {},
   "outputs": [],
   "source": [
    "df_m.to_csv('cleaned_dataframe.csv',index=False)"
   ]
  },
  {
   "cell_type": "code",
   "execution_count": null,
   "metadata": {},
   "outputs": [],
   "source": []
  }
 ],
 "metadata": {
  "kernelspec": {
   "display_name": "Python 3",
   "language": "python",
   "name": "python3"
  },
  "language_info": {
   "codemirror_mode": {
    "name": "ipython",
    "version": 3
   },
   "file_extension": ".py",
   "mimetype": "text/x-python",
   "name": "python",
   "nbconvert_exporter": "python",
   "pygments_lexer": "ipython3",
   "version": "3.8.5"
  }
 },
 "nbformat": 4,
 "nbformat_minor": 4
}
