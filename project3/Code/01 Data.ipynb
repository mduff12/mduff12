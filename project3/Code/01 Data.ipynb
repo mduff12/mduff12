{
 "cells": [
  {
   "cell_type": "markdown",
   "metadata": {},
   "source": [
    "### One subreddit is'conspiracy', one is 'QAnonCasualties'"
   ]
  },
  {
   "cell_type": "code",
   "execution_count": 1,
   "metadata": {},
   "outputs": [],
   "source": [
    "import requests\n",
    "import pandas as pd\n",
    "from time import sleep"
   ]
  },
  {
   "cell_type": "code",
   "execution_count": 35,
   "metadata": {},
   "outputs": [],
   "source": [
    "#with help from Caroline\n",
    "# subreddit 1= 'QAnonCasualties'\n",
    "# subreddit 2= 'conspiracy'\n",
    "\n",
    "base_url = 'https://api.pushshift.io/reddit/search/submission/'\n",
    "\n",
    "params = {\n",
    "    'subreddit': 'conspiracy',\n",
    "    'size': 100\n",
    "}\n",
    "dfs = []\n",
    "for i in range(20):\n",
    "    res_json = requests.get(base_url, params).json()\n",
    "    df = pd.DataFrame(res_json['data'])\n",
    "    dfs.append(df)\n",
    "    new_utc = res_json['data'][-1]['created_utc']\n",
    "    params['before'] = new_utc\n",
    "    sleep(3)"
   ]
  },
  {
   "cell_type": "code",
   "execution_count": 36,
   "metadata": {},
   "outputs": [
    {
     "data": {
      "text/plain": [
       "(2000, 79)"
      ]
     },
     "execution_count": 36,
     "metadata": {},
     "output_type": "execute_result"
    }
   ],
   "source": [
    "conspiracy = pd.concat(dfs)\n",
    "conspiracy.shape"
   ]
  },
  {
   "cell_type": "code",
   "execution_count": 39,
   "metadata": {},
   "outputs": [
    {
     "data": {
      "text/html": [
       "<div>\n",
       "<style scoped>\n",
       "    .dataframe tbody tr th:only-of-type {\n",
       "        vertical-align: middle;\n",
       "    }\n",
       "\n",
       "    .dataframe tbody tr th {\n",
       "        vertical-align: top;\n",
       "    }\n",
       "\n",
       "    .dataframe thead th {\n",
       "        text-align: right;\n",
       "    }\n",
       "</style>\n",
       "<table border=\"1\" class=\"dataframe\">\n",
       "  <thead>\n",
       "    <tr style=\"text-align: right;\">\n",
       "      <th></th>\n",
       "      <th>title</th>\n",
       "      <th>selftext</th>\n",
       "      <th>subreddit</th>\n",
       "    </tr>\n",
       "  </thead>\n",
       "  <tbody>\n",
       "    <tr>\n",
       "      <th>0</th>\n",
       "      <td>Does tictock listen to you?</td>\n",
       "      <td>I’m not no expert on conspiracy theories but I...</td>\n",
       "      <td>conspiracy</td>\n",
       "    </tr>\n",
       "    <tr>\n",
       "      <th>1</th>\n",
       "      <td>Dr Seuss.. Looks like everyone is running with...</td>\n",
       "      <td>Seems some sort of cryptic messaging .. I dont...</td>\n",
       "      <td>conspiracy</td>\n",
       "    </tr>\n",
       "    <tr>\n",
       "      <th>2</th>\n",
       "      <td>Why Catholics thrive in the CIA. - Catholic He...</td>\n",
       "      <td>https://saidit.net/s/Jesuits/comments/70a1/why...</td>\n",
       "      <td>conspiracy</td>\n",
       "    </tr>\n",
       "    <tr>\n",
       "      <th>3</th>\n",
       "      <td>Sumerian texts speak of ancient kings and a my...</td>\n",
       "      <td></td>\n",
       "      <td>conspiracy</td>\n",
       "    </tr>\n",
       "    <tr>\n",
       "      <th>4</th>\n",
       "      <td>Sumerian texts ppeak of ancient kings and a my...</td>\n",
       "      <td>[deleted]</td>\n",
       "      <td>conspiracy</td>\n",
       "    </tr>\n",
       "    <tr>\n",
       "      <th>5</th>\n",
       "      <td>2021 Is the Year We Get Free Energy, Rife Heal...</td>\n",
       "      <td></td>\n",
       "      <td>conspiracy</td>\n",
       "    </tr>\n",
       "    <tr>\n",
       "      <th>6</th>\n",
       "      <td>Reposted kowaleski13's rant post and just now ...</td>\n",
       "      <td>They said \"Nerd\" in the ban message. Aw. Such ...</td>\n",
       "      <td>conspiracy</td>\n",
       "    </tr>\n",
       "    <tr>\n",
       "      <th>7</th>\n",
       "      <td>....If transhuman programming is anything like...</td>\n",
       "      <td>http://farmwars.info/?p=14817\\n\\n\\nBarbara H. ...</td>\n",
       "      <td>conspiracy</td>\n",
       "    </tr>\n",
       "  </tbody>\n",
       "</table>\n",
       "</div>"
      ],
      "text/plain": [
       "                                               title  \\\n",
       "0                        Does tictock listen to you?   \n",
       "1  Dr Seuss.. Looks like everyone is running with...   \n",
       "2  Why Catholics thrive in the CIA. - Catholic He...   \n",
       "3  Sumerian texts speak of ancient kings and a my...   \n",
       "4  Sumerian texts ppeak of ancient kings and a my...   \n",
       "5  2021 Is the Year We Get Free Energy, Rife Heal...   \n",
       "6  Reposted kowaleski13's rant post and just now ...   \n",
       "7  ....If transhuman programming is anything like...   \n",
       "\n",
       "                                            selftext   subreddit  \n",
       "0  I’m not no expert on conspiracy theories but I...  conspiracy  \n",
       "1  Seems some sort of cryptic messaging .. I dont...  conspiracy  \n",
       "2  https://saidit.net/s/Jesuits/comments/70a1/why...  conspiracy  \n",
       "3                                                     conspiracy  \n",
       "4                                          [deleted]  conspiracy  \n",
       "5                                                     conspiracy  \n",
       "6  They said \"Nerd\" in the ban message. Aw. Such ...  conspiracy  \n",
       "7  http://farmwars.info/?p=14817\\n\\n\\nBarbara H. ...  conspiracy  "
      ]
     },
     "execution_count": 39,
     "metadata": {},
     "output_type": "execute_result"
    }
   ],
   "source": [
    "pd.options.display.max_rows = 1000\n",
    "conspiracy[['title','selftext','subreddit']].head(8)"
   ]
  },
  {
   "cell_type": "code",
   "execution_count": 40,
   "metadata": {},
   "outputs": [],
   "source": [
    "conspiracy.to_csv('conspiracy_dataset.csv', index=False)"
   ]
  }
 ],
 "metadata": {
  "kernelspec": {
   "display_name": "Python 3",
   "language": "python",
   "name": "python3"
  },
  "language_info": {
   "codemirror_mode": {
    "name": "ipython",
    "version": 3
   },
   "file_extension": ".py",
   "mimetype": "text/x-python",
   "name": "python",
   "nbconvert_exporter": "python",
   "pygments_lexer": "ipython3",
   "version": "3.8.5"
  }
 },
 "nbformat": 4,
 "nbformat_minor": 4
}
