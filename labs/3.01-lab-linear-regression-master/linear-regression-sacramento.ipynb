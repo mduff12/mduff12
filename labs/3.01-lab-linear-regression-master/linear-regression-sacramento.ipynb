{
 "cells": [
  {
   "cell_type": "markdown",
   "metadata": {},
   "source": [
    "<img src=\"http://imgur.com/1ZcRyrc.png\" style=\"float: left; margin: 20px; height: 55px\">\n",
    "\n",
    "# Simple Linear Regression with Sacramento Real Estate Data\n",
    "\n",
    "_Authors: Matt Brems, Sam Stack_\n",
    "\n",
    "---\n",
    "\n",
    "In this lab you will hone your exploratory data analysis (EDA) skills and practice constructing simple linear regressions on a data set of Sacramento real estate sales.  The data set contains information on qualities of the property, location of the property, and time of sale."
   ]
  },
  {
   "cell_type": "markdown",
   "metadata": {},
   "source": [
    "### 1. Read in the Sacramento housing data set."
   ]
  },
  {
   "cell_type": "code",
   "execution_count": 72,
   "metadata": {},
   "outputs": [],
   "source": [
    "#imports\n",
    "import pandas as pd\n",
    "import numpy as np\n",
    "import matplotlib.pyplot as plt\n",
    "import seaborn as sns\n",
    "\n",
    "from sklearn.linear_model import LinearRegression\n",
    "from sklearn import metrics"
   ]
  },
  {
   "cell_type": "code",
   "execution_count": 73,
   "metadata": {},
   "outputs": [],
   "source": [
    "shd = pd.read_csv('./datasets/sacramento_real_estate_transactions.csv')"
   ]
  },
  {
   "cell_type": "code",
   "execution_count": 74,
   "metadata": {},
   "outputs": [
    {
     "data": {
      "text/html": [
       "<div>\n",
       "<style scoped>\n",
       "    .dataframe tbody tr th:only-of-type {\n",
       "        vertical-align: middle;\n",
       "    }\n",
       "\n",
       "    .dataframe tbody tr th {\n",
       "        vertical-align: top;\n",
       "    }\n",
       "\n",
       "    .dataframe thead th {\n",
       "        text-align: right;\n",
       "    }\n",
       "</style>\n",
       "<table border=\"1\" class=\"dataframe\">\n",
       "  <thead>\n",
       "    <tr style=\"text-align: right;\">\n",
       "      <th></th>\n",
       "      <th>street</th>\n",
       "      <th>city</th>\n",
       "      <th>zip</th>\n",
       "      <th>state</th>\n",
       "      <th>beds</th>\n",
       "      <th>baths</th>\n",
       "      <th>sq__ft</th>\n",
       "      <th>type</th>\n",
       "      <th>sale_date</th>\n",
       "      <th>price</th>\n",
       "      <th>latitude</th>\n",
       "      <th>longitude</th>\n",
       "    </tr>\n",
       "  </thead>\n",
       "  <tbody>\n",
       "    <tr>\n",
       "      <th>0</th>\n",
       "      <td>3526 HIGH ST</td>\n",
       "      <td>SACRAMENTO</td>\n",
       "      <td>95838</td>\n",
       "      <td>CA</td>\n",
       "      <td>2</td>\n",
       "      <td>1</td>\n",
       "      <td>836</td>\n",
       "      <td>Residential</td>\n",
       "      <td>Wed May 21 00:00:00 EDT 2008</td>\n",
       "      <td>59222</td>\n",
       "      <td>38.631913</td>\n",
       "      <td>-121.434879</td>\n",
       "    </tr>\n",
       "  </tbody>\n",
       "</table>\n",
       "</div>"
      ],
      "text/plain": [
       "         street        city    zip state  beds  baths  sq__ft         type  \\\n",
       "0  3526 HIGH ST  SACRAMENTO  95838    CA     2      1     836  Residential   \n",
       "\n",
       "                      sale_date  price   latitude   longitude  \n",
       "0  Wed May 21 00:00:00 EDT 2008  59222  38.631913 -121.434879  "
      ]
     },
     "execution_count": 74,
     "metadata": {},
     "output_type": "execute_result"
    }
   ],
   "source": [
    "shd.head(1)"
   ]
  },
  {
   "cell_type": "code",
   "execution_count": null,
   "metadata": {},
   "outputs": [],
   "source": []
  },
  {
   "cell_type": "markdown",
   "metadata": {},
   "source": [
    "### 2. Conduct exploratory data analysis on this data set. \n",
    "\n",
    "**Report any notable findings here and any steps you take to clean/process data.**\n",
    "\n",
    "\n",
    "_**Note:** Zip codes often have leading zeros — e.g., 02215 = Boston, MA — which will often get knocked off automatically by many software programs like Python or Excel. You can imagine that this could create some issues._"
   ]
  },
  {
   "cell_type": "code",
   "execution_count": 75,
   "metadata": {},
   "outputs": [
    {
     "name": "stdout",
     "output_type": "stream",
     "text": [
      "<class 'pandas.core.frame.DataFrame'>\n",
      "RangeIndex: 985 entries, 0 to 984\n",
      "Data columns (total 12 columns):\n",
      " #   Column     Non-Null Count  Dtype  \n",
      "---  ------     --------------  -----  \n",
      " 0   street     985 non-null    object \n",
      " 1   city       985 non-null    object \n",
      " 2   zip        985 non-null    int64  \n",
      " 3   state      985 non-null    object \n",
      " 4   beds       985 non-null    int64  \n",
      " 5   baths      985 non-null    int64  \n",
      " 6   sq__ft     985 non-null    int64  \n",
      " 7   type       985 non-null    object \n",
      " 8   sale_date  985 non-null    object \n",
      " 9   price      985 non-null    int64  \n",
      " 10  latitude   985 non-null    float64\n",
      " 11  longitude  985 non-null    float64\n",
      "dtypes: float64(2), int64(5), object(5)\n",
      "memory usage: 92.5+ KB\n"
     ]
    }
   ],
   "source": [
    "shd.info()"
   ]
  },
  {
   "cell_type": "code",
   "execution_count": 76,
   "metadata": {},
   "outputs": [
    {
     "data": {
      "text/plain": [
       "(985, 12)"
      ]
     },
     "execution_count": 76,
     "metadata": {},
     "output_type": "execute_result"
    }
   ],
   "source": [
    "shd.shape"
   ]
  },
  {
   "cell_type": "code",
   "execution_count": 77,
   "metadata": {},
   "outputs": [
    {
     "data": {
      "text/plain": [
       "street       0\n",
       "city         0\n",
       "zip          0\n",
       "state        0\n",
       "beds         0\n",
       "baths        0\n",
       "sq__ft       0\n",
       "type         0\n",
       "sale_date    0\n",
       "price        0\n",
       "latitude     0\n",
       "longitude    0\n",
       "dtype: int64"
      ]
     },
     "execution_count": 77,
     "metadata": {},
     "output_type": "execute_result"
    }
   ],
   "source": [
    "sac_csv.isnull().sum()"
   ]
  },
  {
   "cell_type": "code",
   "execution_count": 95,
   "metadata": {},
   "outputs": [
    {
     "data": {
      "text/plain": [
       "0       171\n",
       "1120      8\n",
       "795       6\n",
       "1410      5\n",
       "1039      5\n",
       "Name: sq__ft, dtype: int64"
      ]
     },
     "execution_count": 95,
     "metadata": {},
     "output_type": "execute_result"
    }
   ],
   "source": [
    "#find unique values to see if there are any abnormalities\n",
    "# https://chrisalbon.com/python/data_wrangling/pandas_list_unique_values_in_column/\n",
    "\n",
    "# shd['zip'].unique()\n",
    "shd['sq__ft'].value_counts().head()"
   ]
  },
  {
   "cell_type": "code",
   "execution_count": 79,
   "metadata": {},
   "outputs": [],
   "source": [
    "#one state named AC, change it to CA\n",
    "shd.at[703, 'state']='CA'"
   ]
  },
  {
   "cell_type": "code",
   "execution_count": 84,
   "metadata": {},
   "outputs": [],
   "source": [
    "#sq__ft is negative, fix that\n",
    "shd.at[703, 'sq__ft']=984"
   ]
  },
  {
   "cell_type": "code",
   "execution_count": 85,
   "metadata": {},
   "outputs": [],
   "source": [
    "#price is negative, fix that\n",
    "shd.at[703, 'price']=210944"
   ]
  },
  {
   "cell_type": "code",
   "execution_count": 86,
   "metadata": {},
   "outputs": [
    {
     "data": {
      "text/plain": [
       "street                   1900 DANBROOK DR\n",
       "city                           SACRAMENTO\n",
       "zip                                 95835\n",
       "state                                  CA\n",
       "beds                                    1\n",
       "baths                                   1\n",
       "sq__ft                                984\n",
       "type                                Condo\n",
       "sale_date    Fri May 16 00:00:00 EDT 2008\n",
       "price                              210944\n",
       "latitude                         -121.503\n",
       "longitude                         38.6684\n",
       "Name: 703, dtype: object"
      ]
     },
     "execution_count": 86,
     "metadata": {},
     "output_type": "execute_result"
    }
   ],
   "source": [
    "#check work\n",
    "shd.iloc[703]"
   ]
  },
  {
   "cell_type": "code",
   "execution_count": 101,
   "metadata": {},
   "outputs": [
    {
     "data": {
      "text/plain": [
       "1120    8\n",
       "795     6\n",
       "1080    5\n",
       "1410    5\n",
       "1039    5\n",
       "1329    4\n",
       "960     4\n",
       "1104    4\n",
       "1320    4\n",
       "904     4\n",
       "1152    4\n",
       "1638    4\n",
       "1144    4\n",
       "1127    3\n",
       "796     3\n",
       "1082    3\n",
       "1139    3\n",
       "1776    3\n",
       "1520    3\n",
       "1477    3\n",
       "1089    3\n",
       "722     3\n",
       "1590    3\n",
       "924     3\n",
       "1188    3\n",
       "1578    3\n",
       "1380    3\n",
       "1302    3\n",
       "1358    3\n",
       "888     3\n",
       "1174    3\n",
       "1800    3\n",
       "1280    3\n",
       "2494    3\n",
       "1448    3\n",
       "1269    3\n",
       "1040    3\n",
       "2724    3\n",
       "1450    3\n",
       "1416    3\n",
       "1266    2\n",
       "1265    2\n",
       "1264    2\n",
       "2846    2\n",
       "1176    2\n",
       "1177    2\n",
       "1328    2\n",
       "1574    2\n",
       "1182    2\n",
       "1262    2\n",
       "2295    2\n",
       "1284    2\n",
       "800     2\n",
       "1685    2\n",
       "1830    2\n",
       "810     2\n",
       "1555    2\n",
       "1843    2\n",
       "1650    2\n",
       "1341    2\n",
       "1851    2\n",
       "1676    2\n",
       "2367    2\n",
       "1857    2\n",
       "834     2\n",
       "836     2\n",
       "840     2\n",
       "1289    2\n",
       "1258    2\n",
       "1304    2\n",
       "2280    2\n",
       "1715    2\n",
       "2258    2\n",
       "1240    2\n",
       "1616    2\n",
       "2212    2\n",
       "1232    2\n",
       "1300    2\n",
       "2484    2\n",
       "1248    2\n",
       "1032    2\n",
       "1436    2\n",
       "1310    2\n",
       "1740    2\n",
       "2372    2\n",
       "1112    2\n",
       "1596    2\n",
       "1207    2\n",
       "1595    2\n",
       "1204    2\n",
       "1202    2\n",
       "1624    2\n",
       "1250    2\n",
       "1253    2\n",
       "1876    2\n",
       "1627    2\n",
       "1587    2\n",
       "1582    2\n",
       "1690    2\n",
       "1580    2\n",
       "1216    2\n",
       "1159    2\n",
       "1543    2\n",
       "1370    2\n",
       "901     2\n",
       "3134    2\n",
       "1456    2\n",
       "2085    2\n",
       "1457    2\n",
       "1118    2\n",
       "1939    2\n",
       "1115    2\n",
       "1462    2\n",
       "990     2\n",
       "1418    2\n",
       "984     2\n",
       "1953    2\n",
       "1567    2\n",
       "1392    2\n",
       "3440    2\n",
       "1100    2\n",
       "972     2\n",
       "1406    2\n",
       "970     2\n",
       "1161    2\n",
       "2109    2\n",
       "1479    2\n",
       "1093    2\n",
       "1092    2\n",
       "1401    2\n",
       "1000    2\n",
       "958     2\n",
       "1915    2\n",
       "1428    2\n",
       "1356    2\n",
       "2169    2\n",
       "1146    2\n",
       "2056    2\n",
       "1360    2\n",
       "1011    2\n",
       "1362    2\n",
       "1770    2\n",
       "1351    2\n",
       "1451    2\n",
       "1516    2\n",
       "1051    2\n",
       "1871    2\n",
       "1452    2\n",
       "1058    2\n",
       "1354    2\n",
       "2309    1\n",
       "1430    1\n",
       "1287    1\n",
       "2030    1\n",
       "1305    1\n",
       "1404    1\n",
       "1424    1\n",
       "1427    1\n",
       "1407    1\n",
       "2325    1\n",
       "1294    1\n",
       "1411    1\n",
       "2447    1\n",
       "1420    1\n",
       "1419    1\n",
       "2278    1\n",
       "967     1\n",
       "1291    1\n",
       "1292    1\n",
       "1296    1\n",
       "1394    1\n",
       "1306    1\n",
       "2359    1\n",
       "1371    1\n",
       "2170    1\n",
       "2354    1\n",
       "1367    1\n",
       "1366    1\n",
       "1331    1\n",
       "2356    1\n",
       "1364    1\n",
       "1337    1\n",
       "1375    1\n",
       "1338    1\n",
       "2382    1\n",
       "1340    1\n",
       "2379    1\n",
       "1353    1\n",
       "2307    1\n",
       "3397    1\n",
       "1344    1\n",
       "1373    1\n",
       "1376    1\n",
       "3357    1\n",
       "1386    1\n",
       "1315    1\n",
       "1400    1\n",
       "1316    1\n",
       "1317    1\n",
       "1968    1\n",
       "2504    1\n",
       "1393    1\n",
       "1390    1\n",
       "1321    1\n",
       "1189    1\n",
       "3433    1\n",
       "2346    1\n",
       "2347    1\n",
       "1324    1\n",
       "1382    1\n",
       "1326    1\n",
       "1381    1\n",
       "1327    1\n",
       "1022    1\n",
       "1220    1\n",
       "2306    1\n",
       "1154    1\n",
       "1103    1\n",
       "1231    1\n",
       "1108    1\n",
       "1110    1\n",
       "2136    1\n",
       "1116    1\n",
       "1117    1\n",
       "1119    1\n",
       "1122    1\n",
       "1123    1\n",
       "1124    1\n",
       "3173    1\n",
       "1126    1\n",
       "1130    1\n",
       "2155    1\n",
       "1132    1\n",
       "1134    1\n",
       "2159    1\n",
       "2160    1\n",
       "1137    1\n",
       "2162    1\n",
       "2163    1\n",
       "1140    1\n",
       "2166    1\n",
       "3192    1\n",
       "2172    1\n",
       "1669    1\n",
       "2126    1\n",
       "1099    1\n",
       "1098    1\n",
       "1064    1\n",
       "1936    1\n",
       "2052    1\n",
       "1029    1\n",
       "2054    1\n",
       "832     1\n",
       "1043    1\n",
       "2068    1\n",
       "1285    1\n",
       "1050    1\n",
       "1056    1\n",
       "1060    1\n",
       "881     1\n",
       "2824    1\n",
       "2575    1\n",
       "1067    1\n",
       "2093    1\n",
       "2053    1\n",
       "2096    1\n",
       "1073    1\n",
       "1074    1\n",
       "1075    1\n",
       "2100    1\n",
       "1928    1\n",
       "2111    1\n",
       "1088    1\n",
       "1094    1\n",
       "2175    1\n",
       "1156    1\n",
       "1277    1\n",
       "2475    1\n",
       "2235    1\n",
       "3260    1\n",
       "3261    1\n",
       "1215    1\n",
       "1217    1\n",
       "1219    1\n",
       "2877    1\n",
       "1229    1\n",
       "2254    1\n",
       "4303    1\n",
       "3281    1\n",
       "1766    1\n",
       "4400    1\n",
       "1245    1\n",
       "1247    1\n",
       "1249    1\n",
       "1252    1\n",
       "1720    1\n",
       "1255    1\n",
       "1828    1\n",
       "2442    1\n",
       "1260    1\n",
       "1261    1\n",
       "2274    1\n",
       "1272    1\n",
       "1273    1\n",
       "1276    1\n",
       "1209    1\n",
       "1206    1\n",
       "1200    1\n",
       "1179    1\n",
       "1158    1\n",
       "1160    1\n",
       "2185    1\n",
       "2187    1\n",
       "1164    1\n",
       "3070    1\n",
       "1166    1\n",
       "1167    1\n",
       "1169    1\n",
       "1170    1\n",
       "1172    1\n",
       "2199    1\n",
       "2205    1\n",
       "1199    1\n",
       "1183    1\n",
       "2208    1\n",
       "1185    1\n",
       "1019    1\n",
       "1187    1\n",
       "2213    1\n",
       "2214    1\n",
       "1540    1\n",
       "1193    1\n",
       "2218    1\n",
       "1196    1\n",
       "2222    1\n",
       "2457    1\n",
       "1235    1\n",
       "2462    1\n",
       "846     1\n",
       "1820    1\n",
       "804     1\n",
       "1829    1\n",
       "3881    1\n",
       "1838    1\n",
       "1892    1\n",
       "1844    1\n",
       "2110    1\n",
       "1856    1\n",
       "1859    1\n",
       "838     1\n",
       "1991    1\n",
       "1162    1\n",
       "844     1\n",
       "1872    1\n",
       "1739    1\n",
       "852     1\n",
       "1882    1\n",
       "2960    1\n",
       "3468    1\n",
       "1628    1\n",
       "1887    1\n",
       "1888    1\n",
       "1890    1\n",
       "868     1\n",
       "871     1\n",
       "1899    1\n",
       "1900    1\n",
       "1904    1\n",
       "1905    1\n",
       "797     1\n",
       "1816    1\n",
       "3863    1\n",
       "1468    1\n",
       "1744    1\n",
       "723     1\n",
       "1751    1\n",
       "1758    1\n",
       "861     1\n",
       "2787    1\n",
       "2789    1\n",
       "2790    1\n",
       "1768    1\n",
       "746     1\n",
       "1175    1\n",
       "1655    1\n",
       "2800    1\n",
       "756     1\n",
       "760     1\n",
       "2875    1\n",
       "1788    1\n",
       "1789    1\n",
       "3838    1\n",
       "1795    1\n",
       "1798    1\n",
       "1799    1\n",
       "1801    1\n",
       "1211    1\n",
       "779     1\n",
       "780     1\n",
       "1808    1\n",
       "2896    1\n",
       "1810    1\n",
       "884     1\n",
       "1910    1\n",
       "1914    1\n",
       "964     1\n",
       "3164    1\n",
       "1993    1\n",
       "1995    1\n",
       "1348    1\n",
       "975     1\n",
       "2002    1\n",
       "2004    1\n",
       "1981    1\n",
       "3037    1\n",
       "2016    1\n",
       "1438    1\n",
       "994     1\n",
       "2334    1\n",
       "998     1\n",
       "2025    1\n",
       "2026    1\n",
       "1004    1\n",
       "1006    1\n",
       "1007    1\n",
       "3056    1\n",
       "1009    1\n",
       "1010    1\n",
       "1012    1\n",
       "1013    1\n",
       "1014    1\n",
       "1157    1\n",
       "2161    1\n",
       "1018    1\n",
       "1493    1\n",
       "966     1\n",
       "963     1\n",
       "1917    1\n",
       "962     1\n",
       "1921    1\n",
       "1922    1\n",
       "900     1\n",
       "1929    1\n",
       "906     1\n",
       "909     1\n",
       "911     1\n",
       "3984    1\n",
       "2962    1\n",
       "1940    1\n",
       "918     1\n",
       "1943    1\n",
       "3992    1\n",
       "1343    1\n",
       "930     1\n",
       "1955    1\n",
       "932     1\n",
       "933     1\n",
       "936     1\n",
       "1961    1\n",
       "1212    1\n",
       "941     1\n",
       "2992    1\n",
       "948     1\n",
       "950     1\n",
       "952     1\n",
       "956     1\n",
       "957     1\n",
       "3009    1\n",
       "864     1\n",
       "1736    1\n",
       "1439    1\n",
       "1549    1\n",
       "1512    1\n",
       "1513    1\n",
       "1517    1\n",
       "1522    1\n",
       "1524    1\n",
       "2550    1\n",
       "1527    1\n",
       "1529    1\n",
       "1531    1\n",
       "1150    1\n",
       "2329    1\n",
       "1541    1\n",
       "1811    1\n",
       "1548    1\n",
       "3229    1\n",
       "1735    1\n",
       "3599    1\n",
       "2577    1\n",
       "2581    1\n",
       "1559    1\n",
       "539     1\n",
       "3612    1\n",
       "1566    1\n",
       "3615    1\n",
       "2592    1\n",
       "1570    1\n",
       "1577    1\n",
       "2605    1\n",
       "2607    1\n",
       "3579    1\n",
       "1511    1\n",
       "1510    1\n",
       "484     1\n",
       "1506    1\n",
       "1440    1\n",
       "1441    1\n",
       "1443    1\n",
       "3076    1\n",
       "1446    1\n",
       "1449    1\n",
       "3508    1\n",
       "1463    1\n",
       "1465    1\n",
       "1466    1\n",
       "2491    1\n",
       "3516    1\n",
       "1472    1\n",
       "1473    1\n",
       "1475    1\n",
       "1478    1\n",
       "2503    1\n",
       "2555    1\n",
       "1483    1\n",
       "2508    1\n",
       "1485    1\n",
       "1488    1\n",
       "1020    1\n",
       "1497    1\n",
       "1498    1\n",
       "4246    1\n",
       "1502    1\n",
       "1503    1\n",
       "1505    1\n",
       "1586    1\n",
       "1591    1\n",
       "1593    1\n",
       "1670    1\n",
       "1672    1\n",
       "3389    1\n",
       "1677    1\n",
       "1678    1\n",
       "1683    1\n",
       "1686    1\n",
       "2711    1\n",
       "2606    1\n",
       "1962    1\n",
       "1691    1\n",
       "3741    1\n",
       "1695    1\n",
       "1697    1\n",
       "3746    1\n",
       "2725    1\n",
       "682     1\n",
       "2734    1\n",
       "1711    1\n",
       "1712    1\n",
       "1713    1\n",
       "1714    1\n",
       "1716    1\n",
       "1718    1\n",
       "696     1\n",
       "1721    1\n",
       "1724    1\n",
       "5822    1\n",
       "1727    1\n",
       "1982    1\n",
       "1671    1\n",
       "3788    1\n",
       "1598    1\n",
       "2687    1\n",
       "1601    1\n",
       "1603    1\n",
       "1605    1\n",
       "1606    1\n",
       "1608    1\n",
       "1609    1\n",
       "588     1\n",
       "1636    1\n",
       "1621    1\n",
       "3670    1\n",
       "1623    1\n",
       "2142    1\n",
       "2652    1\n",
       "1319    1\n",
       "610     1\n",
       "611     1\n",
       "2660    1\n",
       "1637    1\n",
       "1639    1\n",
       "1309    1\n",
       "1643    1\n",
       "1646    1\n",
       "623     1\n",
       "625     1\n",
       "1653    1\n",
       "988     1\n",
       "1656    1\n",
       "876     1\n",
       "1659    1\n",
       "2049    1\n",
       "Name: sq__ft, dtype: int64"
      ]
     },
     "execution_count": 101,
     "metadata": {},
     "output_type": "execute_result"
    }
   ],
   "source": [
    "# drop sq__Ft=0\n",
    "\n",
    "shd = shd[shd.sq__ft != 0]\n",
    "shd['sq__ft'].value_counts()"
   ]
  },
  {
   "cell_type": "markdown",
   "metadata": {},
   "source": [
    "### 3. Our goal will be to predict price. List variables that you think qualify as predictors of price in an SLR model. \n",
    "\n",
    "**For each of the variables you believe should be considered, generate a plot showing the relationship between the independent and dependent variables.**"
   ]
  },
  {
   "cell_type": "code",
   "execution_count": 102,
   "metadata": {},
   "outputs": [],
   "source": [
    "shd.to_csv('./datasets/sacramento_real_estate_transactions_Clean.csv')"
   ]
  },
  {
   "cell_type": "markdown",
   "metadata": {},
   "source": [
    "When you've finished cleaning or have made a good deal of progress cleaning, it's always a good idea to save your work.\n",
    "```python\n",
    "shd.to_csv('./datasets/sacramento_real_estate_transactions_Clean.csv')\n",
    "```"
   ]
  },
  {
   "cell_type": "markdown",
   "metadata": {},
   "source": [
    "#### Variables to consider:\n",
    "1) number of beds// var = beds\n",
    "\n",
    "2) number of baths// var = baths\n",
    "\n",
    "3) sq__ft// var = sq__ft\n",
    "\n",
    "4) zip // var = zip"
   ]
  },
  {
   "cell_type": "code",
   "execution_count": 111,
   "metadata": {},
   "outputs": [
    {
     "data": {
      "image/png": "[encoded data removed]",
      "text/plain": [
       "<Figure size 432x288 with 2 Axes>"
      ]
     },
     "metadata": {
      "needs_background": "light"
     },
     "output_type": "display_data"
    }
   ],
   "source": [
    "# Plot all against price - adapted from DSIR-Lancelot/2.02-lesson-eda\n",
    "\n",
    "sns.heatmap(shd.corr()[['price']], annot=True, cmap='Greens', vmin=-1, vmax=1);"
   ]
  },
  {
   "cell_type": "code",
   "execution_count": 113,
   "metadata": {},
   "outputs": [
    {
     "data": {
      "image/png": "[encoded data removed]",
      "text/plain": [
       "<Figure size 432x288 with 1 Axes>"
      ]
     },
     "metadata": {
      "needs_background": "light"
     },
     "output_type": "display_data"
    }
   ],
   "source": [
    "# Plot square footage vs. price\n",
    "plt.scatter(x=shd['sq__ft'], y=shd['price'], s=1)\n",
    "plt.xlabel('Squarefoot')\n",
    "plt.ylabel('Price');"
   ]
  },
  {
   "cell_type": "code",
   "execution_count": null,
   "metadata": {},
   "outputs": [],
   "source": []
  },
  {
   "cell_type": "markdown",
   "metadata": {},
   "source": [
    "### 4. Which variable would be the best predictor of Y in an SLR model? Why?"
   ]
  },
  {
   "cell_type": "code",
   "execution_count": null,
   "metadata": {},
   "outputs": [],
   "source": []
  },
  {
   "cell_type": "markdown",
   "metadata": {},
   "source": [
    "### 5. Write a function that will take in two lists, `Y` and `X`, and return the intercept and slope coefficients that minimize SSE. \n",
    "\n",
    "`Y` is the target variable and `X` is the predictor variable.\n",
    "\n",
    "- **Test your function on price and the variable you determined was the best predictor in Problem 4.**\n",
    "- **Report the slope and intercept.**"
   ]
  },
  {
   "cell_type": "code",
   "execution_count": null,
   "metadata": {},
   "outputs": [],
   "source": []
  },
  {
   "cell_type": "markdown",
   "metadata": {},
   "source": [
    "### 6. Interpret the intercept and the slope."
   ]
  },
  {
   "cell_type": "code",
   "execution_count": null,
   "metadata": {},
   "outputs": [],
   "source": []
  },
  {
   "cell_type": "markdown",
   "metadata": {},
   "source": [
    "### 7. Give an example of how this model could be used for prediction and how it could be used for inference. \n",
    "\n",
    "**Be sure to make it clear which example is associated with prediction and which is associated with inference.**"
   ]
  },
  {
   "cell_type": "code",
   "execution_count": null,
   "metadata": {},
   "outputs": [],
   "source": []
  },
  {
   "cell_type": "markdown",
   "metadata": {},
   "source": [
    "### 8: [Bonus] Using the model you came up with in Problem 5, calculate and plot the residuals."
   ]
  },
  {
   "cell_type": "code",
   "execution_count": null,
   "metadata": {},
   "outputs": [],
   "source": []
  },
  {
   "cell_type": "markdown",
   "metadata": {},
   "source": [
    "---\n",
    "\n",
    "> The material following this point can be completed after the second lesson on Monday.\n",
    "\n",
    "---"
   ]
  },
  {
   "cell_type": "markdown",
   "metadata": {},
   "source": [
    "## Dummy Variables\n",
    "\n",
    "---\n",
    "\n",
    "It is important to be cautious with categorical variables, which represent distict groups or categories, when building a regression. If put in a regression \"as-is,\" categorical variables represented as integers will be treated like *continuous* variables.\n",
    "\n",
    "That is to say, instead of group \"3\" having a different effect on the estimation than group \"1\" it will estimate literally 3 times more than group 1. \n",
    "\n",
    "For example, if occupation category \"1\" represents \"analyst\" and occupation category \"3\" represents \"barista\", and our target variable is salary, if we leave this as a column of integers then barista will always have `beta*3` the effect of analyst.\n",
    "\n",
    "This will almost certainly force the beta coefficient to be something strange and incorrect. Instead, we can re-represent the categories as multiple \"dummy coded\" columns.\n",
    "\n",
    "### 9. Use the `pd.get_dummies` function to convert the `type` column into dummy-coded variables.\n"
   ]
  },
  {
   "cell_type": "code",
   "execution_count": null,
   "metadata": {},
   "outputs": [],
   "source": []
  },
  {
   "cell_type": "markdown",
   "metadata": {},
   "source": [
    "### 10. Check the dummy columns you've created. Do they all make sense?\n",
    "\n",
    "Use `.head()` on the new dataframe you've created. Depending on how you cleaned the data earlier in this notebook, there may be a dummy column that needs to be removed. Check that all the columns you've created make sense, and if any of the columns seem to be errors, drop them."
   ]
  },
  {
   "cell_type": "code",
   "execution_count": null,
   "metadata": {},
   "outputs": [],
   "source": []
  },
  {
   "cell_type": "markdown",
   "metadata": {},
   "source": [
    "---\n",
    "\n",
    "### A Word of Caution When Creating Dummies\n",
    "\n",
    "Let's touch on precautions we should take when dummy coding.\n",
    "\n",
    "**If you convert a qualitative variable to dummy variables, you want to turn a variable with N categories into N-1 variables.**\n",
    "\n",
    "> **Scenario 1:** Suppose we're working with the variable \"sex\" or \"gender\" with values \"M\" and \"F\". \n",
    "\n",
    "You should include in your model only one variable for \"sex = F\" which takes on 1 if sex is female and 0 if sex is not female! Rather than saying \"a one unit change in X,\" the coefficient associated with \"sex = F\" is interpreted as the average change in Y when sex = F relative to when sex = M.\n",
    "\n",
    "| Female | Male | \n",
    "|-------|------|\n",
    "| 0 | 1 | \n",
    "| 1 | 0 |\n",
    "| 0 | 1 |\n",
    "| 1 | 0 |\n",
    "| 1 | 0 |\n",
    "_As we can see a 1 in the female column indicates a 0 in the male column. And so, we have two columns stating the same information in different ways._\n",
    "\n",
    "> Scenario 2: Suppose we're modeling revenue at a bar for each of the days of the week. We have a column with strings identifying which day of the week this observation occured in.\n",
    "\n",
    "We might include six of the days as their own variables: \"Monday\", \"Tuesday\", \"Wednesday\", \"Thursday\", \"Friday\", \"Saturday\". **But not all 7 days.**  \n",
    "\n",
    "|Monday | Tuesday | Wednesday | Thursday | Friday | Saturday | \n",
    "|-------|---------|-----------|----------|--------|----------|\n",
    "| 1     | 0       |0          |      0   |0       | 0        | \n",
    "| 0     | 1       |0          |      0   |0       | 0        | \n",
    "| 0     | 0       |1          |      0   |0       | 0        | \n",
    "| 0     | 0       |0          |      1   |0       | 0        | \n",
    "| 0     | 0       |0          |      0   |1       | 0        | \n",
    "| 0     | 0       |0          |      0   |0       | 1        | \n",
    "| 0     | 0       |0          |      0   |0       | 0        | \n",
    "\n",
    "_As humans we can infer from the last row that if its is not Monday, Tusday, Wednesday, Thursday, Friday or Saturday than it must be Sunday. Models work the same way._\n",
    "\n",
    "The coefficient for Monday is then interpreted as the average change in revenue when \"day = Monday\" relative to \"day = Sunday.\" The coefficient for Tuesday is interpreted in the average change in revenue when \"day = Tuesday\" relative to \"day = Sunday\" and so on.\n",
    "\n",
    "The category you leave out, which the other columns are *relative to* is often referred to as the **reference category**."
   ]
  },
  {
   "cell_type": "code",
   "execution_count": null,
   "metadata": {},
   "outputs": [],
   "source": []
  },
  {
   "cell_type": "markdown",
   "metadata": {},
   "source": [
    "### 11. Build what you think may be the best MLR model predicting `price`. \n",
    "\n",
    "Choose at least three variables, and build a model that uses them to predict price. At least one of the variables you choose should be a dummy-coded variable (either one we created before or a new one).\n",
    "\n",
    "Before you construct your model, don't forget to load in the statsmodels API:\n",
    "\n",
    "```python\n",
    "from sklearn.linear_model import LinearRegression\n",
    "\n",
    "model = LinearRegression()\n",
    "```"
   ]
  },
  {
   "cell_type": "markdown",
   "metadata": {},
   "source": [
    "_I'm going to engineer a new dummy variable for 'HUGE houses'.  Those whose square footage is 3 (positive) standard deviations away from the mean._\n",
    "```\n",
    "Mean = 1315\n",
    "STD = 853\n",
    "Huge Houses > 3775 sq ft\n",
    "```"
   ]
  },
  {
   "cell_type": "code",
   "execution_count": null,
   "metadata": {},
   "outputs": [],
   "source": []
  },
  {
   "cell_type": "markdown",
   "metadata": {},
   "source": [
    "### 12. Plot the true price vs the predicted price to evaluate your MLR visually.\n",
    "\n",
    "> **Tip:** with seaborn's `sns.lmplot` you can set `x`, `y`, and even a `hue` (which will plot regression lines by category in different colors) to easily plot a regression line."
   ]
  },
  {
   "cell_type": "code",
   "execution_count": null,
   "metadata": {},
   "outputs": [],
   "source": []
  },
  {
   "cell_type": "markdown",
   "metadata": {},
   "source": [
    "### 13. List the five assumptions for an MLR model. \n",
    "\n",
    "Indicate which ones are the same as the assumptions for an SLR model. "
   ]
  },
  {
   "cell_type": "code",
   "execution_count": null,
   "metadata": {},
   "outputs": [],
   "source": [
    "# convert this cell to markdown to provide your answer"
   ]
  },
  {
   "cell_type": "markdown",
   "metadata": {},
   "source": [
    "### 14. Pick at least two assumptions and articulate whether or not you believe them to be met for your model, and explain why."
   ]
  },
  {
   "cell_type": "code",
   "execution_count": null,
   "metadata": {},
   "outputs": [],
   "source": []
  },
  {
   "cell_type": "markdown",
   "metadata": {},
   "source": [
    "### 15. [Bonus] Generate a table showing the point estimates, standard errors, t-scores, p-values, and 95% confidence intervals for the model you built. \n",
    "\n",
    "**Write a few sentences interpreting some of the output.**\n",
    "\n",
    "> **Hint:** scikit-learn does not have this functionality built in, but statsmodels does in the `summary` method.  To fit the statsmodels model use something like the following.  There is one big caveat here, however!  `statsmodels.OLS` does _not_ add an intercept to your model, so you will need to do this explicitly by adding a column filled with the number 1 to your X matrix\n",
    "\n",
    "```python\n",
    "import statsmodels.api as sm\n",
    "\n",
    "# The Default here is Linear Regression (ordinary least squares regression OLS)\n",
    "model = sm.OLS(y,X).fit()\n",
    "```"
   ]
  },
  {
   "cell_type": "code",
   "execution_count": null,
   "metadata": {},
   "outputs": [],
   "source": []
  },
  {
   "cell_type": "markdown",
   "metadata": {},
   "source": [
    "---\n",
    "\n",
    "> The material following this point can be completed after the first lesson on Tuesday.\n",
    "\n",
    "---"
   ]
  },
  {
   "cell_type": "markdown",
   "metadata": {},
   "source": [
    "### 16. Regression Metrics\n",
    "\n",
    "Implement a function called `r2_adj()` that will calculate $R^2_{adj}$ for a model. "
   ]
  },
  {
   "cell_type": "code",
   "execution_count": null,
   "metadata": {},
   "outputs": [],
   "source": []
  },
  {
   "cell_type": "markdown",
   "metadata": {},
   "source": [
    "### 17. Metrics, metrics, everywhere...\n",
    "\n",
    "Write a function to calculate and print or return six regression metrics.  Use other functions liberally, including those found in `sklearn.metrics`."
   ]
  },
  {
   "cell_type": "code",
   "execution_count": null,
   "metadata": {},
   "outputs": [],
   "source": []
  },
  {
   "cell_type": "markdown",
   "metadata": {},
   "source": [
    "### 18. Model Iteration\n",
    "\n",
    "Evaluate your current home price prediction model by calculating all six regression metrics.\n",
    "\n",
    "Then adjust your model (e.g. by adding or taking away features) to see how the metrics change."
   ]
  },
  {
   "cell_type": "code",
   "execution_count": null,
   "metadata": {},
   "outputs": [],
   "source": []
  },
  {
   "cell_type": "markdown",
   "metadata": {},
   "source": [
    "### 19. Bias vs. Variance\n",
    "\n",
    "At this point, do you think your model is high bias, high variance or in the sweet spot?  If you are doing this after Wednesday, can you provide evidence to support your belief?"
   ]
  },
  {
   "cell_type": "code",
   "execution_count": null,
   "metadata": {},
   "outputs": [],
   "source": []
  }
 ],
 "metadata": {
  "anaconda-cloud": {},
  "kernelspec": {
   "display_name": "Python 3",
   "language": "python",
   "name": "python3"
  },
  "language_info": {
   "codemirror_mode": {
    "name": "ipython",
    "version": 3
   },
   "file_extension": ".py",
   "mimetype": "text/x-python",
   "name": "python",
   "nbconvert_exporter": "python",
   "pygments_lexer": "ipython3",
   "version": "3.8.5"
  }
 },
 "nbformat": 4,
 "nbformat_minor": 4
}
