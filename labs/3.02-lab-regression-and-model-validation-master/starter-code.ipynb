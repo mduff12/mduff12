{
 "cells": [
  {
   "cell_type": "markdown",
   "metadata": {},
   "source": [
    "<img src=\"http://imgur.com/1ZcRyrc.png\" style=\"float: left; margin: 20px; height: 55px\">\n",
    "\n",
    "# Lab 3.02: Statistical Modeling and Model Validation\n",
    "\n",
    "> Authors: Tim Book, Matt Brems\n",
    "\n",
    "---"
   ]
  },
  {
   "cell_type": "markdown",
   "metadata": {},
   "source": [
    "## Objective\n",
    "The goal of this lab is to guide you through the modeling workflow to produce the best model you can. In this lesson, you will follow all best practices when slicing your data and validating your model. "
   ]
  },
  {
   "cell_type": "markdown",
   "metadata": {},
   "source": [
    "## Imports"
   ]
  },
  {
   "cell_type": "code",
   "execution_count": 1,
   "metadata": {},
   "outputs": [],
   "source": [
    "# Import everything you need here.\n",
    "# You may want to return to this cell to import more things later in the lab.\n",
    "# DO NOT COPY AND PASTE FROM OUR CLASS SLIDES!\n",
    "# Muscle memory is important!\n",
    "\n",
    "import pandas as pd\n",
    "import numpy as np\n",
    "import matplotlib.pyplot as plt\n",
    "import seaborn as sns\n",
    "from sklearn.linear_model import LinearRegression\n",
    "from sklearn.metrics import mean_squared_error\n",
    "from sklearn.model_selection import train_test_split, cross_val_score"
   ]
  },
  {
   "cell_type": "markdown",
   "metadata": {},
   "source": [
    "## Read Data\n",
    "The `citibike` dataset consists of Citi Bike ridership data for over 224,000 rides in February 2014."
   ]
  },
  {
   "cell_type": "code",
   "execution_count": 2,
   "metadata": {},
   "outputs": [],
   "source": [
    "# Read in the citibike data in the data folder in this repository.\n",
    "citibike_feb = pd.read_csv('data/citibike_feb2014.csv')\n"
   ]
  },
  {
   "cell_type": "markdown",
   "metadata": {},
   "source": [
    "## Explore the data\n",
    "Use this space to familiarize yourself with the data.\n",
    "\n",
    "Convince yourself there are no issues with the data. If you find any issues, clean them here."
   ]
  },
  {
   "cell_type": "code",
   "execution_count": 3,
   "metadata": {},
   "outputs": [
    {
     "data": {
      "text/html": [
       "<div>\n",
       "<style scoped>\n",
       "    .dataframe tbody tr th:only-of-type {\n",
       "        vertical-align: middle;\n",
       "    }\n",
       "\n",
       "    .dataframe tbody tr th {\n",
       "        vertical-align: top;\n",
       "    }\n",
       "\n",
       "    .dataframe thead th {\n",
       "        text-align: right;\n",
       "    }\n",
       "</style>\n",
       "<table border=\"1\" class=\"dataframe\">\n",
       "  <thead>\n",
       "    <tr style=\"text-align: right;\">\n",
       "      <th></th>\n",
       "      <th>tripduration</th>\n",
       "      <th>starttime</th>\n",
       "      <th>stoptime</th>\n",
       "      <th>start station id</th>\n",
       "      <th>start station name</th>\n",
       "      <th>start station latitude</th>\n",
       "      <th>start station longitude</th>\n",
       "      <th>end station id</th>\n",
       "      <th>end station name</th>\n",
       "      <th>end station latitude</th>\n",
       "      <th>end station longitude</th>\n",
       "      <th>bikeid</th>\n",
       "      <th>usertype</th>\n",
       "      <th>birth year</th>\n",
       "      <th>gender</th>\n",
       "    </tr>\n",
       "  </thead>\n",
       "  <tbody>\n",
       "    <tr>\n",
       "      <th>0</th>\n",
       "      <td>382</td>\n",
       "      <td>2014-02-01 00:00:00</td>\n",
       "      <td>2014-02-01 00:06:22</td>\n",
       "      <td>294</td>\n",
       "      <td>Washington Square E</td>\n",
       "      <td>40.730494</td>\n",
       "      <td>-73.995721</td>\n",
       "      <td>265</td>\n",
       "      <td>Stanton St &amp; Chrystie St</td>\n",
       "      <td>40.722293</td>\n",
       "      <td>-73.991475</td>\n",
       "      <td>21101</td>\n",
       "      <td>Subscriber</td>\n",
       "      <td>1991</td>\n",
       "      <td>1</td>\n",
       "    </tr>\n",
       "  </tbody>\n",
       "</table>\n",
       "</div>"
      ],
      "text/plain": [
       "   tripduration            starttime             stoptime  start station id  \\\n",
       "0           382  2014-02-01 00:00:00  2014-02-01 00:06:22               294   \n",
       "\n",
       "    start station name  start station latitude  start station longitude  \\\n",
       "0  Washington Square E               40.730494               -73.995721   \n",
       "\n",
       "   end station id          end station name  end station latitude  \\\n",
       "0             265  Stanton St & Chrystie St             40.722293   \n",
       "\n",
       "   end station longitude  bikeid    usertype birth year  gender  \n",
       "0             -73.991475   21101  Subscriber       1991       1  "
      ]
     },
     "execution_count": 3,
     "metadata": {},
     "output_type": "execute_result"
    }
   ],
   "source": [
    "citibike_feb.head(1)"
   ]
  },
  {
   "cell_type": "code",
   "execution_count": 4,
   "metadata": {},
   "outputs": [
    {
     "data": {
      "text/html": [
       "<div>\n",
       "<style scoped>\n",
       "    .dataframe tbody tr th:only-of-type {\n",
       "        vertical-align: middle;\n",
       "    }\n",
       "\n",
       "    .dataframe tbody tr th {\n",
       "        vertical-align: top;\n",
       "    }\n",
       "\n",
       "    .dataframe thead th {\n",
       "        text-align: right;\n",
       "    }\n",
       "</style>\n",
       "<table border=\"1\" class=\"dataframe\">\n",
       "  <thead>\n",
       "    <tr style=\"text-align: right;\">\n",
       "      <th></th>\n",
       "      <th>tripduration</th>\n",
       "      <th>start station id</th>\n",
       "      <th>start station latitude</th>\n",
       "      <th>start station longitude</th>\n",
       "      <th>end station id</th>\n",
       "      <th>end station latitude</th>\n",
       "      <th>end station longitude</th>\n",
       "      <th>bikeid</th>\n",
       "      <th>gender</th>\n",
       "    </tr>\n",
       "  </thead>\n",
       "  <tbody>\n",
       "    <tr>\n",
       "      <th>count</th>\n",
       "      <td>224736.000000</td>\n",
       "      <td>224736.000000</td>\n",
       "      <td>224736.000000</td>\n",
       "      <td>224736.000000</td>\n",
       "      <td>224736.000000</td>\n",
       "      <td>224736.000000</td>\n",
       "      <td>224736.000000</td>\n",
       "      <td>224736.000000</td>\n",
       "      <td>224736.000000</td>\n",
       "    </tr>\n",
       "    <tr>\n",
       "      <th>mean</th>\n",
       "      <td>874.519810</td>\n",
       "      <td>439.203479</td>\n",
       "      <td>40.734366</td>\n",
       "      <td>-73.990386</td>\n",
       "      <td>440.741995</td>\n",
       "      <td>40.734221</td>\n",
       "      <td>-73.990521</td>\n",
       "      <td>18010.598222</td>\n",
       "      <td>1.154617</td>\n",
       "    </tr>\n",
       "    <tr>\n",
       "      <th>std</th>\n",
       "      <td>5486.092219</td>\n",
       "      <td>335.723861</td>\n",
       "      <td>0.019031</td>\n",
       "      <td>0.011853</td>\n",
       "      <td>341.497433</td>\n",
       "      <td>0.019048</td>\n",
       "      <td>0.011920</td>\n",
       "      <td>1987.769335</td>\n",
       "      <td>0.436592</td>\n",
       "    </tr>\n",
       "    <tr>\n",
       "      <th>min</th>\n",
       "      <td>60.000000</td>\n",
       "      <td>72.000000</td>\n",
       "      <td>40.680342</td>\n",
       "      <td>-74.017134</td>\n",
       "      <td>72.000000</td>\n",
       "      <td>40.680342</td>\n",
       "      <td>-74.017134</td>\n",
       "      <td>14529.000000</td>\n",
       "      <td>0.000000</td>\n",
       "    </tr>\n",
       "    <tr>\n",
       "      <th>25%</th>\n",
       "      <td>360.000000</td>\n",
       "      <td>305.000000</td>\n",
       "      <td>40.721854</td>\n",
       "      <td>-73.998522</td>\n",
       "      <td>305.000000</td>\n",
       "      <td>40.721816</td>\n",
       "      <td>-73.999061</td>\n",
       "      <td>16302.000000</td>\n",
       "      <td>1.000000</td>\n",
       "    </tr>\n",
       "    <tr>\n",
       "      <th>50%</th>\n",
       "      <td>544.000000</td>\n",
       "      <td>403.000000</td>\n",
       "      <td>40.736197</td>\n",
       "      <td>-73.990617</td>\n",
       "      <td>403.000000</td>\n",
       "      <td>40.735877</td>\n",
       "      <td>-73.990741</td>\n",
       "      <td>17975.000000</td>\n",
       "      <td>1.000000</td>\n",
       "    </tr>\n",
       "    <tr>\n",
       "      <th>75%</th>\n",
       "      <td>845.000000</td>\n",
       "      <td>490.000000</td>\n",
       "      <td>40.749156</td>\n",
       "      <td>-73.981918</td>\n",
       "      <td>488.000000</td>\n",
       "      <td>40.749013</td>\n",
       "      <td>-73.981948</td>\n",
       "      <td>19689.000000</td>\n",
       "      <td>1.000000</td>\n",
       "    </tr>\n",
       "    <tr>\n",
       "      <th>max</th>\n",
       "      <td>766108.000000</td>\n",
       "      <td>3002.000000</td>\n",
       "      <td>40.770513</td>\n",
       "      <td>-73.950048</td>\n",
       "      <td>3002.000000</td>\n",
       "      <td>40.770513</td>\n",
       "      <td>-73.950048</td>\n",
       "      <td>21542.000000</td>\n",
       "      <td>2.000000</td>\n",
       "    </tr>\n",
       "  </tbody>\n",
       "</table>\n",
       "</div>"
      ],
      "text/plain": [
       "        tripduration  start station id  start station latitude  \\\n",
       "count  224736.000000     224736.000000           224736.000000   \n",
       "mean      874.519810        439.203479               40.734366   \n",
       "std      5486.092219        335.723861                0.019031   \n",
       "min        60.000000         72.000000               40.680342   \n",
       "25%       360.000000        305.000000               40.721854   \n",
       "50%       544.000000        403.000000               40.736197   \n",
       "75%       845.000000        490.000000               40.749156   \n",
       "max    766108.000000       3002.000000               40.770513   \n",
       "\n",
       "       start station longitude  end station id  end station latitude  \\\n",
       "count            224736.000000   224736.000000         224736.000000   \n",
       "mean                -73.990386      440.741995             40.734221   \n",
       "std                   0.011853      341.497433              0.019048   \n",
       "min                 -74.017134       72.000000             40.680342   \n",
       "25%                 -73.998522      305.000000             40.721816   \n",
       "50%                 -73.990617      403.000000             40.735877   \n",
       "75%                 -73.981918      488.000000             40.749013   \n",
       "max                 -73.950048     3002.000000             40.770513   \n",
       "\n",
       "       end station longitude         bikeid         gender  \n",
       "count          224736.000000  224736.000000  224736.000000  \n",
       "mean              -73.990521   18010.598222       1.154617  \n",
       "std                 0.011920    1987.769335       0.436592  \n",
       "min               -74.017134   14529.000000       0.000000  \n",
       "25%               -73.999061   16302.000000       1.000000  \n",
       "50%               -73.990741   17975.000000       1.000000  \n",
       "75%               -73.981948   19689.000000       1.000000  \n",
       "max               -73.950048   21542.000000       2.000000  "
      ]
     },
     "execution_count": 4,
     "metadata": {},
     "output_type": "execute_result"
    }
   ],
   "source": [
    "citibike_feb.describe()"
   ]
  },
  {
   "cell_type": "code",
   "execution_count": 5,
   "metadata": {},
   "outputs": [
    {
     "data": {
      "text/plain": [
       "tripduration                 int64\n",
       "starttime                   object\n",
       "stoptime                    object\n",
       "start station id             int64\n",
       "start station name          object\n",
       "start station latitude     float64\n",
       "start station longitude    float64\n",
       "end station id               int64\n",
       "end station name            object\n",
       "end station latitude       float64\n",
       "end station longitude      float64\n",
       "bikeid                       int64\n",
       "usertype                    object\n",
       "birth year                  object\n",
       "gender                       int64\n",
       "dtype: object"
      ]
     },
     "execution_count": 5,
     "metadata": {},
     "output_type": "execute_result"
    }
   ],
   "source": [
    "citibike_feb.dtypes"
   ]
  },
  {
   "cell_type": "code",
   "execution_count": 6,
   "metadata": {},
   "outputs": [
    {
     "data": {
      "text/plain": [
       "tripduration               0\n",
       "starttime                  0\n",
       "stoptime                   0\n",
       "start station id           0\n",
       "start station name         0\n",
       "start station latitude     0\n",
       "start station longitude    0\n",
       "end station id             0\n",
       "end station name           0\n",
       "end station latitude       0\n",
       "end station longitude      0\n",
       "bikeid                     0\n",
       "usertype                   0\n",
       "birth year                 0\n",
       "gender                     0\n",
       "dtype: int64"
      ]
     },
     "execution_count": 6,
     "metadata": {},
     "output_type": "execute_result"
    }
   ],
   "source": [
    "citibike_feb.isnull().sum()"
   ]
  },
  {
   "cell_type": "code",
   "execution_count": 7,
   "metadata": {},
   "outputs": [
    {
     "data": {
      "text/plain": [
       "array([1, 2, 0])"
      ]
     },
     "execution_count": 7,
     "metadata": {},
     "output_type": "execute_result"
    }
   ],
   "source": [
    "#from https://www.citibikenyc.com/system-data\n",
    "#Gender (Zero=unknown; 1=male; 2=female)\n",
    "citibike_feb['gender'].unique()"
   ]
  },
  {
   "cell_type": "code",
   "execution_count": 8,
   "metadata": {},
   "outputs": [
    {
     "name": "stderr",
     "output_type": "stream",
     "text": [
      "/Users/merylduff/opt/anaconda3/lib/python3.8/site-packages/pandas/core/indexing.py:670: SettingWithCopyWarning: \n",
      "A value is trying to be set on a copy of a slice from a DataFrame\n",
      "\n",
      "See the caveats in the documentation: https://pandas.pydata.org/pandas-docs/stable/user_guide/indexing.html#returning-a-view-versus-a-copy\n",
      "  iloc._setitem_with_indexer(indexer, value)\n"
     ]
    }
   ],
   "source": [
    "#replace '\\N' with np.NaN\n",
    "# citibike_feb['birth year'].replace(to_replace= '\\N',value=np.NaN, inplace=True)\n",
    "citibike_feb['birth year'].iloc[31]= np.NaN"
   ]
  },
  {
   "cell_type": "code",
   "execution_count": 9,
   "metadata": {},
   "outputs": [
    {
     "data": {
      "text/plain": [
       "tripduration                                   664\n",
       "starttime                      2014-02-01 00:08:47\n",
       "stoptime                       2014-02-01 00:19:51\n",
       "start station id                               237\n",
       "start station name                 E 11 St & 2 Ave\n",
       "start station latitude                     40.7305\n",
       "start station longitude                   -73.9867\n",
       "end station id                                 349\n",
       "end station name           Rivington St & Ridge St\n",
       "end station latitude                       40.7185\n",
       "end station longitude                     -73.9833\n",
       "bikeid                                       17540\n",
       "usertype                                  Customer\n",
       "birth year                                     NaN\n",
       "gender                                           0\n",
       "Name: 31, dtype: object"
      ]
     },
     "execution_count": 9,
     "metadata": {},
     "output_type": "execute_result"
    }
   ],
   "source": [
    "#checking my work\n",
    "citibike_feb.iloc[31]"
   ]
  },
  {
   "cell_type": "code",
   "execution_count": 10,
   "metadata": {},
   "outputs": [],
   "source": [
    "# turn \\\\N into np.NaN\n",
    "citibike_feb.loc[(citibike_feb['birth year']=='\\\\N')]= np.NaN"
   ]
  },
  {
   "cell_type": "code",
   "execution_count": 11,
   "metadata": {},
   "outputs": [
    {
     "data": {
      "text/plain": [
       "0         1991.0\n",
       "1         1979.0\n",
       "2         1948.0\n",
       "3         1981.0\n",
       "4         1990.0\n",
       "           ...  \n",
       "224731    1976.0\n",
       "224732    1985.0\n",
       "224733    1968.0\n",
       "224734    1982.0\n",
       "224735    1960.0\n",
       "Name: birth year, Length: 224736, dtype: float64"
      ]
     },
     "execution_count": 11,
     "metadata": {},
     "output_type": "execute_result"
    }
   ],
   "source": [
    "# turn year into number\n",
    "pd.to_numeric(citibike_feb['birth year'])"
   ]
  },
  {
   "cell_type": "code",
   "execution_count": 12,
   "metadata": {},
   "outputs": [
    {
     "data": {
      "text/plain": [
       "array(['1991', '1979', '1948', '1981', '1990', '1978', '1944', '1983',\n",
       "       '1969', '1986', '1962', '1965', '1942', '1989', '1980', '1957',\n",
       "       '1951', '1992', '1971', '1982', '1968', '1984', nan, '1956',\n",
       "       '1987', '1985', '1996', '1975', '1988', '1974', '1972', '1959',\n",
       "       '1973', '1977', '1976', '1953', '1993', '1970', '1963', '1967',\n",
       "       '1966', '1960', '1961', '1994', '1958', '1955', '1946', '1964',\n",
       "       '1900', '1995', '1954', '1952', '1949', '1947', '1941', '1938',\n",
       "       '1950', '1945', '1997', '1934', '1940', '1939', '1936', '1943',\n",
       "       '1935', '1937', '1922', '1932', '1907', '1926', '1899', '1901',\n",
       "       '1917', '1910', '1933', '1921', '1927', '1913'], dtype=object)"
      ]
     },
     "execution_count": 12,
     "metadata": {},
     "output_type": "execute_result"
    }
   ],
   "source": [
    "# checking years\n",
    "citibike_feb['birth year'].unique()"
   ]
  },
  {
   "cell_type": "code",
   "execution_count": 13,
   "metadata": {},
   "outputs": [],
   "source": [
    "#dropping NaN\n",
    "citibike_feb.dropna(axis = 0,inplace=True)"
   ]
  },
  {
   "cell_type": "code",
   "execution_count": 14,
   "metadata": {},
   "outputs": [
    {
     "data": {
      "text/plain": [
       "array(['1899', '1900', '1901', '1907', '1910', '1913', '1917', '1921',\n",
       "       '1922', '1926', '1927', '1932', '1933', '1934', '1935', '1936',\n",
       "       '1937', '1938', '1939', '1940', '1941', '1942', '1943', '1944',\n",
       "       '1945', '1946', '1947', '1948', '1949', '1950', '1951', '1952',\n",
       "       '1953', '1954', '1955', '1956', '1957', '1958', '1959', '1960',\n",
       "       '1961', '1962', '1963', '1964', '1965', '1966', '1967', '1968',\n",
       "       '1969', '1970', '1971', '1972', '1973', '1974', '1975', '1976',\n",
       "       '1977', '1978', '1979', '1980', '1981', '1982', '1983', '1984',\n",
       "       '1985', '1986', '1987', '1988', '1989', '1990', '1991', '1992',\n",
       "       '1993', '1994', '1995', '1996', '1997'], dtype=object)"
      ]
     },
     "execution_count": 14,
     "metadata": {},
     "output_type": "execute_result"
    }
   ],
   "source": [
    "citibike_feb['birth year'].sort_values().unique()"
   ]
  },
  {
   "cell_type": "markdown",
   "metadata": {},
   "source": [
    "-----\n",
    "\n",
    "## (OPTIONAL) Is average trip duration different by gender?\n",
    "\n",
    "Conduct a hypothesis test that checks whether or not the average trip duration is different for `gender=1` and `gender=2`. Be sure to specify your null and alternative hypotheses, and to state your conclusion carefully and correctly!\n",
    "\n",
    "*Note:* We haven't covered this in class yet, so this is a challenge/optional question if you wanted to look into [hypothesis tests](https://towardsdatascience.com/hypothesis-testing-in-machine-learning-using-python-a0dc89e169ce) on your own!"
   ]
  },
  {
   "cell_type": "markdown",
   "metadata": {},
   "source": [
    "## NOTE TO SELF: RETURN TO THIS!"
   ]
  },
  {
   "cell_type": "markdown",
   "metadata": {},
   "source": [
    "null hypothessis= there is no relationship between gender and trip duration\n",
    "\n",
    "hypothesis= there is a relationship between gender and trip durations. I hypothesize that men tend to take longer trips on the bikes because they feel safer to travel long distances, while women tend to bike shorter distances to maintain safety.\n",
    "\n",
    "(This is not based on outside data, but it is based on my own experiences)"
   ]
  },
  {
   "cell_type": "markdown",
   "metadata": {},
   "source": [
    "-----\n",
    "\n",
    "## What numeric columns shouldn't be treated as numeric?"
   ]
  },
  {
   "cell_type": "markdown",
   "metadata": {},
   "source": [
    "**Answer:** Gender is coded as (Zero=unknown; 1=male; 2=female) and should not be treated as numeric. "
   ]
  },
  {
   "cell_type": "markdown",
   "metadata": {},
   "source": [
    "## Dummify the `start station id` variable"
   ]
  },
  {
   "cell_type": "code",
   "execution_count": 56,
   "metadata": {},
   "outputs": [],
   "source": [
    "# citibike_feb = pd.get_dummies(data=citibike_feb, columns=['start station id'], drop_first=True)\n"
   ]
  },
  {
   "cell_type": "markdown",
   "metadata": {},
   "source": [
    "## Engineer a feature called `age` that shares how old the person would have been in 2014 (at the time the data was collected).\n",
    "\n",
    "- Note: you will need to clean the data a bit."
   ]
  },
  {
   "cell_type": "code",
   "execution_count": 15,
   "metadata": {},
   "outputs": [
    {
     "data": {
      "text/html": [
       "<div>\n",
       "<style scoped>\n",
       "    .dataframe tbody tr th:only-of-type {\n",
       "        vertical-align: middle;\n",
       "    }\n",
       "\n",
       "    .dataframe tbody tr th {\n",
       "        vertical-align: top;\n",
       "    }\n",
       "\n",
       "    .dataframe thead th {\n",
       "        text-align: right;\n",
       "    }\n",
       "</style>\n",
       "<table border=\"1\" class=\"dataframe\">\n",
       "  <thead>\n",
       "    <tr style=\"text-align: right;\">\n",
       "      <th></th>\n",
       "      <th>tripduration</th>\n",
       "      <th>starttime</th>\n",
       "      <th>stoptime</th>\n",
       "      <th>start station id</th>\n",
       "      <th>start station name</th>\n",
       "      <th>start station latitude</th>\n",
       "      <th>start station longitude</th>\n",
       "      <th>end station id</th>\n",
       "      <th>end station name</th>\n",
       "      <th>end station latitude</th>\n",
       "      <th>end station longitude</th>\n",
       "      <th>bikeid</th>\n",
       "      <th>usertype</th>\n",
       "      <th>birth year</th>\n",
       "      <th>gender</th>\n",
       "    </tr>\n",
       "  </thead>\n",
       "  <tbody>\n",
       "    <tr>\n",
       "      <th>0</th>\n",
       "      <td>382.0</td>\n",
       "      <td>2014-02-01 00:00:00</td>\n",
       "      <td>2014-02-01 00:06:22</td>\n",
       "      <td>294.0</td>\n",
       "      <td>Washington Square E</td>\n",
       "      <td>40.730494</td>\n",
       "      <td>-73.995721</td>\n",
       "      <td>265.0</td>\n",
       "      <td>Stanton St &amp; Chrystie St</td>\n",
       "      <td>40.722293</td>\n",
       "      <td>-73.991475</td>\n",
       "      <td>21101.0</td>\n",
       "      <td>Subscriber</td>\n",
       "      <td>1991</td>\n",
       "      <td>1.0</td>\n",
       "    </tr>\n",
       "  </tbody>\n",
       "</table>\n",
       "</div>"
      ],
      "text/plain": [
       "   tripduration            starttime             stoptime  start station id  \\\n",
       "0         382.0  2014-02-01 00:00:00  2014-02-01 00:06:22             294.0   \n",
       "\n",
       "    start station name  start station latitude  start station longitude  \\\n",
       "0  Washington Square E               40.730494               -73.995721   \n",
       "\n",
       "   end station id          end station name  end station latitude  \\\n",
       "0           265.0  Stanton St & Chrystie St             40.722293   \n",
       "\n",
       "   end station longitude   bikeid    usertype birth year  gender  \n",
       "0             -73.991475  21101.0  Subscriber       1991     1.0  "
      ]
     },
     "execution_count": 15,
     "metadata": {},
     "output_type": "execute_result"
    }
   ],
   "source": [
    "citibike_feb.head(1)"
   ]
  },
  {
   "cell_type": "code",
   "execution_count": 16,
   "metadata": {},
   "outputs": [
    {
     "data": {
      "text/html": [
       "<div>\n",
       "<style scoped>\n",
       "    .dataframe tbody tr th:only-of-type {\n",
       "        vertical-align: middle;\n",
       "    }\n",
       "\n",
       "    .dataframe tbody tr th {\n",
       "        vertical-align: top;\n",
       "    }\n",
       "\n",
       "    .dataframe thead th {\n",
       "        text-align: right;\n",
       "    }\n",
       "</style>\n",
       "<table border=\"1\" class=\"dataframe\">\n",
       "  <thead>\n",
       "    <tr style=\"text-align: right;\">\n",
       "      <th></th>\n",
       "      <th>tripduration</th>\n",
       "      <th>starttime</th>\n",
       "      <th>stoptime</th>\n",
       "      <th>start station id</th>\n",
       "      <th>start station name</th>\n",
       "      <th>start station latitude</th>\n",
       "      <th>start station longitude</th>\n",
       "      <th>end station id</th>\n",
       "      <th>end station name</th>\n",
       "      <th>end station latitude</th>\n",
       "      <th>end station longitude</th>\n",
       "      <th>bikeid</th>\n",
       "      <th>usertype</th>\n",
       "      <th>birth year</th>\n",
       "      <th>gender</th>\n",
       "      <th>startyear</th>\n",
       "    </tr>\n",
       "  </thead>\n",
       "  <tbody>\n",
       "    <tr>\n",
       "      <th>0</th>\n",
       "      <td>382.0</td>\n",
       "      <td>2014-02-01 00:00:00</td>\n",
       "      <td>2014-02-01 00:06:22</td>\n",
       "      <td>294.0</td>\n",
       "      <td>Washington Square E</td>\n",
       "      <td>40.730494</td>\n",
       "      <td>-73.995721</td>\n",
       "      <td>265.0</td>\n",
       "      <td>Stanton St &amp; Chrystie St</td>\n",
       "      <td>40.722293</td>\n",
       "      <td>-73.991475</td>\n",
       "      <td>21101.0</td>\n",
       "      <td>Subscriber</td>\n",
       "      <td>1991</td>\n",
       "      <td>1.0</td>\n",
       "      <td>2014</td>\n",
       "    </tr>\n",
       "  </tbody>\n",
       "</table>\n",
       "</div>"
      ],
      "text/plain": [
       "   tripduration            starttime             stoptime  start station id  \\\n",
       "0         382.0  2014-02-01 00:00:00  2014-02-01 00:06:22             294.0   \n",
       "\n",
       "    start station name  start station latitude  start station longitude  \\\n",
       "0  Washington Square E               40.730494               -73.995721   \n",
       "\n",
       "   end station id          end station name  end station latitude  \\\n",
       "0           265.0  Stanton St & Chrystie St             40.722293   \n",
       "\n",
       "   end station longitude   bikeid    usertype birth year  gender startyear  \n",
       "0             -73.991475  21101.0  Subscriber       1991     1.0      2014  "
      ]
     },
     "execution_count": 16,
     "metadata": {},
     "output_type": "execute_result"
    }
   ],
   "source": [
    "# https://stackoverflow.com/questions/35552874/get-first-letter-of-a-string-from-column\n",
    "citibike_feb['startyear']=citibike_feb['starttime'].str[0:4]\n",
    "citibike_feb.head(1)"
   ]
  },
  {
   "cell_type": "code",
   "execution_count": 17,
   "metadata": {},
   "outputs": [
    {
     "data": {
      "text/plain": [
       "0         2014\n",
       "1         2014\n",
       "2         2014\n",
       "3         2014\n",
       "4         2014\n",
       "          ... \n",
       "224731    2014\n",
       "224732    2014\n",
       "224733    2014\n",
       "224734    2014\n",
       "224735    2014\n",
       "Name: startyear, Length: 218019, dtype: int64"
      ]
     },
     "execution_count": 17,
     "metadata": {},
     "output_type": "execute_result"
    }
   ],
   "source": [
    "# cast as int\n",
    "pd.to_numeric(citibike_feb['startyear'])"
   ]
  },
  {
   "cell_type": "code",
   "execution_count": 18,
   "metadata": {},
   "outputs": [
    {
     "data": {
      "text/plain": [
       "0         1991\n",
       "1         1979\n",
       "2         1948\n",
       "3         1981\n",
       "4         1990\n",
       "          ... \n",
       "224731    1976\n",
       "224732    1985\n",
       "224733    1968\n",
       "224734    1982\n",
       "224735    1960\n",
       "Name: birth year, Length: 218019, dtype: int64"
      ]
     },
     "execution_count": 18,
     "metadata": {},
     "output_type": "execute_result"
    }
   ],
   "source": [
    "#reviewing birth years\n",
    "#cast as int\n",
    "pd.to_numeric(citibike_feb['birth year'])"
   ]
  },
  {
   "cell_type": "code",
   "execution_count": 19,
   "metadata": {},
   "outputs": [],
   "source": [
    "#new column of \"age\"\n",
    "\n",
    "citibike_feb['age']=pd.to_numeric(citibike_feb['startyear'])-pd.to_numeric(citibike_feb['birth year'])"
   ]
  },
  {
   "cell_type": "code",
   "execution_count": 20,
   "metadata": {},
   "outputs": [
    {
     "data": {
      "text/plain": [
       "array([ 17,  18,  19,  20,  21,  22,  23,  24,  25,  26,  27,  28,  29,\n",
       "        30,  31,  32,  33,  34,  35,  36,  37,  38,  39,  40,  41,  42,\n",
       "        43,  44,  45,  46,  47,  48,  49,  50,  51,  52,  53,  54,  55,\n",
       "        56,  57,  58,  59,  60,  61,  62,  63,  64,  65,  66,  67,  68,\n",
       "        69,  70,  71,  72,  73,  74,  75,  76,  77,  78,  79,  80,  81,\n",
       "        82,  87,  88,  92,  93,  97, 101, 104, 107, 113, 114, 115])"
      ]
     },
     "execution_count": 20,
     "metadata": {},
     "output_type": "execute_result"
    }
   ],
   "source": [
    "# checking my work\n",
    "citibike_feb['age'].sort_values().unique()"
   ]
  },
  {
   "cell_type": "code",
   "execution_count": 21,
   "metadata": {},
   "outputs": [],
   "source": [
    "#dropping ages over 100\n",
    "citibike_feb.drop(citibike_feb[citibike_feb['age'] > 100].index, inplace = True) "
   ]
  },
  {
   "cell_type": "code",
   "execution_count": 22,
   "metadata": {},
   "outputs": [
    {
     "data": {
      "text/plain": [
       "array([17, 18, 19, 20, 21, 22, 23, 24, 25, 26, 27, 28, 29, 30, 31, 32, 33,\n",
       "       34, 35, 36, 37, 38, 39, 40, 41, 42, 43, 44, 45, 46, 47, 48, 49, 50,\n",
       "       51, 52, 53, 54, 55, 56, 57, 58, 59, 60, 61, 62, 63, 64, 65, 66, 67,\n",
       "       68, 69, 70, 71, 72, 73, 74, 75, 76, 77, 78, 79, 80, 81, 82, 87, 88,\n",
       "       92, 93, 97])"
      ]
     },
     "execution_count": 22,
     "metadata": {},
     "output_type": "execute_result"
    }
   ],
   "source": [
    "# checking my work\n",
    "citibike_feb['age'].sort_values().unique()"
   ]
  },
  {
   "cell_type": "code",
   "execution_count": 25,
   "metadata": {},
   "outputs": [],
   "source": [
    "#dummifying usertype\n",
    "citibike_feb = pd.get_dummies(data=citibike_feb, columns=['usertype'])"
   ]
  },
  {
   "cell_type": "code",
   "execution_count": 29,
   "metadata": {},
   "outputs": [
    {
     "data": {
      "text/html": [
       "<div>\n",
       "<style scoped>\n",
       "    .dataframe tbody tr th:only-of-type {\n",
       "        vertical-align: middle;\n",
       "    }\n",
       "\n",
       "    .dataframe tbody tr th {\n",
       "        vertical-align: top;\n",
       "    }\n",
       "\n",
       "    .dataframe thead th {\n",
       "        text-align: right;\n",
       "    }\n",
       "</style>\n",
       "<table border=\"1\" class=\"dataframe\">\n",
       "  <thead>\n",
       "    <tr style=\"text-align: right;\">\n",
       "      <th></th>\n",
       "      <th>tripduration</th>\n",
       "      <th>starttime</th>\n",
       "      <th>stoptime</th>\n",
       "      <th>start station id</th>\n",
       "      <th>start station name</th>\n",
       "      <th>start station latitude</th>\n",
       "      <th>start station longitude</th>\n",
       "      <th>end station id</th>\n",
       "      <th>end station name</th>\n",
       "      <th>end station latitude</th>\n",
       "      <th>end station longitude</th>\n",
       "      <th>bikeid</th>\n",
       "      <th>birth year</th>\n",
       "      <th>gender</th>\n",
       "      <th>startyear</th>\n",
       "      <th>age</th>\n",
       "      <th>usertype_Subscriber</th>\n",
       "    </tr>\n",
       "  </thead>\n",
       "  <tbody>\n",
       "    <tr>\n",
       "      <th>0</th>\n",
       "      <td>382.0</td>\n",
       "      <td>2014-02-01 00:00:00</td>\n",
       "      <td>2014-02-01 00:06:22</td>\n",
       "      <td>294.0</td>\n",
       "      <td>Washington Square E</td>\n",
       "      <td>40.730494</td>\n",
       "      <td>-73.995721</td>\n",
       "      <td>265.0</td>\n",
       "      <td>Stanton St &amp; Chrystie St</td>\n",
       "      <td>40.722293</td>\n",
       "      <td>-73.991475</td>\n",
       "      <td>21101.0</td>\n",
       "      <td>1991</td>\n",
       "      <td>1.0</td>\n",
       "      <td>2014</td>\n",
       "      <td>23</td>\n",
       "      <td>1</td>\n",
       "    </tr>\n",
       "  </tbody>\n",
       "</table>\n",
       "</div>"
      ],
      "text/plain": [
       "   tripduration            starttime             stoptime  start station id  \\\n",
       "0         382.0  2014-02-01 00:00:00  2014-02-01 00:06:22             294.0   \n",
       "\n",
       "    start station name  start station latitude  start station longitude  \\\n",
       "0  Washington Square E               40.730494               -73.995721   \n",
       "\n",
       "   end station id          end station name  end station latitude  \\\n",
       "0           265.0  Stanton St & Chrystie St             40.722293   \n",
       "\n",
       "   end station longitude   bikeid birth year  gender startyear  age  \\\n",
       "0             -73.991475  21101.0       1991     1.0      2014   23   \n",
       "\n",
       "   usertype_Subscriber  \n",
       "0                    1  "
      ]
     },
     "execution_count": 29,
     "metadata": {},
     "output_type": "execute_result"
    }
   ],
   "source": [
    "#checking my work\n",
    "citibike_feb.head(1)"
   ]
  },
  {
   "cell_type": "markdown",
   "metadata": {},
   "source": [
    "## Split your data into train/test data\n",
    "\n",
    "**NOTE:** When doing your train/test split, please use random seed 123."
   ]
  },
  {
   "cell_type": "markdown",
   "metadata": {},
   "source": [
    "Look at the size of your data. What is a good proportion for your split? **Justify your answer.**\n",
    "\n",
    "- Because we have a substantial amount of data, I would recommend an 75%-25% split in training and testing groups, respectively. This is because we will be able to train the model on many data points and do not want the model to be high variance, or over-fit to the data. "
   ]
  },
  {
   "cell_type": "code",
   "execution_count": 30,
   "metadata": {},
   "outputs": [
    {
     "data": {
      "text/plain": [
       "(217921, 17)"
      ]
     },
     "execution_count": 30,
     "metadata": {},
     "output_type": "execute_result"
    }
   ],
   "source": [
    "citibike_feb.shape"
   ]
  },
  {
   "cell_type": "code",
   "execution_count": 38,
   "metadata": {},
   "outputs": [
    {
     "data": {
      "text/html": [
       "<div>\n",
       "<style scoped>\n",
       "    .dataframe tbody tr th:only-of-type {\n",
       "        vertical-align: middle;\n",
       "    }\n",
       "\n",
       "    .dataframe tbody tr th {\n",
       "        vertical-align: top;\n",
       "    }\n",
       "\n",
       "    .dataframe thead th {\n",
       "        text-align: right;\n",
       "    }\n",
       "</style>\n",
       "<table border=\"1\" class=\"dataframe\">\n",
       "  <thead>\n",
       "    <tr style=\"text-align: right;\">\n",
       "      <th></th>\n",
       "      <th>tripduration</th>\n",
       "      <th>starttime</th>\n",
       "      <th>stoptime</th>\n",
       "      <th>start station id</th>\n",
       "      <th>start station name</th>\n",
       "      <th>start station latitude</th>\n",
       "      <th>start station longitude</th>\n",
       "      <th>end station id</th>\n",
       "      <th>end station name</th>\n",
       "      <th>end station latitude</th>\n",
       "      <th>end station longitude</th>\n",
       "      <th>bikeid</th>\n",
       "      <th>birth year</th>\n",
       "      <th>gender</th>\n",
       "      <th>startyear</th>\n",
       "      <th>age</th>\n",
       "      <th>usertype_Subscriber</th>\n",
       "    </tr>\n",
       "  </thead>\n",
       "  <tbody>\n",
       "    <tr>\n",
       "      <th>0</th>\n",
       "      <td>382.0</td>\n",
       "      <td>2014-02-01 00:00:00</td>\n",
       "      <td>2014-02-01 00:06:22</td>\n",
       "      <td>294.0</td>\n",
       "      <td>Washington Square E</td>\n",
       "      <td>40.730494</td>\n",
       "      <td>-73.995721</td>\n",
       "      <td>265.0</td>\n",
       "      <td>Stanton St &amp; Chrystie St</td>\n",
       "      <td>40.722293</td>\n",
       "      <td>-73.991475</td>\n",
       "      <td>21101.0</td>\n",
       "      <td>1991</td>\n",
       "      <td>1.0</td>\n",
       "      <td>2014</td>\n",
       "      <td>23</td>\n",
       "      <td>1</td>\n",
       "    </tr>\n",
       "    <tr>\n",
       "      <th>1</th>\n",
       "      <td>372.0</td>\n",
       "      <td>2014-02-01 00:00:03</td>\n",
       "      <td>2014-02-01 00:06:15</td>\n",
       "      <td>285.0</td>\n",
       "      <td>Broadway &amp; E 14 St</td>\n",
       "      <td>40.734546</td>\n",
       "      <td>-73.990741</td>\n",
       "      <td>439.0</td>\n",
       "      <td>E 4 St &amp; 2 Ave</td>\n",
       "      <td>40.726281</td>\n",
       "      <td>-73.989780</td>\n",
       "      <td>15456.0</td>\n",
       "      <td>1979</td>\n",
       "      <td>2.0</td>\n",
       "      <td>2014</td>\n",
       "      <td>35</td>\n",
       "      <td>1</td>\n",
       "    </tr>\n",
       "    <tr>\n",
       "      <th>2</th>\n",
       "      <td>591.0</td>\n",
       "      <td>2014-02-01 00:00:09</td>\n",
       "      <td>2014-02-01 00:10:00</td>\n",
       "      <td>247.0</td>\n",
       "      <td>Perry St &amp; Bleecker St</td>\n",
       "      <td>40.735354</td>\n",
       "      <td>-74.004831</td>\n",
       "      <td>251.0</td>\n",
       "      <td>Mott St &amp; Prince St</td>\n",
       "      <td>40.723180</td>\n",
       "      <td>-73.994800</td>\n",
       "      <td>16281.0</td>\n",
       "      <td>1948</td>\n",
       "      <td>2.0</td>\n",
       "      <td>2014</td>\n",
       "      <td>66</td>\n",
       "      <td>1</td>\n",
       "    </tr>\n",
       "    <tr>\n",
       "      <th>3</th>\n",
       "      <td>583.0</td>\n",
       "      <td>2014-02-01 00:00:32</td>\n",
       "      <td>2014-02-01 00:10:15</td>\n",
       "      <td>357.0</td>\n",
       "      <td>E 11 St &amp; Broadway</td>\n",
       "      <td>40.732618</td>\n",
       "      <td>-73.991580</td>\n",
       "      <td>284.0</td>\n",
       "      <td>Greenwich Ave &amp; 8 Ave</td>\n",
       "      <td>40.739017</td>\n",
       "      <td>-74.002638</td>\n",
       "      <td>17400.0</td>\n",
       "      <td>1981</td>\n",
       "      <td>1.0</td>\n",
       "      <td>2014</td>\n",
       "      <td>33</td>\n",
       "      <td>1</td>\n",
       "    </tr>\n",
       "    <tr>\n",
       "      <th>4</th>\n",
       "      <td>223.0</td>\n",
       "      <td>2014-02-01 00:00:41</td>\n",
       "      <td>2014-02-01 00:04:24</td>\n",
       "      <td>401.0</td>\n",
       "      <td>Allen St &amp; Rivington St</td>\n",
       "      <td>40.720196</td>\n",
       "      <td>-73.989978</td>\n",
       "      <td>439.0</td>\n",
       "      <td>E 4 St &amp; 2 Ave</td>\n",
       "      <td>40.726281</td>\n",
       "      <td>-73.989780</td>\n",
       "      <td>19341.0</td>\n",
       "      <td>1990</td>\n",
       "      <td>1.0</td>\n",
       "      <td>2014</td>\n",
       "      <td>24</td>\n",
       "      <td>1</td>\n",
       "    </tr>\n",
       "  </tbody>\n",
       "</table>\n",
       "</div>"
      ],
      "text/plain": [
       "   tripduration            starttime             stoptime  start station id  \\\n",
       "0         382.0  2014-02-01 00:00:00  2014-02-01 00:06:22             294.0   \n",
       "1         372.0  2014-02-01 00:00:03  2014-02-01 00:06:15             285.0   \n",
       "2         591.0  2014-02-01 00:00:09  2014-02-01 00:10:00             247.0   \n",
       "3         583.0  2014-02-01 00:00:32  2014-02-01 00:10:15             357.0   \n",
       "4         223.0  2014-02-01 00:00:41  2014-02-01 00:04:24             401.0   \n",
       "\n",
       "        start station name  start station latitude  start station longitude  \\\n",
       "0      Washington Square E               40.730494               -73.995721   \n",
       "1       Broadway & E 14 St               40.734546               -73.990741   \n",
       "2   Perry St & Bleecker St               40.735354               -74.004831   \n",
       "3       E 11 St & Broadway               40.732618               -73.991580   \n",
       "4  Allen St & Rivington St               40.720196               -73.989978   \n",
       "\n",
       "   end station id          end station name  end station latitude  \\\n",
       "0           265.0  Stanton St & Chrystie St             40.722293   \n",
       "1           439.0            E 4 St & 2 Ave             40.726281   \n",
       "2           251.0       Mott St & Prince St             40.723180   \n",
       "3           284.0     Greenwich Ave & 8 Ave             40.739017   \n",
       "4           439.0            E 4 St & 2 Ave             40.726281   \n",
       "\n",
       "   end station longitude   bikeid birth year  gender startyear  age  \\\n",
       "0             -73.991475  21101.0       1991     1.0      2014   23   \n",
       "1             -73.989780  15456.0       1979     2.0      2014   35   \n",
       "2             -73.994800  16281.0       1948     2.0      2014   66   \n",
       "3             -74.002638  17400.0       1981     1.0      2014   33   \n",
       "4             -73.989780  19341.0       1990     1.0      2014   24   \n",
       "\n",
       "   usertype_Subscriber  \n",
       "0                    1  \n",
       "1                    1  \n",
       "2                    1  \n",
       "3                    1  \n",
       "4                    1  "
      ]
     },
     "execution_count": 38,
     "metadata": {},
     "output_type": "execute_result"
    }
   ],
   "source": [
    "citibike_feb.head()"
   ]
  },
  {
   "cell_type": "code",
   "execution_count": 129,
   "metadata": {},
   "outputs": [
    {
     "data": {
      "text/html": [
       "<div>\n",
       "<style scoped>\n",
       "    .dataframe tbody tr th:only-of-type {\n",
       "        vertical-align: middle;\n",
       "    }\n",
       "\n",
       "    .dataframe tbody tr th {\n",
       "        vertical-align: top;\n",
       "    }\n",
       "\n",
       "    .dataframe thead th {\n",
       "        text-align: right;\n",
       "    }\n",
       "</style>\n",
       "<table border=\"1\" class=\"dataframe\">\n",
       "  <thead>\n",
       "    <tr style=\"text-align: right;\">\n",
       "      <th></th>\n",
       "      <th>id</th>\n",
       "      <th>0</th>\n",
       "    </tr>\n",
       "  </thead>\n",
       "  <tbody>\n",
       "    <tr>\n",
       "      <th>0</th>\n",
       "      <td>293.0</td>\n",
       "      <td>2858</td>\n",
       "    </tr>\n",
       "    <tr>\n",
       "      <th>1</th>\n",
       "      <td>519.0</td>\n",
       "      <td>2675</td>\n",
       "    </tr>\n",
       "    <tr>\n",
       "      <th>2</th>\n",
       "      <td>497.0</td>\n",
       "      <td>2405</td>\n",
       "    </tr>\n",
       "    <tr>\n",
       "      <th>3</th>\n",
       "      <td>435.0</td>\n",
       "      <td>2360</td>\n",
       "    </tr>\n",
       "    <tr>\n",
       "      <th>4</th>\n",
       "      <td>521.0</td>\n",
       "      <td>2114</td>\n",
       "    </tr>\n",
       "    <tr>\n",
       "      <th>...</th>\n",
       "      <td>...</td>\n",
       "      <td>...</td>\n",
       "    </tr>\n",
       "    <tr>\n",
       "      <th>324</th>\n",
       "      <td>418.0</td>\n",
       "      <td>51</td>\n",
       "    </tr>\n",
       "    <tr>\n",
       "      <th>325</th>\n",
       "      <td>443.0</td>\n",
       "      <td>41</td>\n",
       "    </tr>\n",
       "    <tr>\n",
       "      <th>326</th>\n",
       "      <td>278.0</td>\n",
       "      <td>41</td>\n",
       "    </tr>\n",
       "    <tr>\n",
       "      <th>327</th>\n",
       "      <td>2005.0</td>\n",
       "      <td>36</td>\n",
       "    </tr>\n",
       "    <tr>\n",
       "      <th>328</th>\n",
       "      <td>320.0</td>\n",
       "      <td>4</td>\n",
       "    </tr>\n",
       "  </tbody>\n",
       "</table>\n",
       "<p>329 rows × 2 columns</p>\n",
       "</div>"
      ],
      "text/plain": [
       "         id     0\n",
       "0     293.0  2858\n",
       "1     519.0  2675\n",
       "2     497.0  2405\n",
       "3     435.0  2360\n",
       "4     521.0  2114\n",
       "..      ...   ...\n",
       "324   418.0    51\n",
       "325   443.0    41\n",
       "326   278.0    41\n",
       "327  2005.0    36\n",
       "328   320.0     4\n",
       "\n",
       "[329 rows x 2 columns]"
      ]
     },
     "execution_count": 129,
     "metadata": {},
     "output_type": "execute_result"
    }
   ],
   "source": [
    "startstation=citibike_feb.value_counts('start station id')\n",
    "# startstation= pd.DataFrame(startstation).reset_index()\n",
    "# startstation=startstation.drop(columns='level_0')\n",
    "startstation.rename(columns={'start station id':'id',\"0\":'counts'})"
   ]
  },
  {
   "cell_type": "code",
   "execution_count": 133,
   "metadata": {},
   "outputs": [
    {
     "data": {
      "text/html": [
       "<div>\n",
       "<style scoped>\n",
       "    .dataframe tbody tr th:only-of-type {\n",
       "        vertical-align: middle;\n",
       "    }\n",
       "\n",
       "    .dataframe tbody tr th {\n",
       "        vertical-align: top;\n",
       "    }\n",
       "\n",
       "    .dataframe thead th {\n",
       "        text-align: right;\n",
       "    }\n",
       "</style>\n",
       "<table border=\"1\" class=\"dataframe\">\n",
       "  <thead>\n",
       "    <tr style=\"text-align: right;\">\n",
       "      <th></th>\n",
       "      <th>start station id</th>\n",
       "      <th>0</th>\n",
       "    </tr>\n",
       "  </thead>\n",
       "  <tbody>\n",
       "    <tr>\n",
       "      <th>0</th>\n",
       "      <td>293.0</td>\n",
       "      <td>2858</td>\n",
       "    </tr>\n",
       "    <tr>\n",
       "      <th>1</th>\n",
       "      <td>519.0</td>\n",
       "      <td>2675</td>\n",
       "    </tr>\n",
       "    <tr>\n",
       "      <th>2</th>\n",
       "      <td>497.0</td>\n",
       "      <td>2405</td>\n",
       "    </tr>\n",
       "    <tr>\n",
       "      <th>3</th>\n",
       "      <td>435.0</td>\n",
       "      <td>2360</td>\n",
       "    </tr>\n",
       "    <tr>\n",
       "      <th>4</th>\n",
       "      <td>521.0</td>\n",
       "      <td>2114</td>\n",
       "    </tr>\n",
       "  </tbody>\n",
       "</table>\n",
       "</div>"
      ],
      "text/plain": [
       "   start station id     0\n",
       "0             293.0  2858\n",
       "1             519.0  2675\n",
       "2             497.0  2405\n",
       "3             435.0  2360\n",
       "4             521.0  2114"
      ]
     },
     "execution_count": 133,
     "metadata": {},
     "output_type": "execute_result"
    }
   ],
   "source": [
    "startstation.head()"
   ]
  },
  {
   "cell_type": "code",
   "execution_count": 45,
   "metadata": {},
   "outputs": [],
   "source": [
    "newdf=citibike_feb[['tripduration','age','usertype_Subscriber','gender','start station id']]\n"
   ]
  },
  {
   "cell_type": "code",
   "execution_count": 46,
   "metadata": {},
   "outputs": [
    {
     "data": {
      "text/html": [
       "<div>\n",
       "<style scoped>\n",
       "    .dataframe tbody tr th:only-of-type {\n",
       "        vertical-align: middle;\n",
       "    }\n",
       "\n",
       "    .dataframe tbody tr th {\n",
       "        vertical-align: top;\n",
       "    }\n",
       "\n",
       "    .dataframe thead th {\n",
       "        text-align: right;\n",
       "    }\n",
       "</style>\n",
       "<table border=\"1\" class=\"dataframe\">\n",
       "  <thead>\n",
       "    <tr style=\"text-align: right;\">\n",
       "      <th></th>\n",
       "      <th>tripduration</th>\n",
       "      <th>age</th>\n",
       "      <th>usertype_Subscriber</th>\n",
       "      <th>gender</th>\n",
       "      <th>start station id</th>\n",
       "    </tr>\n",
       "  </thead>\n",
       "  <tbody>\n",
       "    <tr>\n",
       "      <th>0</th>\n",
       "      <td>382.0</td>\n",
       "      <td>23</td>\n",
       "      <td>1</td>\n",
       "      <td>1.0</td>\n",
       "      <td>294.0</td>\n",
       "    </tr>\n",
       "    <tr>\n",
       "      <th>1</th>\n",
       "      <td>372.0</td>\n",
       "      <td>35</td>\n",
       "      <td>1</td>\n",
       "      <td>2.0</td>\n",
       "      <td>285.0</td>\n",
       "    </tr>\n",
       "    <tr>\n",
       "      <th>2</th>\n",
       "      <td>591.0</td>\n",
       "      <td>66</td>\n",
       "      <td>1</td>\n",
       "      <td>2.0</td>\n",
       "      <td>247.0</td>\n",
       "    </tr>\n",
       "    <tr>\n",
       "      <th>3</th>\n",
       "      <td>583.0</td>\n",
       "      <td>33</td>\n",
       "      <td>1</td>\n",
       "      <td>1.0</td>\n",
       "      <td>357.0</td>\n",
       "    </tr>\n",
       "    <tr>\n",
       "      <th>4</th>\n",
       "      <td>223.0</td>\n",
       "      <td>24</td>\n",
       "      <td>1</td>\n",
       "      <td>1.0</td>\n",
       "      <td>401.0</td>\n",
       "    </tr>\n",
       "    <tr>\n",
       "      <th>...</th>\n",
       "      <td>...</td>\n",
       "      <td>...</td>\n",
       "      <td>...</td>\n",
       "      <td>...</td>\n",
       "      <td>...</td>\n",
       "    </tr>\n",
       "    <tr>\n",
       "      <th>224731</th>\n",
       "      <td>848.0</td>\n",
       "      <td>38</td>\n",
       "      <td>1</td>\n",
       "      <td>1.0</td>\n",
       "      <td>498.0</td>\n",
       "    </tr>\n",
       "    <tr>\n",
       "      <th>224732</th>\n",
       "      <td>1355.0</td>\n",
       "      <td>29</td>\n",
       "      <td>1</td>\n",
       "      <td>2.0</td>\n",
       "      <td>470.0</td>\n",
       "    </tr>\n",
       "    <tr>\n",
       "      <th>224733</th>\n",
       "      <td>304.0</td>\n",
       "      <td>46</td>\n",
       "      <td>1</td>\n",
       "      <td>1.0</td>\n",
       "      <td>497.0</td>\n",
       "    </tr>\n",
       "    <tr>\n",
       "      <th>224734</th>\n",
       "      <td>308.0</td>\n",
       "      <td>32</td>\n",
       "      <td>1</td>\n",
       "      <td>1.0</td>\n",
       "      <td>353.0</td>\n",
       "    </tr>\n",
       "    <tr>\n",
       "      <th>224735</th>\n",
       "      <td>603.0</td>\n",
       "      <td>54</td>\n",
       "      <td>1</td>\n",
       "      <td>1.0</td>\n",
       "      <td>252.0</td>\n",
       "    </tr>\n",
       "  </tbody>\n",
       "</table>\n",
       "<p>217921 rows × 5 columns</p>\n",
       "</div>"
      ],
      "text/plain": [
       "        tripduration  age  usertype_Subscriber  gender  start station id\n",
       "0              382.0   23                    1     1.0             294.0\n",
       "1              372.0   35                    1     2.0             285.0\n",
       "2              591.0   66                    1     2.0             247.0\n",
       "3              583.0   33                    1     1.0             357.0\n",
       "4              223.0   24                    1     1.0             401.0\n",
       "...              ...  ...                  ...     ...               ...\n",
       "224731         848.0   38                    1     1.0             498.0\n",
       "224732        1355.0   29                    1     2.0             470.0\n",
       "224733         304.0   46                    1     1.0             497.0\n",
       "224734         308.0   32                    1     1.0             353.0\n",
       "224735         603.0   54                    1     1.0             252.0\n",
       "\n",
       "[217921 rows x 5 columns]"
      ]
     },
     "execution_count": 46,
     "metadata": {},
     "output_type": "execute_result"
    }
   ],
   "source": [
    "newdf"
   ]
  },
  {
   "cell_type": "markdown",
   "metadata": {},
   "source": [
    "Use the `tripduration` column as your `y` variable.\n",
    "For your `X` variables, use `age`, `usertype`, `gender`, and the dummy variables you created from `start station id`. (Hint: You may find the Pandas `.drop()` method helpful here.)"
   ]
  },
  {
   "cell_type": "markdown",
   "metadata": {},
   "source": [
    "- could we also create new features comprised of start station id between 0-500, 501-1000, etc. etc?"
   ]
  },
  {
   "cell_type": "code",
   "execution_count": 52,
   "metadata": {},
   "outputs": [],
   "source": [
    "newdf = pd.get_dummies(data=newdf, columns=['start station id'])"
   ]
  },
  {
   "cell_type": "code",
   "execution_count": 53,
   "metadata": {},
   "outputs": [
    {
     "data": {
      "text/html": [
       "<div>\n",
       "<style scoped>\n",
       "    .dataframe tbody tr th:only-of-type {\n",
       "        vertical-align: middle;\n",
       "    }\n",
       "\n",
       "    .dataframe tbody tr th {\n",
       "        vertical-align: top;\n",
       "    }\n",
       "\n",
       "    .dataframe thead th {\n",
       "        text-align: right;\n",
       "    }\n",
       "</style>\n",
       "<table border=\"1\" class=\"dataframe\">\n",
       "  <thead>\n",
       "    <tr style=\"text-align: right;\">\n",
       "      <th></th>\n",
       "      <th>tripduration</th>\n",
       "      <th>age</th>\n",
       "      <th>usertype_Subscriber</th>\n",
       "      <th>gender</th>\n",
       "      <th>start station id_72.0</th>\n",
       "      <th>start station id_79.0</th>\n",
       "      <th>start station id_82.0</th>\n",
       "      <th>start station id_83.0</th>\n",
       "      <th>start station id_116.0</th>\n",
       "      <th>start station id_119.0</th>\n",
       "      <th>...</th>\n",
       "      <th>start station id_2006.0</th>\n",
       "      <th>start station id_2008.0</th>\n",
       "      <th>start station id_2009.0</th>\n",
       "      <th>start station id_2010.0</th>\n",
       "      <th>start station id_2012.0</th>\n",
       "      <th>start station id_2017.0</th>\n",
       "      <th>start station id_2021.0</th>\n",
       "      <th>start station id_2022.0</th>\n",
       "      <th>start station id_2023.0</th>\n",
       "      <th>start station id_3002.0</th>\n",
       "    </tr>\n",
       "  </thead>\n",
       "  <tbody>\n",
       "    <tr>\n",
       "      <th>0</th>\n",
       "      <td>382.0</td>\n",
       "      <td>23</td>\n",
       "      <td>1</td>\n",
       "      <td>1.0</td>\n",
       "      <td>0</td>\n",
       "      <td>0</td>\n",
       "      <td>0</td>\n",
       "      <td>0</td>\n",
       "      <td>0</td>\n",
       "      <td>0</td>\n",
       "      <td>...</td>\n",
       "      <td>0</td>\n",
       "      <td>0</td>\n",
       "      <td>0</td>\n",
       "      <td>0</td>\n",
       "      <td>0</td>\n",
       "      <td>0</td>\n",
       "      <td>0</td>\n",
       "      <td>0</td>\n",
       "      <td>0</td>\n",
       "      <td>0</td>\n",
       "    </tr>\n",
       "    <tr>\n",
       "      <th>1</th>\n",
       "      <td>372.0</td>\n",
       "      <td>35</td>\n",
       "      <td>1</td>\n",
       "      <td>2.0</td>\n",
       "      <td>0</td>\n",
       "      <td>0</td>\n",
       "      <td>0</td>\n",
       "      <td>0</td>\n",
       "      <td>0</td>\n",
       "      <td>0</td>\n",
       "      <td>...</td>\n",
       "      <td>0</td>\n",
       "      <td>0</td>\n",
       "      <td>0</td>\n",
       "      <td>0</td>\n",
       "      <td>0</td>\n",
       "      <td>0</td>\n",
       "      <td>0</td>\n",
       "      <td>0</td>\n",
       "      <td>0</td>\n",
       "      <td>0</td>\n",
       "    </tr>\n",
       "    <tr>\n",
       "      <th>2</th>\n",
       "      <td>591.0</td>\n",
       "      <td>66</td>\n",
       "      <td>1</td>\n",
       "      <td>2.0</td>\n",
       "      <td>0</td>\n",
       "      <td>0</td>\n",
       "      <td>0</td>\n",
       "      <td>0</td>\n",
       "      <td>0</td>\n",
       "      <td>0</td>\n",
       "      <td>...</td>\n",
       "      <td>0</td>\n",
       "      <td>0</td>\n",
       "      <td>0</td>\n",
       "      <td>0</td>\n",
       "      <td>0</td>\n",
       "      <td>0</td>\n",
       "      <td>0</td>\n",
       "      <td>0</td>\n",
       "      <td>0</td>\n",
       "      <td>0</td>\n",
       "    </tr>\n",
       "    <tr>\n",
       "      <th>3</th>\n",
       "      <td>583.0</td>\n",
       "      <td>33</td>\n",
       "      <td>1</td>\n",
       "      <td>1.0</td>\n",
       "      <td>0</td>\n",
       "      <td>0</td>\n",
       "      <td>0</td>\n",
       "      <td>0</td>\n",
       "      <td>0</td>\n",
       "      <td>0</td>\n",
       "      <td>...</td>\n",
       "      <td>0</td>\n",
       "      <td>0</td>\n",
       "      <td>0</td>\n",
       "      <td>0</td>\n",
       "      <td>0</td>\n",
       "      <td>0</td>\n",
       "      <td>0</td>\n",
       "      <td>0</td>\n",
       "      <td>0</td>\n",
       "      <td>0</td>\n",
       "    </tr>\n",
       "    <tr>\n",
       "      <th>4</th>\n",
       "      <td>223.0</td>\n",
       "      <td>24</td>\n",
       "      <td>1</td>\n",
       "      <td>1.0</td>\n",
       "      <td>0</td>\n",
       "      <td>0</td>\n",
       "      <td>0</td>\n",
       "      <td>0</td>\n",
       "      <td>0</td>\n",
       "      <td>0</td>\n",
       "      <td>...</td>\n",
       "      <td>0</td>\n",
       "      <td>0</td>\n",
       "      <td>0</td>\n",
       "      <td>0</td>\n",
       "      <td>0</td>\n",
       "      <td>0</td>\n",
       "      <td>0</td>\n",
       "      <td>0</td>\n",
       "      <td>0</td>\n",
       "      <td>0</td>\n",
       "    </tr>\n",
       "  </tbody>\n",
       "</table>\n",
       "<p>5 rows × 333 columns</p>\n",
       "</div>"
      ],
      "text/plain": [
       "   tripduration  age  usertype_Subscriber  gender  start station id_72.0  \\\n",
       "0         382.0   23                    1     1.0                      0   \n",
       "1         372.0   35                    1     2.0                      0   \n",
       "2         591.0   66                    1     2.0                      0   \n",
       "3         583.0   33                    1     1.0                      0   \n",
       "4         223.0   24                    1     1.0                      0   \n",
       "\n",
       "   start station id_79.0  start station id_82.0  start station id_83.0  \\\n",
       "0                      0                      0                      0   \n",
       "1                      0                      0                      0   \n",
       "2                      0                      0                      0   \n",
       "3                      0                      0                      0   \n",
       "4                      0                      0                      0   \n",
       "\n",
       "   start station id_116.0  start station id_119.0  ...  \\\n",
       "0                       0                       0  ...   \n",
       "1                       0                       0  ...   \n",
       "2                       0                       0  ...   \n",
       "3                       0                       0  ...   \n",
       "4                       0                       0  ...   \n",
       "\n",
       "   start station id_2006.0  start station id_2008.0  start station id_2009.0  \\\n",
       "0                        0                        0                        0   \n",
       "1                        0                        0                        0   \n",
       "2                        0                        0                        0   \n",
       "3                        0                        0                        0   \n",
       "4                        0                        0                        0   \n",
       "\n",
       "   start station id_2010.0  start station id_2012.0  start station id_2017.0  \\\n",
       "0                        0                        0                        0   \n",
       "1                        0                        0                        0   \n",
       "2                        0                        0                        0   \n",
       "3                        0                        0                        0   \n",
       "4                        0                        0                        0   \n",
       "\n",
       "   start station id_2021.0  start station id_2022.0  start station id_2023.0  \\\n",
       "0                        0                        0                        0   \n",
       "1                        0                        0                        0   \n",
       "2                        0                        0                        0   \n",
       "3                        0                        0                        0   \n",
       "4                        0                        0                        0   \n",
       "\n",
       "   start station id_3002.0  \n",
       "0                        0  \n",
       "1                        0  \n",
       "2                        0  \n",
       "3                        0  \n",
       "4                        0  \n",
       "\n",
       "[5 rows x 333 columns]"
      ]
     },
     "execution_count": 53,
     "metadata": {},
     "output_type": "execute_result"
    }
   ],
   "source": [
    "newdf.head()"
   ]
  },
  {
   "cell_type": "code",
   "execution_count": 54,
   "metadata": {},
   "outputs": [],
   "source": [
    "newdf = newdf.rename(columns={'usertype_Subscriber': 'usertype'})"
   ]
  },
  {
   "cell_type": "code",
   "execution_count": 134,
   "metadata": {},
   "outputs": [],
   "source": [
    "X=newdf[['age','usertype','gender','start station id_293.0','start station id_519.0','start station id_497.0','start station id_521.0']]\n",
    "y=newdf['tripduration']"
   ]
  },
  {
   "cell_type": "code",
   "execution_count": 140,
   "metadata": {},
   "outputs": [],
   "source": [
    "#because it is automatically set to 75/25 i do not have to specify train/test size\n",
    "X_train, X_test, y_train, y_test = train_test_split(X, y, random_state=123)"
   ]
  },
  {
   "cell_type": "markdown",
   "metadata": {},
   "source": [
    "## Fit a linear regression model in `sklearn` predicting `tripduration`."
   ]
  },
  {
   "cell_type": "code",
   "execution_count": 135,
   "metadata": {},
   "outputs": [
    {
     "data": {
      "text/plain": [
       "LinearRegression()"
      ]
     },
     "execution_count": 135,
     "metadata": {},
     "output_type": "execute_result"
    }
   ],
   "source": [
    "lr=LinearRegression()\n",
    "lr"
   ]
  },
  {
   "cell_type": "code",
   "execution_count": 138,
   "metadata": {},
   "outputs": [
    {
     "data": {
      "text/plain": [
       "LinearRegression()"
      ]
     },
     "execution_count": 138,
     "metadata": {},
     "output_type": "execute_result"
    }
   ],
   "source": [
    "lr.fit(X_train,y_train)"
   ]
  },
  {
   "cell_type": "code",
   "execution_count": 139,
   "metadata": {},
   "outputs": [
    {
     "data": {
      "text/plain": [
       "(0.00030323052430736297, 0.0001659135701823633)"
      ]
     },
     "execution_count": 139,
     "metadata": {},
     "output_type": "execute_result"
    }
   ],
   "source": [
    "lr.score(X_train,y_train), lr.score(X_test,y_test)"
   ]
  },
  {
   "cell_type": "markdown",
   "metadata": {},
   "source": [
    "## Evaluate your model\n",
    "Look at some evaluation metrics for **both** the training and test data. \n",
    "- How did your model do? Is it overfit, underfit, or neither?\n",
    "- Does this model outperform the baseline? (e.g. setting $\\hat{y}$ to be the mean of our training `y` values.)"
   ]
  },
  {
   "cell_type": "code",
   "execution_count": null,
   "metadata": {},
   "outputs": [],
   "source": []
  },
  {
   "cell_type": "markdown",
   "metadata": {},
   "source": [
    "## Fit a linear regression model in `statsmodels` predicting `tripduration`."
   ]
  },
  {
   "cell_type": "code",
   "execution_count": null,
   "metadata": {},
   "outputs": [],
   "source": []
  },
  {
   "cell_type": "markdown",
   "metadata": {},
   "source": [
    "## (OPTIONAL) Using the `statsmodels` summary, test whether or not `age` has a significant effect when predicting `tripduration`.\n",
    "- Be sure to specify your null and alternative hypotheses, and to state your conclusion carefully and correctly **in the context of your model**!"
   ]
  },
  {
   "cell_type": "code",
   "execution_count": null,
   "metadata": {},
   "outputs": [],
   "source": []
  },
  {
   "cell_type": "markdown",
   "metadata": {},
   "source": [
    "## Citi Bike is attempting to market to people who they think will ride their bike for a long time. Based on your modeling, what types of individuals should Citi Bike market toward?"
   ]
  },
  {
   "cell_type": "code",
   "execution_count": null,
   "metadata": {},
   "outputs": [],
   "source": []
  }
 ],
 "metadata": {
  "anaconda-cloud": {},
  "kernelspec": {
   "display_name": "Python 3",
   "language": "python",
   "name": "python3"
  },
  "language_info": {
   "codemirror_mode": {
    "name": "ipython",
    "version": 3
   },
   "file_extension": ".py",
   "mimetype": "text/x-python",
   "name": "python",
   "nbconvert_exporter": "python",
   "pygments_lexer": "ipython3",
   "version": "3.8.5"
  }
 },
 "nbformat": 4,
 "nbformat_minor": 4
}
