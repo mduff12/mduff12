{
 "cells": [
  {
   "cell_type": "code",
   "execution_count": 1,
   "metadata": {},
   "outputs": [],
   "source": [
    "# Import libaries\n",
    "import pandas as pd\n",
    "import requests\n",
    "from bs4 import BeautifulSoup\n",
    "import pprint"
   ]
  },
  {
   "cell_type": "markdown",
   "metadata": {},
   "source": [
    "### Step 1: Create a soup object from the home page"
   ]
  },
  {
   "cell_type": "code",
   "execution_count": 2,
   "metadata": {},
   "outputs": [],
   "source": [
    "url = 'https://pages.git.generalassemb.ly/rldaggie/for-scraping/'\n",
    "res=requests.get(url)"
   ]
  },
  {
   "cell_type": "markdown",
   "metadata": {},
   "source": [
    "### Step 2: Scrape the home page soup for every restaurant\n",
    "\n",
    "Note: Your best bet is to create a list of dictionaries, one for each restaurant. Each dictionary contains the restaurant's name and path from the `href`. The result of your scrape should look something like this:\n",
    "\n",
    "```python\n",
    "restaurants = [\n",
    "    {'name': 'A&W Restaurants', 'href': 'restaurants/1.html'}, \n",
    "    {'name': \"Applebee's\", 'href': 'restaurants/2.html'},\n",
    "    ...\n",
    "]\n",
    "```"
   ]
  },
  {
   "cell_type": "code",
   "execution_count": 3,
   "metadata": {},
   "outputs": [],
   "source": [
    "soup=BeautifulSoup(res.content, 'lxml')"
   ]
  },
  {
   "cell_type": "code",
   "execution_count": 4,
   "metadata": {},
   "outputs": [
    {
     "data": {
      "text/plain": [
       "[<a class=\"navbar-brand\" href=\"/\">Nutrition Information</a>,\n",
       " <a href=\"restaurants/1.html\">A&amp;W Restaurants</a>,\n",
       " <a href=\"restaurants/2.html\">Applebee's</a>,\n",
       " <a href=\"restaurants/3.html\">Arby's</a>,\n",
       " <a href=\"restaurants/4.html\">Atlanta Bread Company</a>,\n",
       " <a href=\"restaurants/5.html\">Bojangle's Famous Chicken 'n Biscuits</a>,\n",
       " <a href=\"restaurants/6.html\">Buffalo Wild Wings</a>,\n",
       " <a href=\"restaurants/7.html\">Burger King</a>,\n",
       " <a href=\"restaurants/8.html\">Captain D's</a>,\n",
       " <a href=\"restaurants/9.html\">Carl's Jr.</a>,\n",
       " <a href=\"restaurants/10.html\">Charley's Grilled Subs</a>,\n",
       " <a href=\"restaurants/11.html\">Chick-fil-A</a>,\n",
       " <a href=\"restaurants/12.html\">Chili's</a>,\n",
       " <a href=\"restaurants/13.html\">Chipotle Mexican Grill</a>,\n",
       " <a href=\"restaurants/14.html\">Church's</a>,\n",
       " <a href=\"restaurants/15.html\">Corner Bakery Cafe</a>,\n",
       " <a href=\"restaurants/16.html\">Dairy Queen</a>,\n",
       " <a href=\"restaurants/17.html\">Denny's</a>,\n",
       " <a href=\"restaurants/18.html\">El Pollo Loco</a>,\n",
       " <a href=\"restaurants/19.html\">FATZ</a>,\n",
       " <a href=\"restaurants/20.html\">Fazoli's</a>,\n",
       " <a href=\"restaurants/21.html\">Five Guys Burgers and Fries</a>,\n",
       " <a href=\"restaurants/22.html\">Golden Chick</a>,\n",
       " <a href=\"restaurants/23.html\">Hardee's</a>,\n",
       " <a href=\"restaurants/24.html\">IHOP</a>,\n",
       " <a href=\"restaurants/25.html\">In-N-Out Burger</a>,\n",
       " <a href=\"restaurants/26.html\">Jack in the Box</a>,\n",
       " <a href=\"restaurants/27.html\">Jimmy Johns</a>,\n",
       " <a href=\"restaurants/28.html\">Joe's Crab Shack</a>,\n",
       " <a href=\"restaurants/29.html\">KFC</a>,\n",
       " <a href=\"restaurants/30.html\">McDonald's</a>,\n",
       " <a href=\"restaurants/31.html\">O'Charley's</a>,\n",
       " <a href=\"restaurants/32.html\">Olive Garden</a>,\n",
       " <a href=\"restaurants/33.html\">Outback Steakhouse</a>,\n",
       " <a href=\"restaurants/34.html\">Panda Express</a>,\n",
       " <a href=\"restaurants/35.html\">Panera Bread</a>,\n",
       " <a href=\"restaurants/36.html\">Popeye's</a>,\n",
       " <a href=\"restaurants/37.html\">Quiznos</a>,\n",
       " <a href=\"restaurants/38.html\">Red Robin Gourmet Burgers</a>,\n",
       " <a href=\"restaurants/39.html\">Romano's Macaroni Grill</a>,\n",
       " <a href=\"restaurants/40.html\">Ruby Tuesday</a>,\n",
       " <a href=\"restaurants/41.html\">Subway</a>,\n",
       " <a href=\"restaurants/42.html\">Taco Bell</a>,\n",
       " <a href=\"restaurants/43.html\">Taco Bueno</a>,\n",
       " <a href=\"restaurants/44.html\">Wendy's</a>]"
      ]
     },
     "execution_count": 4,
     "metadata": {},
     "output_type": "execute_result"
    }
   ],
   "source": [
    "soup.find_all('a')\n"
   ]
  },
  {
   "cell_type": "code",
   "execution_count": 5,
   "metadata": {},
   "outputs": [
    {
     "data": {
      "text/plain": [
       "['Nutrition Information',\n",
       " 'A&W Restaurants',\n",
       " \"Applebee's\",\n",
       " \"Arby's\",\n",
       " 'Atlanta Bread Company',\n",
       " \"Bojangle's Famous Chicken 'n Biscuits\",\n",
       " 'Buffalo Wild Wings',\n",
       " 'Burger King',\n",
       " \"Captain D's\",\n",
       " \"Carl's Jr.\",\n",
       " \"Charley's Grilled Subs\",\n",
       " 'Chick-fil-A',\n",
       " \"Chili's\",\n",
       " 'Chipotle Mexican Grill',\n",
       " \"Church's\",\n",
       " 'Corner Bakery Cafe',\n",
       " 'Dairy Queen',\n",
       " \"Denny's\",\n",
       " 'El Pollo Loco',\n",
       " 'FATZ',\n",
       " \"Fazoli's\",\n",
       " 'Five Guys Burgers and Fries',\n",
       " 'Golden Chick',\n",
       " \"Hardee's\",\n",
       " 'IHOP',\n",
       " 'In-N-Out Burger',\n",
       " 'Jack in the Box',\n",
       " 'Jimmy Johns',\n",
       " \"Joe's Crab Shack\",\n",
       " 'KFC',\n",
       " \"McDonald's\",\n",
       " \"O'Charley's\",\n",
       " 'Olive Garden',\n",
       " 'Outback Steakhouse',\n",
       " 'Panda Express',\n",
       " 'Panera Bread',\n",
       " \"Popeye's\",\n",
       " 'Quiznos',\n",
       " 'Red Robin Gourmet Burgers',\n",
       " \"Romano's Macaroni Grill\",\n",
       " 'Ruby Tuesday',\n",
       " 'Subway',\n",
       " 'Taco Bell',\n",
       " 'Taco Bueno',\n",
       " \"Wendy's\"]"
      ]
     },
     "execution_count": 5,
     "metadata": {},
     "output_type": "execute_result"
    }
   ],
   "source": [
    "#Find all names of the restaraunts\n",
    "[a.text for a in soup.find_all('a')]"
   ]
  },
  {
   "cell_type": "code",
   "execution_count": 6,
   "metadata": {},
   "outputs": [
    {
     "data": {
      "text/plain": [
       "[{'class': ['navbar-brand'], 'href': '/'},\n",
       " {'href': 'restaurants/1.html'},\n",
       " {'href': 'restaurants/2.html'},\n",
       " {'href': 'restaurants/3.html'},\n",
       " {'href': 'restaurants/4.html'},\n",
       " {'href': 'restaurants/5.html'},\n",
       " {'href': 'restaurants/6.html'},\n",
       " {'href': 'restaurants/7.html'},\n",
       " {'href': 'restaurants/8.html'},\n",
       " {'href': 'restaurants/9.html'},\n",
       " {'href': 'restaurants/10.html'},\n",
       " {'href': 'restaurants/11.html'},\n",
       " {'href': 'restaurants/12.html'},\n",
       " {'href': 'restaurants/13.html'},\n",
       " {'href': 'restaurants/14.html'},\n",
       " {'href': 'restaurants/15.html'},\n",
       " {'href': 'restaurants/16.html'},\n",
       " {'href': 'restaurants/17.html'},\n",
       " {'href': 'restaurants/18.html'},\n",
       " {'href': 'restaurants/19.html'},\n",
       " {'href': 'restaurants/20.html'},\n",
       " {'href': 'restaurants/21.html'},\n",
       " {'href': 'restaurants/22.html'},\n",
       " {'href': 'restaurants/23.html'},\n",
       " {'href': 'restaurants/24.html'},\n",
       " {'href': 'restaurants/25.html'},\n",
       " {'href': 'restaurants/26.html'},\n",
       " {'href': 'restaurants/27.html'},\n",
       " {'href': 'restaurants/28.html'},\n",
       " {'href': 'restaurants/29.html'},\n",
       " {'href': 'restaurants/30.html'},\n",
       " {'href': 'restaurants/31.html'},\n",
       " {'href': 'restaurants/32.html'},\n",
       " {'href': 'restaurants/33.html'},\n",
       " {'href': 'restaurants/34.html'},\n",
       " {'href': 'restaurants/35.html'},\n",
       " {'href': 'restaurants/36.html'},\n",
       " {'href': 'restaurants/37.html'},\n",
       " {'href': 'restaurants/38.html'},\n",
       " {'href': 'restaurants/39.html'},\n",
       " {'href': 'restaurants/40.html'},\n",
       " {'href': 'restaurants/41.html'},\n",
       " {'href': 'restaurants/42.html'},\n",
       " {'href': 'restaurants/43.html'},\n",
       " {'href': 'restaurants/44.html'}]"
      ]
     },
     "execution_count": 6,
     "metadata": {},
     "output_type": "execute_result"
    }
   ],
   "source": [
    "#get all hrefs\n",
    "[tag.attrs for tag in soup.find_all('a')]\n"
   ]
  },
  {
   "cell_type": "code",
   "execution_count": 7,
   "metadata": {},
   "outputs": [],
   "source": [
    "name = [name.text for name in soup.find_all('a')]"
   ]
  },
  {
   "cell_type": "code",
   "execution_count": 8,
   "metadata": {},
   "outputs": [],
   "source": [
    "href = [link.attrs['href'] for link in soup.find_all('a')]"
   ]
  },
  {
   "cell_type": "code",
   "execution_count": 9,
   "metadata": {},
   "outputs": [],
   "source": [
    "#https://www.geeksforgeeks.org/python-convert-two-lists-into-a-dictionary/\n",
    "# restaurants = dict(zip(name, href))\n"
   ]
  },
  {
   "cell_type": "code",
   "execution_count": 10,
   "metadata": {},
   "outputs": [
    {
     "name": "stdout",
     "output_type": "stream",
     "text": [
      "[{'name': 'Nutrition Information', 'href': '/'}, {'name': 'A&W Restaurants', 'href': 'restaurants/1.html'}, {'name': \"Applebee's\", 'href': 'restaurants/2.html'}, {'name': \"Arby's\", 'href': 'restaurants/3.html'}, {'name': 'Atlanta Bread Company', 'href': 'restaurants/4.html'}, {'name': \"Bojangle's Famous Chicken 'n Biscuits\", 'href': 'restaurants/5.html'}, {'name': 'Buffalo Wild Wings', 'href': 'restaurants/6.html'}, {'name': 'Burger King', 'href': 'restaurants/7.html'}, {'name': \"Captain D's\", 'href': 'restaurants/8.html'}, {'name': \"Carl's Jr.\", 'href': 'restaurants/9.html'}, {'name': \"Charley's Grilled Subs\", 'href': 'restaurants/10.html'}, {'name': 'Chick-fil-A', 'href': 'restaurants/11.html'}, {'name': \"Chili's\", 'href': 'restaurants/12.html'}, {'name': 'Chipotle Mexican Grill', 'href': 'restaurants/13.html'}, {'name': \"Church's\", 'href': 'restaurants/14.html'}, {'name': 'Corner Bakery Cafe', 'href': 'restaurants/15.html'}, {'name': 'Dairy Queen', 'href': 'restaurants/16.html'}, {'name': \"Denny's\", 'href': 'restaurants/17.html'}, {'name': 'El Pollo Loco', 'href': 'restaurants/18.html'}, {'name': 'FATZ', 'href': 'restaurants/19.html'}, {'name': \"Fazoli's\", 'href': 'restaurants/20.html'}, {'name': 'Five Guys Burgers and Fries', 'href': 'restaurants/21.html'}, {'name': 'Golden Chick', 'href': 'restaurants/22.html'}, {'name': \"Hardee's\", 'href': 'restaurants/23.html'}, {'name': 'IHOP', 'href': 'restaurants/24.html'}, {'name': 'In-N-Out Burger', 'href': 'restaurants/25.html'}, {'name': 'Jack in the Box', 'href': 'restaurants/26.html'}, {'name': 'Jimmy Johns', 'href': 'restaurants/27.html'}, {'name': \"Joe's Crab Shack\", 'href': 'restaurants/28.html'}, {'name': 'KFC', 'href': 'restaurants/29.html'}, {'name': \"McDonald's\", 'href': 'restaurants/30.html'}, {'name': \"O'Charley's\", 'href': 'restaurants/31.html'}, {'name': 'Olive Garden', 'href': 'restaurants/32.html'}, {'name': 'Outback Steakhouse', 'href': 'restaurants/33.html'}, {'name': 'Panda Express', 'href': 'restaurants/34.html'}, {'name': 'Panera Bread', 'href': 'restaurants/35.html'}, {'name': \"Popeye's\", 'href': 'restaurants/36.html'}, {'name': 'Quiznos', 'href': 'restaurants/37.html'}, {'name': 'Red Robin Gourmet Burgers', 'href': 'restaurants/38.html'}, {'name': \"Romano's Macaroni Grill\", 'href': 'restaurants/39.html'}, {'name': 'Ruby Tuesday', 'href': 'restaurants/40.html'}, {'name': 'Subway', 'href': 'restaurants/41.html'}, {'name': 'Taco Bell', 'href': 'restaurants/42.html'}, {'name': 'Taco Bueno', 'href': 'restaurants/43.html'}, {'name': \"Wendy's\", 'href': 'restaurants/44.html'}]\n"
     ]
    },
    {
     "data": {
      "text/html": [
       "<div>\n",
       "<style scoped>\n",
       "    .dataframe tbody tr th:only-of-type {\n",
       "        vertical-align: middle;\n",
       "    }\n",
       "\n",
       "    .dataframe tbody tr th {\n",
       "        vertical-align: top;\n",
       "    }\n",
       "\n",
       "    .dataframe thead th {\n",
       "        text-align: right;\n",
       "    }\n",
       "</style>\n",
       "<table border=\"1\" class=\"dataframe\">\n",
       "  <thead>\n",
       "    <tr style=\"text-align: right;\">\n",
       "      <th></th>\n",
       "      <th>name</th>\n",
       "      <th>href</th>\n",
       "    </tr>\n",
       "  </thead>\n",
       "  <tbody>\n",
       "    <tr>\n",
       "      <th>0</th>\n",
       "      <td>Nutrition Information</td>\n",
       "      <td>/</td>\n",
       "    </tr>\n",
       "    <tr>\n",
       "      <th>1</th>\n",
       "      <td>A&amp;W Restaurants</td>\n",
       "      <td>restaurants/1.html</td>\n",
       "    </tr>\n",
       "    <tr>\n",
       "      <th>2</th>\n",
       "      <td>Applebee's</td>\n",
       "      <td>restaurants/2.html</td>\n",
       "    </tr>\n",
       "    <tr>\n",
       "      <th>3</th>\n",
       "      <td>Arby's</td>\n",
       "      <td>restaurants/3.html</td>\n",
       "    </tr>\n",
       "    <tr>\n",
       "      <th>4</th>\n",
       "      <td>Atlanta Bread Company</td>\n",
       "      <td>restaurants/4.html</td>\n",
       "    </tr>\n",
       "    <tr>\n",
       "      <th>5</th>\n",
       "      <td>Bojangle's Famous Chicken 'n Biscuits</td>\n",
       "      <td>restaurants/5.html</td>\n",
       "    </tr>\n",
       "    <tr>\n",
       "      <th>6</th>\n",
       "      <td>Buffalo Wild Wings</td>\n",
       "      <td>restaurants/6.html</td>\n",
       "    </tr>\n",
       "    <tr>\n",
       "      <th>7</th>\n",
       "      <td>Burger King</td>\n",
       "      <td>restaurants/7.html</td>\n",
       "    </tr>\n",
       "    <tr>\n",
       "      <th>8</th>\n",
       "      <td>Captain D's</td>\n",
       "      <td>restaurants/8.html</td>\n",
       "    </tr>\n",
       "    <tr>\n",
       "      <th>9</th>\n",
       "      <td>Carl's Jr.</td>\n",
       "      <td>restaurants/9.html</td>\n",
       "    </tr>\n",
       "    <tr>\n",
       "      <th>10</th>\n",
       "      <td>Charley's Grilled Subs</td>\n",
       "      <td>restaurants/10.html</td>\n",
       "    </tr>\n",
       "    <tr>\n",
       "      <th>11</th>\n",
       "      <td>Chick-fil-A</td>\n",
       "      <td>restaurants/11.html</td>\n",
       "    </tr>\n",
       "    <tr>\n",
       "      <th>12</th>\n",
       "      <td>Chili's</td>\n",
       "      <td>restaurants/12.html</td>\n",
       "    </tr>\n",
       "    <tr>\n",
       "      <th>13</th>\n",
       "      <td>Chipotle Mexican Grill</td>\n",
       "      <td>restaurants/13.html</td>\n",
       "    </tr>\n",
       "    <tr>\n",
       "      <th>14</th>\n",
       "      <td>Church's</td>\n",
       "      <td>restaurants/14.html</td>\n",
       "    </tr>\n",
       "    <tr>\n",
       "      <th>15</th>\n",
       "      <td>Corner Bakery Cafe</td>\n",
       "      <td>restaurants/15.html</td>\n",
       "    </tr>\n",
       "    <tr>\n",
       "      <th>16</th>\n",
       "      <td>Dairy Queen</td>\n",
       "      <td>restaurants/16.html</td>\n",
       "    </tr>\n",
       "    <tr>\n",
       "      <th>17</th>\n",
       "      <td>Denny's</td>\n",
       "      <td>restaurants/17.html</td>\n",
       "    </tr>\n",
       "    <tr>\n",
       "      <th>18</th>\n",
       "      <td>El Pollo Loco</td>\n",
       "      <td>restaurants/18.html</td>\n",
       "    </tr>\n",
       "    <tr>\n",
       "      <th>19</th>\n",
       "      <td>FATZ</td>\n",
       "      <td>restaurants/19.html</td>\n",
       "    </tr>\n",
       "    <tr>\n",
       "      <th>20</th>\n",
       "      <td>Fazoli's</td>\n",
       "      <td>restaurants/20.html</td>\n",
       "    </tr>\n",
       "    <tr>\n",
       "      <th>21</th>\n",
       "      <td>Five Guys Burgers and Fries</td>\n",
       "      <td>restaurants/21.html</td>\n",
       "    </tr>\n",
       "    <tr>\n",
       "      <th>22</th>\n",
       "      <td>Golden Chick</td>\n",
       "      <td>restaurants/22.html</td>\n",
       "    </tr>\n",
       "    <tr>\n",
       "      <th>23</th>\n",
       "      <td>Hardee's</td>\n",
       "      <td>restaurants/23.html</td>\n",
       "    </tr>\n",
       "    <tr>\n",
       "      <th>24</th>\n",
       "      <td>IHOP</td>\n",
       "      <td>restaurants/24.html</td>\n",
       "    </tr>\n",
       "    <tr>\n",
       "      <th>25</th>\n",
       "      <td>In-N-Out Burger</td>\n",
       "      <td>restaurants/25.html</td>\n",
       "    </tr>\n",
       "    <tr>\n",
       "      <th>26</th>\n",
       "      <td>Jack in the Box</td>\n",
       "      <td>restaurants/26.html</td>\n",
       "    </tr>\n",
       "    <tr>\n",
       "      <th>27</th>\n",
       "      <td>Jimmy Johns</td>\n",
       "      <td>restaurants/27.html</td>\n",
       "    </tr>\n",
       "    <tr>\n",
       "      <th>28</th>\n",
       "      <td>Joe's Crab Shack</td>\n",
       "      <td>restaurants/28.html</td>\n",
       "    </tr>\n",
       "    <tr>\n",
       "      <th>29</th>\n",
       "      <td>KFC</td>\n",
       "      <td>restaurants/29.html</td>\n",
       "    </tr>\n",
       "    <tr>\n",
       "      <th>30</th>\n",
       "      <td>McDonald's</td>\n",
       "      <td>restaurants/30.html</td>\n",
       "    </tr>\n",
       "    <tr>\n",
       "      <th>31</th>\n",
       "      <td>O'Charley's</td>\n",
       "      <td>restaurants/31.html</td>\n",
       "    </tr>\n",
       "    <tr>\n",
       "      <th>32</th>\n",
       "      <td>Olive Garden</td>\n",
       "      <td>restaurants/32.html</td>\n",
       "    </tr>\n",
       "    <tr>\n",
       "      <th>33</th>\n",
       "      <td>Outback Steakhouse</td>\n",
       "      <td>restaurants/33.html</td>\n",
       "    </tr>\n",
       "    <tr>\n",
       "      <th>34</th>\n",
       "      <td>Panda Express</td>\n",
       "      <td>restaurants/34.html</td>\n",
       "    </tr>\n",
       "    <tr>\n",
       "      <th>35</th>\n",
       "      <td>Panera Bread</td>\n",
       "      <td>restaurants/35.html</td>\n",
       "    </tr>\n",
       "    <tr>\n",
       "      <th>36</th>\n",
       "      <td>Popeye's</td>\n",
       "      <td>restaurants/36.html</td>\n",
       "    </tr>\n",
       "    <tr>\n",
       "      <th>37</th>\n",
       "      <td>Quiznos</td>\n",
       "      <td>restaurants/37.html</td>\n",
       "    </tr>\n",
       "    <tr>\n",
       "      <th>38</th>\n",
       "      <td>Red Robin Gourmet Burgers</td>\n",
       "      <td>restaurants/38.html</td>\n",
       "    </tr>\n",
       "    <tr>\n",
       "      <th>39</th>\n",
       "      <td>Romano's Macaroni Grill</td>\n",
       "      <td>restaurants/39.html</td>\n",
       "    </tr>\n",
       "    <tr>\n",
       "      <th>40</th>\n",
       "      <td>Ruby Tuesday</td>\n",
       "      <td>restaurants/40.html</td>\n",
       "    </tr>\n",
       "    <tr>\n",
       "      <th>41</th>\n",
       "      <td>Subway</td>\n",
       "      <td>restaurants/41.html</td>\n",
       "    </tr>\n",
       "    <tr>\n",
       "      <th>42</th>\n",
       "      <td>Taco Bell</td>\n",
       "      <td>restaurants/42.html</td>\n",
       "    </tr>\n",
       "    <tr>\n",
       "      <th>43</th>\n",
       "      <td>Taco Bueno</td>\n",
       "      <td>restaurants/43.html</td>\n",
       "    </tr>\n",
       "    <tr>\n",
       "      <th>44</th>\n",
       "      <td>Wendy's</td>\n",
       "      <td>restaurants/44.html</td>\n",
       "    </tr>\n",
       "  </tbody>\n",
       "</table>\n",
       "</div>"
      ],
      "text/plain": [
       "                                     name                 href\n",
       "0                   Nutrition Information                    /\n",
       "1                         A&W Restaurants   restaurants/1.html\n",
       "2                              Applebee's   restaurants/2.html\n",
       "3                                  Arby's   restaurants/3.html\n",
       "4                   Atlanta Bread Company   restaurants/4.html\n",
       "5   Bojangle's Famous Chicken 'n Biscuits   restaurants/5.html\n",
       "6                      Buffalo Wild Wings   restaurants/6.html\n",
       "7                             Burger King   restaurants/7.html\n",
       "8                             Captain D's   restaurants/8.html\n",
       "9                              Carl's Jr.   restaurants/9.html\n",
       "10                 Charley's Grilled Subs  restaurants/10.html\n",
       "11                            Chick-fil-A  restaurants/11.html\n",
       "12                                Chili's  restaurants/12.html\n",
       "13                 Chipotle Mexican Grill  restaurants/13.html\n",
       "14                               Church's  restaurants/14.html\n",
       "15                     Corner Bakery Cafe  restaurants/15.html\n",
       "16                            Dairy Queen  restaurants/16.html\n",
       "17                                Denny's  restaurants/17.html\n",
       "18                          El Pollo Loco  restaurants/18.html\n",
       "19                                   FATZ  restaurants/19.html\n",
       "20                               Fazoli's  restaurants/20.html\n",
       "21            Five Guys Burgers and Fries  restaurants/21.html\n",
       "22                           Golden Chick  restaurants/22.html\n",
       "23                               Hardee's  restaurants/23.html\n",
       "24                                   IHOP  restaurants/24.html\n",
       "25                        In-N-Out Burger  restaurants/25.html\n",
       "26                        Jack in the Box  restaurants/26.html\n",
       "27                            Jimmy Johns  restaurants/27.html\n",
       "28                       Joe's Crab Shack  restaurants/28.html\n",
       "29                                    KFC  restaurants/29.html\n",
       "30                             McDonald's  restaurants/30.html\n",
       "31                            O'Charley's  restaurants/31.html\n",
       "32                           Olive Garden  restaurants/32.html\n",
       "33                     Outback Steakhouse  restaurants/33.html\n",
       "34                          Panda Express  restaurants/34.html\n",
       "35                           Panera Bread  restaurants/35.html\n",
       "36                               Popeye's  restaurants/36.html\n",
       "37                                Quiznos  restaurants/37.html\n",
       "38              Red Robin Gourmet Burgers  restaurants/38.html\n",
       "39                Romano's Macaroni Grill  restaurants/39.html\n",
       "40                           Ruby Tuesday  restaurants/40.html\n",
       "41                                 Subway  restaurants/41.html\n",
       "42                              Taco Bell  restaurants/42.html\n",
       "43                             Taco Bueno  restaurants/43.html\n",
       "44                                Wendy's  restaurants/44.html"
      ]
     },
     "execution_count": 10,
     "metadata": {},
     "output_type": "execute_result"
    }
   ],
   "source": [
    "#WOW THIS TOOK FOREVER LOL \n",
    "#5.02-lesson-webscraping/solution-code/Codealong.ipynb\n",
    "\n",
    "restaurants = []\n",
    "for each in soup.find_all('a'):\n",
    "    rest = {}\n",
    "    rest['name'] = each.text\n",
    "    rest['href'] = each.attrs['href']\n",
    "\n",
    "    restaurants.append(rest)\n",
    "print(restaurants)\n",
    "\n",
    "df = pd.DataFrame(restaurants)\n",
    "df"
   ]
  },
  {
   "cell_type": "markdown",
   "metadata": {},
   "source": [
    "### Step 3: Using the `href`, scrape each restaurant's page and create a single list of food dictionaries.\n",
    "\n",
    "Your list of foods should look something like this:\n",
    "```python\n",
    "foods = [\n",
    "    {\n",
    "        'calories': '0',\n",
    "        'carbs': '0',\n",
    "        'category': 'Drinks',\n",
    "        'fat': '0',\n",
    "        'name': 'A&W® Diet Root Beer',\n",
    "        'restaurant': 'A&W Restaurants'\n",
    "    },\n",
    "    {\n",
    "        'calories': '0',\n",
    "        'carbs': '0',\n",
    "        'category': 'Drinks',\n",
    "        'fat': '0',\n",
    "        'name': 'A&W® Diet Root Beer',\n",
    "        'restaurant': 'A&W Restaurants'\n",
    "    },\n",
    "    ...\n",
    "]\n",
    "```\n",
    "\n",
    "**Note**: Remove extra white space from each category"
   ]
  },
  {
   "cell_type": "code",
   "execution_count": 11,
   "metadata": {},
   "outputs": [],
   "source": [
    "r = requests.get('https://pages.git.generalassemb.ly/rldaggie/for-scraping/')\n",
    "\n",
    "# Configure this to the root of the above website, e.g. 'http://www.mywebsite.com'\n",
    "base_url = \"https://pages.git.generalassemb.ly/rldaggie/for-scraping/\"\n",
    "\n"
   ]
  },
  {
   "cell_type": "markdown",
   "metadata": {},
   "source": [
    "#### for loop to iterate over list of hrefs and then open the page with the restaurant"
   ]
  },
  {
   "cell_type": "code",
   "execution_count": 12,
   "metadata": {},
   "outputs": [
    {
     "data": {
      "text/plain": [
       "<Response [200]>"
      ]
     },
     "execution_count": 12,
     "metadata": {},
     "output_type": "execute_result"
    }
   ],
   "source": [
    "requests.get(base_url + df['href'][1])"
   ]
  },
  {
   "cell_type": "code",
   "execution_count": 13,
   "metadata": {},
   "outputs": [
    {
     "name": "stdout",
     "output_type": "stream",
     "text": [
      "https://pages.git.generalassemb.ly/rldaggie/for-scraping/restaurants/1.html\n"
     ]
    }
   ],
   "source": [
    "print(base_url + df['href'][1])"
   ]
  },
  {
   "cell_type": "code",
   "execution_count": 14,
   "metadata": {},
   "outputs": [
    {
     "data": {
      "text/plain": [
       "list"
      ]
     },
     "execution_count": 14,
     "metadata": {},
     "output_type": "execute_result"
    }
   ],
   "source": [
    "type(restaurants)"
   ]
  },
  {
   "cell_type": "code",
   "execution_count": 16,
   "metadata": {},
   "outputs": [
    {
     "data": {
      "text/plain": [
       "<Response [200]>"
      ]
     },
     "execution_count": 16,
     "metadata": {},
     "output_type": "execute_result"
    }
   ],
   "source": [
    "requests.get(base_url+str(restaurants[4]['href']))"
   ]
  },
  {
   "cell_type": "code",
   "execution_count": 197,
   "metadata": {},
   "outputs": [],
   "source": [
    "# Full list of URLS\n",
    "urls = [base_url+p['href'] for p in restaurants]"
   ]
  },
  {
   "cell_type": "code",
   "execution_count": 191,
   "metadata": {},
   "outputs": [],
   "source": [
    "# results = [requests.get(base_url+p['href']) for p in restaurants]"
   ]
  },
  {
   "cell_type": "code",
   "execution_count": 150,
   "metadata": {},
   "outputs": [],
   "source": [
    "#help from jeremy manning\n",
    "# soup2 = [BeautifulSoup(i.content, 'html.parser') for i in results]"
   ]
  },
  {
   "cell_type": "markdown",
   "metadata": {},
   "source": [
    "#### list items\n",
    "'Name', 'Category', 'Calories', 'Fat', 'Carbs'"
   ]
  },
  {
   "cell_type": "code",
   "execution_count": 277,
   "metadata": {},
   "outputs": [],
   "source": [
    "#w/ help from Ryan McDonald\n",
    "# loop through the list and create a new beautiful soup object for each item in the list of URLs\n",
    "#index on the table\n",
    "\n",
    "main_menu = []     #making an empty list for the main menu\n",
    "\n",
    "for each in urls:       #first for loop\n",
    "    url = f'{each}'     #getting URLs from the URL list\n",
    "    res=requests.get(url)      #url request\n",
    "    soup=BeautifulSoup(res.content)      #instantianting beautiful soup\n",
    "    items = soup.find(name = 'table',attrs = {'class':'table'})    #pulling from the main table on each page\n"
   ]
  },
  {
   "cell_type": "code",
   "execution_count": 313,
   "metadata": {},
   "outputs": [
    {
     "data": {
      "text/plain": [
       "<td>6-piece Chicken Nuggets</td>"
      ]
     },
     "execution_count": 313,
     "metadata": {},
     "output_type": "execute_result"
    }
   ],
   "source": [
    "soup.find(name = 'table')('td')[5]"
   ]
  },
  {
   "cell_type": "code",
   "execution_count": null,
   "metadata": {},
   "outputs": [],
   "source": [
    "### soup.find('table').td.text"
   ]
  },
  {
   "cell_type": "code",
   "execution_count": 319,
   "metadata": {},
   "outputs": [
    {
     "ename": "IndexError",
     "evalue": "list index out of range",
     "output_type": "error",
     "traceback": [
      "\u001b[0;31m---------------------------------------------------------------------------\u001b[0m",
      "\u001b[0;31mIndexError\u001b[0m                                Traceback (most recent call last)",
      "\u001b[0;32m<ipython-input-319-97ce4856da45>\u001b[0m in \u001b[0;36m<module>\u001b[0;34m\u001b[0m\n\u001b[1;32m     11\u001b[0m     \u001b[0mz\u001b[0m\u001b[0;34m=\u001b[0m\u001b[0mlen\u001b[0m\u001b[0;34m(\u001b[0m\u001b[0mtrows\u001b[0m\u001b[0;34m)\u001b[0m\u001b[0;34m\u001b[0m\u001b[0;34m\u001b[0m\u001b[0m\n\u001b[1;32m     12\u001b[0m     \u001b[0;32mfor\u001b[0m \u001b[0mi\u001b[0m \u001b[0;32min\u001b[0m \u001b[0mrange\u001b[0m\u001b[0;34m(\u001b[0m\u001b[0;36m1\u001b[0m\u001b[0;34m,\u001b[0m \u001b[0mz\u001b[0m\u001b[0;34m+\u001b[0m\u001b[0;36m1\u001b[0m\u001b[0;34m)\u001b[0m\u001b[0;34m:\u001b[0m\u001b[0;34m\u001b[0m\u001b[0;34m\u001b[0m\u001b[0m\n\u001b[0;32m---> 13\u001b[0;31m         \u001b[0mfoods\u001b[0m \u001b[0;34m=\u001b[0m \u001b[0msoup\u001b[0m\u001b[0;34m.\u001b[0m\u001b[0mfind\u001b[0m\u001b[0;34m(\u001b[0m\u001b[0mname\u001b[0m \u001b[0;34m=\u001b[0m \u001b[0;34m'table'\u001b[0m\u001b[0;34m)\u001b[0m\u001b[0;34m(\u001b[0m\u001b[0;34m'td'\u001b[0m\u001b[0;34m)\u001b[0m\u001b[0;34m[\u001b[0m\u001b[0mi\u001b[0m\u001b[0;34m]\u001b[0m\u001b[0;34m\u001b[0m\u001b[0;34m\u001b[0m\u001b[0m\n\u001b[0m\u001b[1;32m     14\u001b[0m         \u001b[0mmenu\u001b[0m\u001b[0;34m.\u001b[0m\u001b[0mappend\u001b[0m\u001b[0;34m(\u001b[0m\u001b[0mfoods\u001b[0m\u001b[0;34m)\u001b[0m\u001b[0;34m\u001b[0m\u001b[0;34m\u001b[0m\u001b[0m\n\u001b[1;32m     15\u001b[0m \u001b[0;34m\u001b[0m\u001b[0m\n",
      "\u001b[0;31mIndexError\u001b[0m: list index out of range"
     ]
    }
   ],
   "source": [
    "#w/ help from Ryan McDonald\n",
    "# loop through the list and create a new beautiful soup object for each item in the list of URLs\n",
    "#index on the table\n",
    "\n",
    "\n",
    "menu = []\n",
    "for each in urls: #for loop to make beautiful soup for each URL in the list\n",
    "    url = f'{each}'     \n",
    "    res=requests.get(url)      \n",
    "    soup=BeautifulSoup(res.content)      \n",
    "    menuitems = soup.find(name = 'table',attrs = {'class':'table'})                    \n",
    "\n",
    "    foods = {}\n",
    "    \n",
    "    trows=menuitems.find('tbody').find_all('tr')\n",
    "    z=len(trows)\n",
    "    for i in range(1, z+1):\n",
    "        foods = soup.find(name = 'table')('td')[i]\n",
    "        menu.append(foods)\n",
    "\n",
    "#     for items in menuitems:\n",
    "#         foods['Name'] = soup.find('td').text[1]\n",
    "#         foods['Category'] = soup.find('td').text\n",
    "#         foods['Calories'] = soup.find('td').text\n",
    "#         foods['Fat'] = soup.find('td').text\n",
    "#         foods['Carbs'] = soup.find('td').text\n",
    "        \n",
    "#     menu.append(foods)\n",
    "\n",
    "print(menu)"
   ]
  },
  {
   "cell_type": "code",
   "execution_count": 316,
   "metadata": {},
   "outputs": [
    {
     "data": {
      "text/plain": [
       "64"
      ]
     },
     "execution_count": 316,
     "metadata": {},
     "output_type": "execute_result"
    }
   ],
   "source": [
    "z"
   ]
  },
  {
   "cell_type": "markdown",
   "metadata": {},
   "source": [
    "### Step 4: Create a pandas DataFrame from your list of foods\n",
    "\n",
    "**Note**: Your DataFrame should have 5,131 rows"
   ]
  },
  {
   "cell_type": "code",
   "execution_count": null,
   "metadata": {},
   "outputs": [],
   "source": [
    "pd.DataFrame(data=main_menu)"
   ]
  },
  {
   "cell_type": "code",
   "execution_count": null,
   "metadata": {},
   "outputs": [],
   "source": [
    "main_menu.head()"
   ]
  },
  {
   "cell_type": "markdown",
   "metadata": {},
   "source": [
    "### Step 5: Export to csv\n",
    "\n",
    "**Note:** Don't export the index column from your DataFrame"
   ]
  },
  {
   "cell_type": "code",
   "execution_count": null,
   "metadata": {},
   "outputs": [],
   "source": [
    "main_menu.to_csv(ind)"
   ]
  }
 ],
 "metadata": {
  "kernelspec": {
   "display_name": "Python 3",
   "language": "python",
   "name": "python3"
  },
  "language_info": {
   "codemirror_mode": {
    "name": "ipython",
    "version": 3
   },
   "file_extension": ".py",
   "mimetype": "text/x-python",
   "name": "python",
   "nbconvert_exporter": "python",
   "pygments_lexer": "ipython3",
   "version": "3.8.5"
  }
 },
 "nbformat": 4,
 "nbformat_minor": 4
}
